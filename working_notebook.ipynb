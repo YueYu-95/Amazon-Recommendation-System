{
 "cells": [
  {
   "cell_type": "markdown",
   "metadata": {},
   "source": [
    "# Amazon Video Games Recommendation System"
   ]
  },
  {
   "cell_type": "markdown",
   "metadata": {},
   "source": [
    "## Business Understanding"
   ]
  },
  {
   "cell_type": "markdown",
   "metadata": {},
   "source": [
    "In order to enhance the customer’s shopping experience, the online shopping sites usually have their own recommendation system to personalize each customer's shopping experience. Same as Amazon, as one of the biggest online retailers, Amazon has large number of products and variety of shopping categories. Hence, recommendation system becomes a powerful tool that can guide customers to the potential products they are looking for in a time saving way. Just like people who want to shop video games on Amazon, a good recommendation system could guide customers to their potentially interested games among thousands of products in a quick and easy way. Besides, Amazon’s variety of product categories can provide customers more than just games, but also accessories. For example, customers may also need a controller or headphone. We could deploy the recommendation system at checkout page as a reminder and motive customers to purchase more. Hence, a great recommendation system could make Amazon to be a one-stop shop for every gamer."
   ]
  },
  {
   "cell_type": "code",
   "execution_count": 94,
   "metadata": {},
   "outputs": [],
   "source": [
    "import json\n",
    "import gzip\n",
    "import re\n",
    "import joblib\n",
    "import pandas as pd\n",
    "import numpy as np\n",
    "import matplotlib.pyplot as plt\n",
    "from collections import Counter\n",
    "from surprise import Reader, Dataset, accuracy, NormalPredictor, BaselineOnly, KNNBasic, KNNWithMeans, KNNWithZScore, SVD, SVDpp\n",
    "from sklearn.metrics.pairwise import linear_kernel, cosine_similarity\n",
    "from surprise.model_selection import cross_validate, train_test_split, GridSearchCV"
   ]
  },
  {
   "cell_type": "markdown",
   "metadata": {},
   "source": [
    "## Data Understanding"
   ]
  },
  {
   "cell_type": "markdown",
   "metadata": {},
   "source": [
    "The data I used for the project is originally from Amazon.com and collected by department of computer science from UCSD. Due to the large size of the datasets, I’m not able to upload my data to this GitHub repository, but [here](https://nijianmo.github.io/amazon/index.html 'link to access data') is the link to access the data I used. There is a empty Data folder in the GitHub repository. To read the data in this notebook, please download the data and put the dataset in the Data folder. The dataset contains user review from May 1996 to Oct 2018 and each item have at least 5 reviews (5-core). Plus, a metadata includes descriptions, price, sales-rank, brand info of video games. (Video Games: 5-core, metadata)"
   ]
  },
  {
   "cell_type": "markdown",
   "metadata": {},
   "source": [
    "Both datasets are gzip JSON files, need compress them when read the data."
   ]
  },
  {
   "cell_type": "code",
   "execution_count": 175,
   "metadata": {},
   "outputs": [],
   "source": [
    "df_review = pd.read_json('Data/Video_Games_5.json.gz', compression='gzip', lines=True)"
   ]
  },
  {
   "cell_type": "code",
   "execution_count": 176,
   "metadata": {},
   "outputs": [],
   "source": [
    "df_prod = pd.read_json('Data/meta_Video_Games.json.gz', compression='gzip', lines=True)"
   ]
  },
  {
   "cell_type": "code",
   "execution_count": 7,
   "metadata": {},
   "outputs": [
    {
     "data": {
      "text/html": [
       "<div>\n",
       "<style scoped>\n",
       "    .dataframe tbody tr th:only-of-type {\n",
       "        vertical-align: middle;\n",
       "    }\n",
       "\n",
       "    .dataframe tbody tr th {\n",
       "        vertical-align: top;\n",
       "    }\n",
       "\n",
       "    .dataframe thead th {\n",
       "        text-align: right;\n",
       "    }\n",
       "</style>\n",
       "<table border=\"1\" class=\"dataframe\">\n",
       "  <thead>\n",
       "    <tr style=\"text-align: right;\">\n",
       "      <th></th>\n",
       "      <th>overall</th>\n",
       "      <th>verified</th>\n",
       "      <th>reviewTime</th>\n",
       "      <th>reviewerID</th>\n",
       "      <th>asin</th>\n",
       "      <th>reviewerName</th>\n",
       "      <th>reviewText</th>\n",
       "      <th>summary</th>\n",
       "      <th>unixReviewTime</th>\n",
       "      <th>vote</th>\n",
       "      <th>style</th>\n",
       "      <th>image</th>\n",
       "    </tr>\n",
       "  </thead>\n",
       "  <tbody>\n",
       "    <tr>\n",
       "      <th>0</th>\n",
       "      <td>5</td>\n",
       "      <td>True</td>\n",
       "      <td>10 17, 2015</td>\n",
       "      <td>A1HP7NVNPFMA4N</td>\n",
       "      <td>0700026657</td>\n",
       "      <td>Ambrosia075</td>\n",
       "      <td>This game is a bit hard to get the hang of, bu...</td>\n",
       "      <td>but when you do it's great.</td>\n",
       "      <td>1445040000</td>\n",
       "      <td>NaN</td>\n",
       "      <td>NaN</td>\n",
       "      <td>NaN</td>\n",
       "    </tr>\n",
       "    <tr>\n",
       "      <th>1</th>\n",
       "      <td>4</td>\n",
       "      <td>False</td>\n",
       "      <td>07 27, 2015</td>\n",
       "      <td>A1JGAP0185YJI6</td>\n",
       "      <td>0700026657</td>\n",
       "      <td>travis</td>\n",
       "      <td>I played it a while but it was alright. The st...</td>\n",
       "      <td>But in spite of that it was fun, I liked it</td>\n",
       "      <td>1437955200</td>\n",
       "      <td>NaN</td>\n",
       "      <td>NaN</td>\n",
       "      <td>NaN</td>\n",
       "    </tr>\n",
       "    <tr>\n",
       "      <th>2</th>\n",
       "      <td>3</td>\n",
       "      <td>True</td>\n",
       "      <td>02 23, 2015</td>\n",
       "      <td>A1YJWEXHQBWK2B</td>\n",
       "      <td>0700026657</td>\n",
       "      <td>Vincent G. Mezera</td>\n",
       "      <td>ok game.</td>\n",
       "      <td>Three Stars</td>\n",
       "      <td>1424649600</td>\n",
       "      <td>NaN</td>\n",
       "      <td>NaN</td>\n",
       "      <td>NaN</td>\n",
       "    </tr>\n",
       "    <tr>\n",
       "      <th>3</th>\n",
       "      <td>2</td>\n",
       "      <td>True</td>\n",
       "      <td>02 20, 2015</td>\n",
       "      <td>A2204E1TH211HT</td>\n",
       "      <td>0700026657</td>\n",
       "      <td>Grandma KR</td>\n",
       "      <td>found the game a bit too complicated, not what...</td>\n",
       "      <td>Two Stars</td>\n",
       "      <td>1424390400</td>\n",
       "      <td>NaN</td>\n",
       "      <td>NaN</td>\n",
       "      <td>NaN</td>\n",
       "    </tr>\n",
       "    <tr>\n",
       "      <th>4</th>\n",
       "      <td>5</td>\n",
       "      <td>True</td>\n",
       "      <td>12 25, 2014</td>\n",
       "      <td>A2RF5B5H74JLPE</td>\n",
       "      <td>0700026657</td>\n",
       "      <td>jon</td>\n",
       "      <td>great game, I love it and have played it since...</td>\n",
       "      <td>love this game</td>\n",
       "      <td>1419465600</td>\n",
       "      <td>NaN</td>\n",
       "      <td>NaN</td>\n",
       "      <td>NaN</td>\n",
       "    </tr>\n",
       "  </tbody>\n",
       "</table>\n",
       "</div>"
      ],
      "text/plain": [
       "   overall  verified   reviewTime      reviewerID        asin  \\\n",
       "0        5      True  10 17, 2015  A1HP7NVNPFMA4N  0700026657   \n",
       "1        4     False  07 27, 2015  A1JGAP0185YJI6  0700026657   \n",
       "2        3      True  02 23, 2015  A1YJWEXHQBWK2B  0700026657   \n",
       "3        2      True  02 20, 2015  A2204E1TH211HT  0700026657   \n",
       "4        5      True  12 25, 2014  A2RF5B5H74JLPE  0700026657   \n",
       "\n",
       "        reviewerName                                         reviewText  \\\n",
       "0        Ambrosia075  This game is a bit hard to get the hang of, bu...   \n",
       "1             travis  I played it a while but it was alright. The st...   \n",
       "2  Vincent G. Mezera                                           ok game.   \n",
       "3         Grandma KR  found the game a bit too complicated, not what...   \n",
       "4                jon  great game, I love it and have played it since...   \n",
       "\n",
       "                                       summary  unixReviewTime vote style  \\\n",
       "0                  but when you do it's great.      1445040000  NaN   NaN   \n",
       "1  But in spite of that it was fun, I liked it      1437955200  NaN   NaN   \n",
       "2                                  Three Stars      1424649600  NaN   NaN   \n",
       "3                                    Two Stars      1424390400  NaN   NaN   \n",
       "4                               love this game      1419465600  NaN   NaN   \n",
       "\n",
       "  image  \n",
       "0   NaN  \n",
       "1   NaN  \n",
       "2   NaN  \n",
       "3   NaN  \n",
       "4   NaN  "
      ]
     },
     "execution_count": 7,
     "metadata": {},
     "output_type": "execute_result"
    }
   ],
   "source": [
    "df_review.head()"
   ]
  },
  {
   "cell_type": "code",
   "execution_count": 8,
   "metadata": {},
   "outputs": [
    {
     "name": "stdout",
     "output_type": "stream",
     "text": [
      "<class 'pandas.core.frame.DataFrame'>\n",
      "RangeIndex: 497577 entries, 0 to 497576\n",
      "Data columns (total 12 columns):\n",
      " #   Column          Non-Null Count   Dtype \n",
      "---  ------          --------------   ----- \n",
      " 0   overall         497577 non-null  int64 \n",
      " 1   verified        497577 non-null  bool  \n",
      " 2   reviewTime      497577 non-null  object\n",
      " 3   reviewerID      497577 non-null  object\n",
      " 4   asin            497577 non-null  object\n",
      " 5   reviewerName    497501 non-null  object\n",
      " 6   reviewText      497419 non-null  object\n",
      " 7   summary         497468 non-null  object\n",
      " 8   unixReviewTime  497577 non-null  int64 \n",
      " 9   vote            107793 non-null  object\n",
      " 10  style           289237 non-null  object\n",
      " 11  image           3634 non-null    object\n",
      "dtypes: bool(1), int64(2), object(9)\n",
      "memory usage: 42.2+ MB\n"
     ]
    }
   ],
   "source": [
    "df_review.info()"
   ]
  },
  {
   "cell_type": "code",
   "execution_count": 9,
   "metadata": {
    "scrolled": true
   },
   "outputs": [
    {
     "data": {
      "text/html": [
       "<div>\n",
       "<style scoped>\n",
       "    .dataframe tbody tr th:only-of-type {\n",
       "        vertical-align: middle;\n",
       "    }\n",
       "\n",
       "    .dataframe tbody tr th {\n",
       "        vertical-align: top;\n",
       "    }\n",
       "\n",
       "    .dataframe thead th {\n",
       "        text-align: right;\n",
       "    }\n",
       "</style>\n",
       "<table border=\"1\" class=\"dataframe\">\n",
       "  <thead>\n",
       "    <tr style=\"text-align: right;\">\n",
       "      <th></th>\n",
       "      <th>category</th>\n",
       "      <th>tech1</th>\n",
       "      <th>description</th>\n",
       "      <th>fit</th>\n",
       "      <th>title</th>\n",
       "      <th>also_buy</th>\n",
       "      <th>tech2</th>\n",
       "      <th>brand</th>\n",
       "      <th>feature</th>\n",
       "      <th>rank</th>\n",
       "      <th>also_view</th>\n",
       "      <th>main_cat</th>\n",
       "      <th>similar_item</th>\n",
       "      <th>date</th>\n",
       "      <th>price</th>\n",
       "      <th>asin</th>\n",
       "      <th>imageURL</th>\n",
       "      <th>imageURLHighRes</th>\n",
       "      <th>details</th>\n",
       "    </tr>\n",
       "  </thead>\n",
       "  <tbody>\n",
       "    <tr>\n",
       "      <th>0</th>\n",
       "      <td>[Video Games, PC, Games]</td>\n",
       "      <td></td>\n",
       "      <td>[]</td>\n",
       "      <td></td>\n",
       "      <td>Reversi Sensory Challenger</td>\n",
       "      <td>[]</td>\n",
       "      <td></td>\n",
       "      <td>Fidelity Electronics</td>\n",
       "      <td>[]</td>\n",
       "      <td>[&gt;#2,623,937 in Toys &amp;amp; Games (See Top 100 ...</td>\n",
       "      <td>[]</td>\n",
       "      <td>Toys &amp;amp; Games</td>\n",
       "      <td></td>\n",
       "      <td></td>\n",
       "      <td></td>\n",
       "      <td>0042000742</td>\n",
       "      <td>[https://images-na.ssl-images-amazon.com/image...</td>\n",
       "      <td>[https://images-na.ssl-images-amazon.com/image...</td>\n",
       "      <td>NaN</td>\n",
       "    </tr>\n",
       "    <tr>\n",
       "      <th>1</th>\n",
       "      <td>[Video Games, Xbox 360, Games, &lt;/span&gt;&lt;/span&gt;&lt;...</td>\n",
       "      <td></td>\n",
       "      <td>[Brand new sealed!]</td>\n",
       "      <td></td>\n",
       "      <td>Medal of Honor: Warfighter - Includes Battlefi...</td>\n",
       "      <td>[B00PADROYW]</td>\n",
       "      <td></td>\n",
       "      <td>by\\n    \\n    EA Games</td>\n",
       "      <td>[]</td>\n",
       "      <td>[&gt;#67,231 in Video Games (See Top 100 in Video...</td>\n",
       "      <td>[B0050SY5BM, B072NQJCW5, B000TI836G, B002SRSQ7...</td>\n",
       "      <td>Video Games</td>\n",
       "      <td></td>\n",
       "      <td></td>\n",
       "      <td>\\n\\t\\t\\t\\t\\t\\t\\t\\t\\t\\t\\t\\t&lt;span class=\"vertica...</td>\n",
       "      <td>0078764343</td>\n",
       "      <td>[https://images-na.ssl-images-amazon.com/image...</td>\n",
       "      <td>[https://images-na.ssl-images-amazon.com/image...</td>\n",
       "      <td>NaN</td>\n",
       "    </tr>\n",
       "    <tr>\n",
       "      <th>2</th>\n",
       "      <td>[Video Games, Retro Gaming &amp; Microconsoles, Su...</td>\n",
       "      <td></td>\n",
       "      <td>[]</td>\n",
       "      <td></td>\n",
       "      <td>street fighter 2 II turbo super nintendo snes ...</td>\n",
       "      <td>[]</td>\n",
       "      <td></td>\n",
       "      <td>Nintendo</td>\n",
       "      <td>[]</td>\n",
       "      <td>[&gt;#134,433 in Video Games (See Top 100 in Vide...</td>\n",
       "      <td>[]</td>\n",
       "      <td>Video Games</td>\n",
       "      <td></td>\n",
       "      <td></td>\n",
       "      <td>$0.72</td>\n",
       "      <td>0276425316</td>\n",
       "      <td>[]</td>\n",
       "      <td>[]</td>\n",
       "      <td>NaN</td>\n",
       "    </tr>\n",
       "    <tr>\n",
       "      <th>3</th>\n",
       "      <td>[Video Games, Xbox 360, Accessories, Controlle...</td>\n",
       "      <td></td>\n",
       "      <td>[MAS's Pro Xbox 360 Stick (Perfect 360 Stick) ...</td>\n",
       "      <td></td>\n",
       "      <td>Xbox 360 MAS STICK</td>\n",
       "      <td>[]</td>\n",
       "      <td></td>\n",
       "      <td>by\\n    \\n    MAS SYSTEMS</td>\n",
       "      <td>[Original PCB used from Xbox 360 Control Pad (...</td>\n",
       "      <td>[&gt;#105,263 in Video Games (See Top 100 in Vide...</td>\n",
       "      <td>[]</td>\n",
       "      <td>Video Games</td>\n",
       "      <td></td>\n",
       "      <td></td>\n",
       "      <td></td>\n",
       "      <td>0324411812</td>\n",
       "      <td>[https://images-na.ssl-images-amazon.com/image...</td>\n",
       "      <td>[https://images-na.ssl-images-amazon.com/image...</td>\n",
       "      <td>NaN</td>\n",
       "    </tr>\n",
       "    <tr>\n",
       "      <th>4</th>\n",
       "      <td>[Video Games, PC, Games, &lt;/span&gt;&lt;/span&gt;&lt;/span&gt;...</td>\n",
       "      <td></td>\n",
       "      <td>[Phonics Alive! 3, The Speller teaches student...</td>\n",
       "      <td></td>\n",
       "      <td>Phonics Alive! 3: The Speller</td>\n",
       "      <td>[]</td>\n",
       "      <td></td>\n",
       "      <td>by\\n    \\n    Advanced Software Pty. Ltd.</td>\n",
       "      <td>[Grades 2-12, Spelling Program, Teaches Spelli...</td>\n",
       "      <td>[&gt;#92,397 in Video Games (See Top 100 in Video...</td>\n",
       "      <td>[B000BCZ7U0]</td>\n",
       "      <td>Video Games</td>\n",
       "      <td></td>\n",
       "      <td></td>\n",
       "      <td></td>\n",
       "      <td>0439335310</td>\n",
       "      <td>[https://images-na.ssl-images-amazon.com/image...</td>\n",
       "      <td>[https://images-na.ssl-images-amazon.com/image...</td>\n",
       "      <td>NaN</td>\n",
       "    </tr>\n",
       "  </tbody>\n",
       "</table>\n",
       "</div>"
      ],
      "text/plain": [
       "                                            category tech1  \\\n",
       "0                           [Video Games, PC, Games]         \n",
       "1  [Video Games, Xbox 360, Games, </span></span><...         \n",
       "2  [Video Games, Retro Gaming & Microconsoles, Su...         \n",
       "3  [Video Games, Xbox 360, Accessories, Controlle...         \n",
       "4  [Video Games, PC, Games, </span></span></span>...         \n",
       "\n",
       "                                         description fit  \\\n",
       "0                                                 []       \n",
       "1                                [Brand new sealed!]       \n",
       "2                                                 []       \n",
       "3  [MAS's Pro Xbox 360 Stick (Perfect 360 Stick) ...       \n",
       "4  [Phonics Alive! 3, The Speller teaches student...       \n",
       "\n",
       "                                               title      also_buy tech2  \\\n",
       "0                         Reversi Sensory Challenger            []         \n",
       "1  Medal of Honor: Warfighter - Includes Battlefi...  [B00PADROYW]         \n",
       "2  street fighter 2 II turbo super nintendo snes ...            []         \n",
       "3                                 Xbox 360 MAS STICK            []         \n",
       "4                      Phonics Alive! 3: The Speller            []         \n",
       "\n",
       "                                       brand  \\\n",
       "0                       Fidelity Electronics   \n",
       "1                     by\\n    \\n    EA Games   \n",
       "2                                   Nintendo   \n",
       "3                  by\\n    \\n    MAS SYSTEMS   \n",
       "4  by\\n    \\n    Advanced Software Pty. Ltd.   \n",
       "\n",
       "                                             feature  \\\n",
       "0                                                 []   \n",
       "1                                                 []   \n",
       "2                                                 []   \n",
       "3  [Original PCB used from Xbox 360 Control Pad (...   \n",
       "4  [Grades 2-12, Spelling Program, Teaches Spelli...   \n",
       "\n",
       "                                                rank  \\\n",
       "0  [>#2,623,937 in Toys &amp; Games (See Top 100 ...   \n",
       "1  [>#67,231 in Video Games (See Top 100 in Video...   \n",
       "2  [>#134,433 in Video Games (See Top 100 in Vide...   \n",
       "3  [>#105,263 in Video Games (See Top 100 in Vide...   \n",
       "4  [>#92,397 in Video Games (See Top 100 in Video...   \n",
       "\n",
       "                                           also_view          main_cat  \\\n",
       "0                                                 []  Toys &amp; Games   \n",
       "1  [B0050SY5BM, B072NQJCW5, B000TI836G, B002SRSQ7...       Video Games   \n",
       "2                                                 []       Video Games   \n",
       "3                                                 []       Video Games   \n",
       "4                                       [B000BCZ7U0]       Video Games   \n",
       "\n",
       "  similar_item date                                              price  \\\n",
       "0                                                                        \n",
       "1                    \\n\\t\\t\\t\\t\\t\\t\\t\\t\\t\\t\\t\\t<span class=\"vertica...   \n",
       "2                                                                $0.72   \n",
       "3                                                                        \n",
       "4                                                                        \n",
       "\n",
       "         asin                                           imageURL  \\\n",
       "0  0042000742  [https://images-na.ssl-images-amazon.com/image...   \n",
       "1  0078764343  [https://images-na.ssl-images-amazon.com/image...   \n",
       "2  0276425316                                                 []   \n",
       "3  0324411812  [https://images-na.ssl-images-amazon.com/image...   \n",
       "4  0439335310  [https://images-na.ssl-images-amazon.com/image...   \n",
       "\n",
       "                                     imageURLHighRes details  \n",
       "0  [https://images-na.ssl-images-amazon.com/image...     NaN  \n",
       "1  [https://images-na.ssl-images-amazon.com/image...     NaN  \n",
       "2                                                 []     NaN  \n",
       "3  [https://images-na.ssl-images-amazon.com/image...     NaN  \n",
       "4  [https://images-na.ssl-images-amazon.com/image...     NaN  "
      ]
     },
     "execution_count": 9,
     "metadata": {},
     "output_type": "execute_result"
    }
   ],
   "source": [
    "df_prod.head()"
   ]
  },
  {
   "cell_type": "code",
   "execution_count": 10,
   "metadata": {
    "scrolled": true
   },
   "outputs": [
    {
     "name": "stdout",
     "output_type": "stream",
     "text": [
      "<class 'pandas.core.frame.DataFrame'>\n",
      "RangeIndex: 84819 entries, 0 to 84818\n",
      "Data columns (total 19 columns):\n",
      " #   Column           Non-Null Count  Dtype \n",
      "---  ------           --------------  ----- \n",
      " 0   category         84819 non-null  object\n",
      " 1   tech1            84819 non-null  object\n",
      " 2   description      84819 non-null  object\n",
      " 3   fit              84819 non-null  object\n",
      " 4   title            84819 non-null  object\n",
      " 5   also_buy         84819 non-null  object\n",
      " 6   tech2            84819 non-null  object\n",
      " 7   brand            84819 non-null  object\n",
      " 8   feature          84819 non-null  object\n",
      " 9   rank             84819 non-null  object\n",
      " 10  also_view        84819 non-null  object\n",
      " 11  main_cat         84819 non-null  object\n",
      " 12  similar_item     84819 non-null  object\n",
      " 13  date             84819 non-null  object\n",
      " 14  price            84819 non-null  object\n",
      " 15  asin             84819 non-null  object\n",
      " 16  imageURL         84819 non-null  object\n",
      " 17  imageURLHighRes  84819 non-null  object\n",
      " 18  details          84712 non-null  object\n",
      "dtypes: object(19)\n",
      "memory usage: 12.3+ MB\n"
     ]
    }
   ],
   "source": [
    "df_prod.info()"
   ]
  },
  {
   "cell_type": "markdown",
   "metadata": {},
   "source": [
    "First do some data cleaning on metadata."
   ]
  },
  {
   "cell_type": "code",
   "execution_count": 10,
   "metadata": {
    "scrolled": false
   },
   "outputs": [
    {
     "data": {
      "text/plain": [
       "(25460,)"
      ]
     },
     "execution_count": 10,
     "metadata": {},
     "output_type": "execute_result"
    }
   ],
   "source": [
    "df_prod['price'].loc[df_prod['price']==''].shape"
   ]
  },
  {
   "cell_type": "markdown",
   "metadata": {},
   "source": [
    "Drop unnecessary columns. "
   ]
  },
  {
   "cell_type": "code",
   "execution_count": 177,
   "metadata": {},
   "outputs": [],
   "source": [
    "df_prod.drop(['tech1', 'fit', 'tech2', 'date', 'price', 'imageURLHighRes', 'details'], axis=1, inplace=True)"
   ]
  },
  {
   "cell_type": "code",
   "execution_count": 12,
   "metadata": {},
   "outputs": [
    {
     "data": {
      "text/html": [
       "<div>\n",
       "<style scoped>\n",
       "    .dataframe tbody tr th:only-of-type {\n",
       "        vertical-align: middle;\n",
       "    }\n",
       "\n",
       "    .dataframe tbody tr th {\n",
       "        vertical-align: top;\n",
       "    }\n",
       "\n",
       "    .dataframe thead th {\n",
       "        text-align: right;\n",
       "    }\n",
       "</style>\n",
       "<table border=\"1\" class=\"dataframe\">\n",
       "  <thead>\n",
       "    <tr style=\"text-align: right;\">\n",
       "      <th></th>\n",
       "      <th>category</th>\n",
       "      <th>description</th>\n",
       "      <th>title</th>\n",
       "      <th>also_buy</th>\n",
       "      <th>brand</th>\n",
       "      <th>feature</th>\n",
       "      <th>rank</th>\n",
       "      <th>also_view</th>\n",
       "      <th>main_cat</th>\n",
       "      <th>similar_item</th>\n",
       "      <th>asin</th>\n",
       "      <th>imageURL</th>\n",
       "    </tr>\n",
       "  </thead>\n",
       "  <tbody>\n",
       "    <tr>\n",
       "      <th>1</th>\n",
       "      <td>[Video Games, Xbox 360, Games, &lt;/span&gt;&lt;/span&gt;&lt;...</td>\n",
       "      <td>[Brand new sealed!]</td>\n",
       "      <td>Medal of Honor: Warfighter - Includes Battlefi...</td>\n",
       "      <td>[B00PADROYW]</td>\n",
       "      <td>by\\n    \\n    EA Games</td>\n",
       "      <td>[]</td>\n",
       "      <td>[&gt;#67,231 in Video Games (See Top 100 in Video...</td>\n",
       "      <td>[B0050SY5BM, B072NQJCW5, B000TI836G, B002SRSQ7...</td>\n",
       "      <td>Video Games</td>\n",
       "      <td></td>\n",
       "      <td>0078764343</td>\n",
       "      <td>[https://images-na.ssl-images-amazon.com/image...</td>\n",
       "    </tr>\n",
       "    <tr>\n",
       "      <th>84818</th>\n",
       "      <td>[Video Games, PC, Accessories, Gaming Mice]</td>\n",
       "      <td>[&lt;b&gt;Features and Functions:&lt;/b&gt; &lt;br&gt;Quick thum...</td>\n",
       "      <td>Zelotes 4000 DPI Programmable Gaming Mouse for...</td>\n",
       "      <td>[]</td>\n",
       "      <td>Zelotes</td>\n",
       "      <td>[Customize DPI Switch: 1000/1500/2000/4000,the...</td>\n",
       "      <td>[&gt;#434 in Computers &amp; Accessories &gt; Computer A...</td>\n",
       "      <td>[B016ZF77OA, B00GU8W5AE, B00E64DTDQ, B074TF6XV...</td>\n",
       "      <td>Computers</td>\n",
       "      <td></td>\n",
       "      <td>B01HJEBIAA</td>\n",
       "      <td>[https://images-na.ssl-images-amazon.com/image...</td>\n",
       "    </tr>\n",
       "  </tbody>\n",
       "</table>\n",
       "</div>"
      ],
      "text/plain": [
       "                                                category  \\\n",
       "1      [Video Games, Xbox 360, Games, </span></span><...   \n",
       "84818        [Video Games, PC, Accessories, Gaming Mice]   \n",
       "\n",
       "                                             description  \\\n",
       "1                                    [Brand new sealed!]   \n",
       "84818  [<b>Features and Functions:</b> <br>Quick thum...   \n",
       "\n",
       "                                                   title      also_buy  \\\n",
       "1      Medal of Honor: Warfighter - Includes Battlefi...  [B00PADROYW]   \n",
       "84818  Zelotes 4000 DPI Programmable Gaming Mouse for...            []   \n",
       "\n",
       "                        brand  \\\n",
       "1      by\\n    \\n    EA Games   \n",
       "84818                 Zelotes   \n",
       "\n",
       "                                                 feature  \\\n",
       "1                                                     []   \n",
       "84818  [Customize DPI Switch: 1000/1500/2000/4000,the...   \n",
       "\n",
       "                                                    rank  \\\n",
       "1      [>#67,231 in Video Games (See Top 100 in Video...   \n",
       "84818  [>#434 in Computers & Accessories > Computer A...   \n",
       "\n",
       "                                               also_view     main_cat  \\\n",
       "1      [B0050SY5BM, B072NQJCW5, B000TI836G, B002SRSQ7...  Video Games   \n",
       "84818  [B016ZF77OA, B00GU8W5AE, B00E64DTDQ, B074TF6XV...    Computers   \n",
       "\n",
       "      similar_item        asin  \\\n",
       "1                   0078764343   \n",
       "84818               B01HJEBIAA   \n",
       "\n",
       "                                                imageURL  \n",
       "1      [https://images-na.ssl-images-amazon.com/image...  \n",
       "84818  [https://images-na.ssl-images-amazon.com/image...  "
      ]
     },
     "execution_count": 12,
     "metadata": {},
     "output_type": "execute_result"
    }
   ],
   "source": [
    "#pd.set_option('display.max_colwidth', None)\n",
    "df_prod.iloc[[1, -1]]"
   ]
  },
  {
   "cell_type": "code",
   "execution_count": 13,
   "metadata": {
    "scrolled": true
   },
   "outputs": [
    {
     "data": {
      "text/html": [
       "<div>\n",
       "<style scoped>\n",
       "    .dataframe tbody tr th:only-of-type {\n",
       "        vertical-align: middle;\n",
       "    }\n",
       "\n",
       "    .dataframe tbody tr th {\n",
       "        vertical-align: top;\n",
       "    }\n",
       "\n",
       "    .dataframe thead th {\n",
       "        text-align: right;\n",
       "    }\n",
       "</style>\n",
       "<table border=\"1\" class=\"dataframe\">\n",
       "  <thead>\n",
       "    <tr style=\"text-align: right;\">\n",
       "      <th></th>\n",
       "      <th>category</th>\n",
       "      <th>description</th>\n",
       "      <th>title</th>\n",
       "      <th>also_buy</th>\n",
       "      <th>brand</th>\n",
       "      <th>feature</th>\n",
       "      <th>rank</th>\n",
       "      <th>also_view</th>\n",
       "      <th>main_cat</th>\n",
       "      <th>similar_item</th>\n",
       "      <th>asin</th>\n",
       "      <th>imageURL</th>\n",
       "    </tr>\n",
       "  </thead>\n",
       "  <tbody>\n",
       "    <tr>\n",
       "      <th>0</th>\n",
       "      <td>[Video Games, PC, Games]</td>\n",
       "      <td>[]</td>\n",
       "      <td>Reversi Sensory Challenger</td>\n",
       "      <td>[]</td>\n",
       "      <td>Fidelity Electronics</td>\n",
       "      <td>[]</td>\n",
       "      <td>[&gt;#2,623,937 in Toys &amp;amp; Games (See Top 100 ...</td>\n",
       "      <td>[]</td>\n",
       "      <td>Toys &amp;amp; Games</td>\n",
       "      <td></td>\n",
       "      <td>0042000742</td>\n",
       "      <td>[https://images-na.ssl-images-amazon.com/image...</td>\n",
       "    </tr>\n",
       "    <tr>\n",
       "      <th>1</th>\n",
       "      <td>[Video Games, Xbox 360, Games, &lt;/span&gt;&lt;/span&gt;&lt;...</td>\n",
       "      <td>[Brand new sealed!]</td>\n",
       "      <td>Medal of Honor: Warfighter - Includes Battlefi...</td>\n",
       "      <td>[B00PADROYW]</td>\n",
       "      <td>by\\n    \\n    EA Games</td>\n",
       "      <td>[]</td>\n",
       "      <td>[&gt;#67,231 in Video Games (See Top 100 in Video...</td>\n",
       "      <td>[B0050SY5BM, B072NQJCW5, B000TI836G, B002SRSQ7...</td>\n",
       "      <td>Video Games</td>\n",
       "      <td></td>\n",
       "      <td>0078764343</td>\n",
       "      <td>[https://images-na.ssl-images-amazon.com/image...</td>\n",
       "    </tr>\n",
       "    <tr>\n",
       "      <th>2</th>\n",
       "      <td>[Video Games, Retro Gaming &amp; Microconsoles, Su...</td>\n",
       "      <td>[]</td>\n",
       "      <td>street fighter 2 II turbo super nintendo snes ...</td>\n",
       "      <td>[]</td>\n",
       "      <td>Nintendo</td>\n",
       "      <td>[]</td>\n",
       "      <td>[&gt;#134,433 in Video Games (See Top 100 in Vide...</td>\n",
       "      <td>[]</td>\n",
       "      <td>Video Games</td>\n",
       "      <td></td>\n",
       "      <td>0276425316</td>\n",
       "      <td>[]</td>\n",
       "    </tr>\n",
       "    <tr>\n",
       "      <th>3</th>\n",
       "      <td>[Video Games, Xbox 360, Accessories, Controlle...</td>\n",
       "      <td>[MAS's Pro Xbox 360 Stick (Perfect 360 Stick) ...</td>\n",
       "      <td>Xbox 360 MAS STICK</td>\n",
       "      <td>[]</td>\n",
       "      <td>by\\n    \\n    MAS SYSTEMS</td>\n",
       "      <td>[Original PCB used from Xbox 360 Control Pad (...</td>\n",
       "      <td>[&gt;#105,263 in Video Games (See Top 100 in Vide...</td>\n",
       "      <td>[]</td>\n",
       "      <td>Video Games</td>\n",
       "      <td></td>\n",
       "      <td>0324411812</td>\n",
       "      <td>[https://images-na.ssl-images-amazon.com/image...</td>\n",
       "    </tr>\n",
       "    <tr>\n",
       "      <th>4</th>\n",
       "      <td>[Video Games, PC, Games, &lt;/span&gt;&lt;/span&gt;&lt;/span&gt;...</td>\n",
       "      <td>[Phonics Alive! 3, The Speller teaches student...</td>\n",
       "      <td>Phonics Alive! 3: The Speller</td>\n",
       "      <td>[]</td>\n",
       "      <td>by\\n    \\n    Advanced Software Pty. Ltd.</td>\n",
       "      <td>[Grades 2-12, Spelling Program, Teaches Spelli...</td>\n",
       "      <td>[&gt;#92,397 in Video Games (See Top 100 in Video...</td>\n",
       "      <td>[B000BCZ7U0]</td>\n",
       "      <td>Video Games</td>\n",
       "      <td></td>\n",
       "      <td>0439335310</td>\n",
       "      <td>[https://images-na.ssl-images-amazon.com/image...</td>\n",
       "    </tr>\n",
       "    <tr>\n",
       "      <th>5</th>\n",
       "      <td>[Video Games, PC, Games, &lt;/span&gt;&lt;/span&gt;&lt;/span&gt;...</td>\n",
       "      <td>[CD-ROM]</td>\n",
       "      <td>Sim City 3000</td>\n",
       "      <td>[]</td>\n",
       "      <td>by\\n    \\n    Scholastic</td>\n",
       "      <td>[Sim City 3000 CD-ROM]</td>\n",
       "      <td>[&gt;#19,087 in Video Games (See Top 100 in Video...</td>\n",
       "      <td>[B00004T1M7, B00000G16I, B00006GF1U, B0000C0YW...</td>\n",
       "      <td>Video Games</td>\n",
       "      <td></td>\n",
       "      <td>0439339006</td>\n",
       "      <td>[https://images-na.ssl-images-amazon.com/image...</td>\n",
       "    </tr>\n",
       "    <tr>\n",
       "      <th>6</th>\n",
       "      <td>[Video Games, PC, Games, &lt;/span&gt;&lt;/span&gt;&lt;/span&gt;...</td>\n",
       "      <td>[]</td>\n",
       "      <td>Phonics Alive! 2 The Sound Blender</td>\n",
       "      <td>[]</td>\n",
       "      <td>by\\n    \\n    Advanced Software Party</td>\n",
       "      <td>[Phonics Alive! 2 The Sound Blender is a new a...</td>\n",
       "      <td>[&gt;#117,477 in Video Games (See Top 100 in Vide...</td>\n",
       "      <td>[]</td>\n",
       "      <td>Video Games</td>\n",
       "      <td></td>\n",
       "      <td>0439335299</td>\n",
       "      <td>[]</td>\n",
       "    </tr>\n",
       "    <tr>\n",
       "      <th>7</th>\n",
       "      <td>[Video Games, PC, Games, &lt;/span&gt;&lt;/span&gt;&lt;/span&gt;]</td>\n",
       "      <td>[a scholastic clubs fairs cd rom game]</td>\n",
       "      <td>A to Zap</td>\n",
       "      <td>[]</td>\n",
       "      <td>by\\n    \\n    sunburst</td>\n",
       "      <td>[]</td>\n",
       "      <td>[&gt;#87,937 in Video Games (See Top 100 in Video...</td>\n",
       "      <td>[]</td>\n",
       "      <td>Video Games</td>\n",
       "      <td></td>\n",
       "      <td>0439339960</td>\n",
       "      <td>[https://images-na.ssl-images-amazon.com/image...</td>\n",
       "    </tr>\n",
       "    <tr>\n",
       "      <th>8</th>\n",
       "      <td>[Video Games, PC, Games]</td>\n",
       "      <td>[video game]</td>\n",
       "      <td>Need for Speed Porsche Unleashed</td>\n",
       "      <td>[]</td>\n",
       "      <td>Electronic Arts</td>\n",
       "      <td>[video game]</td>\n",
       "      <td>[&gt;#51,505 in Video Games (See Top 100 in Video...</td>\n",
       "      <td>[B00004DITL, B000067NP1, B00003W869]</td>\n",
       "      <td>Video Games</td>\n",
       "      <td></td>\n",
       "      <td>043933702X</td>\n",
       "      <td>[https://images-na.ssl-images-amazon.com/image...</td>\n",
       "    </tr>\n",
       "    <tr>\n",
       "      <th>9</th>\n",
       "      <td>[Video Games, PC, Games, &lt;/span&gt;&lt;/span&gt;&lt;/span&gt;...</td>\n",
       "      <td>[Grandma Groupers kelp seeds are missing and w...</td>\n",
       "      <td>Freddi Fish and the Case of The Missing Kelp S...</td>\n",
       "      <td>[B00002S6E5, B000NQI666, B000AQJ4AG, B000FETCF...</td>\n",
       "      <td>by\\n    \\n    Humongous Entertainment</td>\n",
       "      <td>[Like the real world, Freddi Fishs world chang...</td>\n",
       "      <td>[&gt;#58,523 in Video Games (See Top 100 in Video...</td>\n",
       "      <td>[B000FETCF0, B00005BU3M, B00004UCUT, B0009RAVF...</td>\n",
       "      <td>Video Games</td>\n",
       "      <td></td>\n",
       "      <td>0439339987</td>\n",
       "      <td>[https://images-na.ssl-images-amazon.com/image...</td>\n",
       "    </tr>\n",
       "    <tr>\n",
       "      <th>10</th>\n",
       "      <td>[Video Games, PC, Games]</td>\n",
       "      <td>[This software is BRAND NEW. Packaging may dif...</td>\n",
       "      <td>Ice Cream Truck</td>\n",
       "      <td>[]</td>\n",
       "      <td>Sunburtst</td>\n",
       "      <td>[8 MB RAM recommended, 486/DX2-66 MHz processo...</td>\n",
       "      <td>[&gt;#114,262 in Video Games (See Top 100 in Vide...</td>\n",
       "      <td>[]</td>\n",
       "      <td>Video Games</td>\n",
       "      <td></td>\n",
       "      <td>0439342260</td>\n",
       "      <td>[https://images-na.ssl-images-amazon.com/image...</td>\n",
       "    </tr>\n",
       "    <tr>\n",
       "      <th>11</th>\n",
       "      <td>[Video Games, PC, Games, &lt;/span&gt;&lt;/span&gt;&lt;/span&gt;]</td>\n",
       "      <td>[OREGON TRAIL 5TH EDITION (JEWEL CASE). Create...</td>\n",
       "      <td>BRAND NEW Learning Company Oregon Trail 5th Ed...</td>\n",
       "      <td>[]</td>\n",
       "      <td>by\\n    \\n    Learning Company</td>\n",
       "      <td>[If you have not opened the item, you can retu...</td>\n",
       "      <td>[&gt;#5,927 in Video Games (See Top 100 in Video ...</td>\n",
       "      <td>[B00005LBVS, B002CMU748, B01JF4CHWK, B07B61BFS...</td>\n",
       "      <td>Video Games</td>\n",
       "      <td></td>\n",
       "      <td>0439381673</td>\n",
       "      <td>[https://images-na.ssl-images-amazon.com/image...</td>\n",
       "    </tr>\n",
       "    <tr>\n",
       "      <th>12</th>\n",
       "      <td>[Video Games, PC, Games, &lt;/span&gt;&lt;/span&gt;&lt;/span&gt;]</td>\n",
       "      <td>[Schoolhouse Rock: America Rock lets players e...</td>\n",
       "      <td>school house rock america rock</td>\n",
       "      <td>[B0002A9VJO]</td>\n",
       "      <td>by\\n    \\n    Creative Wonders</td>\n",
       "      <td>[]</td>\n",
       "      <td>[&gt;#64,461 in Video Games (See Top 100 in Video...</td>\n",
       "      <td>[B0002667BI]</td>\n",
       "      <td>Video Games</td>\n",
       "      <td></td>\n",
       "      <td>0439394422</td>\n",
       "      <td>[https://images-na.ssl-images-amazon.com/image...</td>\n",
       "    </tr>\n",
       "    <tr>\n",
       "      <th>13</th>\n",
       "      <td>[Video Games, PC, Games]</td>\n",
       "      <td>[Product Description Your ship has crash-lande...</td>\n",
       "      <td>Star Wars Math: Jabba's Game Galaxy</td>\n",
       "      <td>[]</td>\n",
       "      <td>Star Wars</td>\n",
       "      <td>[Play challenging math games against Jabba the...</td>\n",
       "      <td>[&gt;#56,730 in Video Games (See Top 100 in Video...</td>\n",
       "      <td>[B00030GKA6, B00004U8JP, B0002667AO]</td>\n",
       "      <td>Video Games</td>\n",
       "      <td></td>\n",
       "      <td>043940133X</td>\n",
       "      <td>[https://images-na.ssl-images-amazon.com/image...</td>\n",
       "    </tr>\n",
       "    <tr>\n",
       "      <th>14</th>\n",
       "      <td>[Video Games, PC, Games, &lt;/span&gt;&lt;/span&gt;&lt;/span&gt;]</td>\n",
       "      <td>[Supports Windows XP, rated E for everyone]</td>\n",
       "      <td>Soccer Mania</td>\n",
       "      <td>[]</td>\n",
       "      <td>by\\n    \\n    LEGO</td>\n",
       "      <td>[Lego, Soccer Mania, computer video game, e fo...</td>\n",
       "      <td>[&gt;#100,772 in Video Games (See Top 100 in Vide...</td>\n",
       "      <td>[]</td>\n",
       "      <td>Video Games</td>\n",
       "      <td></td>\n",
       "      <td>0439473489</td>\n",
       "      <td>[https://images-na.ssl-images-amazon.com/image...</td>\n",
       "    </tr>\n",
       "    <tr>\n",
       "      <th>15</th>\n",
       "      <td>[Video Games, PC, Games]</td>\n",
       "      <td>[There is so much to do on LEGO Island: buildi...</td>\n",
       "      <td>LEGO Island 2 - PC</td>\n",
       "      <td>[]</td>\n",
       "      <td>LEGO</td>\n",
       "      <td>[The action adventure continues sequel to the ...</td>\n",
       "      <td>[&gt;#930,608 in Toys &amp;amp; Games (See Top 100 in...</td>\n",
       "      <td>[B00005V8TB, B008EEYX1Q, B00008KTQ6, B00005AKU...</td>\n",
       "      <td>Toys &amp;amp; Games</td>\n",
       "      <td></td>\n",
       "      <td>0439542804</td>\n",
       "      <td>[https://images-na.ssl-images-amazon.com/image...</td>\n",
       "    </tr>\n",
       "    <tr>\n",
       "      <th>16</th>\n",
       "      <td>[Video Games, PC, Games, &lt;/span&gt;&lt;/span&gt;&lt;/span&gt;...</td>\n",
       "      <td>[3 Great games in one box set!]</td>\n",
       "      <td>Need for Speed Racing Pack</td>\n",
       "      <td>[]</td>\n",
       "      <td>by\\n    \\n    Scholastic / EA</td>\n",
       "      <td>[3 games, Need For Speed Porsche Unleashed, Ne...</td>\n",
       "      <td>[&gt;#84,589 in Video Games (See Top 100 in Video...</td>\n",
       "      <td>[]</td>\n",
       "      <td>Video Games</td>\n",
       "      <td></td>\n",
       "      <td>0439573947</td>\n",
       "      <td>[https://images-na.ssl-images-amazon.com/image...</td>\n",
       "    </tr>\n",
       "    <tr>\n",
       "      <th>17</th>\n",
       "      <td>[Video Games, Retro Gaming &amp;amp; Microconsoles...</td>\n",
       "      <td>[Star Wars Arcade SEGA 32X]</td>\n",
       "      <td>Star Wars Arcade SEGA 32X</td>\n",
       "      <td>[B0007ZNH5I, B000K0H34G, B00XBDM4R0, B0187O1B7...</td>\n",
       "      <td>by\\n    \\n    Sega</td>\n",
       "      <td>[]</td>\n",
       "      <td>[&gt;#60,521 in Video Games (See Top 100 in Video...</td>\n",
       "      <td>[B0007ZNH5I, B000E7K112, B0001B6QBU, B01C8XLE6...</td>\n",
       "      <td>Video Games</td>\n",
       "      <td></td>\n",
       "      <td>043957448X</td>\n",
       "      <td>[https://images-na.ssl-images-amazon.com/image...</td>\n",
       "    </tr>\n",
       "    <tr>\n",
       "      <th>18</th>\n",
       "      <td>[Video Games, PC, Games, &lt;/span&gt;&lt;/span&gt;&lt;/span&gt;...</td>\n",
       "      <td>[cartoon network]</td>\n",
       "      <td>Scooby-do Mystery Adventures</td>\n",
       "      <td>[]</td>\n",
       "      <td>by\\n    \\n    Cartoon Network</td>\n",
       "      <td>[showdown in ghost town, phantom of the night,...</td>\n",
       "      <td>[&gt;#109,522 in Video Games (See Top 100 in Vide...</td>\n",
       "      <td>[]</td>\n",
       "      <td>Video Games</td>\n",
       "      <td></td>\n",
       "      <td>0439591295</td>\n",
       "      <td>[https://images-na.ssl-images-amazon.com/image...</td>\n",
       "    </tr>\n",
       "    <tr>\n",
       "      <th>19</th>\n",
       "      <td>[Video Games, PC, Games, &lt;/span&gt;&lt;/span&gt;&lt;/span&gt;...</td>\n",
       "      <td>[WOW! 3d NANCY DREW MYSTERY GAME 20+ hours of ...</td>\n",
       "      <td>Nancy Drew 3D Interactive Mystery Game</td>\n",
       "      <td>[B0013VBKNG, B0041CCH9A]</td>\n",
       "      <td>by\\n    \\n    Scholastic</td>\n",
       "      <td>[3d Interactive Mystery Game, Message in a Hun...</td>\n",
       "      <td>[&gt;#58,575 in Video Games (See Top 100 in Video...</td>\n",
       "      <td>[B0046XSEHS, B000NIFYDW, B000AXRIU2]</td>\n",
       "      <td>Video Games</td>\n",
       "      <td></td>\n",
       "      <td>0439591538</td>\n",
       "      <td>[https://images-na.ssl-images-amazon.com/image...</td>\n",
       "    </tr>\n",
       "  </tbody>\n",
       "</table>\n",
       "</div>"
      ],
      "text/plain": [
       "                                             category  \\\n",
       "0                            [Video Games, PC, Games]   \n",
       "1   [Video Games, Xbox 360, Games, </span></span><...   \n",
       "2   [Video Games, Retro Gaming & Microconsoles, Su...   \n",
       "3   [Video Games, Xbox 360, Accessories, Controlle...   \n",
       "4   [Video Games, PC, Games, </span></span></span>...   \n",
       "5   [Video Games, PC, Games, </span></span></span>...   \n",
       "6   [Video Games, PC, Games, </span></span></span>...   \n",
       "7     [Video Games, PC, Games, </span></span></span>]   \n",
       "8                            [Video Games, PC, Games]   \n",
       "9   [Video Games, PC, Games, </span></span></span>...   \n",
       "10                           [Video Games, PC, Games]   \n",
       "11    [Video Games, PC, Games, </span></span></span>]   \n",
       "12    [Video Games, PC, Games, </span></span></span>]   \n",
       "13                           [Video Games, PC, Games]   \n",
       "14    [Video Games, PC, Games, </span></span></span>]   \n",
       "15                           [Video Games, PC, Games]   \n",
       "16  [Video Games, PC, Games, </span></span></span>...   \n",
       "17  [Video Games, Retro Gaming &amp; Microconsoles...   \n",
       "18  [Video Games, PC, Games, </span></span></span>...   \n",
       "19  [Video Games, PC, Games, </span></span></span>...   \n",
       "\n",
       "                                          description  \\\n",
       "0                                                  []   \n",
       "1                                 [Brand new sealed!]   \n",
       "2                                                  []   \n",
       "3   [MAS's Pro Xbox 360 Stick (Perfect 360 Stick) ...   \n",
       "4   [Phonics Alive! 3, The Speller teaches student...   \n",
       "5                                            [CD-ROM]   \n",
       "6                                                  []   \n",
       "7              [a scholastic clubs fairs cd rom game]   \n",
       "8                                        [video game]   \n",
       "9   [Grandma Groupers kelp seeds are missing and w...   \n",
       "10  [This software is BRAND NEW. Packaging may dif...   \n",
       "11  [OREGON TRAIL 5TH EDITION (JEWEL CASE). Create...   \n",
       "12  [Schoolhouse Rock: America Rock lets players e...   \n",
       "13  [Product Description Your ship has crash-lande...   \n",
       "14        [Supports Windows XP, rated E for everyone]   \n",
       "15  [There is so much to do on LEGO Island: buildi...   \n",
       "16                    [3 Great games in one box set!]   \n",
       "17                        [Star Wars Arcade SEGA 32X]   \n",
       "18                                  [cartoon network]   \n",
       "19  [WOW! 3d NANCY DREW MYSTERY GAME 20+ hours of ...   \n",
       "\n",
       "                                                title  \\\n",
       "0                          Reversi Sensory Challenger   \n",
       "1   Medal of Honor: Warfighter - Includes Battlefi...   \n",
       "2   street fighter 2 II turbo super nintendo snes ...   \n",
       "3                                  Xbox 360 MAS STICK   \n",
       "4                       Phonics Alive! 3: The Speller   \n",
       "5                                       Sim City 3000   \n",
       "6                  Phonics Alive! 2 The Sound Blender   \n",
       "7                                            A to Zap   \n",
       "8                    Need for Speed Porsche Unleashed   \n",
       "9   Freddi Fish and the Case of The Missing Kelp S...   \n",
       "10                                    Ice Cream Truck   \n",
       "11  BRAND NEW Learning Company Oregon Trail 5th Ed...   \n",
       "12                     school house rock america rock   \n",
       "13                Star Wars Math: Jabba's Game Galaxy   \n",
       "14                                       Soccer Mania   \n",
       "15                                 LEGO Island 2 - PC   \n",
       "16                         Need for Speed Racing Pack   \n",
       "17                          Star Wars Arcade SEGA 32X   \n",
       "18                       Scooby-do Mystery Adventures   \n",
       "19             Nancy Drew 3D Interactive Mystery Game   \n",
       "\n",
       "                                             also_buy  \\\n",
       "0                                                  []   \n",
       "1                                        [B00PADROYW]   \n",
       "2                                                  []   \n",
       "3                                                  []   \n",
       "4                                                  []   \n",
       "5                                                  []   \n",
       "6                                                  []   \n",
       "7                                                  []   \n",
       "8                                                  []   \n",
       "9   [B00002S6E5, B000NQI666, B000AQJ4AG, B000FETCF...   \n",
       "10                                                 []   \n",
       "11                                                 []   \n",
       "12                                       [B0002A9VJO]   \n",
       "13                                                 []   \n",
       "14                                                 []   \n",
       "15                                                 []   \n",
       "16                                                 []   \n",
       "17  [B0007ZNH5I, B000K0H34G, B00XBDM4R0, B0187O1B7...   \n",
       "18                                                 []   \n",
       "19                           [B0013VBKNG, B0041CCH9A]   \n",
       "\n",
       "                                        brand  \\\n",
       "0                        Fidelity Electronics   \n",
       "1                      by\\n    \\n    EA Games   \n",
       "2                                    Nintendo   \n",
       "3                   by\\n    \\n    MAS SYSTEMS   \n",
       "4   by\\n    \\n    Advanced Software Pty. Ltd.   \n",
       "5                    by\\n    \\n    Scholastic   \n",
       "6       by\\n    \\n    Advanced Software Party   \n",
       "7                      by\\n    \\n    sunburst   \n",
       "8                             Electronic Arts   \n",
       "9       by\\n    \\n    Humongous Entertainment   \n",
       "10                                  Sunburtst   \n",
       "11             by\\n    \\n    Learning Company   \n",
       "12             by\\n    \\n    Creative Wonders   \n",
       "13                                  Star Wars   \n",
       "14                         by\\n    \\n    LEGO   \n",
       "15                                       LEGO   \n",
       "16              by\\n    \\n    Scholastic / EA   \n",
       "17                         by\\n    \\n    Sega   \n",
       "18              by\\n    \\n    Cartoon Network   \n",
       "19                   by\\n    \\n    Scholastic   \n",
       "\n",
       "                                              feature  \\\n",
       "0                                                  []   \n",
       "1                                                  []   \n",
       "2                                                  []   \n",
       "3   [Original PCB used from Xbox 360 Control Pad (...   \n",
       "4   [Grades 2-12, Spelling Program, Teaches Spelli...   \n",
       "5                              [Sim City 3000 CD-ROM]   \n",
       "6   [Phonics Alive! 2 The Sound Blender is a new a...   \n",
       "7                                                  []   \n",
       "8                                        [video game]   \n",
       "9   [Like the real world, Freddi Fishs world chang...   \n",
       "10  [8 MB RAM recommended, 486/DX2-66 MHz processo...   \n",
       "11  [If you have not opened the item, you can retu...   \n",
       "12                                                 []   \n",
       "13  [Play challenging math games against Jabba the...   \n",
       "14  [Lego, Soccer Mania, computer video game, e fo...   \n",
       "15  [The action adventure continues sequel to the ...   \n",
       "16  [3 games, Need For Speed Porsche Unleashed, Ne...   \n",
       "17                                                 []   \n",
       "18  [showdown in ghost town, phantom of the night,...   \n",
       "19  [3d Interactive Mystery Game, Message in a Hun...   \n",
       "\n",
       "                                                 rank  \\\n",
       "0   [>#2,623,937 in Toys &amp; Games (See Top 100 ...   \n",
       "1   [>#67,231 in Video Games (See Top 100 in Video...   \n",
       "2   [>#134,433 in Video Games (See Top 100 in Vide...   \n",
       "3   [>#105,263 in Video Games (See Top 100 in Vide...   \n",
       "4   [>#92,397 in Video Games (See Top 100 in Video...   \n",
       "5   [>#19,087 in Video Games (See Top 100 in Video...   \n",
       "6   [>#117,477 in Video Games (See Top 100 in Vide...   \n",
       "7   [>#87,937 in Video Games (See Top 100 in Video...   \n",
       "8   [>#51,505 in Video Games (See Top 100 in Video...   \n",
       "9   [>#58,523 in Video Games (See Top 100 in Video...   \n",
       "10  [>#114,262 in Video Games (See Top 100 in Vide...   \n",
       "11  [>#5,927 in Video Games (See Top 100 in Video ...   \n",
       "12  [>#64,461 in Video Games (See Top 100 in Video...   \n",
       "13  [>#56,730 in Video Games (See Top 100 in Video...   \n",
       "14  [>#100,772 in Video Games (See Top 100 in Vide...   \n",
       "15  [>#930,608 in Toys &amp; Games (See Top 100 in...   \n",
       "16  [>#84,589 in Video Games (See Top 100 in Video...   \n",
       "17  [>#60,521 in Video Games (See Top 100 in Video...   \n",
       "18  [>#109,522 in Video Games (See Top 100 in Vide...   \n",
       "19  [>#58,575 in Video Games (See Top 100 in Video...   \n",
       "\n",
       "                                            also_view          main_cat  \\\n",
       "0                                                  []  Toys &amp; Games   \n",
       "1   [B0050SY5BM, B072NQJCW5, B000TI836G, B002SRSQ7...       Video Games   \n",
       "2                                                  []       Video Games   \n",
       "3                                                  []       Video Games   \n",
       "4                                        [B000BCZ7U0]       Video Games   \n",
       "5   [B00004T1M7, B00000G16I, B00006GF1U, B0000C0YW...       Video Games   \n",
       "6                                                  []       Video Games   \n",
       "7                                                  []       Video Games   \n",
       "8                [B00004DITL, B000067NP1, B00003W869]       Video Games   \n",
       "9   [B000FETCF0, B00005BU3M, B00004UCUT, B0009RAVF...       Video Games   \n",
       "10                                                 []       Video Games   \n",
       "11  [B00005LBVS, B002CMU748, B01JF4CHWK, B07B61BFS...       Video Games   \n",
       "12                                       [B0002667BI]       Video Games   \n",
       "13               [B00030GKA6, B00004U8JP, B0002667AO]       Video Games   \n",
       "14                                                 []       Video Games   \n",
       "15  [B00005V8TB, B008EEYX1Q, B00008KTQ6, B00005AKU...  Toys &amp; Games   \n",
       "16                                                 []       Video Games   \n",
       "17  [B0007ZNH5I, B000E7K112, B0001B6QBU, B01C8XLE6...       Video Games   \n",
       "18                                                 []       Video Games   \n",
       "19               [B0046XSEHS, B000NIFYDW, B000AXRIU2]       Video Games   \n",
       "\n",
       "   similar_item        asin                                           imageURL  \n",
       "0                0042000742  [https://images-na.ssl-images-amazon.com/image...  \n",
       "1                0078764343  [https://images-na.ssl-images-amazon.com/image...  \n",
       "2                0276425316                                                 []  \n",
       "3                0324411812  [https://images-na.ssl-images-amazon.com/image...  \n",
       "4                0439335310  [https://images-na.ssl-images-amazon.com/image...  \n",
       "5                0439339006  [https://images-na.ssl-images-amazon.com/image...  \n",
       "6                0439335299                                                 []  \n",
       "7                0439339960  [https://images-na.ssl-images-amazon.com/image...  \n",
       "8                043933702X  [https://images-na.ssl-images-amazon.com/image...  \n",
       "9                0439339987  [https://images-na.ssl-images-amazon.com/image...  \n",
       "10               0439342260  [https://images-na.ssl-images-amazon.com/image...  \n",
       "11               0439381673  [https://images-na.ssl-images-amazon.com/image...  \n",
       "12               0439394422  [https://images-na.ssl-images-amazon.com/image...  \n",
       "13               043940133X  [https://images-na.ssl-images-amazon.com/image...  \n",
       "14               0439473489  [https://images-na.ssl-images-amazon.com/image...  \n",
       "15               0439542804  [https://images-na.ssl-images-amazon.com/image...  \n",
       "16               0439573947  [https://images-na.ssl-images-amazon.com/image...  \n",
       "17               043957448X  [https://images-na.ssl-images-amazon.com/image...  \n",
       "18               0439591295  [https://images-na.ssl-images-amazon.com/image...  \n",
       "19               0439591538  [https://images-na.ssl-images-amazon.com/image...  "
      ]
     },
     "execution_count": 13,
     "metadata": {},
     "output_type": "execute_result"
    }
   ],
   "source": [
    "df_prod.head(20)"
   ]
  },
  {
   "cell_type": "markdown",
   "metadata": {},
   "source": [
    "The biggest problem now is the HTMl tags in some of the columns, like '/span', '/n', 'div', etc. Need take out these tags."
   ]
  },
  {
   "cell_type": "code",
   "execution_count": 178,
   "metadata": {},
   "outputs": [],
   "source": [
    "# convert each list in category column into one string\n",
    "df_prod['category'] = [','.join(map(str, l)) for l in df_prod['category']]"
   ]
  },
  {
   "cell_type": "code",
   "execution_count": 179,
   "metadata": {},
   "outputs": [
    {
     "data": {
      "text/plain": [
       "'Video Games,Xbox 360,Games,'"
      ]
     },
     "execution_count": 179,
     "metadata": {},
     "output_type": "execute_result"
    }
   ],
   "source": [
    "# try replace the HTML tag with empty string\n",
    "re.sub('</span>', '', df_prod['category'][1])"
   ]
  },
  {
   "cell_type": "code",
   "execution_count": 180,
   "metadata": {},
   "outputs": [],
   "source": [
    "# create a function removes HTML tages\n",
    "def remove_tags(string):\n",
    "    exclusionlist = ['</span>','<b>', '</b>', '<br />', '\\n', '/n', '</div>', '<div>', '<DIV>', '</DIV>']\n",
    "    exclusions = '|'.join(exclusionlist)\n",
    "    result = re.sub(exclusions, '', string)\n",
    "    return result"
   ]
  },
  {
   "cell_type": "code",
   "execution_count": 181,
   "metadata": {},
   "outputs": [],
   "source": [
    "# apply the function and remove all HTML tags in category column\n",
    "df_prod['category'] = df_prod['category'].apply(lambda x : remove_tags(x))"
   ]
  },
  {
   "cell_type": "code",
   "execution_count": 182,
   "metadata": {},
   "outputs": [],
   "source": [
    "# do the same on description column\n",
    "df_prod['description'] = [''.join(map(str, l)) for l in df_prod['category']]"
   ]
  },
  {
   "cell_type": "code",
   "execution_count": 183,
   "metadata": {
    "scrolled": true
   },
   "outputs": [],
   "source": [
    "df_prod['description'] = df_prod['description'].apply(lambda x: remove_tags(x))"
   ]
  },
  {
   "cell_type": "code",
   "execution_count": 184,
   "metadata": {},
   "outputs": [],
   "source": [
    "# strip by and \\n in front of brand names\n",
    "df_prod['brand'] = df_prod['brand'].apply(lambda x: re.sub('by', '', x))\n",
    "df_prod['brand'] = df_prod['brand'].apply(lambda x: re.sub('\\n', '', x))"
   ]
  },
  {
   "cell_type": "code",
   "execution_count": 185,
   "metadata": {
    "scrolled": true
   },
   "outputs": [
    {
     "data": {
      "text/html": [
       "<div>\n",
       "<style scoped>\n",
       "    .dataframe tbody tr th:only-of-type {\n",
       "        vertical-align: middle;\n",
       "    }\n",
       "\n",
       "    .dataframe tbody tr th {\n",
       "        vertical-align: top;\n",
       "    }\n",
       "\n",
       "    .dataframe thead th {\n",
       "        text-align: right;\n",
       "    }\n",
       "</style>\n",
       "<table border=\"1\" class=\"dataframe\">\n",
       "  <thead>\n",
       "    <tr style=\"text-align: right;\">\n",
       "      <th></th>\n",
       "      <th>category</th>\n",
       "      <th>description</th>\n",
       "      <th>title</th>\n",
       "      <th>also_buy</th>\n",
       "      <th>brand</th>\n",
       "      <th>feature</th>\n",
       "      <th>rank</th>\n",
       "      <th>also_view</th>\n",
       "      <th>main_cat</th>\n",
       "      <th>similar_item</th>\n",
       "      <th>asin</th>\n",
       "      <th>imageURL</th>\n",
       "    </tr>\n",
       "  </thead>\n",
       "  <tbody>\n",
       "    <tr>\n",
       "      <th>0</th>\n",
       "      <td>Video Games,PC,Games</td>\n",
       "      <td>Video Games,PC,Games</td>\n",
       "      <td>Reversi Sensory Challenger</td>\n",
       "      <td>[]</td>\n",
       "      <td>Fidelity Electronics</td>\n",
       "      <td>[]</td>\n",
       "      <td>[&gt;#2,623,937 in Toys &amp;amp; Games (See Top 100 ...</td>\n",
       "      <td>[]</td>\n",
       "      <td>Toys &amp;amp; Games</td>\n",
       "      <td></td>\n",
       "      <td>0042000742</td>\n",
       "      <td>[https://images-na.ssl-images-amazon.com/image...</td>\n",
       "    </tr>\n",
       "    <tr>\n",
       "      <th>1</th>\n",
       "      <td>Video Games,Xbox 360,Games,</td>\n",
       "      <td>Video Games,Xbox 360,Games,</td>\n",
       "      <td>Medal of Honor: Warfighter - Includes Battlefi...</td>\n",
       "      <td>[B00PADROYW]</td>\n",
       "      <td>EA Games</td>\n",
       "      <td>[]</td>\n",
       "      <td>[&gt;#67,231 in Video Games (See Top 100 in Video...</td>\n",
       "      <td>[B0050SY5BM, B072NQJCW5, B000TI836G, B002SRSQ7...</td>\n",
       "      <td>Video Games</td>\n",
       "      <td></td>\n",
       "      <td>0078764343</td>\n",
       "      <td>[https://images-na.ssl-images-amazon.com/image...</td>\n",
       "    </tr>\n",
       "    <tr>\n",
       "      <th>2</th>\n",
       "      <td>Video Games,Retro Gaming &amp; Microconsoles,Super...</td>\n",
       "      <td>Video Games,Retro Gaming &amp; Microconsoles,Super...</td>\n",
       "      <td>street fighter 2 II turbo super nintendo snes ...</td>\n",
       "      <td>[]</td>\n",
       "      <td>Nintendo</td>\n",
       "      <td>[]</td>\n",
       "      <td>[&gt;#134,433 in Video Games (See Top 100 in Vide...</td>\n",
       "      <td>[]</td>\n",
       "      <td>Video Games</td>\n",
       "      <td></td>\n",
       "      <td>0276425316</td>\n",
       "      <td>[]</td>\n",
       "    </tr>\n",
       "    <tr>\n",
       "      <th>3</th>\n",
       "      <td>Video Games,Xbox 360,Accessories,Controllers,J...</td>\n",
       "      <td>Video Games,Xbox 360,Accessories,Controllers,J...</td>\n",
       "      <td>Xbox 360 MAS STICK</td>\n",
       "      <td>[]</td>\n",
       "      <td>MAS SYSTEMS</td>\n",
       "      <td>[Original PCB used from Xbox 360 Control Pad (...</td>\n",
       "      <td>[&gt;#105,263 in Video Games (See Top 100 in Vide...</td>\n",
       "      <td>[]</td>\n",
       "      <td>Video Games</td>\n",
       "      <td></td>\n",
       "      <td>0324411812</td>\n",
       "      <td>[https://images-na.ssl-images-amazon.com/image...</td>\n",
       "    </tr>\n",
       "    <tr>\n",
       "      <th>4</th>\n",
       "      <td>Video Games,PC,Games,,Grades 2-12,Spelling Pro...</td>\n",
       "      <td>Video Games,PC,Games,,Grades 2-12,Spelling Pro...</td>\n",
       "      <td>Phonics Alive! 3: The Speller</td>\n",
       "      <td>[]</td>\n",
       "      <td>Advanced Software Pty. Ltd.</td>\n",
       "      <td>[Grades 2-12, Spelling Program, Teaches Spelli...</td>\n",
       "      <td>[&gt;#92,397 in Video Games (See Top 100 in Video...</td>\n",
       "      <td>[B000BCZ7U0]</td>\n",
       "      <td>Video Games</td>\n",
       "      <td></td>\n",
       "      <td>0439335310</td>\n",
       "      <td>[https://images-na.ssl-images-amazon.com/image...</td>\n",
       "    </tr>\n",
       "    <tr>\n",
       "      <th>...</th>\n",
       "      <td>...</td>\n",
       "      <td>...</td>\n",
       "      <td>...</td>\n",
       "      <td>...</td>\n",
       "      <td>...</td>\n",
       "      <td>...</td>\n",
       "      <td>...</td>\n",
       "      <td>...</td>\n",
       "      <td>...</td>\n",
       "      <td>...</td>\n",
       "      <td>...</td>\n",
       "      <td>...</td>\n",
       "    </tr>\n",
       "    <tr>\n",
       "      <th>84814</th>\n",
       "      <td>Video Games,PlayStation Vita,Digital Games &amp; D...</td>\n",
       "      <td>Video Games,PlayStation Vita,Digital Games &amp; D...</td>\n",
       "      <td>Lego Star Wars: The Force Awakens - PS Vita [D...</td>\n",
       "      <td>[]</td>\n",
       "      <td>Warner Bros.</td>\n",
       "      <td>[]</td>\n",
       "      <td>[&gt;#74,224 in Video Games (See Top 100 in Video...</td>\n",
       "      <td>[]</td>\n",
       "      <td>Video Games</td>\n",
       "      <td></td>\n",
       "      <td>B01HJ1521Y</td>\n",
       "      <td>[]</td>\n",
       "    </tr>\n",
       "    <tr>\n",
       "      <th>84815</th>\n",
       "      <td>Video Games,PlayStation 4,Digital Games &amp; DLC,...</td>\n",
       "      <td>Video Games,PlayStation 4,Digital Games &amp; DLC,...</td>\n",
       "      <td>Lego Star Wars: The Force Awakens  Season Pass...</td>\n",
       "      <td>[]</td>\n",
       "      <td>Warner Bros.</td>\n",
       "      <td>[DLC Requires base game]</td>\n",
       "      <td>[&gt;#62,150 in Video Games (See Top 100 in Video...</td>\n",
       "      <td>[]</td>\n",
       "      <td>Video Games</td>\n",
       "      <td></td>\n",
       "      <td>B01HJ14TTA</td>\n",
       "      <td>[]</td>\n",
       "    </tr>\n",
       "    <tr>\n",
       "      <th>84816</th>\n",
       "      <td>Video Games,PlayStation 4,Digital Games &amp; DLC,...</td>\n",
       "      <td>Video Games,PlayStation 4,Digital Games &amp; DLC,...</td>\n",
       "      <td>The Technomancer - PS4 [Digital Code]</td>\n",
       "      <td>[]</td>\n",
       "      <td>Focus Home Interactive</td>\n",
       "      <td>[]</td>\n",
       "      <td>[&gt;#94,234 in Video Games (See Top 100 in Video...</td>\n",
       "      <td>[]</td>\n",
       "      <td>Video Games</td>\n",
       "      <td></td>\n",
       "      <td>B01HJ14OT0</td>\n",
       "      <td>[https://images-na.ssl-images-amazon.com/image...</td>\n",
       "    </tr>\n",
       "    <tr>\n",
       "      <th>84817</th>\n",
       "      <td>Video Games,Xbox 360,Accessories,</td>\n",
       "      <td>Video Games,Xbox 360,Accessories,</td>\n",
       "      <td>Repair T8 T6 Tools for XBOX One Xbox 360, YTTL...</td>\n",
       "      <td>[B01KBNB7K2, B06X6JSYPC, B01N6Y0Z7W, B06VXD2W5...</td>\n",
       "      <td>YTTL</td>\n",
       "      <td>[If you want to Replacement you Xbox one /360 ...</td>\n",
       "      <td>[&gt;#16,087 in Video Games (See Top 100 in Video...</td>\n",
       "      <td>[B01KH25ZY6, B00PG8SU26, B07G122BVS, B016XLTQP...</td>\n",
       "      <td>Video Games</td>\n",
       "      <td></td>\n",
       "      <td>B01HJC33WS</td>\n",
       "      <td>[https://images-na.ssl-images-amazon.com/image...</td>\n",
       "    </tr>\n",
       "    <tr>\n",
       "      <th>84818</th>\n",
       "      <td>Video Games,PC,Accessories,Gaming Mice</td>\n",
       "      <td>Video Games,PC,Accessories,Gaming Mice</td>\n",
       "      <td>Zelotes 4000 DPI Programmable Gaming Mouse for...</td>\n",
       "      <td>[]</td>\n",
       "      <td>Zelotes</td>\n",
       "      <td>[Customize DPI Switch: 1000/1500/2000/4000,the...</td>\n",
       "      <td>[&gt;#434 in Computers &amp; Accessories &gt; Computer A...</td>\n",
       "      <td>[B016ZF77OA, B00GU8W5AE, B00E64DTDQ, B074TF6XV...</td>\n",
       "      <td>Computers</td>\n",
       "      <td></td>\n",
       "      <td>B01HJEBIAA</td>\n",
       "      <td>[https://images-na.ssl-images-amazon.com/image...</td>\n",
       "    </tr>\n",
       "  </tbody>\n",
       "</table>\n",
       "<p>84819 rows × 12 columns</p>\n",
       "</div>"
      ],
      "text/plain": [
       "                                                category  \\\n",
       "0                                   Video Games,PC,Games   \n",
       "1                            Video Games,Xbox 360,Games,   \n",
       "2      Video Games,Retro Gaming & Microconsoles,Super...   \n",
       "3      Video Games,Xbox 360,Accessories,Controllers,J...   \n",
       "4      Video Games,PC,Games,,Grades 2-12,Spelling Pro...   \n",
       "...                                                  ...   \n",
       "84814  Video Games,PlayStation Vita,Digital Games & D...   \n",
       "84815  Video Games,PlayStation 4,Digital Games & DLC,...   \n",
       "84816  Video Games,PlayStation 4,Digital Games & DLC,...   \n",
       "84817                  Video Games,Xbox 360,Accessories,   \n",
       "84818             Video Games,PC,Accessories,Gaming Mice   \n",
       "\n",
       "                                             description  \\\n",
       "0                                   Video Games,PC,Games   \n",
       "1                            Video Games,Xbox 360,Games,   \n",
       "2      Video Games,Retro Gaming & Microconsoles,Super...   \n",
       "3      Video Games,Xbox 360,Accessories,Controllers,J...   \n",
       "4      Video Games,PC,Games,,Grades 2-12,Spelling Pro...   \n",
       "...                                                  ...   \n",
       "84814  Video Games,PlayStation Vita,Digital Games & D...   \n",
       "84815  Video Games,PlayStation 4,Digital Games & DLC,...   \n",
       "84816  Video Games,PlayStation 4,Digital Games & DLC,...   \n",
       "84817                  Video Games,Xbox 360,Accessories,   \n",
       "84818             Video Games,PC,Accessories,Gaming Mice   \n",
       "\n",
       "                                                   title  \\\n",
       "0                             Reversi Sensory Challenger   \n",
       "1      Medal of Honor: Warfighter - Includes Battlefi...   \n",
       "2      street fighter 2 II turbo super nintendo snes ...   \n",
       "3                                     Xbox 360 MAS STICK   \n",
       "4                          Phonics Alive! 3: The Speller   \n",
       "...                                                  ...   \n",
       "84814  Lego Star Wars: The Force Awakens - PS Vita [D...   \n",
       "84815  Lego Star Wars: The Force Awakens  Season Pass...   \n",
       "84816              The Technomancer - PS4 [Digital Code]   \n",
       "84817  Repair T8 T6 Tools for XBOX One Xbox 360, YTTL...   \n",
       "84818  Zelotes 4000 DPI Programmable Gaming Mouse for...   \n",
       "\n",
       "                                                also_buy  \\\n",
       "0                                                     []   \n",
       "1                                           [B00PADROYW]   \n",
       "2                                                     []   \n",
       "3                                                     []   \n",
       "4                                                     []   \n",
       "...                                                  ...   \n",
       "84814                                                 []   \n",
       "84815                                                 []   \n",
       "84816                                                 []   \n",
       "84817  [B01KBNB7K2, B06X6JSYPC, B01N6Y0Z7W, B06VXD2W5...   \n",
       "84818                                                 []   \n",
       "\n",
       "                                     brand  \\\n",
       "0                     Fidelity Electronics   \n",
       "1                                 EA Games   \n",
       "2                                 Nintendo   \n",
       "3                              MAS SYSTEMS   \n",
       "4              Advanced Software Pty. Ltd.   \n",
       "...                                    ...   \n",
       "84814                         Warner Bros.   \n",
       "84815                         Warner Bros.   \n",
       "84816               Focus Home Interactive   \n",
       "84817                                 YTTL   \n",
       "84818                              Zelotes   \n",
       "\n",
       "                                                 feature  \\\n",
       "0                                                     []   \n",
       "1                                                     []   \n",
       "2                                                     []   \n",
       "3      [Original PCB used from Xbox 360 Control Pad (...   \n",
       "4      [Grades 2-12, Spelling Program, Teaches Spelli...   \n",
       "...                                                  ...   \n",
       "84814                                                 []   \n",
       "84815                           [DLC Requires base game]   \n",
       "84816                                                 []   \n",
       "84817  [If you want to Replacement you Xbox one /360 ...   \n",
       "84818  [Customize DPI Switch: 1000/1500/2000/4000,the...   \n",
       "\n",
       "                                                    rank  \\\n",
       "0      [>#2,623,937 in Toys &amp; Games (See Top 100 ...   \n",
       "1      [>#67,231 in Video Games (See Top 100 in Video...   \n",
       "2      [>#134,433 in Video Games (See Top 100 in Vide...   \n",
       "3      [>#105,263 in Video Games (See Top 100 in Vide...   \n",
       "4      [>#92,397 in Video Games (See Top 100 in Video...   \n",
       "...                                                  ...   \n",
       "84814  [>#74,224 in Video Games (See Top 100 in Video...   \n",
       "84815  [>#62,150 in Video Games (See Top 100 in Video...   \n",
       "84816  [>#94,234 in Video Games (See Top 100 in Video...   \n",
       "84817  [>#16,087 in Video Games (See Top 100 in Video...   \n",
       "84818  [>#434 in Computers & Accessories > Computer A...   \n",
       "\n",
       "                                               also_view          main_cat  \\\n",
       "0                                                     []  Toys &amp; Games   \n",
       "1      [B0050SY5BM, B072NQJCW5, B000TI836G, B002SRSQ7...       Video Games   \n",
       "2                                                     []       Video Games   \n",
       "3                                                     []       Video Games   \n",
       "4                                           [B000BCZ7U0]       Video Games   \n",
       "...                                                  ...               ...   \n",
       "84814                                                 []       Video Games   \n",
       "84815                                                 []       Video Games   \n",
       "84816                                                 []       Video Games   \n",
       "84817  [B01KH25ZY6, B00PG8SU26, B07G122BVS, B016XLTQP...       Video Games   \n",
       "84818  [B016ZF77OA, B00GU8W5AE, B00E64DTDQ, B074TF6XV...         Computers   \n",
       "\n",
       "      similar_item        asin  \\\n",
       "0                   0042000742   \n",
       "1                   0078764343   \n",
       "2                   0276425316   \n",
       "3                   0324411812   \n",
       "4                   0439335310   \n",
       "...            ...         ...   \n",
       "84814               B01HJ1521Y   \n",
       "84815               B01HJ14TTA   \n",
       "84816               B01HJ14OT0   \n",
       "84817               B01HJC33WS   \n",
       "84818               B01HJEBIAA   \n",
       "\n",
       "                                                imageURL  \n",
       "0      [https://images-na.ssl-images-amazon.com/image...  \n",
       "1      [https://images-na.ssl-images-amazon.com/image...  \n",
       "2                                                     []  \n",
       "3      [https://images-na.ssl-images-amazon.com/image...  \n",
       "4      [https://images-na.ssl-images-amazon.com/image...  \n",
       "...                                                  ...  \n",
       "84814                                                 []  \n",
       "84815                                                 []  \n",
       "84816  [https://images-na.ssl-images-amazon.com/image...  \n",
       "84817  [https://images-na.ssl-images-amazon.com/image...  \n",
       "84818  [https://images-na.ssl-images-amazon.com/image...  \n",
       "\n",
       "[84819 rows x 12 columns]"
      ]
     },
     "execution_count": 185,
     "metadata": {},
     "output_type": "execute_result"
    }
   ],
   "source": [
    "df_prod"
   ]
  },
  {
   "cell_type": "markdown",
   "metadata": {},
   "source": [
    "I noticed some brands' names are called differently, but they should belong to same game publisher. So far, I found EA Games and Ubisoft Entertainment need to be changed to have consistent publisher name."
   ]
  },
  {
   "cell_type": "code",
   "execution_count": 22,
   "metadata": {
    "scrolled": true
   },
   "outputs": [
    {
     "data": {
      "text/plain": [
       "5792     EA Games\n",
       "6796     EA Games\n",
       "10441    EA Games\n",
       "10919    EA Games\n",
       "10938    EA Games\n",
       "18700    EA Games\n",
       "19704    EA Games\n",
       "23349    EA Games\n",
       "23827    EA Games\n",
       "23846    EA Games\n",
       "28068    EA Games\n",
       "Name: brand, dtype: object"
      ]
     },
     "execution_count": 22,
     "metadata": {},
     "output_type": "execute_result"
    }
   ],
   "source": [
    "df_prod['brand'].loc[df_prod['brand']=='EA Games']"
   ]
  },
  {
   "cell_type": "code",
   "execution_count": 23,
   "metadata": {
    "scrolled": true
   },
   "outputs": [
    {
     "data": {
      "text/html": [
       "<div>\n",
       "<style scoped>\n",
       "    .dataframe tbody tr th:only-of-type {\n",
       "        vertical-align: middle;\n",
       "    }\n",
       "\n",
       "    .dataframe tbody tr th {\n",
       "        vertical-align: top;\n",
       "    }\n",
       "\n",
       "    .dataframe thead th {\n",
       "        text-align: right;\n",
       "    }\n",
       "</style>\n",
       "<table border=\"1\" class=\"dataframe\">\n",
       "  <thead>\n",
       "    <tr style=\"text-align: right;\">\n",
       "      <th></th>\n",
       "      <th>category</th>\n",
       "      <th>description</th>\n",
       "      <th>title</th>\n",
       "      <th>also_buy</th>\n",
       "      <th>brand</th>\n",
       "      <th>feature</th>\n",
       "      <th>rank</th>\n",
       "      <th>also_view</th>\n",
       "      <th>main_cat</th>\n",
       "      <th>similar_item</th>\n",
       "      <th>asin</th>\n",
       "      <th>imageURL</th>\n",
       "    </tr>\n",
       "  </thead>\n",
       "  <tbody>\n",
       "    <tr>\n",
       "      <th>38</th>\n",
       "      <td>Video Games,PC,Games</td>\n",
       "      <td>Video Games,PC,Games</td>\n",
       "      <td>Anno 2070</td>\n",
       "      <td>[]</td>\n",
       "      <td>Ubisoft</td>\n",
       "      <td>[A new era: while adhering to the fundamentals...</td>\n",
       "      <td>[&gt;#30,230 in Video Games (See Top 100 in Video...</td>\n",
       "      <td>[B013F0IP1C, B00JDP1AWU, B00XR3YC2E, B001AWMCM...</td>\n",
       "      <td>Video Games</td>\n",
       "      <td></td>\n",
       "      <td>0700026657</td>\n",
       "      <td>[https://images-na.ssl-images-amazon.com/image...</td>\n",
       "    </tr>\n",
       "    <tr>\n",
       "      <th>1174</th>\n",
       "      <td>Video Games,Retro Gaming &amp; Microconsoles,Ninte...</td>\n",
       "      <td>Video Games,Retro Gaming &amp; Microconsoles,Ninte...</td>\n",
       "      <td>All Star Tennis '99</td>\n",
       "      <td>[]</td>\n",
       "      <td>Ubisoft</td>\n",
       "      <td>[]</td>\n",
       "      <td>[&gt;#75,522 in Video Games (See Top 100 in Video...</td>\n",
       "      <td>[]</td>\n",
       "      <td>Video Games</td>\n",
       "      <td></td>\n",
       "      <td>B000028U2B</td>\n",
       "      <td>[]</td>\n",
       "    </tr>\n",
       "    <tr>\n",
       "      <th>1192</th>\n",
       "      <td>Video Games,Retro Gaming &amp; Microconsoles,Sega ...</td>\n",
       "      <td>Video Games,Retro Gaming &amp; Microconsoles,Sega ...</td>\n",
       "      <td>Monaco Grand Prix: Sega Dreamcast</td>\n",
       "      <td>[B0000488VN, B00001P4QN, B00002970O, B00000K10...</td>\n",
       "      <td>Ubisoft</td>\n",
       "      <td>[Sega Dreamcast]</td>\n",
       "      <td>[&gt;#78,990 in Video Games (See Top 100 in Video...</td>\n",
       "      <td>[]</td>\n",
       "      <td>Video Games</td>\n",
       "      <td></td>\n",
       "      <td>B00002970D</td>\n",
       "      <td>[]</td>\n",
       "    </tr>\n",
       "    <tr>\n",
       "      <th>1193</th>\n",
       "      <td>Video Games,Retro Gaming &amp; Microconsoles,Ninte...</td>\n",
       "      <td>Video Games,Retro Gaming &amp; Microconsoles,Ninte...</td>\n",
       "      <td>Rocket: Robot on Wheels</td>\n",
       "      <td>[B00P1OYN0S, B00002STF6, B00000DMAQ, B00004SWL...</td>\n",
       "      <td>Ubisoft</td>\n",
       "      <td>[]</td>\n",
       "      <td>[&gt;#26,222 in Video Games (See Top 100 in Video...</td>\n",
       "      <td>[B0012F09FI, B00000DMAX, B00000ID61, B00002DHE...</td>\n",
       "      <td>Video Games</td>\n",
       "      <td></td>\n",
       "      <td>B00002970H</td>\n",
       "      <td>[]</td>\n",
       "    </tr>\n",
       "    <tr>\n",
       "      <th>1194</th>\n",
       "      <td>Video Games,Retro Gaming &amp; Microconsoles,Ninte...</td>\n",
       "      <td>Video Games,Retro Gaming &amp; Microconsoles,Ninte...</td>\n",
       "      <td>Rayman 2: The Great Escape</td>\n",
       "      <td>[B00P1OYN0S, B00000F1GM, B00000DMAQ, B00002STH...</td>\n",
       "      <td>Ubisoft</td>\n",
       "      <td>[Rayman 2 The Great Escape]</td>\n",
       "      <td>[&gt;#6,252 in Video Games (See Top 100 in Video ...</td>\n",
       "      <td>[B00000DMAQ, B00000DMAX, B00002STEZ, B00002STH...</td>\n",
       "      <td>Video Games</td>\n",
       "      <td></td>\n",
       "      <td>B00002970G</td>\n",
       "      <td>[]</td>\n",
       "    </tr>\n",
       "    <tr>\n",
       "      <th>...</th>\n",
       "      <td>...</td>\n",
       "      <td>...</td>\n",
       "      <td>...</td>\n",
       "      <td>...</td>\n",
       "      <td>...</td>\n",
       "      <td>...</td>\n",
       "      <td>...</td>\n",
       "      <td>...</td>\n",
       "      <td>...</td>\n",
       "      <td>...</td>\n",
       "      <td>...</td>\n",
       "      <td>...</td>\n",
       "    </tr>\n",
       "    <tr>\n",
       "      <th>79299</th>\n",
       "      <td>Video Games,PlayStation 4,Games</td>\n",
       "      <td>Video Games,PlayStation 4,Games</td>\n",
       "      <td>Zombi PlayStation 4</td>\n",
       "      <td>[B00YCUEN2A, B07JVQLSLY, B07BKKCP8K, B06XGQ376...</td>\n",
       "      <td>Ubisoft</td>\n",
       "      <td>[Pure Survival Horror: Resources are scarce, y...</td>\n",
       "      <td>[&gt;#9,829 in Video Games (See Top 100 in Video ...</td>\n",
       "      <td>[B00YCUEN2A, B019GNMT9Q, B01JCV26KO, B01DPUVMN...</td>\n",
       "      <td>Video Games</td>\n",
       "      <td></td>\n",
       "      <td>B0185MMKYS</td>\n",
       "      <td>[https://images-na.ssl-images-amazon.com/image...</td>\n",
       "    </tr>\n",
       "    <tr>\n",
       "      <th>79357</th>\n",
       "      <td>Video Games,PC,Games</td>\n",
       "      <td>Video Games,PC,Games</td>\n",
       "      <td>GS1 Ecuador</td>\n",
       "      <td>[]</td>\n",
       "      <td>Ubisoft</td>\n",
       "      <td>[- Explore and conquer the enchanted world of ...</td>\n",
       "      <td>[]</td>\n",
       "      <td>[B013FF9UWA, B004WO57E4, B0051UMYLW]</td>\n",
       "      <td>Software</td>\n",
       "      <td></td>\n",
       "      <td>B0187SF3JY</td>\n",
       "      <td>[https://images-na.ssl-images-amazon.com/image...</td>\n",
       "    </tr>\n",
       "    <tr>\n",
       "      <th>79862</th>\n",
       "      <td></td>\n",
       "      <td></td>\n",
       "      <td>Assassin's Creed Chronicles - PlayStation 4 St...</td>\n",
       "      <td>[B00J48MUS4, B01LXHDC8I, B00X87BLK0, B00BMFIXO...</td>\n",
       "      <td>Ubisoft</td>\n",
       "      <td>[3 UNIQUE EPISODES: Each with a distinct hero,...</td>\n",
       "      <td>[&gt;#12,522 in Video Games (See Top 100 in Video...</td>\n",
       "      <td>[B00J48MUS4, B0194I5PVW, B00BMFIXOW, B01LXHDC8...</td>\n",
       "      <td>Video Games</td>\n",
       "      <td></td>\n",
       "      <td>B0192NHBNO</td>\n",
       "      <td>[https://images-na.ssl-images-amazon.com/image...</td>\n",
       "    </tr>\n",
       "    <tr>\n",
       "      <th>81862</th>\n",
       "      <td>Video Games,PlayStation 4,Games</td>\n",
       "      <td>Video Games,PlayStation 4,Games</td>\n",
       "      <td>Far Cry Primal for PlayStation 4</td>\n",
       "      <td>[B00KAED850, B01GW8XJVU, B00KVR4HEC, B071JD44N...</td>\n",
       "      <td>Ubisoft</td>\n",
       "      <td>[UPC: 887256015930, Weight: 0.160 lbs]</td>\n",
       "      <td>[&gt;#37,761 in Video Games (See Top 100 in Video...</td>\n",
       "      <td>[B0166QDJDQ, B00ZIW1CVQ, B071J1S2M7, B016B8J7V...</td>\n",
       "      <td>Video Games</td>\n",
       "      <td></td>\n",
       "      <td>B01CT6VWPO</td>\n",
       "      <td>[https://images-na.ssl-images-amazon.com/image...</td>\n",
       "    </tr>\n",
       "    <tr>\n",
       "      <th>81928</th>\n",
       "      <td>Video Games,Accessories</td>\n",
       "      <td>Video Games,Accessories</td>\n",
       "      <td>Exclusive Far Cry Primal Chest Pin</td>\n",
       "      <td>[B01MQ61K26, 0744016983]</td>\n",
       "      <td>Ubisoft</td>\n",
       "      <td>[]</td>\n",
       "      <td>[&gt;#73,199 in Computers &amp; Accessories (See top ...</td>\n",
       "      <td>[]</td>\n",
       "      <td>Computers</td>\n",
       "      <td></td>\n",
       "      <td>B01CXJK7XK</td>\n",
       "      <td>[]</td>\n",
       "    </tr>\n",
       "  </tbody>\n",
       "</table>\n",
       "<p>318 rows × 12 columns</p>\n",
       "</div>"
      ],
      "text/plain": [
       "                                                category  \\\n",
       "38                                  Video Games,PC,Games   \n",
       "1174   Video Games,Retro Gaming & Microconsoles,Ninte...   \n",
       "1192   Video Games,Retro Gaming & Microconsoles,Sega ...   \n",
       "1193   Video Games,Retro Gaming & Microconsoles,Ninte...   \n",
       "1194   Video Games,Retro Gaming & Microconsoles,Ninte...   \n",
       "...                                                  ...   \n",
       "79299                    Video Games,PlayStation 4,Games   \n",
       "79357                               Video Games,PC,Games   \n",
       "79862                                                      \n",
       "81862                    Video Games,PlayStation 4,Games   \n",
       "81928                            Video Games,Accessories   \n",
       "\n",
       "                                             description  \\\n",
       "38                                  Video Games,PC,Games   \n",
       "1174   Video Games,Retro Gaming & Microconsoles,Ninte...   \n",
       "1192   Video Games,Retro Gaming & Microconsoles,Sega ...   \n",
       "1193   Video Games,Retro Gaming & Microconsoles,Ninte...   \n",
       "1194   Video Games,Retro Gaming & Microconsoles,Ninte...   \n",
       "...                                                  ...   \n",
       "79299                    Video Games,PlayStation 4,Games   \n",
       "79357                               Video Games,PC,Games   \n",
       "79862                                                      \n",
       "81862                    Video Games,PlayStation 4,Games   \n",
       "81928                            Video Games,Accessories   \n",
       "\n",
       "                                                   title  \\\n",
       "38                                             Anno 2070   \n",
       "1174                                 All Star Tennis '99   \n",
       "1192                   Monaco Grand Prix: Sega Dreamcast   \n",
       "1193                             Rocket: Robot on Wheels   \n",
       "1194                          Rayman 2: The Great Escape   \n",
       "...                                                  ...   \n",
       "79299                                Zombi PlayStation 4   \n",
       "79357                                        GS1 Ecuador   \n",
       "79862  Assassin's Creed Chronicles - PlayStation 4 St...   \n",
       "81862                   Far Cry Primal for PlayStation 4   \n",
       "81928                 Exclusive Far Cry Primal Chest Pin   \n",
       "\n",
       "                                                also_buy    brand  \\\n",
       "38                                                    []  Ubisoft   \n",
       "1174                                                  []  Ubisoft   \n",
       "1192   [B0000488VN, B00001P4QN, B00002970O, B00000K10...  Ubisoft   \n",
       "1193   [B00P1OYN0S, B00002STF6, B00000DMAQ, B00004SWL...  Ubisoft   \n",
       "1194   [B00P1OYN0S, B00000F1GM, B00000DMAQ, B00002STH...  Ubisoft   \n",
       "...                                                  ...      ...   \n",
       "79299  [B00YCUEN2A, B07JVQLSLY, B07BKKCP8K, B06XGQ376...  Ubisoft   \n",
       "79357                                                 []  Ubisoft   \n",
       "79862  [B00J48MUS4, B01LXHDC8I, B00X87BLK0, B00BMFIXO...  Ubisoft   \n",
       "81862  [B00KAED850, B01GW8XJVU, B00KVR4HEC, B071JD44N...  Ubisoft   \n",
       "81928                           [B01MQ61K26, 0744016983]  Ubisoft   \n",
       "\n",
       "                                                 feature  \\\n",
       "38     [A new era: while adhering to the fundamentals...   \n",
       "1174                                                  []   \n",
       "1192                                    [Sega Dreamcast]   \n",
       "1193                                                  []   \n",
       "1194                         [Rayman 2 The Great Escape]   \n",
       "...                                                  ...   \n",
       "79299  [Pure Survival Horror: Resources are scarce, y...   \n",
       "79357  [- Explore and conquer the enchanted world of ...   \n",
       "79862  [3 UNIQUE EPISODES: Each with a distinct hero,...   \n",
       "81862             [UPC: 887256015930, Weight: 0.160 lbs]   \n",
       "81928                                                 []   \n",
       "\n",
       "                                                    rank  \\\n",
       "38     [>#30,230 in Video Games (See Top 100 in Video...   \n",
       "1174   [>#75,522 in Video Games (See Top 100 in Video...   \n",
       "1192   [>#78,990 in Video Games (See Top 100 in Video...   \n",
       "1193   [>#26,222 in Video Games (See Top 100 in Video...   \n",
       "1194   [>#6,252 in Video Games (See Top 100 in Video ...   \n",
       "...                                                  ...   \n",
       "79299  [>#9,829 in Video Games (See Top 100 in Video ...   \n",
       "79357                                                 []   \n",
       "79862  [>#12,522 in Video Games (See Top 100 in Video...   \n",
       "81862  [>#37,761 in Video Games (See Top 100 in Video...   \n",
       "81928  [>#73,199 in Computers & Accessories (See top ...   \n",
       "\n",
       "                                               also_view     main_cat  \\\n",
       "38     [B013F0IP1C, B00JDP1AWU, B00XR3YC2E, B001AWMCM...  Video Games   \n",
       "1174                                                  []  Video Games   \n",
       "1192                                                  []  Video Games   \n",
       "1193   [B0012F09FI, B00000DMAX, B00000ID61, B00002DHE...  Video Games   \n",
       "1194   [B00000DMAQ, B00000DMAX, B00002STEZ, B00002STH...  Video Games   \n",
       "...                                                  ...          ...   \n",
       "79299  [B00YCUEN2A, B019GNMT9Q, B01JCV26KO, B01DPUVMN...  Video Games   \n",
       "79357               [B013FF9UWA, B004WO57E4, B0051UMYLW]     Software   \n",
       "79862  [B00J48MUS4, B0194I5PVW, B00BMFIXOW, B01LXHDC8...  Video Games   \n",
       "81862  [B0166QDJDQ, B00ZIW1CVQ, B071J1S2M7, B016B8J7V...  Video Games   \n",
       "81928                                                 []    Computers   \n",
       "\n",
       "      similar_item        asin  \\\n",
       "38                  0700026657   \n",
       "1174                B000028U2B   \n",
       "1192                B00002970D   \n",
       "1193                B00002970H   \n",
       "1194                B00002970G   \n",
       "...            ...         ...   \n",
       "79299               B0185MMKYS   \n",
       "79357               B0187SF3JY   \n",
       "79862               B0192NHBNO   \n",
       "81862               B01CT6VWPO   \n",
       "81928               B01CXJK7XK   \n",
       "\n",
       "                                                imageURL  \n",
       "38     [https://images-na.ssl-images-amazon.com/image...  \n",
       "1174                                                  []  \n",
       "1192                                                  []  \n",
       "1193                                                  []  \n",
       "1194                                                  []  \n",
       "...                                                  ...  \n",
       "79299  [https://images-na.ssl-images-amazon.com/image...  \n",
       "79357  [https://images-na.ssl-images-amazon.com/image...  \n",
       "79862  [https://images-na.ssl-images-amazon.com/image...  \n",
       "81862  [https://images-na.ssl-images-amazon.com/image...  \n",
       "81928                                                 []  \n",
       "\n",
       "[318 rows x 12 columns]"
      ]
     },
     "execution_count": 23,
     "metadata": {},
     "output_type": "execute_result"
    }
   ],
   "source": [
    "df_prod.loc[df_prod['brand']=='Ubisoft']"
   ]
  },
  {
   "cell_type": "code",
   "execution_count": 385,
   "metadata": {},
   "outputs": [],
   "source": [
    "df_prod['brand'].replace({'EA Games':'Electronic Arts', 'Ubisoft Entertainment':'Ubisoft'}, inplace=True)"
   ]
  },
  {
   "cell_type": "code",
   "execution_count": 386,
   "metadata": {
    "scrolled": false
   },
   "outputs": [
    {
     "data": {
      "text/plain": [
       "unknown                                    4030\n",
       "Nintendo                                   3429\n",
       "Electronic Arts                            3261\n",
       "Activision                                 2795\n",
       "Sega                                       2206\n",
       "                                           ... \n",
       "Data Age                                      1\n",
       "Matsushita                                    1\n",
       "Yoostar Entertainment                         1\n",
       "Gioteck PS3 EX-02S Wireless Headset RED       1\n",
       "Badland Games                                 1\n",
       "Name: brand, Length: 7765, dtype: int64"
      ]
     },
     "execution_count": 386,
     "metadata": {},
     "output_type": "execute_result"
    }
   ],
   "source": [
    "df_prod['brand'].value_counts()"
   ]
  },
  {
   "cell_type": "code",
   "execution_count": 387,
   "metadata": {},
   "outputs": [],
   "source": [
    "# some products do not provide brand name, replace with unknown\n",
    "df_prod['brand'].replace({'': 'unknown'}, inplace=True)"
   ]
  },
  {
   "cell_type": "code",
   "execution_count": 388,
   "metadata": {},
   "outputs": [
    {
     "data": {
      "text/plain": [
       "unknown                                    4030\n",
       "Nintendo                                   3429\n",
       "Electronic Arts                            3261\n",
       "Activision                                 2795\n",
       "Sega                                       2206\n",
       "                                           ... \n",
       "Data Age                                      1\n",
       "Matsushita                                    1\n",
       "Yoostar Entertainment                         1\n",
       "Gioteck PS3 EX-02S Wireless Headset RED       1\n",
       "Badland Games                                 1\n",
       "Name: brand, Length: 7765, dtype: int64"
      ]
     },
     "execution_count": 388,
     "metadata": {},
     "output_type": "execute_result"
    }
   ],
   "source": [
    "df_prod['brand'].value_counts()"
   ]
  },
  {
   "cell_type": "code",
   "execution_count": 190,
   "metadata": {},
   "outputs": [],
   "source": [
    "# strip whitespace at beginning of string\n",
    "df_prod['brand'] = df_prod['brand'].apply(lambda x: x.lstrip())"
   ]
  },
  {
   "cell_type": "code",
   "execution_count": 407,
   "metadata": {},
   "outputs": [],
   "source": [
    "# create a dataframe shows number of each brand\n",
    "brand_count_df = pd.DataFrame(data=df_prod['brand'].value_counts().values, index=df_prod['brand'].value_counts().index, columns=['count'])"
   ]
  },
  {
   "cell_type": "code",
   "execution_count": 408,
   "metadata": {
    "scrolled": false
   },
   "outputs": [
    {
     "data": {
      "text/html": [
       "<div>\n",
       "<style scoped>\n",
       "    .dataframe tbody tr th:only-of-type {\n",
       "        vertical-align: middle;\n",
       "    }\n",
       "\n",
       "    .dataframe tbody tr th {\n",
       "        vertical-align: top;\n",
       "    }\n",
       "\n",
       "    .dataframe thead th {\n",
       "        text-align: right;\n",
       "    }\n",
       "</style>\n",
       "<table border=\"1\" class=\"dataframe\">\n",
       "  <thead>\n",
       "    <tr style=\"text-align: right;\">\n",
       "      <th></th>\n",
       "      <th>count</th>\n",
       "    </tr>\n",
       "  </thead>\n",
       "  <tbody>\n",
       "    <tr>\n",
       "      <th>unknown</th>\n",
       "      <td>4030</td>\n",
       "    </tr>\n",
       "    <tr>\n",
       "      <th>Nintendo</th>\n",
       "      <td>3429</td>\n",
       "    </tr>\n",
       "    <tr>\n",
       "      <th>Electronic Arts</th>\n",
       "      <td>3261</td>\n",
       "    </tr>\n",
       "    <tr>\n",
       "      <th>Activision</th>\n",
       "      <td>2795</td>\n",
       "    </tr>\n",
       "    <tr>\n",
       "      <th>Sega</th>\n",
       "      <td>2206</td>\n",
       "    </tr>\n",
       "    <tr>\n",
       "      <th>Sony</th>\n",
       "      <td>2125</td>\n",
       "    </tr>\n",
       "    <tr>\n",
       "      <th>Ubisoft</th>\n",
       "      <td>1886</td>\n",
       "    </tr>\n",
       "    <tr>\n",
       "      <th>Microsoft</th>\n",
       "      <td>1416</td>\n",
       "    </tr>\n",
       "    <tr>\n",
       "      <th>Atari</th>\n",
       "      <td>1320</td>\n",
       "    </tr>\n",
       "    <tr>\n",
       "      <th>THQ</th>\n",
       "      <td>1171</td>\n",
       "    </tr>\n",
       "    <tr>\n",
       "      <th>Konami</th>\n",
       "      <td>1150</td>\n",
       "    </tr>\n",
       "    <tr>\n",
       "      <th>Capcom</th>\n",
       "      <td>1138</td>\n",
       "    </tr>\n",
       "    <tr>\n",
       "      <th>Square Enix</th>\n",
       "      <td>913</td>\n",
       "    </tr>\n",
       "    <tr>\n",
       "      <th>Bandai</th>\n",
       "      <td>643</td>\n",
       "    </tr>\n",
       "    <tr>\n",
       "      <th>Vivendi Universal</th>\n",
       "      <td>638</td>\n",
       "    </tr>\n",
       "    <tr>\n",
       "      <th>Mad Catz</th>\n",
       "      <td>633</td>\n",
       "    </tr>\n",
       "    <tr>\n",
       "      <th>2K</th>\n",
       "      <td>582</td>\n",
       "    </tr>\n",
       "    <tr>\n",
       "      <th>Encore</th>\n",
       "      <td>561</td>\n",
       "    </tr>\n",
       "    <tr>\n",
       "      <th>Playstation</th>\n",
       "      <td>497</td>\n",
       "    </tr>\n",
       "    <tr>\n",
       "      <th>Intec</th>\n",
       "      <td>493</td>\n",
       "    </tr>\n",
       "  </tbody>\n",
       "</table>\n",
       "</div>"
      ],
      "text/plain": [
       "                   count\n",
       "unknown             4030\n",
       "Nintendo            3429\n",
       "Electronic Arts     3261\n",
       "Activision          2795\n",
       "Sega                2206\n",
       "Sony                2125\n",
       "Ubisoft             1886\n",
       "Microsoft           1416\n",
       "Atari               1320\n",
       "THQ                 1171\n",
       "Konami              1150\n",
       "Capcom              1138\n",
       "Square Enix          913\n",
       "Bandai               643\n",
       "Vivendi Universal    638\n",
       "Mad Catz             633\n",
       "2K                   582\n",
       "Encore               561\n",
       "Playstation          497\n",
       "Intec                493"
      ]
     },
     "execution_count": 408,
     "metadata": {},
     "output_type": "execute_result"
    }
   ],
   "source": [
    "brand_count_df.head(20)"
   ]
  },
  {
   "cell_type": "code",
   "execution_count": 31,
   "metadata": {
    "scrolled": true
   },
   "outputs": [
    {
     "data": {
      "text/html": [
       "<div>\n",
       "<style scoped>\n",
       "    .dataframe tbody tr th:only-of-type {\n",
       "        vertical-align: middle;\n",
       "    }\n",
       "\n",
       "    .dataframe tbody tr th {\n",
       "        vertical-align: top;\n",
       "    }\n",
       "\n",
       "    .dataframe thead th {\n",
       "        text-align: right;\n",
       "    }\n",
       "</style>\n",
       "<table border=\"1\" class=\"dataframe\">\n",
       "  <thead>\n",
       "    <tr style=\"text-align: right;\">\n",
       "      <th></th>\n",
       "      <th>category</th>\n",
       "      <th>description</th>\n",
       "      <th>title</th>\n",
       "      <th>also_buy</th>\n",
       "      <th>brand</th>\n",
       "      <th>feature</th>\n",
       "      <th>rank</th>\n",
       "      <th>also_view</th>\n",
       "      <th>main_cat</th>\n",
       "      <th>similar_item</th>\n",
       "      <th>asin</th>\n",
       "      <th>imageURL</th>\n",
       "    </tr>\n",
       "  </thead>\n",
       "  <tbody>\n",
       "    <tr>\n",
       "      <th>2</th>\n",
       "      <td>Video Games,Retro Gaming &amp; Microconsoles,Super...</td>\n",
       "      <td>Video Games,Retro Gaming &amp; Microconsoles,Super...</td>\n",
       "      <td>street fighter 2 II turbo super nintendo snes ...</td>\n",
       "      <td>[]</td>\n",
       "      <td>Nintendo</td>\n",
       "      <td>[]</td>\n",
       "      <td>[&gt;#134,433 in Video Games (See Top 100 in Vide...</td>\n",
       "      <td>[]</td>\n",
       "      <td>Video Games</td>\n",
       "      <td></td>\n",
       "      <td>0276425316</td>\n",
       "      <td>[]</td>\n",
       "    </tr>\n",
       "    <tr>\n",
       "      <th>215</th>\n",
       "      <td>Video Games,Retro Gaming &amp; Microconsoles,Ninte...</td>\n",
       "      <td>Video Games,Retro Gaming &amp; Microconsoles,Ninte...</td>\n",
       "      <td>Forsaken</td>\n",
       "      <td>[B00002STGL, B00002STGQ, B00000JMWB, B00000DMB...</td>\n",
       "      <td>Nintendo</td>\n",
       "      <td>[Nintendo]</td>\n",
       "      <td>[&gt;#43,237 in Video Games (See Top 100 in Video...</td>\n",
       "      <td>[B00002STGL, B00000DMAT, B00000DMB3, B00000I1B...</td>\n",
       "      <td>Video Games</td>\n",
       "      <td></td>\n",
       "      <td>B000006OWT</td>\n",
       "      <td>[]</td>\n",
       "    </tr>\n",
       "    <tr>\n",
       "      <th>247</th>\n",
       "      <td>Video Games,Retro Gaming &amp; Microconsoles,Ninte...</td>\n",
       "      <td>Video Games,Retro Gaming &amp; Microconsoles,Ninte...</td>\n",
       "      <td>1080 Snowboarding</td>\n",
       "      <td>[B00002STI2, B00001QES1, B000021Y2Z, B00002STH...</td>\n",
       "      <td>Nintendo</td>\n",
       "      <td>[]</td>\n",
       "      <td>[&gt;#7,719 in Video Games (See Top 100 in Video ...</td>\n",
       "      <td>[B00001QES1, B00002STI2, B00000DMAX, B00000F1G...</td>\n",
       "      <td>Video Games</td>\n",
       "      <td></td>\n",
       "      <td>B00000DMAO</td>\n",
       "      <td>[https://images-na.ssl-images-amazon.com/image...</td>\n",
       "    </tr>\n",
       "    <tr>\n",
       "      <th>249</th>\n",
       "      <td>Video Games,Retro Gaming &amp; Microconsoles,Ninte...</td>\n",
       "      <td>Video Games,Retro Gaming &amp; Microconsoles,Ninte...</td>\n",
       "      <td>Mario Kart 64</td>\n",
       "      <td>[B00002DHEV, B00000F1GM, B0792NTVZ4, B0793J5C1...</td>\n",
       "      <td>Nintendo</td>\n",
       "      <td>[]</td>\n",
       "      <td>[&gt;#891 in Video Games (See Top 100 in Video Ga...</td>\n",
       "      <td>[B00000F1GM, B00002DHEV, B00004VX12, B00000J2W...</td>\n",
       "      <td>Video Games</td>\n",
       "      <td></td>\n",
       "      <td>B00000DMAX</td>\n",
       "      <td>[https://images-na.ssl-images-amazon.com/image...</td>\n",
       "    </tr>\n",
       "    <tr>\n",
       "      <th>251</th>\n",
       "      <td>Video Games,Retro Gaming &amp; Microconsoles,Ninte...</td>\n",
       "      <td>Video Games,Retro Gaming &amp; Microconsoles,Ninte...</td>\n",
       "      <td>The Legend of Zelda: Ocarina of Time</td>\n",
       "      <td>[B00000F1GM, B00002DHEV, B00000DMAX, B00002STE...</td>\n",
       "      <td>Nintendo</td>\n",
       "      <td>[]</td>\n",
       "      <td>[&gt;#1,847 in Video Games (See Top 100 in Video ...</td>\n",
       "      <td>[B00000ID61, B00OVJQD4I, B000JVM256, B00004U1R...</td>\n",
       "      <td>Video Games</td>\n",
       "      <td></td>\n",
       "      <td>B00000DMB3</td>\n",
       "      <td>[https://images-na.ssl-images-amazon.com/image...</td>\n",
       "    </tr>\n",
       "    <tr>\n",
       "      <th>...</th>\n",
       "      <td>...</td>\n",
       "      <td>...</td>\n",
       "      <td>...</td>\n",
       "      <td>...</td>\n",
       "      <td>...</td>\n",
       "      <td>...</td>\n",
       "      <td>...</td>\n",
       "      <td>...</td>\n",
       "      <td>...</td>\n",
       "      <td>...</td>\n",
       "      <td>...</td>\n",
       "      <td>...</td>\n",
       "    </tr>\n",
       "    <tr>\n",
       "      <th>84537</th>\n",
       "      <td>Video Games,Wii U,Games,</td>\n",
       "      <td>Video Games,Wii U,Games,</td>\n",
       "      <td>Nintendo Boo amiibo (SM Series) - Nintendo Wii U</td>\n",
       "      <td>[B00S7O6RG2, B071K9MZ6P, B071K9MTPY, B01CKH0W9...</td>\n",
       "      <td>Nintendo</td>\n",
       "      <td>[Introducing amiibo: character figures designe...</td>\n",
       "      <td>[&gt;#8,050 in Video Games (See Top 100 in Video ...</td>\n",
       "      <td>[B00S7O6R9E, B01LC98QJO, B071K9MZ6P, B071K9MTP...</td>\n",
       "      <td>Video Games</td>\n",
       "      <td></td>\n",
       "      <td>B01H2DKGZQ</td>\n",
       "      <td>[]</td>\n",
       "    </tr>\n",
       "    <tr>\n",
       "      <th>84553</th>\n",
       "      <td>Video Games,Kids &amp; Family,Nintendo 3DS,Games,</td>\n",
       "      <td>Video Games,Kids &amp; Family,Nintendo 3DS,Games,</td>\n",
       "      <td>Mario Party Star Rush - Nintendo 3DS</td>\n",
       "      <td>[B00CH9253W, B075M5MCDF, B01AC3ZA0Y, B01LDUYTX...</td>\n",
       "      <td>Nintendo</td>\n",
       "      <td>[Break free of turn order, with all players pl...</td>\n",
       "      <td>[&gt;#4,040 in Video Games (See Top 100 in Video ...</td>\n",
       "      <td>[B075M5MCDF, B0792HGXB8, B00CH9253W, B01AC3ZA0...</td>\n",
       "      <td>Video Games</td>\n",
       "      <td></td>\n",
       "      <td>B01H3NU4OS</td>\n",
       "      <td>[https://images-na.ssl-images-amazon.com/image...</td>\n",
       "    </tr>\n",
       "    <tr>\n",
       "      <th>84561</th>\n",
       "      <td>Video Games,Wii,</td>\n",
       "      <td>Video Games,Wii,</td>\n",
       "      <td>Nintendo Pokemon Go Plus</td>\n",
       "      <td>[B07C7K7JGW, B07HNC7JB9, B07C75329M, B07C7L9D9...</td>\n",
       "      <td>Nintendo</td>\n",
       "      <td>[The Pokmon GO Plus is a small device that let...</td>\n",
       "      <td>[&gt;#388 in Video Games (See Top 100 in Video Ga...</td>\n",
       "      <td>[B071K63M65, B06Y5BTX8L, B071R3P45V, B07C1MCH3...</td>\n",
       "      <td>Video Games</td>\n",
       "      <td></td>\n",
       "      <td>B01H482N6E</td>\n",
       "      <td>[https://images-na.ssl-images-amazon.com/image...</td>\n",
       "    </tr>\n",
       "    <tr>\n",
       "      <th>84671</th>\n",
       "      <td>Video Games,Kids &amp; Family,Nintendo 3DS,Games</td>\n",
       "      <td>Video Games,Kids &amp; Family,Nintendo 3DS,Games</td>\n",
       "      <td>Beyblade 3DS Japan Import</td>\n",
       "      <td>[B07JCM53Y5, B07D3J3HJ9, B06Y6LNFRZ, B07H9L6LH...</td>\n",
       "      <td>Nintendo</td>\n",
       "      <td>[]</td>\n",
       "      <td>[&gt;#7,410 in Video Games (See Top 100 in Video ...</td>\n",
       "      <td>[B00CP1QC4K, B00CP1Q9LQ, B0732S9YGW, B07D3J3HJ...</td>\n",
       "      <td>Video Games</td>\n",
       "      <td></td>\n",
       "      <td>B01HBAUF56</td>\n",
       "      <td>[https://images-na.ssl-images-amazon.com/image...</td>\n",
       "    </tr>\n",
       "    <tr>\n",
       "      <th>84690</th>\n",
       "      <td>Video Games,Kids &amp; Family,Nintendo 3DS,Games</td>\n",
       "      <td>Video Games,Kids &amp; Family,Nintendo 3DS,Games</td>\n",
       "      <td>Metroid Prime: Federation Force 3DS Import Japan</td>\n",
       "      <td>[]</td>\n",
       "      <td>Nintendo</td>\n",
       "      <td>[]</td>\n",
       "      <td>[&gt;#51,848 in Video Games (See Top 100 in Video...</td>\n",
       "      <td>[B071X7V8NR, B074NDKDWR, B0792HGXB8, B00DD0B1R...</td>\n",
       "      <td>Video Games</td>\n",
       "      <td></td>\n",
       "      <td>B01HCAW0TE</td>\n",
       "      <td>[https://images-na.ssl-images-amazon.com/image...</td>\n",
       "    </tr>\n",
       "  </tbody>\n",
       "</table>\n",
       "<p>3429 rows × 12 columns</p>\n",
       "</div>"
      ],
      "text/plain": [
       "                                                category  \\\n",
       "2      Video Games,Retro Gaming & Microconsoles,Super...   \n",
       "215    Video Games,Retro Gaming & Microconsoles,Ninte...   \n",
       "247    Video Games,Retro Gaming & Microconsoles,Ninte...   \n",
       "249    Video Games,Retro Gaming & Microconsoles,Ninte...   \n",
       "251    Video Games,Retro Gaming & Microconsoles,Ninte...   \n",
       "...                                                  ...   \n",
       "84537                           Video Games,Wii U,Games,   \n",
       "84553      Video Games,Kids & Family,Nintendo 3DS,Games,   \n",
       "84561                                   Video Games,Wii,   \n",
       "84671       Video Games,Kids & Family,Nintendo 3DS,Games   \n",
       "84690       Video Games,Kids & Family,Nintendo 3DS,Games   \n",
       "\n",
       "                                             description  \\\n",
       "2      Video Games,Retro Gaming & Microconsoles,Super...   \n",
       "215    Video Games,Retro Gaming & Microconsoles,Ninte...   \n",
       "247    Video Games,Retro Gaming & Microconsoles,Ninte...   \n",
       "249    Video Games,Retro Gaming & Microconsoles,Ninte...   \n",
       "251    Video Games,Retro Gaming & Microconsoles,Ninte...   \n",
       "...                                                  ...   \n",
       "84537                           Video Games,Wii U,Games,   \n",
       "84553      Video Games,Kids & Family,Nintendo 3DS,Games,   \n",
       "84561                                   Video Games,Wii,   \n",
       "84671       Video Games,Kids & Family,Nintendo 3DS,Games   \n",
       "84690       Video Games,Kids & Family,Nintendo 3DS,Games   \n",
       "\n",
       "                                                   title  \\\n",
       "2      street fighter 2 II turbo super nintendo snes ...   \n",
       "215                                             Forsaken   \n",
       "247                                    1080 Snowboarding   \n",
       "249                                        Mario Kart 64   \n",
       "251                 The Legend of Zelda: Ocarina of Time   \n",
       "...                                                  ...   \n",
       "84537   Nintendo Boo amiibo (SM Series) - Nintendo Wii U   \n",
       "84553               Mario Party Star Rush - Nintendo 3DS   \n",
       "84561                           Nintendo Pokemon Go Plus   \n",
       "84671                          Beyblade 3DS Japan Import   \n",
       "84690   Metroid Prime: Federation Force 3DS Import Japan   \n",
       "\n",
       "                                                also_buy     brand  \\\n",
       "2                                                     []  Nintendo   \n",
       "215    [B00002STGL, B00002STGQ, B00000JMWB, B00000DMB...  Nintendo   \n",
       "247    [B00002STI2, B00001QES1, B000021Y2Z, B00002STH...  Nintendo   \n",
       "249    [B00002DHEV, B00000F1GM, B0792NTVZ4, B0793J5C1...  Nintendo   \n",
       "251    [B00000F1GM, B00002DHEV, B00000DMAX, B00002STE...  Nintendo   \n",
       "...                                                  ...       ...   \n",
       "84537  [B00S7O6RG2, B071K9MZ6P, B071K9MTPY, B01CKH0W9...  Nintendo   \n",
       "84553  [B00CH9253W, B075M5MCDF, B01AC3ZA0Y, B01LDUYTX...  Nintendo   \n",
       "84561  [B07C7K7JGW, B07HNC7JB9, B07C75329M, B07C7L9D9...  Nintendo   \n",
       "84671  [B07JCM53Y5, B07D3J3HJ9, B06Y6LNFRZ, B07H9L6LH...  Nintendo   \n",
       "84690                                                 []  Nintendo   \n",
       "\n",
       "                                                 feature  \\\n",
       "2                                                     []   \n",
       "215                                           [Nintendo]   \n",
       "247                                                   []   \n",
       "249                                                   []   \n",
       "251                                                   []   \n",
       "...                                                  ...   \n",
       "84537  [Introducing amiibo: character figures designe...   \n",
       "84553  [Break free of turn order, with all players pl...   \n",
       "84561  [The Pokmon GO Plus is a small device that let...   \n",
       "84671                                                 []   \n",
       "84690                                                 []   \n",
       "\n",
       "                                                    rank  \\\n",
       "2      [>#134,433 in Video Games (See Top 100 in Vide...   \n",
       "215    [>#43,237 in Video Games (See Top 100 in Video...   \n",
       "247    [>#7,719 in Video Games (See Top 100 in Video ...   \n",
       "249    [>#891 in Video Games (See Top 100 in Video Ga...   \n",
       "251    [>#1,847 in Video Games (See Top 100 in Video ...   \n",
       "...                                                  ...   \n",
       "84537  [>#8,050 in Video Games (See Top 100 in Video ...   \n",
       "84553  [>#4,040 in Video Games (See Top 100 in Video ...   \n",
       "84561  [>#388 in Video Games (See Top 100 in Video Ga...   \n",
       "84671  [>#7,410 in Video Games (See Top 100 in Video ...   \n",
       "84690  [>#51,848 in Video Games (See Top 100 in Video...   \n",
       "\n",
       "                                               also_view     main_cat  \\\n",
       "2                                                     []  Video Games   \n",
       "215    [B00002STGL, B00000DMAT, B00000DMB3, B00000I1B...  Video Games   \n",
       "247    [B00001QES1, B00002STI2, B00000DMAX, B00000F1G...  Video Games   \n",
       "249    [B00000F1GM, B00002DHEV, B00004VX12, B00000J2W...  Video Games   \n",
       "251    [B00000ID61, B00OVJQD4I, B000JVM256, B00004U1R...  Video Games   \n",
       "...                                                  ...          ...   \n",
       "84537  [B00S7O6R9E, B01LC98QJO, B071K9MZ6P, B071K9MTP...  Video Games   \n",
       "84553  [B075M5MCDF, B0792HGXB8, B00CH9253W, B01AC3ZA0...  Video Games   \n",
       "84561  [B071K63M65, B06Y5BTX8L, B071R3P45V, B07C1MCH3...  Video Games   \n",
       "84671  [B00CP1QC4K, B00CP1Q9LQ, B0732S9YGW, B07D3J3HJ...  Video Games   \n",
       "84690  [B071X7V8NR, B074NDKDWR, B0792HGXB8, B00DD0B1R...  Video Games   \n",
       "\n",
       "      similar_item        asin  \\\n",
       "2                   0276425316   \n",
       "215                 B000006OWT   \n",
       "247                 B00000DMAO   \n",
       "249                 B00000DMAX   \n",
       "251                 B00000DMB3   \n",
       "...            ...         ...   \n",
       "84537               B01H2DKGZQ   \n",
       "84553               B01H3NU4OS   \n",
       "84561               B01H482N6E   \n",
       "84671               B01HBAUF56   \n",
       "84690               B01HCAW0TE   \n",
       "\n",
       "                                                imageURL  \n",
       "2                                                     []  \n",
       "215                                                   []  \n",
       "247    [https://images-na.ssl-images-amazon.com/image...  \n",
       "249    [https://images-na.ssl-images-amazon.com/image...  \n",
       "251    [https://images-na.ssl-images-amazon.com/image...  \n",
       "...                                                  ...  \n",
       "84537                                                 []  \n",
       "84553  [https://images-na.ssl-images-amazon.com/image...  \n",
       "84561  [https://images-na.ssl-images-amazon.com/image...  \n",
       "84671  [https://images-na.ssl-images-amazon.com/image...  \n",
       "84690  [https://images-na.ssl-images-amazon.com/image...  \n",
       "\n",
       "[3429 rows x 12 columns]"
      ]
     },
     "execution_count": 31,
     "metadata": {},
     "output_type": "execute_result"
    }
   ],
   "source": [
    "df_prod.loc[df_prod['brand']=='Nintendo']"
   ]
  },
  {
   "cell_type": "markdown",
   "metadata": {},
   "source": [
    "## Content Based Recommendation System"
   ]
  },
  {
   "cell_type": "markdown",
   "metadata": {},
   "source": [
    "This method uses only information about the description and attributes of the items. This system uses product metadata,"
   ]
  },
  {
   "cell_type": "markdown",
   "metadata": {},
   "source": [
    "###  Based On Categories"
   ]
  },
  {
   "cell_type": "markdown",
   "metadata": {},
   "source": [
    "Give recommendations based on categories"
   ]
  },
  {
   "cell_type": "code",
   "execution_count": 193,
   "metadata": {},
   "outputs": [],
   "source": [
    "# string split the category column by comma\n",
    "df_prod['category'] = df_prod['category'].str.split(',')"
   ]
  },
  {
   "cell_type": "code",
   "execution_count": 194,
   "metadata": {
    "scrolled": true
   },
   "outputs": [
    {
     "data": {
      "text/html": [
       "<div>\n",
       "<style scoped>\n",
       "    .dataframe tbody tr th:only-of-type {\n",
       "        vertical-align: middle;\n",
       "    }\n",
       "\n",
       "    .dataframe tbody tr th {\n",
       "        vertical-align: top;\n",
       "    }\n",
       "\n",
       "    .dataframe thead th {\n",
       "        text-align: right;\n",
       "    }\n",
       "</style>\n",
       "<table border=\"1\" class=\"dataframe\">\n",
       "  <thead>\n",
       "    <tr style=\"text-align: right;\">\n",
       "      <th></th>\n",
       "      <th>category</th>\n",
       "      <th>description</th>\n",
       "      <th>title</th>\n",
       "      <th>also_buy</th>\n",
       "      <th>brand</th>\n",
       "      <th>feature</th>\n",
       "      <th>rank</th>\n",
       "      <th>also_view</th>\n",
       "      <th>main_cat</th>\n",
       "      <th>similar_item</th>\n",
       "      <th>asin</th>\n",
       "      <th>imageURL</th>\n",
       "    </tr>\n",
       "  </thead>\n",
       "  <tbody>\n",
       "    <tr>\n",
       "      <th>0</th>\n",
       "      <td>[Video Games, PC, Games]</td>\n",
       "      <td>Video Games,PC,Games</td>\n",
       "      <td>Reversi Sensory Challenger</td>\n",
       "      <td>[]</td>\n",
       "      <td>Fidelity Electronics</td>\n",
       "      <td>[]</td>\n",
       "      <td>[&gt;#2,623,937 in Toys &amp;amp; Games (See Top 100 ...</td>\n",
       "      <td>[]</td>\n",
       "      <td>Toys &amp;amp; Games</td>\n",
       "      <td></td>\n",
       "      <td>0042000742</td>\n",
       "      <td>[https://images-na.ssl-images-amazon.com/image...</td>\n",
       "    </tr>\n",
       "    <tr>\n",
       "      <th>1</th>\n",
       "      <td>[Video Games, Xbox 360, Games, ]</td>\n",
       "      <td>Video Games,Xbox 360,Games,</td>\n",
       "      <td>Medal of Honor: Warfighter - Includes Battlefi...</td>\n",
       "      <td>[B00PADROYW]</td>\n",
       "      <td>EA Games</td>\n",
       "      <td>[]</td>\n",
       "      <td>[&gt;#67,231 in Video Games (See Top 100 in Video...</td>\n",
       "      <td>[B0050SY5BM, B072NQJCW5, B000TI836G, B002SRSQ7...</td>\n",
       "      <td>Video Games</td>\n",
       "      <td></td>\n",
       "      <td>0078764343</td>\n",
       "      <td>[https://images-na.ssl-images-amazon.com/image...</td>\n",
       "    </tr>\n",
       "    <tr>\n",
       "      <th>2</th>\n",
       "      <td>[Video Games, Retro Gaming &amp; Microconsoles, Su...</td>\n",
       "      <td>Video Games,Retro Gaming &amp; Microconsoles,Super...</td>\n",
       "      <td>street fighter 2 II turbo super nintendo snes ...</td>\n",
       "      <td>[]</td>\n",
       "      <td>Nintendo</td>\n",
       "      <td>[]</td>\n",
       "      <td>[&gt;#134,433 in Video Games (See Top 100 in Vide...</td>\n",
       "      <td>[]</td>\n",
       "      <td>Video Games</td>\n",
       "      <td></td>\n",
       "      <td>0276425316</td>\n",
       "      <td>[]</td>\n",
       "    </tr>\n",
       "    <tr>\n",
       "      <th>3</th>\n",
       "      <td>[Video Games, Xbox 360, Accessories, Controlle...</td>\n",
       "      <td>Video Games,Xbox 360,Accessories,Controllers,J...</td>\n",
       "      <td>Xbox 360 MAS STICK</td>\n",
       "      <td>[]</td>\n",
       "      <td>MAS SYSTEMS</td>\n",
       "      <td>[Original PCB used from Xbox 360 Control Pad (...</td>\n",
       "      <td>[&gt;#105,263 in Video Games (See Top 100 in Vide...</td>\n",
       "      <td>[]</td>\n",
       "      <td>Video Games</td>\n",
       "      <td></td>\n",
       "      <td>0324411812</td>\n",
       "      <td>[https://images-na.ssl-images-amazon.com/image...</td>\n",
       "    </tr>\n",
       "    <tr>\n",
       "      <th>4</th>\n",
       "      <td>[Video Games, PC, Games, , Grades 2-12, Spelli...</td>\n",
       "      <td>Video Games,PC,Games,,Grades 2-12,Spelling Pro...</td>\n",
       "      <td>Phonics Alive! 3: The Speller</td>\n",
       "      <td>[]</td>\n",
       "      <td>Advanced Software Pty. Ltd.</td>\n",
       "      <td>[Grades 2-12, Spelling Program, Teaches Spelli...</td>\n",
       "      <td>[&gt;#92,397 in Video Games (See Top 100 in Video...</td>\n",
       "      <td>[B000BCZ7U0]</td>\n",
       "      <td>Video Games</td>\n",
       "      <td></td>\n",
       "      <td>0439335310</td>\n",
       "      <td>[https://images-na.ssl-images-amazon.com/image...</td>\n",
       "    </tr>\n",
       "    <tr>\n",
       "      <th>...</th>\n",
       "      <td>...</td>\n",
       "      <td>...</td>\n",
       "      <td>...</td>\n",
       "      <td>...</td>\n",
       "      <td>...</td>\n",
       "      <td>...</td>\n",
       "      <td>...</td>\n",
       "      <td>...</td>\n",
       "      <td>...</td>\n",
       "      <td>...</td>\n",
       "      <td>...</td>\n",
       "      <td>...</td>\n",
       "    </tr>\n",
       "    <tr>\n",
       "      <th>84814</th>\n",
       "      <td>[Video Games, PlayStation Vita, Digital Games ...</td>\n",
       "      <td>Video Games,PlayStation Vita,Digital Games &amp; D...</td>\n",
       "      <td>Lego Star Wars: The Force Awakens - PS Vita [D...</td>\n",
       "      <td>[]</td>\n",
       "      <td>Warner Bros.</td>\n",
       "      <td>[]</td>\n",
       "      <td>[&gt;#74,224 in Video Games (See Top 100 in Video...</td>\n",
       "      <td>[]</td>\n",
       "      <td>Video Games</td>\n",
       "      <td></td>\n",
       "      <td>B01HJ1521Y</td>\n",
       "      <td>[]</td>\n",
       "    </tr>\n",
       "    <tr>\n",
       "      <th>84815</th>\n",
       "      <td>[Video Games, PlayStation 4, Digital Games &amp; D...</td>\n",
       "      <td>Video Games,PlayStation 4,Digital Games &amp; DLC,...</td>\n",
       "      <td>Lego Star Wars: The Force Awakens  Season Pass...</td>\n",
       "      <td>[]</td>\n",
       "      <td>Warner Bros.</td>\n",
       "      <td>[DLC Requires base game]</td>\n",
       "      <td>[&gt;#62,150 in Video Games (See Top 100 in Video...</td>\n",
       "      <td>[]</td>\n",
       "      <td>Video Games</td>\n",
       "      <td></td>\n",
       "      <td>B01HJ14TTA</td>\n",
       "      <td>[]</td>\n",
       "    </tr>\n",
       "    <tr>\n",
       "      <th>84816</th>\n",
       "      <td>[Video Games, PlayStation 4, Digital Games &amp; D...</td>\n",
       "      <td>Video Games,PlayStation 4,Digital Games &amp; DLC,...</td>\n",
       "      <td>The Technomancer - PS4 [Digital Code]</td>\n",
       "      <td>[]</td>\n",
       "      <td>Focus Home Interactive</td>\n",
       "      <td>[]</td>\n",
       "      <td>[&gt;#94,234 in Video Games (See Top 100 in Video...</td>\n",
       "      <td>[]</td>\n",
       "      <td>Video Games</td>\n",
       "      <td></td>\n",
       "      <td>B01HJ14OT0</td>\n",
       "      <td>[https://images-na.ssl-images-amazon.com/image...</td>\n",
       "    </tr>\n",
       "    <tr>\n",
       "      <th>84817</th>\n",
       "      <td>[Video Games, Xbox 360, Accessories, ]</td>\n",
       "      <td>Video Games,Xbox 360,Accessories,</td>\n",
       "      <td>Repair T8 T6 Tools for XBOX One Xbox 360, YTTL...</td>\n",
       "      <td>[B01KBNB7K2, B06X6JSYPC, B01N6Y0Z7W, B06VXD2W5...</td>\n",
       "      <td>YTTL</td>\n",
       "      <td>[If you want to Replacement you Xbox one /360 ...</td>\n",
       "      <td>[&gt;#16,087 in Video Games (See Top 100 in Video...</td>\n",
       "      <td>[B01KH25ZY6, B00PG8SU26, B07G122BVS, B016XLTQP...</td>\n",
       "      <td>Video Games</td>\n",
       "      <td></td>\n",
       "      <td>B01HJC33WS</td>\n",
       "      <td>[https://images-na.ssl-images-amazon.com/image...</td>\n",
       "    </tr>\n",
       "    <tr>\n",
       "      <th>84818</th>\n",
       "      <td>[Video Games, PC, Accessories, Gaming Mice]</td>\n",
       "      <td>Video Games,PC,Accessories,Gaming Mice</td>\n",
       "      <td>Zelotes 4000 DPI Programmable Gaming Mouse for...</td>\n",
       "      <td>[]</td>\n",
       "      <td>Zelotes</td>\n",
       "      <td>[Customize DPI Switch: 1000/1500/2000/4000,the...</td>\n",
       "      <td>[&gt;#434 in Computers &amp; Accessories &gt; Computer A...</td>\n",
       "      <td>[B016ZF77OA, B00GU8W5AE, B00E64DTDQ, B074TF6XV...</td>\n",
       "      <td>Computers</td>\n",
       "      <td></td>\n",
       "      <td>B01HJEBIAA</td>\n",
       "      <td>[https://images-na.ssl-images-amazon.com/image...</td>\n",
       "    </tr>\n",
       "  </tbody>\n",
       "</table>\n",
       "<p>84819 rows × 12 columns</p>\n",
       "</div>"
      ],
      "text/plain": [
       "                                                category  \\\n",
       "0                               [Video Games, PC, Games]   \n",
       "1                       [Video Games, Xbox 360, Games, ]   \n",
       "2      [Video Games, Retro Gaming & Microconsoles, Su...   \n",
       "3      [Video Games, Xbox 360, Accessories, Controlle...   \n",
       "4      [Video Games, PC, Games, , Grades 2-12, Spelli...   \n",
       "...                                                  ...   \n",
       "84814  [Video Games, PlayStation Vita, Digital Games ...   \n",
       "84815  [Video Games, PlayStation 4, Digital Games & D...   \n",
       "84816  [Video Games, PlayStation 4, Digital Games & D...   \n",
       "84817             [Video Games, Xbox 360, Accessories, ]   \n",
       "84818        [Video Games, PC, Accessories, Gaming Mice]   \n",
       "\n",
       "                                             description  \\\n",
       "0                                   Video Games,PC,Games   \n",
       "1                            Video Games,Xbox 360,Games,   \n",
       "2      Video Games,Retro Gaming & Microconsoles,Super...   \n",
       "3      Video Games,Xbox 360,Accessories,Controllers,J...   \n",
       "4      Video Games,PC,Games,,Grades 2-12,Spelling Pro...   \n",
       "...                                                  ...   \n",
       "84814  Video Games,PlayStation Vita,Digital Games & D...   \n",
       "84815  Video Games,PlayStation 4,Digital Games & DLC,...   \n",
       "84816  Video Games,PlayStation 4,Digital Games & DLC,...   \n",
       "84817                  Video Games,Xbox 360,Accessories,   \n",
       "84818             Video Games,PC,Accessories,Gaming Mice   \n",
       "\n",
       "                                                   title  \\\n",
       "0                             Reversi Sensory Challenger   \n",
       "1      Medal of Honor: Warfighter - Includes Battlefi...   \n",
       "2      street fighter 2 II turbo super nintendo snes ...   \n",
       "3                                     Xbox 360 MAS STICK   \n",
       "4                          Phonics Alive! 3: The Speller   \n",
       "...                                                  ...   \n",
       "84814  Lego Star Wars: The Force Awakens - PS Vita [D...   \n",
       "84815  Lego Star Wars: The Force Awakens  Season Pass...   \n",
       "84816              The Technomancer - PS4 [Digital Code]   \n",
       "84817  Repair T8 T6 Tools for XBOX One Xbox 360, YTTL...   \n",
       "84818  Zelotes 4000 DPI Programmable Gaming Mouse for...   \n",
       "\n",
       "                                                also_buy  \\\n",
       "0                                                     []   \n",
       "1                                           [B00PADROYW]   \n",
       "2                                                     []   \n",
       "3                                                     []   \n",
       "4                                                     []   \n",
       "...                                                  ...   \n",
       "84814                                                 []   \n",
       "84815                                                 []   \n",
       "84816                                                 []   \n",
       "84817  [B01KBNB7K2, B06X6JSYPC, B01N6Y0Z7W, B06VXD2W5...   \n",
       "84818                                                 []   \n",
       "\n",
       "                             brand  \\\n",
       "0             Fidelity Electronics   \n",
       "1                         EA Games   \n",
       "2                         Nintendo   \n",
       "3                      MAS SYSTEMS   \n",
       "4      Advanced Software Pty. Ltd.   \n",
       "...                            ...   \n",
       "84814                 Warner Bros.   \n",
       "84815                 Warner Bros.   \n",
       "84816       Focus Home Interactive   \n",
       "84817                         YTTL   \n",
       "84818                      Zelotes   \n",
       "\n",
       "                                                 feature  \\\n",
       "0                                                     []   \n",
       "1                                                     []   \n",
       "2                                                     []   \n",
       "3      [Original PCB used from Xbox 360 Control Pad (...   \n",
       "4      [Grades 2-12, Spelling Program, Teaches Spelli...   \n",
       "...                                                  ...   \n",
       "84814                                                 []   \n",
       "84815                           [DLC Requires base game]   \n",
       "84816                                                 []   \n",
       "84817  [If you want to Replacement you Xbox one /360 ...   \n",
       "84818  [Customize DPI Switch: 1000/1500/2000/4000,the...   \n",
       "\n",
       "                                                    rank  \\\n",
       "0      [>#2,623,937 in Toys &amp; Games (See Top 100 ...   \n",
       "1      [>#67,231 in Video Games (See Top 100 in Video...   \n",
       "2      [>#134,433 in Video Games (See Top 100 in Vide...   \n",
       "3      [>#105,263 in Video Games (See Top 100 in Vide...   \n",
       "4      [>#92,397 in Video Games (See Top 100 in Video...   \n",
       "...                                                  ...   \n",
       "84814  [>#74,224 in Video Games (See Top 100 in Video...   \n",
       "84815  [>#62,150 in Video Games (See Top 100 in Video...   \n",
       "84816  [>#94,234 in Video Games (See Top 100 in Video...   \n",
       "84817  [>#16,087 in Video Games (See Top 100 in Video...   \n",
       "84818  [>#434 in Computers & Accessories > Computer A...   \n",
       "\n",
       "                                               also_view          main_cat  \\\n",
       "0                                                     []  Toys &amp; Games   \n",
       "1      [B0050SY5BM, B072NQJCW5, B000TI836G, B002SRSQ7...       Video Games   \n",
       "2                                                     []       Video Games   \n",
       "3                                                     []       Video Games   \n",
       "4                                           [B000BCZ7U0]       Video Games   \n",
       "...                                                  ...               ...   \n",
       "84814                                                 []       Video Games   \n",
       "84815                                                 []       Video Games   \n",
       "84816                                                 []       Video Games   \n",
       "84817  [B01KH25ZY6, B00PG8SU26, B07G122BVS, B016XLTQP...       Video Games   \n",
       "84818  [B016ZF77OA, B00GU8W5AE, B00E64DTDQ, B074TF6XV...         Computers   \n",
       "\n",
       "      similar_item        asin  \\\n",
       "0                   0042000742   \n",
       "1                   0078764343   \n",
       "2                   0276425316   \n",
       "3                   0324411812   \n",
       "4                   0439335310   \n",
       "...            ...         ...   \n",
       "84814               B01HJ1521Y   \n",
       "84815               B01HJ14TTA   \n",
       "84816               B01HJ14OT0   \n",
       "84817               B01HJC33WS   \n",
       "84818               B01HJEBIAA   \n",
       "\n",
       "                                                imageURL  \n",
       "0      [https://images-na.ssl-images-amazon.com/image...  \n",
       "1      [https://images-na.ssl-images-amazon.com/image...  \n",
       "2                                                     []  \n",
       "3      [https://images-na.ssl-images-amazon.com/image...  \n",
       "4      [https://images-na.ssl-images-amazon.com/image...  \n",
       "...                                                  ...  \n",
       "84814                                                 []  \n",
       "84815                                                 []  \n",
       "84816  [https://images-na.ssl-images-amazon.com/image...  \n",
       "84817  [https://images-na.ssl-images-amazon.com/image...  \n",
       "84818  [https://images-na.ssl-images-amazon.com/image...  \n",
       "\n",
       "[84819 rows x 12 columns]"
      ]
     },
     "execution_count": 194,
     "metadata": {},
     "output_type": "execute_result"
    }
   ],
   "source": [
    "df_prod"
   ]
  },
  {
   "cell_type": "code",
   "execution_count": 35,
   "metadata": {
    "scrolled": false
   },
   "outputs": [
    {
     "data": {
      "text/plain": [
       "Index(['category', 'description', 'title', 'also_buy', 'brand', 'feature',\n",
       "       'rank', 'also_view', 'main_cat', 'similar_item', 'asin', 'imageURL'],\n",
       "      dtype='object')"
      ]
     },
     "execution_count": 35,
     "metadata": {},
     "output_type": "execute_result"
    }
   ],
   "source": [
    "df_prod.columns"
   ]
  },
  {
   "cell_type": "markdown",
   "metadata": {},
   "source": [
    "Try to find some frequent categories except Video Games and Games in catergory column. "
   ]
  },
  {
   "cell_type": "code",
   "execution_count": 195,
   "metadata": {
    "scrolled": true
   },
   "outputs": [],
   "source": [
    "categories_ls = df_prod['category'].to_list()"
   ]
  },
  {
   "cell_type": "code",
   "execution_count": 196,
   "metadata": {
    "scrolled": true
   },
   "outputs": [],
   "source": [
    "flatten_ls = []\n",
    "for ls in categories_ls:\n",
    "    for element in ls:\n",
    "        flatten_ls.append(element)\n",
    "categories = set(flatten_ls)"
   ]
  },
  {
   "cell_type": "code",
   "execution_count": null,
   "metadata": {},
   "outputs": [],
   "source": [
    "# use cloolection.Counter to find number of element in flattern_ls\n",
    "# count = dict(Counter(flatten_ls))\n",
    "# can't run, the list is too large "
   ]
  },
  {
   "cell_type": "code",
   "execution_count": 39,
   "metadata": {
    "scrolled": true
   },
   "outputs": [
    {
     "data": {
      "text/plain": [
       "17244"
      ]
     },
     "execution_count": 39,
     "metadata": {},
     "output_type": "execute_result"
    }
   ],
   "source": [
    "flatten_ls.count('Retro Gaming & Microconsoles')"
   ]
  },
  {
   "cell_type": "markdown",
   "metadata": {},
   "source": []
  },
  {
   "cell_type": "code",
   "execution_count": 305,
   "metadata": {},
   "outputs": [],
   "source": [
    "def check_cat(row, cat):\n",
    "    if cat in row['category']:\n",
    "        return 1\n",
    "    else:\n",
    "        return 0"
   ]
  },
  {
   "cell_type": "code",
   "execution_count": 306,
   "metadata": {},
   "outputs": [],
   "source": [
    "df_prod['is_PC'] = df_prod.apply(check_cat, args=(['PC']), axis=1)"
   ]
  },
  {
   "cell_type": "code",
   "execution_count": 308,
   "metadata": {},
   "outputs": [],
   "source": [
    "df_prod['is_Xbox360'] = df_prod.apply(check_cat, args=(['Xbox 360']), axis=1)"
   ]
  },
  {
   "cell_type": "code",
   "execution_count": 309,
   "metadata": {},
   "outputs": [],
   "source": [
    "df_prod['is_Xboxone'] = df_prod.apply(check_cat, args=(['Xbox One']), axis=1)"
   ]
  },
  {
   "cell_type": "code",
   "execution_count": 310,
   "metadata": {},
   "outputs": [],
   "source": [
    "df_prod['is_PS4'] = df_prod.apply(check_cat, args=(['PlayStation 4']), axis=1)"
   ]
  },
  {
   "cell_type": "code",
   "execution_count": 311,
   "metadata": {},
   "outputs": [],
   "source": [
    "df_prod['is_PS3'] = df_prod.apply(check_cat, args=(['PlayStation 3']), axis=1)"
   ]
  },
  {
   "cell_type": "code",
   "execution_count": 312,
   "metadata": {},
   "outputs": [],
   "source": [
    "df_prod['is_Wii'] = df_prod.apply(check_cat, args=(['Wii']), axis=1)"
   ]
  },
  {
   "cell_type": "code",
   "execution_count": 313,
   "metadata": {},
   "outputs": [],
   "source": [
    "df_prod['is_microconsloes'] = df_prod.apply(check_cat, args=(['Retro Gaming & Microconsoles']), axis=1)"
   ]
  },
  {
   "cell_type": "code",
   "execution_count": 314,
   "metadata": {
    "scrolled": true
   },
   "outputs": [],
   "source": [
    "df_prod['is_accesssories'] = df_prod.apply(check_cat, args=(['Accessories']), axis=1)"
   ]
  },
  {
   "cell_type": "code",
   "execution_count": 315,
   "metadata": {},
   "outputs": [
    {
     "data": {
      "text/plain": [
       "Index(['category', 'description', 'title', 'also_buy', 'brand', 'feature',\n",
       "       'rank', 'also_view', 'main_cat', 'similar_item', 'asin', 'imageURL',\n",
       "       'is_PC', 'is_Xbox360', 'is_Xboxone', 'is_PS4', 'is_PS3', 'is_Wii',\n",
       "       'is_microconsloes', 'is_accesssories'],\n",
       "      dtype='object')"
      ]
     },
     "execution_count": 315,
     "metadata": {},
     "output_type": "execute_result"
    }
   ],
   "source": [
    "df_prod.columns"
   ]
  },
  {
   "cell_type": "code",
   "execution_count": 316,
   "metadata": {},
   "outputs": [
    {
     "data": {
      "text/html": [
       "<div>\n",
       "<style scoped>\n",
       "    .dataframe tbody tr th:only-of-type {\n",
       "        vertical-align: middle;\n",
       "    }\n",
       "\n",
       "    .dataframe tbody tr th {\n",
       "        vertical-align: top;\n",
       "    }\n",
       "\n",
       "    .dataframe thead th {\n",
       "        text-align: right;\n",
       "    }\n",
       "</style>\n",
       "<table border=\"1\" class=\"dataframe\">\n",
       "  <thead>\n",
       "    <tr style=\"text-align: right;\">\n",
       "      <th></th>\n",
       "      <th>category</th>\n",
       "      <th>description</th>\n",
       "      <th>title</th>\n",
       "      <th>also_buy</th>\n",
       "      <th>brand</th>\n",
       "      <th>feature</th>\n",
       "      <th>rank</th>\n",
       "      <th>also_view</th>\n",
       "      <th>main_cat</th>\n",
       "      <th>similar_item</th>\n",
       "      <th>asin</th>\n",
       "      <th>imageURL</th>\n",
       "      <th>is_PC</th>\n",
       "      <th>is_Xbox360</th>\n",
       "      <th>is_Xboxone</th>\n",
       "      <th>is_PS4</th>\n",
       "      <th>is_PS3</th>\n",
       "      <th>is_Wii</th>\n",
       "      <th>is_microconsloes</th>\n",
       "      <th>is_accesssories</th>\n",
       "    </tr>\n",
       "  </thead>\n",
       "  <tbody>\n",
       "    <tr>\n",
       "      <th>0</th>\n",
       "      <td>[Video Games, PC, Games]</td>\n",
       "      <td>Video Games,PC,Games</td>\n",
       "      <td>Reversi Sensory Challenger</td>\n",
       "      <td>[]</td>\n",
       "      <td>Fidelity Electronics</td>\n",
       "      <td>[]</td>\n",
       "      <td>[&gt;#2,623,937 in Toys &amp;amp; Games (See Top 100 ...</td>\n",
       "      <td>[]</td>\n",
       "      <td>Toys &amp;amp; Games</td>\n",
       "      <td></td>\n",
       "      <td>0042000742</td>\n",
       "      <td>[https://images-na.ssl-images-amazon.com/image...</td>\n",
       "      <td>1</td>\n",
       "      <td>0</td>\n",
       "      <td>0</td>\n",
       "      <td>0</td>\n",
       "      <td>0</td>\n",
       "      <td>0</td>\n",
       "      <td>0</td>\n",
       "      <td>0</td>\n",
       "    </tr>\n",
       "    <tr>\n",
       "      <th>1</th>\n",
       "      <td>[Video Games, Xbox 360, Games, ]</td>\n",
       "      <td>Video Games,Xbox 360,Games,</td>\n",
       "      <td>Medal of Honor: Warfighter - Includes Battlefi...</td>\n",
       "      <td>[B00PADROYW]</td>\n",
       "      <td>EA Games</td>\n",
       "      <td>[]</td>\n",
       "      <td>[&gt;#67,231 in Video Games (See Top 100 in Video...</td>\n",
       "      <td>[B0050SY5BM, B072NQJCW5, B000TI836G, B002SRSQ7...</td>\n",
       "      <td>Video Games</td>\n",
       "      <td></td>\n",
       "      <td>0078764343</td>\n",
       "      <td>[https://images-na.ssl-images-amazon.com/image...</td>\n",
       "      <td>0</td>\n",
       "      <td>1</td>\n",
       "      <td>0</td>\n",
       "      <td>0</td>\n",
       "      <td>0</td>\n",
       "      <td>0</td>\n",
       "      <td>0</td>\n",
       "      <td>0</td>\n",
       "    </tr>\n",
       "    <tr>\n",
       "      <th>2</th>\n",
       "      <td>[Video Games, Retro Gaming &amp; Microconsoles, Su...</td>\n",
       "      <td>Video Games,Retro Gaming &amp; Microconsoles,Super...</td>\n",
       "      <td>street fighter 2 II turbo super nintendo snes ...</td>\n",
       "      <td>[]</td>\n",
       "      <td>Nintendo</td>\n",
       "      <td>[]</td>\n",
       "      <td>[&gt;#134,433 in Video Games (See Top 100 in Vide...</td>\n",
       "      <td>[]</td>\n",
       "      <td>Video Games</td>\n",
       "      <td></td>\n",
       "      <td>0276425316</td>\n",
       "      <td>[]</td>\n",
       "      <td>0</td>\n",
       "      <td>0</td>\n",
       "      <td>0</td>\n",
       "      <td>0</td>\n",
       "      <td>0</td>\n",
       "      <td>0</td>\n",
       "      <td>1</td>\n",
       "      <td>0</td>\n",
       "    </tr>\n",
       "    <tr>\n",
       "      <th>3</th>\n",
       "      <td>[Video Games, Xbox 360, Accessories, Controlle...</td>\n",
       "      <td>Video Games,Xbox 360,Accessories,Controllers,J...</td>\n",
       "      <td>Xbox 360 MAS STICK</td>\n",
       "      <td>[]</td>\n",
       "      <td>MAS SYSTEMS</td>\n",
       "      <td>[Original PCB used from Xbox 360 Control Pad (...</td>\n",
       "      <td>[&gt;#105,263 in Video Games (See Top 100 in Vide...</td>\n",
       "      <td>[]</td>\n",
       "      <td>Video Games</td>\n",
       "      <td></td>\n",
       "      <td>0324411812</td>\n",
       "      <td>[https://images-na.ssl-images-amazon.com/image...</td>\n",
       "      <td>0</td>\n",
       "      <td>1</td>\n",
       "      <td>0</td>\n",
       "      <td>0</td>\n",
       "      <td>0</td>\n",
       "      <td>0</td>\n",
       "      <td>0</td>\n",
       "      <td>1</td>\n",
       "    </tr>\n",
       "    <tr>\n",
       "      <th>4</th>\n",
       "      <td>[Video Games, PC, Games, , Grades 2-12, Spelli...</td>\n",
       "      <td>Video Games,PC,Games,,Grades 2-12,Spelling Pro...</td>\n",
       "      <td>Phonics Alive! 3: The Speller</td>\n",
       "      <td>[]</td>\n",
       "      <td>Advanced Software Pty. Ltd.</td>\n",
       "      <td>[Grades 2-12, Spelling Program, Teaches Spelli...</td>\n",
       "      <td>[&gt;#92,397 in Video Games (See Top 100 in Video...</td>\n",
       "      <td>[B000BCZ7U0]</td>\n",
       "      <td>Video Games</td>\n",
       "      <td></td>\n",
       "      <td>0439335310</td>\n",
       "      <td>[https://images-na.ssl-images-amazon.com/image...</td>\n",
       "      <td>1</td>\n",
       "      <td>0</td>\n",
       "      <td>0</td>\n",
       "      <td>0</td>\n",
       "      <td>0</td>\n",
       "      <td>0</td>\n",
       "      <td>0</td>\n",
       "      <td>0</td>\n",
       "    </tr>\n",
       "  </tbody>\n",
       "</table>\n",
       "</div>"
      ],
      "text/plain": [
       "                                            category  \\\n",
       "0                           [Video Games, PC, Games]   \n",
       "1                   [Video Games, Xbox 360, Games, ]   \n",
       "2  [Video Games, Retro Gaming & Microconsoles, Su...   \n",
       "3  [Video Games, Xbox 360, Accessories, Controlle...   \n",
       "4  [Video Games, PC, Games, , Grades 2-12, Spelli...   \n",
       "\n",
       "                                         description  \\\n",
       "0                               Video Games,PC,Games   \n",
       "1                        Video Games,Xbox 360,Games,   \n",
       "2  Video Games,Retro Gaming & Microconsoles,Super...   \n",
       "3  Video Games,Xbox 360,Accessories,Controllers,J...   \n",
       "4  Video Games,PC,Games,,Grades 2-12,Spelling Pro...   \n",
       "\n",
       "                                               title      also_buy  \\\n",
       "0                         Reversi Sensory Challenger            []   \n",
       "1  Medal of Honor: Warfighter - Includes Battlefi...  [B00PADROYW]   \n",
       "2  street fighter 2 II turbo super nintendo snes ...            []   \n",
       "3                                 Xbox 360 MAS STICK            []   \n",
       "4                      Phonics Alive! 3: The Speller            []   \n",
       "\n",
       "                         brand  \\\n",
       "0         Fidelity Electronics   \n",
       "1                     EA Games   \n",
       "2                     Nintendo   \n",
       "3                  MAS SYSTEMS   \n",
       "4  Advanced Software Pty. Ltd.   \n",
       "\n",
       "                                             feature  \\\n",
       "0                                                 []   \n",
       "1                                                 []   \n",
       "2                                                 []   \n",
       "3  [Original PCB used from Xbox 360 Control Pad (...   \n",
       "4  [Grades 2-12, Spelling Program, Teaches Spelli...   \n",
       "\n",
       "                                                rank  \\\n",
       "0  [>#2,623,937 in Toys &amp; Games (See Top 100 ...   \n",
       "1  [>#67,231 in Video Games (See Top 100 in Video...   \n",
       "2  [>#134,433 in Video Games (See Top 100 in Vide...   \n",
       "3  [>#105,263 in Video Games (See Top 100 in Vide...   \n",
       "4  [>#92,397 in Video Games (See Top 100 in Video...   \n",
       "\n",
       "                                           also_view          main_cat  \\\n",
       "0                                                 []  Toys &amp; Games   \n",
       "1  [B0050SY5BM, B072NQJCW5, B000TI836G, B002SRSQ7...       Video Games   \n",
       "2                                                 []       Video Games   \n",
       "3                                                 []       Video Games   \n",
       "4                                       [B000BCZ7U0]       Video Games   \n",
       "\n",
       "  similar_item        asin                                           imageURL  \\\n",
       "0               0042000742  [https://images-na.ssl-images-amazon.com/image...   \n",
       "1               0078764343  [https://images-na.ssl-images-amazon.com/image...   \n",
       "2               0276425316                                                 []   \n",
       "3               0324411812  [https://images-na.ssl-images-amazon.com/image...   \n",
       "4               0439335310  [https://images-na.ssl-images-amazon.com/image...   \n",
       "\n",
       "   is_PC  is_Xbox360  is_Xboxone  is_PS4  is_PS3  is_Wii  is_microconsloes  \\\n",
       "0      1           0           0       0       0       0                 0   \n",
       "1      0           1           0       0       0       0                 0   \n",
       "2      0           0           0       0       0       0                 1   \n",
       "3      0           1           0       0       0       0                 0   \n",
       "4      1           0           0       0       0       0                 0   \n",
       "\n",
       "   is_accesssories  \n",
       "0                0  \n",
       "1                0  \n",
       "2                0  \n",
       "3                1  \n",
       "4                0  "
      ]
     },
     "execution_count": 316,
     "metadata": {},
     "output_type": "execute_result"
    }
   ],
   "source": [
    "df_prod.head()"
   ]
  },
  {
   "cell_type": "code",
   "execution_count": 317,
   "metadata": {},
   "outputs": [],
   "source": [
    "cat_df = pd.DataFrame(data=df_prod.iloc[:,12:].values, index=df_prod['asin'], columns=df_prod.iloc[:,12:].columns)"
   ]
  },
  {
   "cell_type": "code",
   "execution_count": 318,
   "metadata": {},
   "outputs": [
    {
     "data": {
      "text/html": [
       "<div>\n",
       "<style scoped>\n",
       "    .dataframe tbody tr th:only-of-type {\n",
       "        vertical-align: middle;\n",
       "    }\n",
       "\n",
       "    .dataframe tbody tr th {\n",
       "        vertical-align: top;\n",
       "    }\n",
       "\n",
       "    .dataframe thead th {\n",
       "        text-align: right;\n",
       "    }\n",
       "</style>\n",
       "<table border=\"1\" class=\"dataframe\">\n",
       "  <thead>\n",
       "    <tr style=\"text-align: right;\">\n",
       "      <th></th>\n",
       "      <th>is_PC</th>\n",
       "      <th>is_Xbox360</th>\n",
       "      <th>is_Xboxone</th>\n",
       "      <th>is_PS4</th>\n",
       "      <th>is_PS3</th>\n",
       "      <th>is_Wii</th>\n",
       "      <th>is_microconsloes</th>\n",
       "      <th>is_accesssories</th>\n",
       "    </tr>\n",
       "  </thead>\n",
       "  <tbody>\n",
       "    <tr>\n",
       "      <th>0</th>\n",
       "      <td>1</td>\n",
       "      <td>0</td>\n",
       "      <td>0</td>\n",
       "      <td>0</td>\n",
       "      <td>0</td>\n",
       "      <td>0</td>\n",
       "      <td>0</td>\n",
       "      <td>0</td>\n",
       "    </tr>\n",
       "    <tr>\n",
       "      <th>1</th>\n",
       "      <td>0</td>\n",
       "      <td>1</td>\n",
       "      <td>0</td>\n",
       "      <td>0</td>\n",
       "      <td>0</td>\n",
       "      <td>0</td>\n",
       "      <td>0</td>\n",
       "      <td>0</td>\n",
       "    </tr>\n",
       "    <tr>\n",
       "      <th>2</th>\n",
       "      <td>0</td>\n",
       "      <td>0</td>\n",
       "      <td>0</td>\n",
       "      <td>0</td>\n",
       "      <td>0</td>\n",
       "      <td>0</td>\n",
       "      <td>1</td>\n",
       "      <td>0</td>\n",
       "    </tr>\n",
       "    <tr>\n",
       "      <th>3</th>\n",
       "      <td>0</td>\n",
       "      <td>1</td>\n",
       "      <td>0</td>\n",
       "      <td>0</td>\n",
       "      <td>0</td>\n",
       "      <td>0</td>\n",
       "      <td>0</td>\n",
       "      <td>1</td>\n",
       "    </tr>\n",
       "    <tr>\n",
       "      <th>4</th>\n",
       "      <td>1</td>\n",
       "      <td>0</td>\n",
       "      <td>0</td>\n",
       "      <td>0</td>\n",
       "      <td>0</td>\n",
       "      <td>0</td>\n",
       "      <td>0</td>\n",
       "      <td>0</td>\n",
       "    </tr>\n",
       "    <tr>\n",
       "      <th>...</th>\n",
       "      <td>...</td>\n",
       "      <td>...</td>\n",
       "      <td>...</td>\n",
       "      <td>...</td>\n",
       "      <td>...</td>\n",
       "      <td>...</td>\n",
       "      <td>...</td>\n",
       "      <td>...</td>\n",
       "    </tr>\n",
       "    <tr>\n",
       "      <th>84814</th>\n",
       "      <td>0</td>\n",
       "      <td>0</td>\n",
       "      <td>0</td>\n",
       "      <td>0</td>\n",
       "      <td>0</td>\n",
       "      <td>0</td>\n",
       "      <td>0</td>\n",
       "      <td>0</td>\n",
       "    </tr>\n",
       "    <tr>\n",
       "      <th>84815</th>\n",
       "      <td>0</td>\n",
       "      <td>0</td>\n",
       "      <td>0</td>\n",
       "      <td>1</td>\n",
       "      <td>0</td>\n",
       "      <td>0</td>\n",
       "      <td>0</td>\n",
       "      <td>0</td>\n",
       "    </tr>\n",
       "    <tr>\n",
       "      <th>84816</th>\n",
       "      <td>0</td>\n",
       "      <td>0</td>\n",
       "      <td>0</td>\n",
       "      <td>1</td>\n",
       "      <td>0</td>\n",
       "      <td>0</td>\n",
       "      <td>0</td>\n",
       "      <td>0</td>\n",
       "    </tr>\n",
       "    <tr>\n",
       "      <th>84817</th>\n",
       "      <td>0</td>\n",
       "      <td>1</td>\n",
       "      <td>0</td>\n",
       "      <td>0</td>\n",
       "      <td>0</td>\n",
       "      <td>0</td>\n",
       "      <td>0</td>\n",
       "      <td>1</td>\n",
       "    </tr>\n",
       "    <tr>\n",
       "      <th>84818</th>\n",
       "      <td>1</td>\n",
       "      <td>0</td>\n",
       "      <td>0</td>\n",
       "      <td>0</td>\n",
       "      <td>0</td>\n",
       "      <td>0</td>\n",
       "      <td>0</td>\n",
       "      <td>1</td>\n",
       "    </tr>\n",
       "  </tbody>\n",
       "</table>\n",
       "<p>84819 rows × 8 columns</p>\n",
       "</div>"
      ],
      "text/plain": [
       "       is_PC  is_Xbox360  is_Xboxone  is_PS4  is_PS3  is_Wii  \\\n",
       "0          1           0           0       0       0       0   \n",
       "1          0           1           0       0       0       0   \n",
       "2          0           0           0       0       0       0   \n",
       "3          0           1           0       0       0       0   \n",
       "4          1           0           0       0       0       0   \n",
       "...      ...         ...         ...     ...     ...     ...   \n",
       "84814      0           0           0       0       0       0   \n",
       "84815      0           0           0       1       0       0   \n",
       "84816      0           0           0       1       0       0   \n",
       "84817      0           1           0       0       0       0   \n",
       "84818      1           0           0       0       0       0   \n",
       "\n",
       "       is_microconsloes  is_accesssories  \n",
       "0                     0                0  \n",
       "1                     0                0  \n",
       "2                     1                0  \n",
       "3                     0                1  \n",
       "4                     0                0  \n",
       "...                 ...              ...  \n",
       "84814                 0                0  \n",
       "84815                 0                0  \n",
       "84816                 0                0  \n",
       "84817                 0                1  \n",
       "84818                 0                1  \n",
       "\n",
       "[84819 rows x 8 columns]"
      ]
     },
     "execution_count": 318,
     "metadata": {},
     "output_type": "execute_result"
    }
   ],
   "source": [
    "df_prod.iloc[:,12:]"
   ]
  },
  {
   "cell_type": "code",
   "execution_count": 319,
   "metadata": {},
   "outputs": [
    {
     "data": {
      "text/html": [
       "<div>\n",
       "<style scoped>\n",
       "    .dataframe tbody tr th:only-of-type {\n",
       "        vertical-align: middle;\n",
       "    }\n",
       "\n",
       "    .dataframe tbody tr th {\n",
       "        vertical-align: top;\n",
       "    }\n",
       "\n",
       "    .dataframe thead th {\n",
       "        text-align: right;\n",
       "    }\n",
       "</style>\n",
       "<table border=\"1\" class=\"dataframe\">\n",
       "  <thead>\n",
       "    <tr style=\"text-align: right;\">\n",
       "      <th></th>\n",
       "      <th>is_PC</th>\n",
       "      <th>is_Xbox360</th>\n",
       "      <th>is_Xboxone</th>\n",
       "      <th>is_PS4</th>\n",
       "      <th>is_PS3</th>\n",
       "      <th>is_Wii</th>\n",
       "      <th>is_microconsloes</th>\n",
       "      <th>is_accesssories</th>\n",
       "    </tr>\n",
       "    <tr>\n",
       "      <th>asin</th>\n",
       "      <th></th>\n",
       "      <th></th>\n",
       "      <th></th>\n",
       "      <th></th>\n",
       "      <th></th>\n",
       "      <th></th>\n",
       "      <th></th>\n",
       "      <th></th>\n",
       "    </tr>\n",
       "  </thead>\n",
       "  <tbody>\n",
       "    <tr>\n",
       "      <th>0042000742</th>\n",
       "      <td>1</td>\n",
       "      <td>0</td>\n",
       "      <td>0</td>\n",
       "      <td>0</td>\n",
       "      <td>0</td>\n",
       "      <td>0</td>\n",
       "      <td>0</td>\n",
       "      <td>0</td>\n",
       "    </tr>\n",
       "    <tr>\n",
       "      <th>0078764343</th>\n",
       "      <td>0</td>\n",
       "      <td>1</td>\n",
       "      <td>0</td>\n",
       "      <td>0</td>\n",
       "      <td>0</td>\n",
       "      <td>0</td>\n",
       "      <td>0</td>\n",
       "      <td>0</td>\n",
       "    </tr>\n",
       "    <tr>\n",
       "      <th>0276425316</th>\n",
       "      <td>0</td>\n",
       "      <td>0</td>\n",
       "      <td>0</td>\n",
       "      <td>0</td>\n",
       "      <td>0</td>\n",
       "      <td>0</td>\n",
       "      <td>1</td>\n",
       "      <td>0</td>\n",
       "    </tr>\n",
       "    <tr>\n",
       "      <th>0324411812</th>\n",
       "      <td>0</td>\n",
       "      <td>1</td>\n",
       "      <td>0</td>\n",
       "      <td>0</td>\n",
       "      <td>0</td>\n",
       "      <td>0</td>\n",
       "      <td>0</td>\n",
       "      <td>1</td>\n",
       "    </tr>\n",
       "    <tr>\n",
       "      <th>0439335310</th>\n",
       "      <td>1</td>\n",
       "      <td>0</td>\n",
       "      <td>0</td>\n",
       "      <td>0</td>\n",
       "      <td>0</td>\n",
       "      <td>0</td>\n",
       "      <td>0</td>\n",
       "      <td>0</td>\n",
       "    </tr>\n",
       "  </tbody>\n",
       "</table>\n",
       "</div>"
      ],
      "text/plain": [
       "            is_PC  is_Xbox360  is_Xboxone  is_PS4  is_PS3  is_Wii  \\\n",
       "asin                                                                \n",
       "0042000742      1           0           0       0       0       0   \n",
       "0078764343      0           1           0       0       0       0   \n",
       "0276425316      0           0           0       0       0       0   \n",
       "0324411812      0           1           0       0       0       0   \n",
       "0439335310      1           0           0       0       0       0   \n",
       "\n",
       "            is_microconsloes  is_accesssories  \n",
       "asin                                           \n",
       "0042000742                 0                0  \n",
       "0078764343                 0                0  \n",
       "0276425316                 1                0  \n",
       "0324411812                 0                1  \n",
       "0439335310                 0                0  "
      ]
     },
     "execution_count": 319,
     "metadata": {},
     "output_type": "execute_result"
    }
   ],
   "source": [
    "cat_df.head()"
   ]
  },
  {
   "cell_type": "code",
   "execution_count": 320,
   "metadata": {},
   "outputs": [
    {
     "data": {
      "text/plain": [
       "(84819, 8)"
      ]
     },
     "execution_count": 320,
     "metadata": {},
     "output_type": "execute_result"
    }
   ],
   "source": [
    "cat_df.shape"
   ]
  },
  {
   "cell_type": "code",
   "execution_count": 322,
   "metadata": {},
   "outputs": [],
   "source": [
    "cat_matrix = cat_df.values"
   ]
  },
  {
   "cell_type": "code",
   "execution_count": 321,
   "metadata": {
    "scrolled": true
   },
   "outputs": [
    {
     "data": {
      "text/plain": [
       "(84819, 8)"
      ]
     },
     "execution_count": 321,
     "metadata": {},
     "output_type": "execute_result"
    }
   ],
   "source": [
    "cat_matrix.shape"
   ]
  },
  {
   "cell_type": "code",
   "execution_count": 172,
   "metadata": {},
   "outputs": [
    {
     "data": {
      "text/plain": [
       "array([1, 0, 0, 0, 0, 0, 0, 0], dtype=int64)"
      ]
     },
     "execution_count": 172,
     "metadata": {},
     "output_type": "execute_result"
    }
   ],
   "source": [
    "cat_df.loc['0042000742'].values"
   ]
  },
  {
   "cell_type": "code",
   "execution_count": 323,
   "metadata": {},
   "outputs": [],
   "source": [
    "def cos_simi(asin):\n",
    "    product_matrix = cat_df.loc[asin].values\n",
    "    cosine_sim = cosine_similarity(cat_matrix, product_matrix.reshape(1, -1))\n",
    "    return cosine_sim"
   ]
  },
  {
   "cell_type": "code",
   "execution_count": 353,
   "metadata": {},
   "outputs": [
    {
     "data": {
      "text/html": [
       "<div>\n",
       "<style scoped>\n",
       "    .dataframe tbody tr th:only-of-type {\n",
       "        vertical-align: middle;\n",
       "    }\n",
       "\n",
       "    .dataframe tbody tr th {\n",
       "        vertical-align: top;\n",
       "    }\n",
       "\n",
       "    .dataframe thead th {\n",
       "        text-align: right;\n",
       "    }\n",
       "</style>\n",
       "<table border=\"1\" class=\"dataframe\">\n",
       "  <thead>\n",
       "    <tr style=\"text-align: right;\">\n",
       "      <th></th>\n",
       "      <th>asin</th>\n",
       "      <th>title</th>\n",
       "      <th>description</th>\n",
       "      <th>brand</th>\n",
       "      <th>imageURL</th>\n",
       "    </tr>\n",
       "  </thead>\n",
       "  <tbody>\n",
       "    <tr>\n",
       "      <th>0</th>\n",
       "      <td>0042000742</td>\n",
       "      <td>Reversi Sensory Challenger</td>\n",
       "      <td>Video Games,PC,Games</td>\n",
       "      <td>Fidelity Electronics</td>\n",
       "      <td>[https://images-na.ssl-images-amazon.com/image...</td>\n",
       "    </tr>\n",
       "    <tr>\n",
       "      <th>1</th>\n",
       "      <td>0078764343</td>\n",
       "      <td>Medal of Honor: Warfighter - Includes Battlefi...</td>\n",
       "      <td>Video Games,Xbox 360,Games,</td>\n",
       "      <td>EA Games</td>\n",
       "      <td>[https://images-na.ssl-images-amazon.com/image...</td>\n",
       "    </tr>\n",
       "    <tr>\n",
       "      <th>2</th>\n",
       "      <td>0276425316</td>\n",
       "      <td>street fighter 2 II turbo super nintendo snes ...</td>\n",
       "      <td>Video Games,Retro Gaming &amp; Microconsoles,Super...</td>\n",
       "      <td>Nintendo</td>\n",
       "      <td>[]</td>\n",
       "    </tr>\n",
       "    <tr>\n",
       "      <th>3</th>\n",
       "      <td>0324411812</td>\n",
       "      <td>Xbox 360 MAS STICK</td>\n",
       "      <td>Video Games,Xbox 360,Accessories,Controllers,J...</td>\n",
       "      <td>MAS SYSTEMS</td>\n",
       "      <td>[https://images-na.ssl-images-amazon.com/image...</td>\n",
       "    </tr>\n",
       "    <tr>\n",
       "      <th>4</th>\n",
       "      <td>0439335310</td>\n",
       "      <td>Phonics Alive! 3: The Speller</td>\n",
       "      <td>Video Games,PC,Games,,Grades 2-12,Spelling Pro...</td>\n",
       "      <td>Advanced Software Pty. Ltd.</td>\n",
       "      <td>[https://images-na.ssl-images-amazon.com/image...</td>\n",
       "    </tr>\n",
       "  </tbody>\n",
       "</table>\n",
       "</div>"
      ],
      "text/plain": [
       "         asin                                              title  \\\n",
       "0  0042000742                         Reversi Sensory Challenger   \n",
       "1  0078764343  Medal of Honor: Warfighter - Includes Battlefi...   \n",
       "2  0276425316  street fighter 2 II turbo super nintendo snes ...   \n",
       "3  0324411812                                 Xbox 360 MAS STICK   \n",
       "4  0439335310                      Phonics Alive! 3: The Speller   \n",
       "\n",
       "                                         description  \\\n",
       "0                               Video Games,PC,Games   \n",
       "1                        Video Games,Xbox 360,Games,   \n",
       "2  Video Games,Retro Gaming & Microconsoles,Super...   \n",
       "3  Video Games,Xbox 360,Accessories,Controllers,J...   \n",
       "4  Video Games,PC,Games,,Grades 2-12,Spelling Pro...   \n",
       "\n",
       "                         brand  \\\n",
       "0         Fidelity Electronics   \n",
       "1                     EA Games   \n",
       "2                     Nintendo   \n",
       "3                  MAS SYSTEMS   \n",
       "4  Advanced Software Pty. Ltd.   \n",
       "\n",
       "                                            imageURL  \n",
       "0  [https://images-na.ssl-images-amazon.com/image...  \n",
       "1  [https://images-na.ssl-images-amazon.com/image...  \n",
       "2                                                 []  \n",
       "3  [https://images-na.ssl-images-amazon.com/image...  \n",
       "4  [https://images-na.ssl-images-amazon.com/image...  "
      ]
     },
     "execution_count": 353,
     "metadata": {},
     "output_type": "execute_result"
    }
   ],
   "source": [
    "# create a dataframe that only contains essential products information\n",
    "df_just_prod = df_prod[['asin', 'title', 'description', 'brand', 'imageURL']]\n",
    "df_just_prod.head()"
   ]
  },
  {
   "cell_type": "code",
   "execution_count": 382,
   "metadata": {},
   "outputs": [],
   "source": [
    "# build a function returns recommended product based on categories\n",
    "def give_recommendation_cat(asin, num):\n",
    "    matrix = cos_simi(asin)\n",
    "    cos_simi_df = pd.DataFrame(data=matrix, index=df_prod['asin'], columns=['cos_simi'])\n",
    "    cos_simi_df.drop(labels=asin, inplace=True)\n",
    "    top_cos = cos_simi_df.sort_values(by='cos_simi', ascending=False).head(num)\n",
    "    recom_prod = df_just_prod.loc[df_prod['asin'].isin(top_cos.index)]\n",
    "    return recom_prod"
   ]
  },
  {
   "cell_type": "code",
   "execution_count": 383,
   "metadata": {
    "scrolled": false
   },
   "outputs": [
    {
     "data": {
      "text/html": [
       "<div>\n",
       "<style scoped>\n",
       "    .dataframe tbody tr th:only-of-type {\n",
       "        vertical-align: middle;\n",
       "    }\n",
       "\n",
       "    .dataframe tbody tr th {\n",
       "        vertical-align: top;\n",
       "    }\n",
       "\n",
       "    .dataframe thead th {\n",
       "        text-align: right;\n",
       "    }\n",
       "</style>\n",
       "<table border=\"1\" class=\"dataframe\">\n",
       "  <thead>\n",
       "    <tr style=\"text-align: right;\">\n",
       "      <th></th>\n",
       "      <th>asin</th>\n",
       "      <th>title</th>\n",
       "      <th>description</th>\n",
       "      <th>brand</th>\n",
       "      <th>imageURL</th>\n",
       "    </tr>\n",
       "  </thead>\n",
       "  <tbody>\n",
       "    <tr>\n",
       "      <th>32243</th>\n",
       "      <td>B000H1V56U</td>\n",
       "      <td>Talismoon Whisper Fan for Xbox 360, in Blue</td>\n",
       "      <td>Video Games,Xbox 360,,Direct replacement for o...</td>\n",
       "      <td>Talismoon</td>\n",
       "      <td>[https://images-na.ssl-images-amazon.com/image...</td>\n",
       "    </tr>\n",
       "    <tr>\n",
       "      <th>36984</th>\n",
       "      <td>B000XYFY3Q</td>\n",
       "      <td>Devil May Cry 4 Collector's Edition -Xbox 360</td>\n",
       "      <td>Video Games,Xbox 360,Games,</td>\n",
       "      <td>Capcom</td>\n",
       "      <td>[https://images-na.ssl-images-amazon.com/image...</td>\n",
       "    </tr>\n",
       "    <tr>\n",
       "      <th>44896</th>\n",
       "      <td>B002JM22NK</td>\n",
       "      <td>Csi</td>\n",
       "      <td>Video Games,Kids &amp; Family,Xbox 360,Games</td>\n",
       "      <td>Ubisoft</td>\n",
       "      <td>[https://images-na.ssl-images-amazon.com/image...</td>\n",
       "    </tr>\n",
       "    <tr>\n",
       "      <th>52839</th>\n",
       "      <td>B005Z9GNPW</td>\n",
       "      <td>Deadliest Warrior: Ancient Combat - Xbox 360</td>\n",
       "      <td>Video Games,Xbox 360,Games,</td>\n",
       "      <td>345 Games</td>\n",
       "      <td>[https://images-na.ssl-images-amazon.com/image...</td>\n",
       "    </tr>\n",
       "    <tr>\n",
       "      <th>54904</th>\n",
       "      <td>B00836KJEK</td>\n",
       "      <td>&amp;quot;Dollars &amp;quot; skin , Three additional m...</td>\n",
       "      <td>Video Games,Xbox 360,,Xbox 360 controller modd...</td>\n",
       "      <td>SmartsGifts</td>\n",
       "      <td>[https://images-na.ssl-images-amazon.com/image...</td>\n",
       "    </tr>\n",
       "    <tr>\n",
       "      <th>54905</th>\n",
       "      <td>B00836Y5AO</td>\n",
       "      <td>&amp;quot;Skulls Gun&amp;quot; skin , Three additional...</td>\n",
       "      <td>Video Games,Xbox 360,,modded xbox 360 controll...</td>\n",
       "      <td>SmartsGifts</td>\n",
       "      <td>[https://images-na.ssl-images-amazon.com/image...</td>\n",
       "    </tr>\n",
       "    <tr>\n",
       "      <th>58853</th>\n",
       "      <td>B00CBXRIPO</td>\n",
       "      <td>Epic Mickey 2: The Power of Two</td>\n",
       "      <td>Video Games,Xbox 360,Games,</td>\n",
       "      <td>BVI</td>\n",
       "      <td>[]</td>\n",
       "    </tr>\n",
       "    <tr>\n",
       "      <th>61159</th>\n",
       "      <td>B00EYNQLIY</td>\n",
       "      <td>Grand Theft Auto V - Collector's Edition - Xbo...</td>\n",
       "      <td>Video Games,Xbox 360,Games,</td>\n",
       "      <td>Rockstar Games</td>\n",
       "      <td>[https://images-na.ssl-images-amazon.com/image...</td>\n",
       "    </tr>\n",
       "    <tr>\n",
       "      <th>64317</th>\n",
       "      <td>B00HWFCHFW</td>\n",
       "      <td>Outlaws &amp;amp; Rogues Collection - XBOX 360 - T...</td>\n",
       "      <td>Video Games,Xbox 360,Games,</td>\n",
       "      <td>Microsoft</td>\n",
       "      <td>[]</td>\n",
       "    </tr>\n",
       "    <tr>\n",
       "      <th>75541</th>\n",
       "      <td>B010BW9E26</td>\n",
       "      <td>Just Cause 2 - Xbox 360 Digital Code</td>\n",
       "      <td>Video Games,Xbox 360,Digital Games &amp; DLC,Digit...</td>\n",
       "      <td>Square Enix</td>\n",
       "      <td>[https://images-na.ssl-images-amazon.com/image...</td>\n",
       "    </tr>\n",
       "  </tbody>\n",
       "</table>\n",
       "</div>"
      ],
      "text/plain": [
       "             asin                                              title  \\\n",
       "32243  B000H1V56U        Talismoon Whisper Fan for Xbox 360, in Blue   \n",
       "36984  B000XYFY3Q      Devil May Cry 4 Collector's Edition -Xbox 360   \n",
       "44896  B002JM22NK                                                Csi   \n",
       "52839  B005Z9GNPW       Deadliest Warrior: Ancient Combat - Xbox 360   \n",
       "54904  B00836KJEK  &quot;Dollars &quot; skin , Three additional m...   \n",
       "54905  B00836Y5AO  &quot;Skulls Gun&quot; skin , Three additional...   \n",
       "58853  B00CBXRIPO                    Epic Mickey 2: The Power of Two   \n",
       "61159  B00EYNQLIY  Grand Theft Auto V - Collector's Edition - Xbo...   \n",
       "64317  B00HWFCHFW  Outlaws &amp; Rogues Collection - XBOX 360 - T...   \n",
       "75541  B010BW9E26               Just Cause 2 - Xbox 360 Digital Code   \n",
       "\n",
       "                                             description           brand  \\\n",
       "32243  Video Games,Xbox 360,,Direct replacement for o...       Talismoon   \n",
       "36984                        Video Games,Xbox 360,Games,          Capcom   \n",
       "44896           Video Games,Kids & Family,Xbox 360,Games         Ubisoft   \n",
       "52839                        Video Games,Xbox 360,Games,       345 Games   \n",
       "54904  Video Games,Xbox 360,,Xbox 360 controller modd...     SmartsGifts   \n",
       "54905  Video Games,Xbox 360,,modded xbox 360 controll...     SmartsGifts   \n",
       "58853                        Video Games,Xbox 360,Games,             BVI   \n",
       "61159                        Video Games,Xbox 360,Games,  Rockstar Games   \n",
       "64317                        Video Games,Xbox 360,Games,       Microsoft   \n",
       "75541  Video Games,Xbox 360,Digital Games & DLC,Digit...     Square Enix   \n",
       "\n",
       "                                                imageURL  \n",
       "32243  [https://images-na.ssl-images-amazon.com/image...  \n",
       "36984  [https://images-na.ssl-images-amazon.com/image...  \n",
       "44896  [https://images-na.ssl-images-amazon.com/image...  \n",
       "52839  [https://images-na.ssl-images-amazon.com/image...  \n",
       "54904  [https://images-na.ssl-images-amazon.com/image...  \n",
       "54905  [https://images-na.ssl-images-amazon.com/image...  \n",
       "58853                                                 []  \n",
       "61159  [https://images-na.ssl-images-amazon.com/image...  \n",
       "64317                                                 []  \n",
       "75541  [https://images-na.ssl-images-amazon.com/image...  "
      ]
     },
     "execution_count": 383,
     "metadata": {},
     "output_type": "execute_result"
    }
   ],
   "source": [
    "recom = give_recommendation_cat('0078764343', 10)\n",
    "recom"
   ]
  },
  {
   "cell_type": "markdown",
   "metadata": {},
   "source": [
    "### Based On Brand"
   ]
  },
  {
   "cell_type": "markdown",
   "metadata": {},
   "source": [
    "Give recommendations based on brand"
   ]
  },
  {
   "cell_type": "code",
   "execution_count": 365,
   "metadata": {},
   "outputs": [
    {
     "data": {
      "text/html": [
       "<div>\n",
       "<style scoped>\n",
       "    .dataframe tbody tr th:only-of-type {\n",
       "        vertical-align: middle;\n",
       "    }\n",
       "\n",
       "    .dataframe tbody tr th {\n",
       "        vertical-align: top;\n",
       "    }\n",
       "\n",
       "    .dataframe thead th {\n",
       "        text-align: right;\n",
       "    }\n",
       "</style>\n",
       "<table border=\"1\" class=\"dataframe\">\n",
       "  <thead>\n",
       "    <tr style=\"text-align: right;\">\n",
       "      <th></th>\n",
       "      <th>count</th>\n",
       "    </tr>\n",
       "  </thead>\n",
       "  <tbody>\n",
       "    <tr>\n",
       "      <th>unknown</th>\n",
       "      <td>4030</td>\n",
       "    </tr>\n",
       "    <tr>\n",
       "      <th>Nintendo</th>\n",
       "      <td>3429</td>\n",
       "    </tr>\n",
       "    <tr>\n",
       "      <th>Electronic Arts</th>\n",
       "      <td>3259</td>\n",
       "    </tr>\n",
       "    <tr>\n",
       "      <th>Activision</th>\n",
       "      <td>2795</td>\n",
       "    </tr>\n",
       "    <tr>\n",
       "      <th>Sega</th>\n",
       "      <td>2206</td>\n",
       "    </tr>\n",
       "    <tr>\n",
       "      <th>Sony</th>\n",
       "      <td>2125</td>\n",
       "    </tr>\n",
       "    <tr>\n",
       "      <th>Ubisoft</th>\n",
       "      <td>1885</td>\n",
       "    </tr>\n",
       "    <tr>\n",
       "      <th>Microsoft</th>\n",
       "      <td>1416</td>\n",
       "    </tr>\n",
       "    <tr>\n",
       "      <th>Atari</th>\n",
       "      <td>1320</td>\n",
       "    </tr>\n",
       "    <tr>\n",
       "      <th>THQ</th>\n",
       "      <td>1171</td>\n",
       "    </tr>\n",
       "  </tbody>\n",
       "</table>\n",
       "</div>"
      ],
      "text/plain": [
       "                 count\n",
       "unknown           4030\n",
       "Nintendo          3429\n",
       "Electronic Arts   3259\n",
       "Activision        2795\n",
       "Sega              2206\n",
       "Sony              2125\n",
       "Ubisoft           1885\n",
       "Microsoft         1416\n",
       "Atari             1320\n",
       "THQ               1171"
      ]
     },
     "execution_count": 365,
     "metadata": {},
     "output_type": "execute_result"
    }
   ],
   "source": [
    "brand_df.head(10)"
   ]
  },
  {
   "cell_type": "code",
   "execution_count": 389,
   "metadata": {},
   "outputs": [
    {
     "data": {
      "text/html": [
       "<div>\n",
       "<style scoped>\n",
       "    .dataframe tbody tr th:only-of-type {\n",
       "        vertical-align: middle;\n",
       "    }\n",
       "\n",
       "    .dataframe tbody tr th {\n",
       "        vertical-align: top;\n",
       "    }\n",
       "\n",
       "    .dataframe thead th {\n",
       "        text-align: right;\n",
       "    }\n",
       "</style>\n",
       "<table border=\"1\" class=\"dataframe\">\n",
       "  <thead>\n",
       "    <tr style=\"text-align: right;\">\n",
       "      <th></th>\n",
       "      <th>category</th>\n",
       "      <th>description</th>\n",
       "      <th>title</th>\n",
       "      <th>also_buy</th>\n",
       "      <th>brand</th>\n",
       "      <th>feature</th>\n",
       "      <th>rank</th>\n",
       "      <th>also_view</th>\n",
       "      <th>main_cat</th>\n",
       "      <th>similar_item</th>\n",
       "      <th>asin</th>\n",
       "      <th>imageURL</th>\n",
       "      <th>is_PC</th>\n",
       "      <th>is_Xbox360</th>\n",
       "      <th>is_Xboxone</th>\n",
       "      <th>is_PS4</th>\n",
       "      <th>is_PS3</th>\n",
       "      <th>is_Wii</th>\n",
       "      <th>is_microconsloes</th>\n",
       "      <th>is_accesssories</th>\n",
       "    </tr>\n",
       "  </thead>\n",
       "  <tbody>\n",
       "    <tr>\n",
       "      <th>0</th>\n",
       "      <td>[Video Games, PC, Games]</td>\n",
       "      <td>Video Games,PC,Games</td>\n",
       "      <td>Reversi Sensory Challenger</td>\n",
       "      <td>[]</td>\n",
       "      <td>Fidelity Electronics</td>\n",
       "      <td>[]</td>\n",
       "      <td>[&gt;#2,623,937 in Toys &amp;amp; Games (See Top 100 ...</td>\n",
       "      <td>[]</td>\n",
       "      <td>Toys &amp;amp; Games</td>\n",
       "      <td></td>\n",
       "      <td>0042000742</td>\n",
       "      <td>[https://images-na.ssl-images-amazon.com/image...</td>\n",
       "      <td>1</td>\n",
       "      <td>0</td>\n",
       "      <td>0</td>\n",
       "      <td>0</td>\n",
       "      <td>0</td>\n",
       "      <td>0</td>\n",
       "      <td>0</td>\n",
       "      <td>0</td>\n",
       "    </tr>\n",
       "    <tr>\n",
       "      <th>1</th>\n",
       "      <td>[Video Games, Xbox 360, Games, ]</td>\n",
       "      <td>Video Games,Xbox 360,Games,</td>\n",
       "      <td>Medal of Honor: Warfighter - Includes Battlefi...</td>\n",
       "      <td>[B00PADROYW]</td>\n",
       "      <td>Electronic Arts</td>\n",
       "      <td>[]</td>\n",
       "      <td>[&gt;#67,231 in Video Games (See Top 100 in Video...</td>\n",
       "      <td>[B0050SY5BM, B072NQJCW5, B000TI836G, B002SRSQ7...</td>\n",
       "      <td>Video Games</td>\n",
       "      <td></td>\n",
       "      <td>0078764343</td>\n",
       "      <td>[https://images-na.ssl-images-amazon.com/image...</td>\n",
       "      <td>0</td>\n",
       "      <td>1</td>\n",
       "      <td>0</td>\n",
       "      <td>0</td>\n",
       "      <td>0</td>\n",
       "      <td>0</td>\n",
       "      <td>0</td>\n",
       "      <td>0</td>\n",
       "    </tr>\n",
       "    <tr>\n",
       "      <th>2</th>\n",
       "      <td>[Video Games, Retro Gaming &amp; Microconsoles, Su...</td>\n",
       "      <td>Video Games,Retro Gaming &amp; Microconsoles,Super...</td>\n",
       "      <td>street fighter 2 II turbo super nintendo snes ...</td>\n",
       "      <td>[]</td>\n",
       "      <td>Nintendo</td>\n",
       "      <td>[]</td>\n",
       "      <td>[&gt;#134,433 in Video Games (See Top 100 in Vide...</td>\n",
       "      <td>[]</td>\n",
       "      <td>Video Games</td>\n",
       "      <td></td>\n",
       "      <td>0276425316</td>\n",
       "      <td>[]</td>\n",
       "      <td>0</td>\n",
       "      <td>0</td>\n",
       "      <td>0</td>\n",
       "      <td>0</td>\n",
       "      <td>0</td>\n",
       "      <td>0</td>\n",
       "      <td>1</td>\n",
       "      <td>0</td>\n",
       "    </tr>\n",
       "    <tr>\n",
       "      <th>3</th>\n",
       "      <td>[Video Games, Xbox 360, Accessories, Controlle...</td>\n",
       "      <td>Video Games,Xbox 360,Accessories,Controllers,J...</td>\n",
       "      <td>Xbox 360 MAS STICK</td>\n",
       "      <td>[]</td>\n",
       "      <td>MAS SYSTEMS</td>\n",
       "      <td>[Original PCB used from Xbox 360 Control Pad (...</td>\n",
       "      <td>[&gt;#105,263 in Video Games (See Top 100 in Vide...</td>\n",
       "      <td>[]</td>\n",
       "      <td>Video Games</td>\n",
       "      <td></td>\n",
       "      <td>0324411812</td>\n",
       "      <td>[https://images-na.ssl-images-amazon.com/image...</td>\n",
       "      <td>0</td>\n",
       "      <td>1</td>\n",
       "      <td>0</td>\n",
       "      <td>0</td>\n",
       "      <td>0</td>\n",
       "      <td>0</td>\n",
       "      <td>0</td>\n",
       "      <td>1</td>\n",
       "    </tr>\n",
       "    <tr>\n",
       "      <th>4</th>\n",
       "      <td>[Video Games, PC, Games, , Grades 2-12, Spelli...</td>\n",
       "      <td>Video Games,PC,Games,,Grades 2-12,Spelling Pro...</td>\n",
       "      <td>Phonics Alive! 3: The Speller</td>\n",
       "      <td>[]</td>\n",
       "      <td>Advanced Software Pty. Ltd.</td>\n",
       "      <td>[Grades 2-12, Spelling Program, Teaches Spelli...</td>\n",
       "      <td>[&gt;#92,397 in Video Games (See Top 100 in Video...</td>\n",
       "      <td>[B000BCZ7U0]</td>\n",
       "      <td>Video Games</td>\n",
       "      <td></td>\n",
       "      <td>0439335310</td>\n",
       "      <td>[https://images-na.ssl-images-amazon.com/image...</td>\n",
       "      <td>1</td>\n",
       "      <td>0</td>\n",
       "      <td>0</td>\n",
       "      <td>0</td>\n",
       "      <td>0</td>\n",
       "      <td>0</td>\n",
       "      <td>0</td>\n",
       "      <td>0</td>\n",
       "    </tr>\n",
       "  </tbody>\n",
       "</table>\n",
       "</div>"
      ],
      "text/plain": [
       "                                            category  \\\n",
       "0                           [Video Games, PC, Games]   \n",
       "1                   [Video Games, Xbox 360, Games, ]   \n",
       "2  [Video Games, Retro Gaming & Microconsoles, Su...   \n",
       "3  [Video Games, Xbox 360, Accessories, Controlle...   \n",
       "4  [Video Games, PC, Games, , Grades 2-12, Spelli...   \n",
       "\n",
       "                                         description  \\\n",
       "0                               Video Games,PC,Games   \n",
       "1                        Video Games,Xbox 360,Games,   \n",
       "2  Video Games,Retro Gaming & Microconsoles,Super...   \n",
       "3  Video Games,Xbox 360,Accessories,Controllers,J...   \n",
       "4  Video Games,PC,Games,,Grades 2-12,Spelling Pro...   \n",
       "\n",
       "                                               title      also_buy  \\\n",
       "0                         Reversi Sensory Challenger            []   \n",
       "1  Medal of Honor: Warfighter - Includes Battlefi...  [B00PADROYW]   \n",
       "2  street fighter 2 II turbo super nintendo snes ...            []   \n",
       "3                                 Xbox 360 MAS STICK            []   \n",
       "4                      Phonics Alive! 3: The Speller            []   \n",
       "\n",
       "                         brand  \\\n",
       "0         Fidelity Electronics   \n",
       "1              Electronic Arts   \n",
       "2                     Nintendo   \n",
       "3                  MAS SYSTEMS   \n",
       "4  Advanced Software Pty. Ltd.   \n",
       "\n",
       "                                             feature  \\\n",
       "0                                                 []   \n",
       "1                                                 []   \n",
       "2                                                 []   \n",
       "3  [Original PCB used from Xbox 360 Control Pad (...   \n",
       "4  [Grades 2-12, Spelling Program, Teaches Spelli...   \n",
       "\n",
       "                                                rank  \\\n",
       "0  [>#2,623,937 in Toys &amp; Games (See Top 100 ...   \n",
       "1  [>#67,231 in Video Games (See Top 100 in Video...   \n",
       "2  [>#134,433 in Video Games (See Top 100 in Vide...   \n",
       "3  [>#105,263 in Video Games (See Top 100 in Vide...   \n",
       "4  [>#92,397 in Video Games (See Top 100 in Video...   \n",
       "\n",
       "                                           also_view          main_cat  \\\n",
       "0                                                 []  Toys &amp; Games   \n",
       "1  [B0050SY5BM, B072NQJCW5, B000TI836G, B002SRSQ7...       Video Games   \n",
       "2                                                 []       Video Games   \n",
       "3                                                 []       Video Games   \n",
       "4                                       [B000BCZ7U0]       Video Games   \n",
       "\n",
       "  similar_item        asin                                           imageURL  \\\n",
       "0               0042000742  [https://images-na.ssl-images-amazon.com/image...   \n",
       "1               0078764343  [https://images-na.ssl-images-amazon.com/image...   \n",
       "2               0276425316                                                 []   \n",
       "3               0324411812  [https://images-na.ssl-images-amazon.com/image...   \n",
       "4               0439335310  [https://images-na.ssl-images-amazon.com/image...   \n",
       "\n",
       "   is_PC  is_Xbox360  is_Xboxone  is_PS4  is_PS3  is_Wii  is_microconsloes  \\\n",
       "0      1           0           0       0       0       0                 0   \n",
       "1      0           1           0       0       0       0                 0   \n",
       "2      0           0           0       0       0       0                 1   \n",
       "3      0           1           0       0       0       0                 0   \n",
       "4      1           0           0       0       0       0                 0   \n",
       "\n",
       "   is_accesssories  \n",
       "0                0  \n",
       "1                0  \n",
       "2                0  \n",
       "3                1  \n",
       "4                0  "
      ]
     },
     "execution_count": 389,
     "metadata": {},
     "output_type": "execute_result"
    }
   ],
   "source": [
    "df_prod.head()"
   ]
  },
  {
   "cell_type": "code",
   "execution_count": 390,
   "metadata": {},
   "outputs": [],
   "source": [
    "def check_brand(row, brand):\n",
    "    if brand in row['brand']:\n",
    "        return 1\n",
    "    else:\n",
    "        return 0"
   ]
  },
  {
   "cell_type": "code",
   "execution_count": 392,
   "metadata": {
    "scrolled": true
   },
   "outputs": [],
   "source": [
    "df_prod['Nintendo'] = df_prod.apply(check_brand, args=(['Nintendo']), axis=1)"
   ]
  },
  {
   "cell_type": "code",
   "execution_count": 394,
   "metadata": {},
   "outputs": [],
   "source": [
    "df_prod['Electronic Arts'] = df_prod.apply(check_brand, args=(['Electronic Arts']), axis=1)"
   ]
  },
  {
   "cell_type": "code",
   "execution_count": 395,
   "metadata": {},
   "outputs": [],
   "source": [
    "df_prod['Activision'] = df_prod.apply(check_brand, args=(['Activision']), axis=1)"
   ]
  },
  {
   "cell_type": "code",
   "execution_count": 396,
   "metadata": {},
   "outputs": [],
   "source": [
    "df_prod['Sega'] = df_prod.apply(check_brand, args=(['Sega']), axis=1)"
   ]
  },
  {
   "cell_type": "code",
   "execution_count": 397,
   "metadata": {},
   "outputs": [],
   "source": [
    "df_prod['Sony'] = df_prod.apply(check_brand, args=(['Sony']), axis=1)"
   ]
  },
  {
   "cell_type": "code",
   "execution_count": 398,
   "metadata": {},
   "outputs": [],
   "source": [
    "df_prod['Ubisoft'] = df_prod.apply(check_brand, args=(['Ubisoft']), axis=1)"
   ]
  },
  {
   "cell_type": "code",
   "execution_count": 399,
   "metadata": {},
   "outputs": [],
   "source": [
    "df_prod['Microsoft'] = df_prod.apply(check_brand, args=(['Microsoft']), axis=1)"
   ]
  },
  {
   "cell_type": "code",
   "execution_count": 400,
   "metadata": {
    "scrolled": true
   },
   "outputs": [
    {
     "data": {
      "text/html": [
       "<div>\n",
       "<style scoped>\n",
       "    .dataframe tbody tr th:only-of-type {\n",
       "        vertical-align: middle;\n",
       "    }\n",
       "\n",
       "    .dataframe tbody tr th {\n",
       "        vertical-align: top;\n",
       "    }\n",
       "\n",
       "    .dataframe thead th {\n",
       "        text-align: right;\n",
       "    }\n",
       "</style>\n",
       "<table border=\"1\" class=\"dataframe\">\n",
       "  <thead>\n",
       "    <tr style=\"text-align: right;\">\n",
       "      <th></th>\n",
       "      <th>category</th>\n",
       "      <th>description</th>\n",
       "      <th>title</th>\n",
       "      <th>also_buy</th>\n",
       "      <th>brand</th>\n",
       "      <th>feature</th>\n",
       "      <th>rank</th>\n",
       "      <th>also_view</th>\n",
       "      <th>main_cat</th>\n",
       "      <th>similar_item</th>\n",
       "      <th>...</th>\n",
       "      <th>is_Wii</th>\n",
       "      <th>is_microconsloes</th>\n",
       "      <th>is_accesssories</th>\n",
       "      <th>Nintendo</th>\n",
       "      <th>Electronic Arts</th>\n",
       "      <th>Activision</th>\n",
       "      <th>Sega</th>\n",
       "      <th>Sony</th>\n",
       "      <th>Ubisoft</th>\n",
       "      <th>Microsoft</th>\n",
       "    </tr>\n",
       "  </thead>\n",
       "  <tbody>\n",
       "    <tr>\n",
       "      <th>0</th>\n",
       "      <td>[Video Games, PC, Games]</td>\n",
       "      <td>Video Games,PC,Games</td>\n",
       "      <td>Reversi Sensory Challenger</td>\n",
       "      <td>[]</td>\n",
       "      <td>Fidelity Electronics</td>\n",
       "      <td>[]</td>\n",
       "      <td>[&gt;#2,623,937 in Toys &amp;amp; Games (See Top 100 ...</td>\n",
       "      <td>[]</td>\n",
       "      <td>Toys &amp;amp; Games</td>\n",
       "      <td></td>\n",
       "      <td>...</td>\n",
       "      <td>0</td>\n",
       "      <td>0</td>\n",
       "      <td>0</td>\n",
       "      <td>0</td>\n",
       "      <td>0</td>\n",
       "      <td>0</td>\n",
       "      <td>0</td>\n",
       "      <td>0</td>\n",
       "      <td>0</td>\n",
       "      <td>0</td>\n",
       "    </tr>\n",
       "    <tr>\n",
       "      <th>1</th>\n",
       "      <td>[Video Games, Xbox 360, Games, ]</td>\n",
       "      <td>Video Games,Xbox 360,Games,</td>\n",
       "      <td>Medal of Honor: Warfighter - Includes Battlefi...</td>\n",
       "      <td>[B00PADROYW]</td>\n",
       "      <td>Electronic Arts</td>\n",
       "      <td>[]</td>\n",
       "      <td>[&gt;#67,231 in Video Games (See Top 100 in Video...</td>\n",
       "      <td>[B0050SY5BM, B072NQJCW5, B000TI836G, B002SRSQ7...</td>\n",
       "      <td>Video Games</td>\n",
       "      <td></td>\n",
       "      <td>...</td>\n",
       "      <td>0</td>\n",
       "      <td>0</td>\n",
       "      <td>0</td>\n",
       "      <td>0</td>\n",
       "      <td>1</td>\n",
       "      <td>0</td>\n",
       "      <td>0</td>\n",
       "      <td>0</td>\n",
       "      <td>0</td>\n",
       "      <td>0</td>\n",
       "    </tr>\n",
       "    <tr>\n",
       "      <th>2</th>\n",
       "      <td>[Video Games, Retro Gaming &amp; Microconsoles, Su...</td>\n",
       "      <td>Video Games,Retro Gaming &amp; Microconsoles,Super...</td>\n",
       "      <td>street fighter 2 II turbo super nintendo snes ...</td>\n",
       "      <td>[]</td>\n",
       "      <td>Nintendo</td>\n",
       "      <td>[]</td>\n",
       "      <td>[&gt;#134,433 in Video Games (See Top 100 in Vide...</td>\n",
       "      <td>[]</td>\n",
       "      <td>Video Games</td>\n",
       "      <td></td>\n",
       "      <td>...</td>\n",
       "      <td>0</td>\n",
       "      <td>1</td>\n",
       "      <td>0</td>\n",
       "      <td>1</td>\n",
       "      <td>0</td>\n",
       "      <td>0</td>\n",
       "      <td>0</td>\n",
       "      <td>0</td>\n",
       "      <td>0</td>\n",
       "      <td>0</td>\n",
       "    </tr>\n",
       "    <tr>\n",
       "      <th>3</th>\n",
       "      <td>[Video Games, Xbox 360, Accessories, Controlle...</td>\n",
       "      <td>Video Games,Xbox 360,Accessories,Controllers,J...</td>\n",
       "      <td>Xbox 360 MAS STICK</td>\n",
       "      <td>[]</td>\n",
       "      <td>MAS SYSTEMS</td>\n",
       "      <td>[Original PCB used from Xbox 360 Control Pad (...</td>\n",
       "      <td>[&gt;#105,263 in Video Games (See Top 100 in Vide...</td>\n",
       "      <td>[]</td>\n",
       "      <td>Video Games</td>\n",
       "      <td></td>\n",
       "      <td>...</td>\n",
       "      <td>0</td>\n",
       "      <td>0</td>\n",
       "      <td>1</td>\n",
       "      <td>0</td>\n",
       "      <td>0</td>\n",
       "      <td>0</td>\n",
       "      <td>0</td>\n",
       "      <td>0</td>\n",
       "      <td>0</td>\n",
       "      <td>0</td>\n",
       "    </tr>\n",
       "    <tr>\n",
       "      <th>4</th>\n",
       "      <td>[Video Games, PC, Games, , Grades 2-12, Spelli...</td>\n",
       "      <td>Video Games,PC,Games,,Grades 2-12,Spelling Pro...</td>\n",
       "      <td>Phonics Alive! 3: The Speller</td>\n",
       "      <td>[]</td>\n",
       "      <td>Advanced Software Pty. Ltd.</td>\n",
       "      <td>[Grades 2-12, Spelling Program, Teaches Spelli...</td>\n",
       "      <td>[&gt;#92,397 in Video Games (See Top 100 in Video...</td>\n",
       "      <td>[B000BCZ7U0]</td>\n",
       "      <td>Video Games</td>\n",
       "      <td></td>\n",
       "      <td>...</td>\n",
       "      <td>0</td>\n",
       "      <td>0</td>\n",
       "      <td>0</td>\n",
       "      <td>0</td>\n",
       "      <td>0</td>\n",
       "      <td>0</td>\n",
       "      <td>0</td>\n",
       "      <td>0</td>\n",
       "      <td>0</td>\n",
       "      <td>0</td>\n",
       "    </tr>\n",
       "  </tbody>\n",
       "</table>\n",
       "<p>5 rows × 27 columns</p>\n",
       "</div>"
      ],
      "text/plain": [
       "                                            category  \\\n",
       "0                           [Video Games, PC, Games]   \n",
       "1                   [Video Games, Xbox 360, Games, ]   \n",
       "2  [Video Games, Retro Gaming & Microconsoles, Su...   \n",
       "3  [Video Games, Xbox 360, Accessories, Controlle...   \n",
       "4  [Video Games, PC, Games, , Grades 2-12, Spelli...   \n",
       "\n",
       "                                         description  \\\n",
       "0                               Video Games,PC,Games   \n",
       "1                        Video Games,Xbox 360,Games,   \n",
       "2  Video Games,Retro Gaming & Microconsoles,Super...   \n",
       "3  Video Games,Xbox 360,Accessories,Controllers,J...   \n",
       "4  Video Games,PC,Games,,Grades 2-12,Spelling Pro...   \n",
       "\n",
       "                                               title      also_buy  \\\n",
       "0                         Reversi Sensory Challenger            []   \n",
       "1  Medal of Honor: Warfighter - Includes Battlefi...  [B00PADROYW]   \n",
       "2  street fighter 2 II turbo super nintendo snes ...            []   \n",
       "3                                 Xbox 360 MAS STICK            []   \n",
       "4                      Phonics Alive! 3: The Speller            []   \n",
       "\n",
       "                         brand  \\\n",
       "0         Fidelity Electronics   \n",
       "1              Electronic Arts   \n",
       "2                     Nintendo   \n",
       "3                  MAS SYSTEMS   \n",
       "4  Advanced Software Pty. Ltd.   \n",
       "\n",
       "                                             feature  \\\n",
       "0                                                 []   \n",
       "1                                                 []   \n",
       "2                                                 []   \n",
       "3  [Original PCB used from Xbox 360 Control Pad (...   \n",
       "4  [Grades 2-12, Spelling Program, Teaches Spelli...   \n",
       "\n",
       "                                                rank  \\\n",
       "0  [>#2,623,937 in Toys &amp; Games (See Top 100 ...   \n",
       "1  [>#67,231 in Video Games (See Top 100 in Video...   \n",
       "2  [>#134,433 in Video Games (See Top 100 in Vide...   \n",
       "3  [>#105,263 in Video Games (See Top 100 in Vide...   \n",
       "4  [>#92,397 in Video Games (See Top 100 in Video...   \n",
       "\n",
       "                                           also_view          main_cat  \\\n",
       "0                                                 []  Toys &amp; Games   \n",
       "1  [B0050SY5BM, B072NQJCW5, B000TI836G, B002SRSQ7...       Video Games   \n",
       "2                                                 []       Video Games   \n",
       "3                                                 []       Video Games   \n",
       "4                                       [B000BCZ7U0]       Video Games   \n",
       "\n",
       "  similar_item  ... is_Wii is_microconsloes  is_accesssories  Nintendo  \\\n",
       "0               ...      0                0                0         0   \n",
       "1               ...      0                0                0         0   \n",
       "2               ...      0                1                0         1   \n",
       "3               ...      0                0                1         0   \n",
       "4               ...      0                0                0         0   \n",
       "\n",
       "   Electronic Arts  Activision  Sega  Sony  Ubisoft  Microsoft  \n",
       "0                0           0     0     0        0          0  \n",
       "1                1           0     0     0        0          0  \n",
       "2                0           0     0     0        0          0  \n",
       "3                0           0     0     0        0          0  \n",
       "4                0           0     0     0        0          0  \n",
       "\n",
       "[5 rows x 27 columns]"
      ]
     },
     "execution_count": 400,
     "metadata": {},
     "output_type": "execute_result"
    }
   ],
   "source": [
    "df_prod.head()"
   ]
  },
  {
   "cell_type": "code",
   "execution_count": 401,
   "metadata": {},
   "outputs": [
    {
     "data": {
      "text/plain": [
       "Index(['category', 'description', 'title', 'also_buy', 'brand', 'feature',\n",
       "       'rank', 'also_view', 'main_cat', 'similar_item', 'asin', 'imageURL',\n",
       "       'is_PC', 'is_Xbox360', 'is_Xboxone', 'is_PS4', 'is_PS3', 'is_Wii',\n",
       "       'is_microconsloes', 'is_accesssories', 'Nintendo', 'Electronic Arts',\n",
       "       'Activision', 'Sega', 'Sony', 'Ubisoft', 'Microsoft'],\n",
       "      dtype='object')"
      ]
     },
     "execution_count": 401,
     "metadata": {},
     "output_type": "execute_result"
    }
   ],
   "source": [
    "df_prod.columns"
   ]
  },
  {
   "cell_type": "code",
   "execution_count": 404,
   "metadata": {},
   "outputs": [],
   "source": [
    "# create a dataframe contains only brand check\n",
    "brand_df = pd.DataFrame(data=df_prod.iloc[:,20:].values, index=df_prod['asin'], columns=df_prod.iloc[:,20:].columns)"
   ]
  },
  {
   "cell_type": "code",
   "execution_count": 406,
   "metadata": {},
   "outputs": [
    {
     "data": {
      "text/plain": [
       "(84819, 7)"
      ]
     },
     "execution_count": 406,
     "metadata": {},
     "output_type": "execute_result"
    }
   ],
   "source": [
    "brand_df.shape"
   ]
  },
  {
   "cell_type": "code",
   "execution_count": 413,
   "metadata": {},
   "outputs": [],
   "source": [
    "def cos_simi_brand(asin):\n",
    "    product_matrix = brand_df.loc[asin].values\n",
    "    cosine_sim = cosine_similarity(brand_df, product_matrix.reshape(1, -1))\n",
    "    return cosine_sim"
   ]
  },
  {
   "cell_type": "code",
   "execution_count": 415,
   "metadata": {
    "scrolled": true
   },
   "outputs": [],
   "source": [
    "def give_recommendation_brand(asin, num):\n",
    "    matrix = cos_simi_brand(asin)\n",
    "    cos_simi_df = pd.DataFrame(data=matrix, index=df_prod['asin'], columns=['cos_simi'])\n",
    "    cos_simi_df.drop(labels=asin, inplace=True)\n",
    "    top_cos = cos_simi_df.sort_values(by='cos_simi', ascending=False).head(num)\n",
    "    recom_prod = df_just_prod.loc[df_prod['asin'].isin(top_cos.index)]\n",
    "    return recom_prod"
   ]
  },
  {
   "cell_type": "code",
   "execution_count": 416,
   "metadata": {
    "scrolled": false
   },
   "outputs": [
    {
     "data": {
      "text/html": [
       "<div>\n",
       "<style scoped>\n",
       "    .dataframe tbody tr th:only-of-type {\n",
       "        vertical-align: middle;\n",
       "    }\n",
       "\n",
       "    .dataframe tbody tr th {\n",
       "        vertical-align: top;\n",
       "    }\n",
       "\n",
       "    .dataframe thead th {\n",
       "        text-align: right;\n",
       "    }\n",
       "</style>\n",
       "<table border=\"1\" class=\"dataframe\">\n",
       "  <thead>\n",
       "    <tr style=\"text-align: right;\">\n",
       "      <th></th>\n",
       "      <th>asin</th>\n",
       "      <th>title</th>\n",
       "      <th>description</th>\n",
       "      <th>brand</th>\n",
       "      <th>imageURL</th>\n",
       "    </tr>\n",
       "  </thead>\n",
       "  <tbody>\n",
       "    <tr>\n",
       "      <th>4907</th>\n",
       "      <td>B00004U1U8</td>\n",
       "      <td>NHL '99</td>\n",
       "      <td></td>\n",
       "      <td>Electronic Arts</td>\n",
       "      <td>[https://images-na.ssl-images-amazon.com/image...</td>\n",
       "    </tr>\n",
       "    <tr>\n",
       "      <th>5517</th>\n",
       "      <td>B000050AEA</td>\n",
       "      <td>Madden 2001</td>\n",
       "      <td>Video Games,Retro Gaming &amp; Microconsoles,PlayS...</td>\n",
       "      <td>Electronic Arts</td>\n",
       "      <td>[https://images-na.ssl-images-amazon.com/image...</td>\n",
       "    </tr>\n",
       "    <tr>\n",
       "      <th>17815</th>\n",
       "      <td>B00004U1U8</td>\n",
       "      <td>NHL '99</td>\n",
       "      <td></td>\n",
       "      <td>Electronic Arts</td>\n",
       "      <td>[https://images-na.ssl-images-amazon.com/image...</td>\n",
       "    </tr>\n",
       "    <tr>\n",
       "      <th>18425</th>\n",
       "      <td>B000050AEA</td>\n",
       "      <td>Madden 2001</td>\n",
       "      <td>Video Games,Retro Gaming &amp; Microconsoles,PlayS...</td>\n",
       "      <td>Electronic Arts</td>\n",
       "      <td>[https://images-na.ssl-images-amazon.com/image...</td>\n",
       "    </tr>\n",
       "    <tr>\n",
       "      <th>26972</th>\n",
       "      <td>B0007D9YT8</td>\n",
       "      <td>Battlefield 2</td>\n",
       "      <td>Video Games,PC,Games,</td>\n",
       "      <td>Electronic Arts</td>\n",
       "      <td>[https://images-na.ssl-images-amazon.com/image...</td>\n",
       "    </tr>\n",
       "    <tr>\n",
       "      <th>26975</th>\n",
       "      <td>B0007DFIKM</td>\n",
       "      <td>Rugby 2005 - Xbox</td>\n",
       "      <td>Video Games,Retro Gaming &amp; Microconsoles,Xbox,...</td>\n",
       "      <td>Electronic Arts</td>\n",
       "      <td>[]</td>\n",
       "    </tr>\n",
       "    <tr>\n",
       "      <th>26989</th>\n",
       "      <td>B0007GBBHI</td>\n",
       "      <td>Black &amp;amp; White 2 - PC</td>\n",
       "      <td>Video Games,PC,Games,,Wage massive wars, siege...</td>\n",
       "      <td>Electronic Arts</td>\n",
       "      <td>[https://images-na.ssl-images-amazon.com/image...</td>\n",
       "    </tr>\n",
       "    <tr>\n",
       "      <th>33110</th>\n",
       "      <td>B000JHMJDA</td>\n",
       "      <td>Need for Speed: Carbon - Playstation 3</td>\n",
       "      <td>Video Games,Kids &amp; Family,PlayStation 3,Games,</td>\n",
       "      <td>Electronic Arts</td>\n",
       "      <td>[https://images-na.ssl-images-amazon.com/image...</td>\n",
       "    </tr>\n",
       "    <tr>\n",
       "      <th>38352</th>\n",
       "      <td>B0015PYPUK</td>\n",
       "      <td>Hellgate: London</td>\n",
       "      <td>Video Games,PC,Games,</td>\n",
       "      <td>Electronic Arts</td>\n",
       "      <td>[]</td>\n",
       "    </tr>\n",
       "    <tr>\n",
       "      <th>48373</th>\n",
       "      <td>B004CDBP9G</td>\n",
       "      <td>Alice: Madness Returns - Playstation 3</td>\n",
       "      <td>Video Games,PlayStation 3,Games,</td>\n",
       "      <td>Electronic Arts</td>\n",
       "      <td>[https://images-na.ssl-images-amazon.com/image...</td>\n",
       "    </tr>\n",
       "    <tr>\n",
       "      <th>67940</th>\n",
       "      <td>B00LNKFUC4</td>\n",
       "      <td>Battlefield 4: Dragon's Teeth [Online Game Code]</td>\n",
       "      <td>Video Games,PC,Games,</td>\n",
       "      <td>Electronic Arts</td>\n",
       "      <td>[https://images-na.ssl-images-amazon.com/image...</td>\n",
       "    </tr>\n",
       "    <tr>\n",
       "      <th>67942</th>\n",
       "      <td>B00LNKFY34</td>\n",
       "      <td>Titanfall: Frontier's Edge [Online Game Code]</td>\n",
       "      <td>Video Games,PC,Games,</td>\n",
       "      <td>Electronic Arts</td>\n",
       "      <td>[]</td>\n",
       "    </tr>\n",
       "  </tbody>\n",
       "</table>\n",
       "</div>"
      ],
      "text/plain": [
       "             asin                                             title  \\\n",
       "4907   B00004U1U8                                           NHL '99   \n",
       "5517   B000050AEA                                       Madden 2001   \n",
       "17815  B00004U1U8                                           NHL '99   \n",
       "18425  B000050AEA                                       Madden 2001   \n",
       "26972  B0007D9YT8                                     Battlefield 2   \n",
       "26975  B0007DFIKM                                 Rugby 2005 - Xbox   \n",
       "26989  B0007GBBHI                          Black &amp; White 2 - PC   \n",
       "33110  B000JHMJDA            Need for Speed: Carbon - Playstation 3   \n",
       "38352  B0015PYPUK                                  Hellgate: London   \n",
       "48373  B004CDBP9G            Alice: Madness Returns - Playstation 3   \n",
       "67940  B00LNKFUC4  Battlefield 4: Dragon's Teeth [Online Game Code]   \n",
       "67942  B00LNKFY34     Titanfall: Frontier's Edge [Online Game Code]   \n",
       "\n",
       "                                             description            brand  \\\n",
       "4907                                                      Electronic Arts   \n",
       "5517   Video Games,Retro Gaming & Microconsoles,PlayS...  Electronic Arts   \n",
       "17815                                                     Electronic Arts   \n",
       "18425  Video Games,Retro Gaming & Microconsoles,PlayS...  Electronic Arts   \n",
       "26972                              Video Games,PC,Games,  Electronic Arts   \n",
       "26975  Video Games,Retro Gaming & Microconsoles,Xbox,...  Electronic Arts   \n",
       "26989  Video Games,PC,Games,,Wage massive wars, siege...  Electronic Arts   \n",
       "33110     Video Games,Kids & Family,PlayStation 3,Games,  Electronic Arts   \n",
       "38352                              Video Games,PC,Games,  Electronic Arts   \n",
       "48373                   Video Games,PlayStation 3,Games,  Electronic Arts   \n",
       "67940                              Video Games,PC,Games,  Electronic Arts   \n",
       "67942                              Video Games,PC,Games,  Electronic Arts   \n",
       "\n",
       "                                                imageURL  \n",
       "4907   [https://images-na.ssl-images-amazon.com/image...  \n",
       "5517   [https://images-na.ssl-images-amazon.com/image...  \n",
       "17815  [https://images-na.ssl-images-amazon.com/image...  \n",
       "18425  [https://images-na.ssl-images-amazon.com/image...  \n",
       "26972  [https://images-na.ssl-images-amazon.com/image...  \n",
       "26975                                                 []  \n",
       "26989  [https://images-na.ssl-images-amazon.com/image...  \n",
       "33110  [https://images-na.ssl-images-amazon.com/image...  \n",
       "38352                                                 []  \n",
       "48373  [https://images-na.ssl-images-amazon.com/image...  \n",
       "67940  [https://images-na.ssl-images-amazon.com/image...  \n",
       "67942                                                 []  "
      ]
     },
     "execution_count": 416,
     "metadata": {},
     "output_type": "execute_result"
    }
   ],
   "source": [
    "recom = give_recommendation_brand('0078764343', 10)\n",
    "recom"
   ]
  },
  {
   "cell_type": "markdown",
   "metadata": {},
   "source": [
    "### Trending Products Recommendation"
   ]
  },
  {
   "cell_type": "markdown",
   "metadata": {},
   "source": [
    "Next, I'm going to do some data cleaning on review dataset."
   ]
  },
  {
   "cell_type": "code",
   "execution_count": 67,
   "metadata": {
    "scrolled": true
   },
   "outputs": [
    {
     "data": {
      "text/html": [
       "<div>\n",
       "<style scoped>\n",
       "    .dataframe tbody tr th:only-of-type {\n",
       "        vertical-align: middle;\n",
       "    }\n",
       "\n",
       "    .dataframe tbody tr th {\n",
       "        vertical-align: top;\n",
       "    }\n",
       "\n",
       "    .dataframe thead th {\n",
       "        text-align: right;\n",
       "    }\n",
       "</style>\n",
       "<table border=\"1\" class=\"dataframe\">\n",
       "  <thead>\n",
       "    <tr style=\"text-align: right;\">\n",
       "      <th></th>\n",
       "      <th>overall</th>\n",
       "      <th>verified</th>\n",
       "      <th>reviewTime</th>\n",
       "      <th>reviewerID</th>\n",
       "      <th>asin</th>\n",
       "      <th>reviewerName</th>\n",
       "      <th>reviewText</th>\n",
       "      <th>summary</th>\n",
       "      <th>unixReviewTime</th>\n",
       "      <th>vote</th>\n",
       "      <th>style</th>\n",
       "      <th>image</th>\n",
       "    </tr>\n",
       "  </thead>\n",
       "  <tbody>\n",
       "    <tr>\n",
       "      <th>0</th>\n",
       "      <td>5</td>\n",
       "      <td>True</td>\n",
       "      <td>10 17, 2015</td>\n",
       "      <td>A1HP7NVNPFMA4N</td>\n",
       "      <td>0700026657</td>\n",
       "      <td>Ambrosia075</td>\n",
       "      <td>This game is a bit hard to get the hang of, bu...</td>\n",
       "      <td>but when you do it's great.</td>\n",
       "      <td>1445040000</td>\n",
       "      <td>NaN</td>\n",
       "      <td>NaN</td>\n",
       "      <td>NaN</td>\n",
       "    </tr>\n",
       "    <tr>\n",
       "      <th>1</th>\n",
       "      <td>4</td>\n",
       "      <td>False</td>\n",
       "      <td>07 27, 2015</td>\n",
       "      <td>A1JGAP0185YJI6</td>\n",
       "      <td>0700026657</td>\n",
       "      <td>travis</td>\n",
       "      <td>I played it a while but it was alright. The st...</td>\n",
       "      <td>But in spite of that it was fun, I liked it</td>\n",
       "      <td>1437955200</td>\n",
       "      <td>NaN</td>\n",
       "      <td>NaN</td>\n",
       "      <td>NaN</td>\n",
       "    </tr>\n",
       "    <tr>\n",
       "      <th>2</th>\n",
       "      <td>3</td>\n",
       "      <td>True</td>\n",
       "      <td>02 23, 2015</td>\n",
       "      <td>A1YJWEXHQBWK2B</td>\n",
       "      <td>0700026657</td>\n",
       "      <td>Vincent G. Mezera</td>\n",
       "      <td>ok game.</td>\n",
       "      <td>Three Stars</td>\n",
       "      <td>1424649600</td>\n",
       "      <td>NaN</td>\n",
       "      <td>NaN</td>\n",
       "      <td>NaN</td>\n",
       "    </tr>\n",
       "    <tr>\n",
       "      <th>3</th>\n",
       "      <td>2</td>\n",
       "      <td>True</td>\n",
       "      <td>02 20, 2015</td>\n",
       "      <td>A2204E1TH211HT</td>\n",
       "      <td>0700026657</td>\n",
       "      <td>Grandma KR</td>\n",
       "      <td>found the game a bit too complicated, not what...</td>\n",
       "      <td>Two Stars</td>\n",
       "      <td>1424390400</td>\n",
       "      <td>NaN</td>\n",
       "      <td>NaN</td>\n",
       "      <td>NaN</td>\n",
       "    </tr>\n",
       "    <tr>\n",
       "      <th>4</th>\n",
       "      <td>5</td>\n",
       "      <td>True</td>\n",
       "      <td>12 25, 2014</td>\n",
       "      <td>A2RF5B5H74JLPE</td>\n",
       "      <td>0700026657</td>\n",
       "      <td>jon</td>\n",
       "      <td>great game, I love it and have played it since...</td>\n",
       "      <td>love this game</td>\n",
       "      <td>1419465600</td>\n",
       "      <td>NaN</td>\n",
       "      <td>NaN</td>\n",
       "      <td>NaN</td>\n",
       "    </tr>\n",
       "  </tbody>\n",
       "</table>\n",
       "</div>"
      ],
      "text/plain": [
       "   overall  verified   reviewTime      reviewerID        asin  \\\n",
       "0        5      True  10 17, 2015  A1HP7NVNPFMA4N  0700026657   \n",
       "1        4     False  07 27, 2015  A1JGAP0185YJI6  0700026657   \n",
       "2        3      True  02 23, 2015  A1YJWEXHQBWK2B  0700026657   \n",
       "3        2      True  02 20, 2015  A2204E1TH211HT  0700026657   \n",
       "4        5      True  12 25, 2014  A2RF5B5H74JLPE  0700026657   \n",
       "\n",
       "        reviewerName                                         reviewText  \\\n",
       "0        Ambrosia075  This game is a bit hard to get the hang of, bu...   \n",
       "1             travis  I played it a while but it was alright. The st...   \n",
       "2  Vincent G. Mezera                                           ok game.   \n",
       "3         Grandma KR  found the game a bit too complicated, not what...   \n",
       "4                jon  great game, I love it and have played it since...   \n",
       "\n",
       "                                       summary  unixReviewTime vote style  \\\n",
       "0                  but when you do it's great.      1445040000  NaN   NaN   \n",
       "1  But in spite of that it was fun, I liked it      1437955200  NaN   NaN   \n",
       "2                                  Three Stars      1424649600  NaN   NaN   \n",
       "3                                    Two Stars      1424390400  NaN   NaN   \n",
       "4                               love this game      1419465600  NaN   NaN   \n",
       "\n",
       "  image  \n",
       "0   NaN  \n",
       "1   NaN  \n",
       "2   NaN  \n",
       "3   NaN  \n",
       "4   NaN  "
      ]
     },
     "execution_count": 67,
     "metadata": {},
     "output_type": "execute_result"
    }
   ],
   "source": [
    "df_review.head()"
   ]
  },
  {
   "cell_type": "code",
   "execution_count": 68,
   "metadata": {
    "scrolled": true
   },
   "outputs": [
    {
     "data": {
      "text/html": [
       "<div>\n",
       "<style scoped>\n",
       "    .dataframe tbody tr th:only-of-type {\n",
       "        vertical-align: middle;\n",
       "    }\n",
       "\n",
       "    .dataframe tbody tr th {\n",
       "        vertical-align: top;\n",
       "    }\n",
       "\n",
       "    .dataframe thead th {\n",
       "        text-align: right;\n",
       "    }\n",
       "</style>\n",
       "<table border=\"1\" class=\"dataframe\">\n",
       "  <thead>\n",
       "    <tr style=\"text-align: right;\">\n",
       "      <th></th>\n",
       "      <th>overall</th>\n",
       "      <th>verified</th>\n",
       "      <th>reviewTime</th>\n",
       "      <th>reviewerID</th>\n",
       "      <th>asin</th>\n",
       "      <th>reviewerName</th>\n",
       "      <th>reviewText</th>\n",
       "      <th>summary</th>\n",
       "      <th>unixReviewTime</th>\n",
       "      <th>vote</th>\n",
       "      <th>style</th>\n",
       "      <th>image</th>\n",
       "    </tr>\n",
       "  </thead>\n",
       "  <tbody>\n",
       "    <tr>\n",
       "      <th>0</th>\n",
       "      <td>5</td>\n",
       "      <td>True</td>\n",
       "      <td>10 17, 2015</td>\n",
       "      <td>A1HP7NVNPFMA4N</td>\n",
       "      <td>0700026657</td>\n",
       "      <td>Ambrosia075</td>\n",
       "      <td>This game is a bit hard to get the hang of, bu...</td>\n",
       "      <td>but when you do it's great.</td>\n",
       "      <td>1445040000</td>\n",
       "      <td>NaN</td>\n",
       "      <td>NaN</td>\n",
       "      <td>NaN</td>\n",
       "    </tr>\n",
       "    <tr>\n",
       "      <th>1</th>\n",
       "      <td>4</td>\n",
       "      <td>False</td>\n",
       "      <td>07 27, 2015</td>\n",
       "      <td>A1JGAP0185YJI6</td>\n",
       "      <td>0700026657</td>\n",
       "      <td>travis</td>\n",
       "      <td>I played it a while but it was alright. The st...</td>\n",
       "      <td>But in spite of that it was fun, I liked it</td>\n",
       "      <td>1437955200</td>\n",
       "      <td>NaN</td>\n",
       "      <td>NaN</td>\n",
       "      <td>NaN</td>\n",
       "    </tr>\n",
       "    <tr>\n",
       "      <th>2</th>\n",
       "      <td>3</td>\n",
       "      <td>True</td>\n",
       "      <td>02 23, 2015</td>\n",
       "      <td>A1YJWEXHQBWK2B</td>\n",
       "      <td>0700026657</td>\n",
       "      <td>Vincent G. Mezera</td>\n",
       "      <td>ok game.</td>\n",
       "      <td>Three Stars</td>\n",
       "      <td>1424649600</td>\n",
       "      <td>NaN</td>\n",
       "      <td>NaN</td>\n",
       "      <td>NaN</td>\n",
       "    </tr>\n",
       "    <tr>\n",
       "      <th>3</th>\n",
       "      <td>2</td>\n",
       "      <td>True</td>\n",
       "      <td>02 20, 2015</td>\n",
       "      <td>A2204E1TH211HT</td>\n",
       "      <td>0700026657</td>\n",
       "      <td>Grandma KR</td>\n",
       "      <td>found the game a bit too complicated, not what...</td>\n",
       "      <td>Two Stars</td>\n",
       "      <td>1424390400</td>\n",
       "      <td>NaN</td>\n",
       "      <td>NaN</td>\n",
       "      <td>NaN</td>\n",
       "    </tr>\n",
       "    <tr>\n",
       "      <th>4</th>\n",
       "      <td>5</td>\n",
       "      <td>True</td>\n",
       "      <td>12 25, 2014</td>\n",
       "      <td>A2RF5B5H74JLPE</td>\n",
       "      <td>0700026657</td>\n",
       "      <td>jon</td>\n",
       "      <td>great game, I love it and have played it since...</td>\n",
       "      <td>love this game</td>\n",
       "      <td>1419465600</td>\n",
       "      <td>NaN</td>\n",
       "      <td>NaN</td>\n",
       "      <td>NaN</td>\n",
       "    </tr>\n",
       "    <tr>\n",
       "      <th>...</th>\n",
       "      <td>...</td>\n",
       "      <td>...</td>\n",
       "      <td>...</td>\n",
       "      <td>...</td>\n",
       "      <td>...</td>\n",
       "      <td>...</td>\n",
       "      <td>...</td>\n",
       "      <td>...</td>\n",
       "      <td>...</td>\n",
       "      <td>...</td>\n",
       "      <td>...</td>\n",
       "      <td>...</td>\n",
       "    </tr>\n",
       "    <tr>\n",
       "      <th>497572</th>\n",
       "      <td>4</td>\n",
       "      <td>True</td>\n",
       "      <td>07 1, 2017</td>\n",
       "      <td>AVECM71LSZLC5</td>\n",
       "      <td>B01HGPUTCA</td>\n",
       "      <td>boris teplitskiy</td>\n",
       "      <td>not OEM but good replacement parts</td>\n",
       "      <td>Four Stars</td>\n",
       "      <td>1498867200</td>\n",
       "      <td>NaN</td>\n",
       "      <td>NaN</td>\n",
       "      <td>NaN</td>\n",
       "    </tr>\n",
       "    <tr>\n",
       "      <th>497573</th>\n",
       "      <td>3</td>\n",
       "      <td>True</td>\n",
       "      <td>08 20, 2018</td>\n",
       "      <td>A1RS06313BL6WN</td>\n",
       "      <td>B01HH6JEOC</td>\n",
       "      <td>Tom Stopsign</td>\n",
       "      <td>Okay stuff.</td>\n",
       "      <td>Three Stars</td>\n",
       "      <td>1534723200</td>\n",
       "      <td>NaN</td>\n",
       "      <td>{'Edition:': ' Kids Room', 'Platform:': ' PC O...</td>\n",
       "      <td>NaN</td>\n",
       "    </tr>\n",
       "    <tr>\n",
       "      <th>497574</th>\n",
       "      <td>3</td>\n",
       "      <td>True</td>\n",
       "      <td>08 7, 2017</td>\n",
       "      <td>ACIZ77IGIX2JL</td>\n",
       "      <td>B01HH6JEOC</td>\n",
       "      <td>Era</td>\n",
       "      <td>This does add some kids room things that are v...</td>\n",
       "      <td>Only buy on sale.</td>\n",
       "      <td>1502064000</td>\n",
       "      <td>NaN</td>\n",
       "      <td>{'Edition:': ' Kids Room', 'Platform:': ' PC O...</td>\n",
       "      <td>NaN</td>\n",
       "    </tr>\n",
       "    <tr>\n",
       "      <th>497575</th>\n",
       "      <td>4</td>\n",
       "      <td>False</td>\n",
       "      <td>08 5, 2018</td>\n",
       "      <td>A34GG58TJ1A3SH</td>\n",
       "      <td>B01HIZF7XE</td>\n",
       "      <td>seamonkey10</td>\n",
       "      <td>I think I originally began playing Bioshock se...</td>\n",
       "      <td>It's Okay, Nothing Profound</td>\n",
       "      <td>1533427200</td>\n",
       "      <td>NaN</td>\n",
       "      <td>{'Edition:': ' Collection', 'Platform:': ' Xbo...</td>\n",
       "      <td>NaN</td>\n",
       "    </tr>\n",
       "    <tr>\n",
       "      <th>497576</th>\n",
       "      <td>2</td>\n",
       "      <td>True</td>\n",
       "      <td>03 13, 2018</td>\n",
       "      <td>A6W81WTFK940B</td>\n",
       "      <td>B01HIZGKOE</td>\n",
       "      <td>msam420</td>\n",
       "      <td>The graphics are terrible, it looks like ps2 g...</td>\n",
       "      <td>Not as good as I expected it to be</td>\n",
       "      <td>1520899200</td>\n",
       "      <td>NaN</td>\n",
       "      <td>NaN</td>\n",
       "      <td>NaN</td>\n",
       "    </tr>\n",
       "  </tbody>\n",
       "</table>\n",
       "<p>497577 rows × 12 columns</p>\n",
       "</div>"
      ],
      "text/plain": [
       "        overall  verified   reviewTime      reviewerID        asin  \\\n",
       "0             5      True  10 17, 2015  A1HP7NVNPFMA4N  0700026657   \n",
       "1             4     False  07 27, 2015  A1JGAP0185YJI6  0700026657   \n",
       "2             3      True  02 23, 2015  A1YJWEXHQBWK2B  0700026657   \n",
       "3             2      True  02 20, 2015  A2204E1TH211HT  0700026657   \n",
       "4             5      True  12 25, 2014  A2RF5B5H74JLPE  0700026657   \n",
       "...         ...       ...          ...             ...         ...   \n",
       "497572        4      True   07 1, 2017   AVECM71LSZLC5  B01HGPUTCA   \n",
       "497573        3      True  08 20, 2018  A1RS06313BL6WN  B01HH6JEOC   \n",
       "497574        3      True   08 7, 2017   ACIZ77IGIX2JL  B01HH6JEOC   \n",
       "497575        4     False   08 5, 2018  A34GG58TJ1A3SH  B01HIZF7XE   \n",
       "497576        2      True  03 13, 2018   A6W81WTFK940B  B01HIZGKOE   \n",
       "\n",
       "             reviewerName                                         reviewText  \\\n",
       "0             Ambrosia075  This game is a bit hard to get the hang of, bu...   \n",
       "1                  travis  I played it a while but it was alright. The st...   \n",
       "2       Vincent G. Mezera                                           ok game.   \n",
       "3              Grandma KR  found the game a bit too complicated, not what...   \n",
       "4                     jon  great game, I love it and have played it since...   \n",
       "...                   ...                                                ...   \n",
       "497572   boris teplitskiy                 not OEM but good replacement parts   \n",
       "497573       Tom Stopsign                                        Okay stuff.   \n",
       "497574                Era  This does add some kids room things that are v...   \n",
       "497575        seamonkey10  I think I originally began playing Bioshock se...   \n",
       "497576            msam420  The graphics are terrible, it looks like ps2 g...   \n",
       "\n",
       "                                            summary  unixReviewTime vote  \\\n",
       "0                       but when you do it's great.      1445040000  NaN   \n",
       "1       But in spite of that it was fun, I liked it      1437955200  NaN   \n",
       "2                                       Three Stars      1424649600  NaN   \n",
       "3                                         Two Stars      1424390400  NaN   \n",
       "4                                    love this game      1419465600  NaN   \n",
       "...                                             ...             ...  ...   \n",
       "497572                                   Four Stars      1498867200  NaN   \n",
       "497573                                  Three Stars      1534723200  NaN   \n",
       "497574                            Only buy on sale.      1502064000  NaN   \n",
       "497575                  It's Okay, Nothing Profound      1533427200  NaN   \n",
       "497576           Not as good as I expected it to be      1520899200  NaN   \n",
       "\n",
       "                                                    style image  \n",
       "0                                                     NaN   NaN  \n",
       "1                                                     NaN   NaN  \n",
       "2                                                     NaN   NaN  \n",
       "3                                                     NaN   NaN  \n",
       "4                                                     NaN   NaN  \n",
       "...                                                   ...   ...  \n",
       "497572                                                NaN   NaN  \n",
       "497573  {'Edition:': ' Kids Room', 'Platform:': ' PC O...   NaN  \n",
       "497574  {'Edition:': ' Kids Room', 'Platform:': ' PC O...   NaN  \n",
       "497575  {'Edition:': ' Collection', 'Platform:': ' Xbo...   NaN  \n",
       "497576                                                NaN   NaN  \n",
       "\n",
       "[497577 rows x 12 columns]"
      ]
     },
     "execution_count": 68,
     "metadata": {},
     "output_type": "execute_result"
    }
   ],
   "source": [
    "df_review"
   ]
  },
  {
   "cell_type": "code",
   "execution_count": 69,
   "metadata": {},
   "outputs": [],
   "source": [
    "df_review.drop(['verified', 'reviewTime', 'reviewerName', 'unixReviewTime', 'vote', 'image'], axis=1, inplace=True)"
   ]
  },
  {
   "cell_type": "code",
   "execution_count": 70,
   "metadata": {
    "scrolled": false
   },
   "outputs": [
    {
     "data": {
      "text/html": [
       "<div>\n",
       "<style scoped>\n",
       "    .dataframe tbody tr th:only-of-type {\n",
       "        vertical-align: middle;\n",
       "    }\n",
       "\n",
       "    .dataframe tbody tr th {\n",
       "        vertical-align: top;\n",
       "    }\n",
       "\n",
       "    .dataframe thead th {\n",
       "        text-align: right;\n",
       "    }\n",
       "</style>\n",
       "<table border=\"1\" class=\"dataframe\">\n",
       "  <thead>\n",
       "    <tr style=\"text-align: right;\">\n",
       "      <th></th>\n",
       "      <th>overall</th>\n",
       "      <th>reviewerID</th>\n",
       "      <th>asin</th>\n",
       "      <th>reviewText</th>\n",
       "      <th>summary</th>\n",
       "      <th>style</th>\n",
       "    </tr>\n",
       "  </thead>\n",
       "  <tbody>\n",
       "    <tr>\n",
       "      <th>0</th>\n",
       "      <td>5</td>\n",
       "      <td>A1HP7NVNPFMA4N</td>\n",
       "      <td>0700026657</td>\n",
       "      <td>This game is a bit hard to get the hang of, bu...</td>\n",
       "      <td>but when you do it's great.</td>\n",
       "      <td>NaN</td>\n",
       "    </tr>\n",
       "    <tr>\n",
       "      <th>1</th>\n",
       "      <td>4</td>\n",
       "      <td>A1JGAP0185YJI6</td>\n",
       "      <td>0700026657</td>\n",
       "      <td>I played it a while but it was alright. The st...</td>\n",
       "      <td>But in spite of that it was fun, I liked it</td>\n",
       "      <td>NaN</td>\n",
       "    </tr>\n",
       "    <tr>\n",
       "      <th>2</th>\n",
       "      <td>3</td>\n",
       "      <td>A1YJWEXHQBWK2B</td>\n",
       "      <td>0700026657</td>\n",
       "      <td>ok game.</td>\n",
       "      <td>Three Stars</td>\n",
       "      <td>NaN</td>\n",
       "    </tr>\n",
       "    <tr>\n",
       "      <th>3</th>\n",
       "      <td>2</td>\n",
       "      <td>A2204E1TH211HT</td>\n",
       "      <td>0700026657</td>\n",
       "      <td>found the game a bit too complicated, not what...</td>\n",
       "      <td>Two Stars</td>\n",
       "      <td>NaN</td>\n",
       "    </tr>\n",
       "    <tr>\n",
       "      <th>4</th>\n",
       "      <td>5</td>\n",
       "      <td>A2RF5B5H74JLPE</td>\n",
       "      <td>0700026657</td>\n",
       "      <td>great game, I love it and have played it since...</td>\n",
       "      <td>love this game</td>\n",
       "      <td>NaN</td>\n",
       "    </tr>\n",
       "  </tbody>\n",
       "</table>\n",
       "</div>"
      ],
      "text/plain": [
       "   overall      reviewerID        asin  \\\n",
       "0        5  A1HP7NVNPFMA4N  0700026657   \n",
       "1        4  A1JGAP0185YJI6  0700026657   \n",
       "2        3  A1YJWEXHQBWK2B  0700026657   \n",
       "3        2  A2204E1TH211HT  0700026657   \n",
       "4        5  A2RF5B5H74JLPE  0700026657   \n",
       "\n",
       "                                          reviewText  \\\n",
       "0  This game is a bit hard to get the hang of, bu...   \n",
       "1  I played it a while but it was alright. The st...   \n",
       "2                                           ok game.   \n",
       "3  found the game a bit too complicated, not what...   \n",
       "4  great game, I love it and have played it since...   \n",
       "\n",
       "                                       summary style  \n",
       "0                  but when you do it's great.   NaN  \n",
       "1  But in spite of that it was fun, I liked it   NaN  \n",
       "2                                  Three Stars   NaN  \n",
       "3                                    Two Stars   NaN  \n",
       "4                               love this game   NaN  "
      ]
     },
     "execution_count": 70,
     "metadata": {},
     "output_type": "execute_result"
    }
   ],
   "source": [
    "df_review.head()"
   ]
  },
  {
   "cell_type": "code",
   "execution_count": 71,
   "metadata": {
    "scrolled": true
   },
   "outputs": [
    {
     "name": "stdout",
     "output_type": "stream",
     "text": [
      "<class 'pandas.core.frame.DataFrame'>\n",
      "RangeIndex: 497577 entries, 0 to 497576\n",
      "Data columns (total 6 columns):\n",
      " #   Column      Non-Null Count   Dtype \n",
      "---  ------      --------------   ----- \n",
      " 0   overall     497577 non-null  int64 \n",
      " 1   reviewerID  497577 non-null  object\n",
      " 2   asin        497577 non-null  object\n",
      " 3   reviewText  497419 non-null  object\n",
      " 4   summary     497468 non-null  object\n",
      " 5   style       289237 non-null  object\n",
      "dtypes: int64(1), object(5)\n",
      "memory usage: 22.8+ MB\n"
     ]
    }
   ],
   "source": [
    "df_review.info()"
   ]
  },
  {
   "cell_type": "code",
   "execution_count": 72,
   "metadata": {},
   "outputs": [],
   "source": [
    "df_review['style'].fillna(value='', inplace=True)\n",
    "df_review['reviewText'].fillna(value='', inplace=True)\n",
    "df_review['summary'].fillna(value='', inplace=True)"
   ]
  },
  {
   "cell_type": "code",
   "execution_count": 73,
   "metadata": {},
   "outputs": [],
   "source": [
    "surprise_df = df_review[[ 'reviewerID', 'asin', 'overall']]"
   ]
  },
  {
   "cell_type": "code",
   "execution_count": 74,
   "metadata": {
    "scrolled": false
   },
   "outputs": [
    {
     "name": "stdout",
     "output_type": "stream",
     "text": [
      "<class 'pandas.core.frame.DataFrame'>\n",
      "RangeIndex: 497577 entries, 0 to 497576\n",
      "Data columns (total 3 columns):\n",
      " #   Column      Non-Null Count   Dtype \n",
      "---  ------      --------------   ----- \n",
      " 0   reviewerID  497577 non-null  object\n",
      " 1   asin        497577 non-null  object\n",
      " 2   overall     497577 non-null  int64 \n",
      "dtypes: int64(1), object(2)\n",
      "memory usage: 11.4+ MB\n"
     ]
    }
   ],
   "source": [
    "surprise_df.info()"
   ]
  },
  {
   "cell_type": "code",
   "execution_count": 75,
   "metadata": {
    "scrolled": true
   },
   "outputs": [
    {
     "data": {
      "text/plain": [
       "count    497577.000000\n",
       "mean          4.220456\n",
       "std           1.185424\n",
       "min           1.000000\n",
       "25%           4.000000\n",
       "50%           5.000000\n",
       "75%           5.000000\n",
       "max           5.000000\n",
       "Name: overall, dtype: float64"
      ]
     },
     "execution_count": 75,
     "metadata": {},
     "output_type": "execute_result"
    }
   ],
   "source": [
    "surprise_df.describe()['overall']"
   ]
  },
  {
   "cell_type": "code",
   "execution_count": 76,
   "metadata": {},
   "outputs": [
    {
     "name": "stdout",
     "output_type": "stream",
     "text": [
      "Minimum rating is: 1\n",
      "Maximum rating is: 5\n"
     ]
    }
   ],
   "source": [
    "print('Minimum rating is: %d' %(surprise_df.overall.min()))\n",
    "print('Maximum rating is: %d' %(surprise_df.overall.max()))"
   ]
  },
  {
   "cell_type": "code",
   "execution_count": 77,
   "metadata": {
    "scrolled": false
   },
   "outputs": [
    {
     "data": {
      "image/png": "[encoded data removed]",
      "text/plain": [
       "<Figure size 432x288 with 1 Axes>"
      ]
     },
     "metadata": {
      "needs_background": "light"
     },
     "output_type": "display_data"
    }
   ],
   "source": [
    "plt.hist(surprise_df['overall'])\n",
    "plt.title('Overall Rating Count');"
   ]
  },
  {
   "cell_type": "code",
   "execution_count": 78,
   "metadata": {
    "scrolled": true
   },
   "outputs": [
    {
     "data": {
      "text/plain": [
       "B00178630A    1381\n",
       "B000ZK9QCS     905\n",
       "B000XJNTNS     834\n",
       "B00JK00S0S     783\n",
       "B000ZKA0J6     774\n",
       "              ... \n",
       "B000XJD33E       1\n",
       "B000WZ7OD4       1\n",
       "B000WKW6AU       1\n",
       "B000W2UJ2A       1\n",
       "B000WMJM3W       1\n",
       "Name: asin, Length: 17408, dtype: int64"
      ]
     },
     "execution_count": 78,
     "metadata": {},
     "output_type": "execute_result"
    }
   ],
   "source": [
    "surprise_df['asin'].value_counts()"
   ]
  },
  {
   "cell_type": "markdown",
   "metadata": {},
   "source": [
    "Trending products are the products with highest number of rating. "
   ]
  },
  {
   "cell_type": "code",
   "execution_count": 79,
   "metadata": {
    "scrolled": false
   },
   "outputs": [
    {
     "data": {
      "text/html": [
       "<div>\n",
       "<style scoped>\n",
       "    .dataframe tbody tr th:only-of-type {\n",
       "        vertical-align: middle;\n",
       "    }\n",
       "\n",
       "    .dataframe tbody tr th {\n",
       "        vertical-align: top;\n",
       "    }\n",
       "\n",
       "    .dataframe thead th {\n",
       "        text-align: right;\n",
       "    }\n",
       "</style>\n",
       "<table border=\"1\" class=\"dataframe\">\n",
       "  <thead>\n",
       "    <tr style=\"text-align: right;\">\n",
       "      <th></th>\n",
       "      <th>count</th>\n",
       "      <th>mean</th>\n",
       "      <th>std</th>\n",
       "    </tr>\n",
       "    <tr>\n",
       "      <th>asin</th>\n",
       "      <th></th>\n",
       "      <th></th>\n",
       "      <th></th>\n",
       "    </tr>\n",
       "  </thead>\n",
       "  <tbody>\n",
       "    <tr>\n",
       "      <th>B00178630A</th>\n",
       "      <td>1381</td>\n",
       "      <td>2.824765</td>\n",
       "      <td>1.650119</td>\n",
       "    </tr>\n",
       "    <tr>\n",
       "      <th>B000ZK9QCS</th>\n",
       "      <td>905</td>\n",
       "      <td>4.627624</td>\n",
       "      <td>0.814355</td>\n",
       "    </tr>\n",
       "    <tr>\n",
       "      <th>B000XJNTNS</th>\n",
       "      <td>834</td>\n",
       "      <td>4.631894</td>\n",
       "      <td>0.794634</td>\n",
       "    </tr>\n",
       "    <tr>\n",
       "      <th>B00JK00S0S</th>\n",
       "      <td>783</td>\n",
       "      <td>4.690932</td>\n",
       "      <td>0.863590</td>\n",
       "    </tr>\n",
       "    <tr>\n",
       "      <th>B000ZKA0J6</th>\n",
       "      <td>774</td>\n",
       "      <td>3.560724</td>\n",
       "      <td>1.548962</td>\n",
       "    </tr>\n",
       "    <tr>\n",
       "      <th>B0012N94WO</th>\n",
       "      <td>726</td>\n",
       "      <td>4.174931</td>\n",
       "      <td>1.100961</td>\n",
       "    </tr>\n",
       "    <tr>\n",
       "      <th>B003ZSP0WW</th>\n",
       "      <td>694</td>\n",
       "      <td>4.651297</td>\n",
       "      <td>0.819684</td>\n",
       "    </tr>\n",
       "    <tr>\n",
       "      <th>B00GODZYNA</th>\n",
       "      <td>684</td>\n",
       "      <td>4.644737</td>\n",
       "      <td>0.864690</td>\n",
       "    </tr>\n",
       "    <tr>\n",
       "      <th>B000ZK7ZOE</th>\n",
       "      <td>674</td>\n",
       "      <td>4.461424</td>\n",
       "      <td>0.847597</td>\n",
       "    </tr>\n",
       "    <tr>\n",
       "      <th>B000P46NMA</th>\n",
       "      <td>663</td>\n",
       "      <td>4.126697</td>\n",
       "      <td>1.148595</td>\n",
       "    </tr>\n",
       "  </tbody>\n",
       "</table>\n",
       "</div>"
      ],
      "text/plain": [
       "            count      mean       std\n",
       "asin                                 \n",
       "B00178630A   1381  2.824765  1.650119\n",
       "B000ZK9QCS    905  4.627624  0.814355\n",
       "B000XJNTNS    834  4.631894  0.794634\n",
       "B00JK00S0S    783  4.690932  0.863590\n",
       "B000ZKA0J6    774  3.560724  1.548962\n",
       "B0012N94WO    726  4.174931  1.100961\n",
       "B003ZSP0WW    694  4.651297  0.819684\n",
       "B00GODZYNA    684  4.644737  0.864690\n",
       "B000ZK7ZOE    674  4.461424  0.847597\n",
       "B000P46NMA    663  4.126697  1.148595"
      ]
     },
     "execution_count": 79,
     "metadata": {},
     "output_type": "execute_result"
    }
   ],
   "source": [
    "# most rated products\n",
    "ratings_prod_summary = surprise_df.groupby('asin')['overall'].agg(['count', 'mean', 'std'])\n",
    "most_rated = ratings_prod_summary.sort_values(by='count', ascending=False)\n",
    "most_rated.head(10)"
   ]
  },
  {
   "cell_type": "code",
   "execution_count": 80,
   "metadata": {
    "scrolled": false
   },
   "outputs": [
    {
     "name": "stdout",
     "output_type": "stream",
     "text": [
      "Top selling and rating products: ['B00178630A', 'B000ZK9QCS', 'B000XJNTNS', 'B00JK00S0S', 'B000ZKA0J6', 'B0012N94WO', 'B003ZSP0WW', 'B00GODZYNA', 'B000ZK7ZOE', 'B000P46NMA']\n"
     ]
    }
   ],
   "source": [
    "# trending products recommendation\n",
    "print(f'Top selling and rating products: {most_rated.head(10).index.tolist()}')"
   ]
  },
  {
   "cell_type": "code",
   "execution_count": 82,
   "metadata": {
    "scrolled": false
   },
   "outputs": [
    {
     "data": {
      "text/html": [
       "<div>\n",
       "<style scoped>\n",
       "    .dataframe tbody tr th:only-of-type {\n",
       "        vertical-align: middle;\n",
       "    }\n",
       "\n",
       "    .dataframe tbody tr th {\n",
       "        vertical-align: top;\n",
       "    }\n",
       "\n",
       "    .dataframe thead th {\n",
       "        text-align: right;\n",
       "    }\n",
       "</style>\n",
       "<table border=\"1\" class=\"dataframe\">\n",
       "  <thead>\n",
       "    <tr style=\"text-align: right;\">\n",
       "      <th></th>\n",
       "      <th>asin</th>\n",
       "      <th>title</th>\n",
       "      <th>description</th>\n",
       "      <th>brand</th>\n",
       "      <th>imageURL</th>\n",
       "    </tr>\n",
       "  </thead>\n",
       "  <tbody>\n",
       "    <tr>\n",
       "      <th>34644</th>\n",
       "      <td>B000P46NMA</td>\n",
       "      <td>Assassin's Creed - Playstation 3</td>\n",
       "      <td>Video Games,PlayStation 3,Games,</td>\n",
       "      <td>Ubisoft</td>\n",
       "      <td>[https://images-na.ssl-images-amazon.com/image...</td>\n",
       "    </tr>\n",
       "    <tr>\n",
       "      <th>36938</th>\n",
       "      <td>B000XJNTNS</td>\n",
       "      <td>Mario Kart Wii with Wii Wheel</td>\n",
       "      <td>Video Games,Wii,Accessories,Controllers,Racing...</td>\n",
       "      <td>Nintendo</td>\n",
       "      <td>[https://images-na.ssl-images-amazon.com/image...</td>\n",
       "    </tr>\n",
       "    <tr>\n",
       "      <th>37219</th>\n",
       "      <td>B000ZK7ZOE</td>\n",
       "      <td>inFAMOUS - Playstation 3</td>\n",
       "      <td>Video Games,PlayStation 3,Games,</td>\n",
       "      <td>Sony</td>\n",
       "      <td>[https://images-na.ssl-images-amazon.com/image...</td>\n",
       "    </tr>\n",
       "    <tr>\n",
       "      <th>37225</th>\n",
       "      <td>B000ZK9QCS</td>\n",
       "      <td>God of War III - Playstation 3</td>\n",
       "      <td>Video Games,PlayStation 3,Games,</td>\n",
       "      <td>Sony</td>\n",
       "      <td>[https://images-na.ssl-images-amazon.com/image...</td>\n",
       "    </tr>\n",
       "    <tr>\n",
       "      <th>37226</th>\n",
       "      <td>B000ZKA0J6</td>\n",
       "      <td>StarCraft II: Wings of Liberty</td>\n",
       "      <td>Video Games,PC,Games,</td>\n",
       "      <td>Blizzard Entertainment</td>\n",
       "      <td>[https://images-na.ssl-images-amazon.com/image...</td>\n",
       "    </tr>\n",
       "    <tr>\n",
       "      <th>37754</th>\n",
       "      <td>B0012N94WO</td>\n",
       "      <td>Resident Evil 5 - Playstation 3</td>\n",
       "      <td>Video Games,PlayStation 3,Games,</td>\n",
       "      <td>Capcom</td>\n",
       "      <td>[https://images-na.ssl-images-amazon.com/image...</td>\n",
       "    </tr>\n",
       "    <tr>\n",
       "      <th>38709</th>\n",
       "      <td>B00178630A</td>\n",
       "      <td>Diablo III</td>\n",
       "      <td>Video Games,PC,</td>\n",
       "      <td>Blizzard Entertainment</td>\n",
       "      <td>[https://images-na.ssl-images-amazon.com/image...</td>\n",
       "    </tr>\n",
       "    <tr>\n",
       "      <th>47584</th>\n",
       "      <td>B003ZSP0WW</td>\n",
       "      <td>Xbox 360 Wireless Controller - Glossy Black</td>\n",
       "      <td>Video Games,Xbox 360,Accessories,Controllers,G...</td>\n",
       "      <td>Microsoft</td>\n",
       "      <td>[https://images-na.ssl-images-amazon.com/image...</td>\n",
       "    </tr>\n",
       "    <tr>\n",
       "      <th>62781</th>\n",
       "      <td>B00GODZYNA</td>\n",
       "      <td>Uncharted 4: A Thief's End - PlayStation 4</td>\n",
       "      <td>Video Games,PlayStation 4,Games,</td>\n",
       "      <td>Sony</td>\n",
       "      <td>[https://images-na.ssl-images-amazon.com/image...</td>\n",
       "    </tr>\n",
       "    <tr>\n",
       "      <th>65843</th>\n",
       "      <td>B00JK00S0S</td>\n",
       "      <td>The Last of Us Remastered - PlayStation 4</td>\n",
       "      <td>Video Games,PlayStation 4,Games,</td>\n",
       "      <td>Sony</td>\n",
       "      <td>[https://images-na.ssl-images-amazon.com/image...</td>\n",
       "    </tr>\n",
       "  </tbody>\n",
       "</table>\n",
       "</div>"
      ],
      "text/plain": [
       "             asin                                        title  \\\n",
       "34644  B000P46NMA             Assassin's Creed - Playstation 3   \n",
       "36938  B000XJNTNS                Mario Kart Wii with Wii Wheel   \n",
       "37219  B000ZK7ZOE                     inFAMOUS - Playstation 3   \n",
       "37225  B000ZK9QCS               God of War III - Playstation 3   \n",
       "37226  B000ZKA0J6               StarCraft II: Wings of Liberty   \n",
       "37754  B0012N94WO              Resident Evil 5 - Playstation 3   \n",
       "38709  B00178630A                                   Diablo III   \n",
       "47584  B003ZSP0WW  Xbox 360 Wireless Controller - Glossy Black   \n",
       "62781  B00GODZYNA   Uncharted 4: A Thief's End - PlayStation 4   \n",
       "65843  B00JK00S0S    The Last of Us Remastered - PlayStation 4   \n",
       "\n",
       "                                             description  \\\n",
       "34644                   Video Games,PlayStation 3,Games,   \n",
       "36938  Video Games,Wii,Accessories,Controllers,Racing...   \n",
       "37219                   Video Games,PlayStation 3,Games,   \n",
       "37225                   Video Games,PlayStation 3,Games,   \n",
       "37226                              Video Games,PC,Games,   \n",
       "37754                   Video Games,PlayStation 3,Games,   \n",
       "38709                                    Video Games,PC,   \n",
       "47584  Video Games,Xbox 360,Accessories,Controllers,G...   \n",
       "62781                   Video Games,PlayStation 4,Games,   \n",
       "65843                   Video Games,PlayStation 4,Games,   \n",
       "\n",
       "                        brand  \\\n",
       "34644                 Ubisoft   \n",
       "36938                Nintendo   \n",
       "37219                    Sony   \n",
       "37225                    Sony   \n",
       "37226  Blizzard Entertainment   \n",
       "37754                  Capcom   \n",
       "38709  Blizzard Entertainment   \n",
       "47584               Microsoft   \n",
       "62781                    Sony   \n",
       "65843                    Sony   \n",
       "\n",
       "                                                imageURL  \n",
       "34644  [https://images-na.ssl-images-amazon.com/image...  \n",
       "36938  [https://images-na.ssl-images-amazon.com/image...  \n",
       "37219  [https://images-na.ssl-images-amazon.com/image...  \n",
       "37225  [https://images-na.ssl-images-amazon.com/image...  \n",
       "37226  [https://images-na.ssl-images-amazon.com/image...  \n",
       "37754  [https://images-na.ssl-images-amazon.com/image...  \n",
       "38709  [https://images-na.ssl-images-amazon.com/image...  \n",
       "47584  [https://images-na.ssl-images-amazon.com/image...  \n",
       "62781  [https://images-na.ssl-images-amazon.com/image...  \n",
       "65843  [https://images-na.ssl-images-amazon.com/image...  "
      ]
     },
     "execution_count": 82,
     "metadata": {},
     "output_type": "execute_result"
    }
   ],
   "source": [
    "# recommended trending products\n",
    "df_just_prod.loc[df_prod['asin'].isin(most_rated.head(10).index.tolist())]"
   ]
  },
  {
   "cell_type": "code",
   "execution_count": 84,
   "metadata": {
    "scrolled": false
   },
   "outputs": [
    {
     "data": {
      "text/html": [
       "<div>\n",
       "<style scoped>\n",
       "    .dataframe tbody tr th:only-of-type {\n",
       "        vertical-align: middle;\n",
       "    }\n",
       "\n",
       "    .dataframe tbody tr th {\n",
       "        vertical-align: top;\n",
       "    }\n",
       "\n",
       "    .dataframe thead th {\n",
       "        text-align: right;\n",
       "    }\n",
       "</style>\n",
       "<table border=\"1\" class=\"dataframe\">\n",
       "  <thead>\n",
       "    <tr style=\"text-align: right;\">\n",
       "      <th></th>\n",
       "      <th>count</th>\n",
       "      <th>mean</th>\n",
       "      <th>std</th>\n",
       "    </tr>\n",
       "    <tr>\n",
       "      <th>reviewerID</th>\n",
       "      <th></th>\n",
       "      <th></th>\n",
       "      <th></th>\n",
       "    </tr>\n",
       "  </thead>\n",
       "  <tbody>\n",
       "    <tr>\n",
       "      <th>A0059486XI1Z0P98KP35</th>\n",
       "      <td>5</td>\n",
       "      <td>5.000000</td>\n",
       "      <td>0.000000</td>\n",
       "    </tr>\n",
       "    <tr>\n",
       "      <th>A0220159ZRNBTRKLG08H</th>\n",
       "      <td>6</td>\n",
       "      <td>4.666667</td>\n",
       "      <td>0.816497</td>\n",
       "    </tr>\n",
       "    <tr>\n",
       "      <th>A0266076X6KPZ6CCHGVS</th>\n",
       "      <td>14</td>\n",
       "      <td>5.000000</td>\n",
       "      <td>0.000000</td>\n",
       "    </tr>\n",
       "    <tr>\n",
       "      <th>A0277912HT4JSJKVSL3E</th>\n",
       "      <td>10</td>\n",
       "      <td>4.500000</td>\n",
       "      <td>0.707107</td>\n",
       "    </tr>\n",
       "    <tr>\n",
       "      <th>A02836981FYG9912C66F</th>\n",
       "      <td>7</td>\n",
       "      <td>3.714286</td>\n",
       "      <td>0.951190</td>\n",
       "    </tr>\n",
       "  </tbody>\n",
       "</table>\n",
       "</div>"
      ],
      "text/plain": [
       "                      count      mean       std\n",
       "reviewerID                                     \n",
       "A0059486XI1Z0P98KP35      5  5.000000  0.000000\n",
       "A0220159ZRNBTRKLG08H      6  4.666667  0.816497\n",
       "A0266076X6KPZ6CCHGVS     14  5.000000  0.000000\n",
       "A0277912HT4JSJKVSL3E     10  4.500000  0.707107\n",
       "A02836981FYG9912C66F      7  3.714286  0.951190"
      ]
     },
     "execution_count": 84,
     "metadata": {},
     "output_type": "execute_result"
    }
   ],
   "source": [
    "ratings_user_summary = surprise_df.groupby('reviewerID')['overall'].agg(['count', 'mean', 'std'])\n",
    "ratings_user_summary.head()"
   ]
  },
  {
   "cell_type": "markdown",
   "metadata": {},
   "source": [
    "## Collaborative Filtering"
   ]
  },
  {
   "cell_type": "markdown",
   "metadata": {},
   "source": [
    "### Baseline"
   ]
  },
  {
   "cell_type": "code",
   "execution_count": 85,
   "metadata": {},
   "outputs": [],
   "source": [
    "read = Reader(rating_scale=(1, 5))\n",
    "surprise_data = Dataset.load_from_df(surprise_df, read)\n",
    "train_df, test_df = train_test_split(surprise_data, random_state=42)"
   ]
  },
  {
   "cell_type": "code",
   "execution_count": 86,
   "metadata": {},
   "outputs": [
    {
     "data": {
      "text/plain": [
       "<surprise.trainset.Trainset at 0x156186a09a0>"
      ]
     },
     "execution_count": 86,
     "metadata": {},
     "output_type": "execute_result"
    }
   ],
   "source": [
    "train_df"
   ]
  },
  {
   "cell_type": "code",
   "execution_count": 87,
   "metadata": {},
   "outputs": [
    {
     "data": {
      "text/plain": [
       "<surprise.prediction_algorithms.random_pred.NormalPredictor at 0x15619879220>"
      ]
     },
     "execution_count": 87,
     "metadata": {},
     "output_type": "execute_result"
    }
   ],
   "source": [
    "baseline_model1 = NormalPredictor()\n",
    "baseline_model1.fit(train_df)"
   ]
  },
  {
   "cell_type": "code",
   "execution_count": 153,
   "metadata": {},
   "outputs": [],
   "source": [
    "prediction_normal = baseline_model1.test(test_df)"
   ]
  },
  {
   "cell_type": "code",
   "execution_count": 165,
   "metadata": {},
   "outputs": [
    {
     "name": "stdout",
     "output_type": "stream",
     "text": [
      "RMSE: 1.5165\n"
     ]
    },
    {
     "data": {
      "text/plain": [
       "1.5165292278297504"
      ]
     },
     "execution_count": 165,
     "metadata": {},
     "output_type": "execute_result"
    }
   ],
   "source": [
    "normal_rmse = accuracy.rmse(prediction_normal)\n",
    "normal_rmse"
   ]
  },
  {
   "cell_type": "code",
   "execution_count": 90,
   "metadata": {},
   "outputs": [
    {
     "name": "stdout",
     "output_type": "stream",
     "text": [
      "Estimating biases using als...\n"
     ]
    },
    {
     "data": {
      "text/plain": [
       "<surprise.prediction_algorithms.baseline_only.BaselineOnly at 0x156303c3d60>"
      ]
     },
     "execution_count": 90,
     "metadata": {},
     "output_type": "execute_result"
    }
   ],
   "source": [
    "baseline_model2 = BaselineOnly()\n",
    "baseline_model2.fit(train_df)"
   ]
  },
  {
   "cell_type": "code",
   "execution_count": 158,
   "metadata": {},
   "outputs": [],
   "source": [
    "predictions_base = baseline_model2.test(test_df)"
   ]
  },
  {
   "cell_type": "code",
   "execution_count": 163,
   "metadata": {
    "scrolled": true
   },
   "outputs": [
    {
     "name": "stdout",
     "output_type": "stream",
     "text": [
      "RMSE: 1.0447\n"
     ]
    },
    {
     "data": {
      "text/plain": [
       "1.0446509835320532"
      ]
     },
     "execution_count": 163,
     "metadata": {},
     "output_type": "execute_result"
    }
   ],
   "source": [
    "base_rmse = accuracy.rmse(predictions_base)\n",
    "base_rmse"
   ]
  },
  {
   "cell_type": "markdown",
   "metadata": {},
   "source": [
    "### KNN"
   ]
  },
  {
   "cell_type": "code",
   "execution_count": 95,
   "metadata": {
    "scrolled": false
   },
   "outputs": [
    {
     "name": "stdout",
     "output_type": "stream",
     "text": [
      "Computing the msd similarity matrix...\n",
      "Done computing similarity matrix.\n",
      "Computing the msd similarity matrix...\n",
      "Done computing similarity matrix.\n",
      "Computing the msd similarity matrix...\n",
      "Done computing similarity matrix.\n",
      "Computing the msd similarity matrix...\n",
      "Done computing similarity matrix.\n",
      "Computing the msd similarity matrix...\n",
      "Done computing similarity matrix.\n"
     ]
    }
   ],
   "source": [
    "knnbasic_cv = cross_validate(KNNBasic(), surprise_data, cv=5, verbose=False)"
   ]
  },
  {
   "cell_type": "code",
   "execution_count": 105,
   "metadata": {
    "scrolled": true
   },
   "outputs": [
    {
     "data": {
      "text/plain": [
       "{'test_rmse': array([1.17919327, 1.17982273, 1.18049547, 1.17865564, 1.18317433]),\n",
       " 'test_mae': array([0.80575461, 0.80713436, 0.8090987 , 0.80676059, 0.80892023]),\n",
       " 'fit_time': (49.05380034446716,\n",
       "  82.29074716567993,\n",
       "  91.04082131385803,\n",
       "  81.55132389068604,\n",
       "  79.86889839172363),\n",
       " 'test_time': (6.395712614059448,\n",
       "  7.846421957015991,\n",
       "  7.824771881103516,\n",
       "  9.201814413070679,\n",
       "  8.31963300704956)}"
      ]
     },
     "execution_count": 105,
     "metadata": {},
     "output_type": "execute_result"
    }
   ],
   "source": [
    "knnbasic_dict = knnbasic_cv\n",
    "knnbasic_dict"
   ]
  },
  {
   "cell_type": "code",
   "execution_count": 145,
   "metadata": {},
   "outputs": [
    {
     "name": "stdout",
     "output_type": "stream",
     "text": [
      "the best KNNBasic model has rmse: 1.1786556360436136\n"
     ]
    }
   ],
   "source": [
    "knnbasic_best = min(knnbasic_dict['test_rmse'])\n",
    "print(f'the best KNNBasic model has rmse: {knnbasic_best}')"
   ]
  },
  {
   "cell_type": "code",
   "execution_count": 143,
   "metadata": {
    "scrolled": true
   },
   "outputs": [
    {
     "name": "stdout",
     "output_type": "stream",
     "text": [
      "Computing the msd similarity matrix...\n",
      "Done computing similarity matrix.\n",
      "Computing the msd similarity matrix...\n",
      "Done computing similarity matrix.\n",
      "Computing the msd similarity matrix...\n",
      "Done computing similarity matrix.\n",
      "Computing the msd similarity matrix...\n",
      "Done computing similarity matrix.\n",
      "Computing the msd similarity matrix...\n",
      "Done computing similarity matrix.\n"
     ]
    }
   ],
   "source": [
    "knnmeans_cv = cross_validate(KNNWithMeans(), surprise_data, cv=5, verbose=False)"
   ]
  },
  {
   "cell_type": "code",
   "execution_count": 144,
   "metadata": {
    "scrolled": true
   },
   "outputs": [
    {
     "data": {
      "text/plain": [
       "{'test_rmse': array([1.10056967, 1.090176  , 1.09022015, 1.08729312, 1.09581784]),\n",
       " 'test_mae': array([0.73230172, 0.72571995, 0.72266369, 0.72309892, 0.72938307]),\n",
       " 'fit_time': (46.13850498199463,\n",
       "  89.14302706718445,\n",
       "  86.84151768684387,\n",
       "  76.62010955810547,\n",
       "  77.1838755607605),\n",
       " 'test_time': (6.118184328079224,\n",
       "  7.885310411453247,\n",
       "  9.007578372955322,\n",
       "  6.8964927196502686,\n",
       "  7.006041049957275)}"
      ]
     },
     "execution_count": 144,
     "metadata": {},
     "output_type": "execute_result"
    }
   ],
   "source": [
    "knnmeans_dict = knnmeans_cv\n",
    "knnmeans_dict"
   ]
  },
  {
   "cell_type": "code",
   "execution_count": 147,
   "metadata": {},
   "outputs": [
    {
     "name": "stdout",
     "output_type": "stream",
     "text": [
      "the best KNNWithMeans model has rmse: 1.087293122355295\n"
     ]
    }
   ],
   "source": [
    "knnmeans_best = min(knnmeans_dict['test_rmse'])\n",
    "print(f'the best KNNWithMeans model has rmse: {knnmeans_best}')"
   ]
  },
  {
   "cell_type": "code",
   "execution_count": 148,
   "metadata": {
    "scrolled": true
   },
   "outputs": [
    {
     "name": "stdout",
     "output_type": "stream",
     "text": [
      "Computing the msd similarity matrix...\n",
      "Done computing similarity matrix.\n",
      "Computing the msd similarity matrix...\n",
      "Done computing similarity matrix.\n",
      "Computing the msd similarity matrix...\n",
      "Done computing similarity matrix.\n",
      "Computing the msd similarity matrix...\n",
      "Done computing similarity matrix.\n",
      "Computing the msd similarity matrix...\n",
      "Done computing similarity matrix.\n"
     ]
    }
   ],
   "source": [
    "knnz_cv = cross_validate(KNNWithZScore(), surprise_data, cv=5, verbose=False)"
   ]
  },
  {
   "cell_type": "code",
   "execution_count": 149,
   "metadata": {
    "scrolled": true
   },
   "outputs": [
    {
     "data": {
      "text/plain": [
       "{'test_rmse': array([1.10222349, 1.09734699, 1.10405866, 1.101728  , 1.09516148]),\n",
       " 'test_mae': array([0.72774532, 0.72571277, 0.73138282, 0.72680007, 0.72333042]),\n",
       " 'fit_time': (47.13133358955383,\n",
       "  72.7631561756134,\n",
       "  79.19278526306152,\n",
       "  88.5639877319336,\n",
       "  79.16285943984985),\n",
       " 'test_time': (6.854395389556885,\n",
       "  8.45792293548584,\n",
       "  8.294434070587158,\n",
       "  8.137259244918823,\n",
       "  7.651448965072632)}"
      ]
     },
     "execution_count": 149,
     "metadata": {},
     "output_type": "execute_result"
    }
   ],
   "source": [
    "knnz_dict = knnz_cv\n",
    "knnz_dict"
   ]
  },
  {
   "cell_type": "code",
   "execution_count": 150,
   "metadata": {},
   "outputs": [
    {
     "name": "stdout",
     "output_type": "stream",
     "text": [
      "the best KNNWithZScore model has rmse: 1.0951614787924269\n"
     ]
    }
   ],
   "source": [
    "knnz_best = min(knnz_dict['test_rmse'])\n",
    "print(f'the best KNNWithZScore model has rmse: {knnz_best}')"
   ]
  },
  {
   "cell_type": "markdown",
   "metadata": {},
   "source": [
    "### SVD"
   ]
  },
  {
   "cell_type": "code",
   "execution_count": 141,
   "metadata": {},
   "outputs": [
    {
     "name": "stdout",
     "output_type": "stream",
     "text": [
      "RMSE: 1.0152\n"
     ]
    },
    {
     "data": {
      "text/plain": [
       "1.0151596982698952"
      ]
     },
     "execution_count": 141,
     "metadata": {},
     "output_type": "execute_result"
    }
   ],
   "source": [
    "# use default hyper parameters\n",
    "svd = SVD(random_state=42)\n",
    "svd.fit(train_df)\n",
    "prediction_svd = svd.test(test_df)\n",
    "accuracy.rmse(prediction_svd)"
   ]
  },
  {
   "cell_type": "code",
   "execution_count": 26,
   "metadata": {},
   "outputs": [
    {
     "data": {
      "text/plain": [
       "Prediction(uid='A1HP7NVNPFMA4N', iid='0700026657', r_ui=None, est=4.454239721476054, details={'was_impossible': False})"
      ]
     },
     "execution_count": 26,
     "metadata": {},
     "output_type": "execute_result"
    }
   ],
   "source": [
    "svd.predict('A1HP7NVNPFMA4N', '0700026657')"
   ]
  },
  {
   "cell_type": "markdown",
   "metadata": {},
   "source": [
    "Do some grid searches on SVD algorithm "
   ]
  },
  {
   "cell_type": "code",
   "execution_count": 111,
   "metadata": {},
   "outputs": [],
   "source": [
    "param_grid = {'n_factors':[20,50,100,150],'n_epochs':[10,20,30],'biased':[True,False]}\n",
    "svd_grid_search = GridSearchCV(algo_class=SVD, param_grid=param_grid, measures=['rmse'], cv=5)\n",
    "result1 = svd_grid_search.fit(surprise_data)"
   ]
  },
  {
   "cell_type": "code",
   "execution_count": null,
   "metadata": {
    "scrolled": true
   },
   "outputs": [],
   "source": [
    "joblib.dump(svd_grid_search, 'svd_grid.pkl')"
   ]
  },
  {
   "cell_type": "code",
   "execution_count": 108,
   "metadata": {},
   "outputs": [],
   "source": [
    "svd_loaded = joblib.load('svd_grid.pkl')"
   ]
  },
  {
   "cell_type": "code",
   "execution_count": 109,
   "metadata": {},
   "outputs": [],
   "source": [
    "best_svd_algo = svd_loaded.best_estimator['rmse']"
   ]
  },
  {
   "cell_type": "code",
   "execution_count": 110,
   "metadata": {},
   "outputs": [
    {
     "data": {
      "text/plain": [
       "{'rmse': {'n_factors': 50, 'n_epochs': 30, 'biased': True}}"
      ]
     },
     "execution_count": 110,
     "metadata": {},
     "output_type": "execute_result"
    }
   ],
   "source": [
    "svd_loaded.best_params"
   ]
  },
  {
   "cell_type": "code",
   "execution_count": 111,
   "metadata": {},
   "outputs": [
    {
     "data": {
      "text/plain": [
       "<surprise.prediction_algorithms.matrix_factorization.SVD at 0x1565f44f760>"
      ]
     },
     "execution_count": 111,
     "metadata": {},
     "output_type": "execute_result"
    }
   ],
   "source": [
    "best_svd_algo.fit(train_df)"
   ]
  },
  {
   "cell_type": "code",
   "execution_count": 112,
   "metadata": {},
   "outputs": [
    {
     "name": "stdout",
     "output_type": "stream",
     "text": [
      "RMSE: 1.0047\n"
     ]
    },
    {
     "data": {
      "text/plain": [
       "1.004666292093084"
      ]
     },
     "execution_count": 112,
     "metadata": {},
     "output_type": "execute_result"
    }
   ],
   "source": [
    "predictions = best_svd_algo.test(test_df)\n",
    "accuracy.rmse(predictions)"
   ]
  },
  {
   "cell_type": "code",
   "execution_count": 133,
   "metadata": {},
   "outputs": [
    {
     "data": {
      "text/plain": [
       "<surprise.prediction_algorithms.matrix_factorization.SVD at 0x1563ec24610>"
      ]
     },
     "execution_count": 133,
     "metadata": {},
     "output_type": "execute_result"
    }
   ],
   "source": [
    "svd_best_param = SVD(n_factors=50, n_epochs=30, biased='True', random_state=42)\n",
    "svd_best_param.fit(train_df)"
   ]
  },
  {
   "cell_type": "code",
   "execution_count": 135,
   "metadata": {},
   "outputs": [
    {
     "name": "stdout",
     "output_type": "stream",
     "text": [
      "RMSE: 1.0029\n"
     ]
    },
    {
     "data": {
      "text/plain": [
       "1.0029432416894384"
      ]
     },
     "execution_count": 135,
     "metadata": {},
     "output_type": "execute_result"
    }
   ],
   "source": [
    "svd_best_param.test(test_df)\n",
    "predictions1 = svd_best_param.test(test_df)\n",
    "accuracy.rmse(predictions1)"
   ]
  },
  {
   "cell_type": "markdown",
   "metadata": {},
   "source": [
    "grid search on smaller n_factors and larger n_epochs"
   ]
  },
  {
   "cell_type": "code",
   "execution_count": 369,
   "metadata": {},
   "outputs": [],
   "source": [
    "parm_grid = {'n_factors':[2,5,10,20],'n_epochs':[50,70,100],'biased':[True,False]}"
   ]
  },
  {
   "cell_type": "code",
   "execution_count": 370,
   "metadata": {},
   "outputs": [],
   "source": [
    "svd_grid_search2 = GridSearchCV(algo_class=SVD,param_grid=parm_grid,measures=['rmse'],cv=5)\n",
    "result2 = svd_grid_search2.fit(surprise_data)"
   ]
  },
  {
   "cell_type": "code",
   "execution_count": 371,
   "metadata": {},
   "outputs": [
    {
     "data": {
      "text/plain": [
       "['svd_grid_nfactor.pkl']"
      ]
     },
     "execution_count": 371,
     "metadata": {},
     "output_type": "execute_result"
    }
   ],
   "source": [
    "joblib.dump(svd_grid_search2, 'svd_grid_nfactor.pkl')"
   ]
  },
  {
   "cell_type": "code",
   "execution_count": 113,
   "metadata": {},
   "outputs": [],
   "source": [
    "svd_loaded2 = joblib.load('svd_grid_nfactor.pkl')"
   ]
  },
  {
   "cell_type": "code",
   "execution_count": 114,
   "metadata": {},
   "outputs": [
    {
     "data": {
      "text/plain": [
       "{'rmse': {'n_factors': 20, 'n_epochs': 50, 'biased': True}}"
      ]
     },
     "execution_count": 114,
     "metadata": {},
     "output_type": "execute_result"
    }
   ],
   "source": [
    "svd_loaded2.best_params"
   ]
  },
  {
   "cell_type": "code",
   "execution_count": 136,
   "metadata": {},
   "outputs": [
    {
     "data": {
      "text/plain": [
       "<surprise.prediction_algorithms.matrix_factorization.SVD at 0x1563ec24df0>"
      ]
     },
     "execution_count": 136,
     "metadata": {},
     "output_type": "execute_result"
    }
   ],
   "source": [
    "svd_best_param2 = SVD(n_factors=20, n_epochs=50, biased='True', random_state=42)\n",
    "svd_best_param2.fit(train_df)"
   ]
  },
  {
   "cell_type": "code",
   "execution_count": 137,
   "metadata": {},
   "outputs": [
    {
     "name": "stdout",
     "output_type": "stream",
     "text": [
      "RMSE: 1.0055\n"
     ]
    },
    {
     "data": {
      "text/plain": [
       "1.0054501834755718"
      ]
     },
     "execution_count": 137,
     "metadata": {},
     "output_type": "execute_result"
    }
   ],
   "source": [
    "svd_best_param2.test(test_df)\n",
    "predictions2 = svd_best_param2.test(test_df)\n",
    "accuracy.rmse(predictions2)"
   ]
  },
  {
   "cell_type": "markdown",
   "metadata": {},
   "source": [
    "grid search learning rate"
   ]
  },
  {
   "cell_type": "code",
   "execution_count": 94,
   "metadata": {},
   "outputs": [],
   "source": [
    "param_grid = {'n_factors':[20,50,100,150], 'n_epochs':[10,20,30], 'lr_all':[0.003,0.005,0.01,0.02]}"
   ]
  },
  {
   "cell_type": "code",
   "execution_count": 96,
   "metadata": {},
   "outputs": [],
   "source": [
    "svd_grid_search3 = GridSearchCV(algo_class=SVD, param_grid=param_grid, measures=['rmse'], cv=5)\n",
    "result3 = svd_grid_search3.fit(surprise_data)"
   ]
  },
  {
   "cell_type": "code",
   "execution_count": 97,
   "metadata": {},
   "outputs": [
    {
     "data": {
      "text/plain": [
       "['svd_grid_lr.pkl']"
      ]
     },
     "execution_count": 97,
     "metadata": {},
     "output_type": "execute_result"
    }
   ],
   "source": [
    "joblib.dump(svd_grid_search3, 'svd_grid_lr.pkl')"
   ]
  },
  {
   "cell_type": "code",
   "execution_count": 117,
   "metadata": {},
   "outputs": [],
   "source": [
    "svd_loaded3 = joblib.load('svd_grid_lr.pkl')"
   ]
  },
  {
   "cell_type": "code",
   "execution_count": 118,
   "metadata": {
    "scrolled": false
   },
   "outputs": [
    {
     "data": {
      "text/plain": [
       "{'rmse': {'n_factors': 150, 'n_epochs': 30, 'lr_all': 0.02}}"
      ]
     },
     "execution_count": 118,
     "metadata": {},
     "output_type": "execute_result"
    }
   ],
   "source": [
    "svd_loaded3.best_params"
   ]
  },
  {
   "cell_type": "code",
   "execution_count": 138,
   "metadata": {},
   "outputs": [
    {
     "data": {
      "text/plain": [
       "<surprise.prediction_algorithms.matrix_factorization.SVD at 0x1565f41dac0>"
      ]
     },
     "execution_count": 138,
     "metadata": {},
     "output_type": "execute_result"
    }
   ],
   "source": [
    "svd_best_param3 = SVD(n_factors=150, n_epochs=30, biased='True', lr_all=0.02, random_state=42)\n",
    "svd_best_param3.fit(train_df)"
   ]
  },
  {
   "cell_type": "code",
   "execution_count": 139,
   "metadata": {},
   "outputs": [
    {
     "name": "stdout",
     "output_type": "stream",
     "text": [
      "RMSE: 0.9981\n"
     ]
    },
    {
     "data": {
      "text/plain": [
       "0.9981241292377293"
      ]
     },
     "execution_count": 139,
     "metadata": {},
     "output_type": "execute_result"
    }
   ],
   "source": [
    "svd_best_param3.test(test_df)\n",
    "predictions3 = svd_best_param3.test(test_df)\n",
    "accuracy.rmse(predictions3)"
   ]
  },
  {
   "cell_type": "code",
   "execution_count": 142,
   "metadata": {
    "scrolled": false
   },
   "outputs": [
    {
     "name": "stdout",
     "output_type": "stream",
     "text": [
      "RMSE: 1.0152\n",
      "RMSE: 0.9981\n",
      "RMSE: 1.0055\n",
      "RMSE: 0.9981\n",
      "the best SVD model has rmse: 0.9981241292377293\n"
     ]
    }
   ],
   "source": [
    "svd_best = min([accuracy.rmse(prediction_svd), accuracy.rmse(predictions), accuracy.rmse(predictions2), accuracy.rmse(predictions3)])\n",
    "print(f'the best SVD model has rmse: {svd_best}')"
   ]
  },
  {
   "cell_type": "markdown",
   "metadata": {},
   "source": [
    "### SVDpp"
   ]
  },
  {
   "cell_type": "code",
   "execution_count": 118,
   "metadata": {},
   "outputs": [
    {
     "name": "stdout",
     "output_type": "stream",
     "text": [
      "RMSE: 1.0074\n"
     ]
    },
    {
     "data": {
      "text/plain": [
       "1.0073771519138817"
      ]
     },
     "execution_count": 118,
     "metadata": {},
     "output_type": "execute_result"
    }
   ],
   "source": [
    "# use default hyper parameters\n",
    "svdpp = SVDpp(random_state=42)\n",
    "svdpp.fit(train_df)\n",
    "predictions_def = svdpp.test(test_df)\n",
    "accuracy.rmse(predictions_def)"
   ]
  },
  {
   "cell_type": "code",
   "execution_count": 119,
   "metadata": {},
   "outputs": [
    {
     "data": {
      "text/plain": [
       "['svdpp_def.pkl']"
      ]
     },
     "execution_count": 119,
     "metadata": {},
     "output_type": "execute_result"
    }
   ],
   "source": [
    "joblib.dump(predictions_def, 'svdpp_def.pkl')"
   ]
  },
  {
   "cell_type": "code",
   "execution_count": 121,
   "metadata": {},
   "outputs": [],
   "source": [
    "svdpp_def_loaded = joblib.load('svdpp_def.pkl')"
   ]
  },
  {
   "cell_type": "code",
   "execution_count": 122,
   "metadata": {},
   "outputs": [
    {
     "name": "stdout",
     "output_type": "stream",
     "text": [
      "RMSE: 1.0074\n"
     ]
    },
    {
     "data": {
      "text/plain": [
       "1.0073771519138817"
      ]
     },
     "execution_count": 122,
     "metadata": {},
     "output_type": "execute_result"
    }
   ],
   "source": [
    "accuracy.rmse(svdpp_def_loaded)"
   ]
  },
  {
   "cell_type": "code",
   "execution_count": null,
   "metadata": {},
   "outputs": [],
   "source": [
    "param_grid = {'n_factors':[20,50], 'n_epochs':[20,50], 'lr_all':[0.005,0.01], 'reg_all':[0.02, 0.05]}\n",
    "svdpp_grid_search = GridSearchCV(algo_class=SVDpp, param_grid=param_grid, measures=['rmse'], cv=5)\n",
    "result_svdpp1 = svdpp_grid_search.fit(surprise_data)"
   ]
  },
  {
   "cell_type": "markdown",
   "metadata": {},
   "source": [
    "I was going to do some grid searches on SVDpp algorithm as well like SVD, but the grid search process takes too long to be finished due to my computer's computational capability. So I will just do some random tuning below and try to get the lowest rmse as I can."
   ]
  },
  {
   "cell_type": "code",
   "execution_count": 126,
   "metadata": {},
   "outputs": [
    {
     "name": "stdout",
     "output_type": "stream",
     "text": [
      "RMSE: 1.0362\n"
     ]
    },
    {
     "data": {
      "text/plain": [
       "1.036242671479692"
      ]
     },
     "execution_count": 126,
     "metadata": {},
     "output_type": "execute_result"
    }
   ],
   "source": [
    "svdpp1 = SVDpp(n_factors=50, n_epochs=50, lr_all=0.005, reg_all=0.005)\n",
    "svdpp1.fit(train_df)\n",
    "predictions1 = svdpp1.test(test_df)\n",
    "accuracy.rmse(predictions1)"
   ]
  },
  {
   "cell_type": "code",
   "execution_count": 123,
   "metadata": {},
   "outputs": [
    {
     "data": {
      "text/plain": [
       "['svdpp1.pkl']"
      ]
     },
     "execution_count": 123,
     "metadata": {},
     "output_type": "execute_result"
    }
   ],
   "source": [
    "joblib.dump(predictions1, 'svdpp1.pkl')"
   ]
  },
  {
   "cell_type": "code",
   "execution_count": 123,
   "metadata": {},
   "outputs": [],
   "source": [
    "svdpp1_loaded = joblib.load('svdpp1.pkl')"
   ]
  },
  {
   "cell_type": "code",
   "execution_count": 124,
   "metadata": {},
   "outputs": [
    {
     "name": "stdout",
     "output_type": "stream",
     "text": [
      "RMSE: 1.0329\n"
     ]
    },
    {
     "data": {
      "text/plain": [
       "1.0329479058203719"
      ]
     },
     "execution_count": 124,
     "metadata": {},
     "output_type": "execute_result"
    }
   ],
   "source": [
    "accuracy.rmse(svdpp1_loaded)"
   ]
  },
  {
   "cell_type": "code",
   "execution_count": 128,
   "metadata": {},
   "outputs": [
    {
     "name": "stdout",
     "output_type": "stream",
     "text": [
      "RMSE: 1.0454\n"
     ]
    },
    {
     "data": {
      "text/plain": [
       "1.0453575370720092"
      ]
     },
     "execution_count": 128,
     "metadata": {},
     "output_type": "execute_result"
    }
   ],
   "source": [
    "svdpp2 = SVDpp(n_factors=10, n_epochs=10, lr_all=0.005, reg_all=0.005)\n",
    "svdpp2.fit(train_df)\n",
    "predictions2 = svdpp2.test(test_df)\n",
    "accuracy.rmse(predictions2)"
   ]
  },
  {
   "cell_type": "code",
   "execution_count": 129,
   "metadata": {},
   "outputs": [
    {
     "data": {
      "text/plain": [
       "['svdpp2.pkl']"
      ]
     },
     "execution_count": 129,
     "metadata": {},
     "output_type": "execute_result"
    }
   ],
   "source": [
    "joblib.dump(predictions2, 'svdpp2.pkl')"
   ]
  },
  {
   "cell_type": "code",
   "execution_count": 125,
   "metadata": {},
   "outputs": [],
   "source": [
    "svdpp2_loaded = joblib.load('svdpp2.pkl')"
   ]
  },
  {
   "cell_type": "code",
   "execution_count": 126,
   "metadata": {
    "scrolled": true
   },
   "outputs": [
    {
     "name": "stdout",
     "output_type": "stream",
     "text": [
      "RMSE: 1.0454\n"
     ]
    },
    {
     "data": {
      "text/plain": [
       "1.0453575370720092"
      ]
     },
     "execution_count": 126,
     "metadata": {},
     "output_type": "execute_result"
    }
   ],
   "source": [
    "accuracy.rmse(svdpp2_loaded)"
   ]
  },
  {
   "cell_type": "code",
   "execution_count": 127,
   "metadata": {},
   "outputs": [
    {
     "name": "stdout",
     "output_type": "stream",
     "text": [
      "RMSE: 1.0270\n"
     ]
    },
    {
     "data": {
      "text/plain": [
       "1.0269838082063034"
      ]
     },
     "execution_count": 127,
     "metadata": {},
     "output_type": "execute_result"
    }
   ],
   "source": [
    "svdpp3 = SVDpp(n_factors=50, n_epochs=50, lr_all=0.01, reg_all=0.01)\n",
    "svdpp3.fit(train_df)\n",
    "predictions3 = svdpp3.test(test_df)\n",
    "accuracy.rmse(predictions3)"
   ]
  },
  {
   "cell_type": "code",
   "execution_count": 128,
   "metadata": {},
   "outputs": [
    {
     "data": {
      "text/plain": [
       "['svdpp3.pkl']"
      ]
     },
     "execution_count": 128,
     "metadata": {},
     "output_type": "execute_result"
    }
   ],
   "source": [
    "joblib.dump(predictions3, 'svdpp3.pkl')"
   ]
  },
  {
   "cell_type": "code",
   "execution_count": 129,
   "metadata": {},
   "outputs": [],
   "source": [
    "svdpp3_loaded = joblib.load('svdpp3.pkl')"
   ]
  },
  {
   "cell_type": "code",
   "execution_count": 130,
   "metadata": {
    "scrolled": true
   },
   "outputs": [
    {
     "name": "stdout",
     "output_type": "stream",
     "text": [
      "RMSE: 1.0270\n"
     ]
    },
    {
     "data": {
      "text/plain": [
       "1.0269838082063034"
      ]
     },
     "execution_count": 130,
     "metadata": {},
     "output_type": "execute_result"
    }
   ],
   "source": [
    "accuracy.rmse(svdpp3_loaded)"
   ]
  },
  {
   "cell_type": "code",
   "execution_count": 131,
   "metadata": {
    "scrolled": true
   },
   "outputs": [
    {
     "name": "stdout",
     "output_type": "stream",
     "text": [
      "RMSE: 1.0074\n",
      "RMSE: 1.0329\n",
      "RMSE: 1.0447\n",
      "RMSE: 1.0270\n",
      "the best SVDpp model has rmse: 1.0073771519138817\n"
     ]
    }
   ],
   "source": [
    "svdpp_best = min([accuracy.rmse(svdpp_def_loaded), accuracy.rmse(svdpp1_loaded), accuracy.rmse(predictions2), accuracy.rmse(svdpp3_loaded)])\n",
    "print(f'the best SVDpp model has rmse: {svdpp_best}')"
   ]
  },
  {
   "cell_type": "markdown",
   "metadata": {},
   "source": [
    "Make a bar chart shows the best model for each algorithm"
   ]
  },
  {
   "cell_type": "code",
   "execution_count": 438,
   "metadata": {
    "scrolled": false
   },
   "outputs": [
    {
     "data": {
      "text/html": [
       "<div>\n",
       "<style scoped>\n",
       "    .dataframe tbody tr th:only-of-type {\n",
       "        vertical-align: middle;\n",
       "    }\n",
       "\n",
       "    .dataframe tbody tr th {\n",
       "        vertical-align: top;\n",
       "    }\n",
       "\n",
       "    .dataframe thead th {\n",
       "        text-align: right;\n",
       "    }\n",
       "</style>\n",
       "<table border=\"1\" class=\"dataframe\">\n",
       "  <thead>\n",
       "    <tr style=\"text-align: right;\">\n",
       "      <th></th>\n",
       "      <th>algorithm</th>\n",
       "      <th>rmse</th>\n",
       "    </tr>\n",
       "  </thead>\n",
       "  <tbody>\n",
       "    <tr>\n",
       "      <th>0</th>\n",
       "      <td>NormalPredictor</td>\n",
       "      <td>1.516529</td>\n",
       "    </tr>\n",
       "    <tr>\n",
       "      <th>1</th>\n",
       "      <td>BaselineOnly</td>\n",
       "      <td>1.044651</td>\n",
       "    </tr>\n",
       "    <tr>\n",
       "      <th>2</th>\n",
       "      <td>KNNBasic</td>\n",
       "      <td>1.178656</td>\n",
       "    </tr>\n",
       "    <tr>\n",
       "      <th>3</th>\n",
       "      <td>KNNWithMeans</td>\n",
       "      <td>1.087293</td>\n",
       "    </tr>\n",
       "    <tr>\n",
       "      <th>4</th>\n",
       "      <td>KNNWithZScore</td>\n",
       "      <td>1.095161</td>\n",
       "    </tr>\n",
       "    <tr>\n",
       "      <th>5</th>\n",
       "      <td>SVD</td>\n",
       "      <td>0.998124</td>\n",
       "    </tr>\n",
       "    <tr>\n",
       "      <th>6</th>\n",
       "      <td>SVDpp</td>\n",
       "      <td>1.007377</td>\n",
       "    </tr>\n",
       "  </tbody>\n",
       "</table>\n",
       "</div>"
      ],
      "text/plain": [
       "         algorithm      rmse\n",
       "0  NormalPredictor  1.516529\n",
       "1     BaselineOnly  1.044651\n",
       "2         KNNBasic  1.178656\n",
       "3     KNNWithMeans  1.087293\n",
       "4    KNNWithZScore  1.095161\n",
       "5              SVD  0.998124\n",
       "6            SVDpp  1.007377"
      ]
     },
     "execution_count": 438,
     "metadata": {},
     "output_type": "execute_result"
    }
   ],
   "source": [
    "rmse_ls = [normal_rmse, base_rmse, knnbasic_best, knnmeans_best, knnz_best, svd_best, svdpp_best]\n",
    "algo_rmse_df = pd.DataFrame(data={'algorithm':['NormalPredictor', 'BaselineOnly', 'KNNBasic', 'KNNWithMeans', 'KNNWithZScore', 'SVD', 'SVDpp'],\n",
    "                                  'rmse':rmse_ls})\n",
    "algo_rmse_df"
   ]
  },
  {
   "cell_type": "code",
   "execution_count": 476,
   "metadata": {
    "scrolled": false
   },
   "outputs": [
    {
     "data": {
      "image/png": "[encoded data removed]",
      "text/plain": [
       "<Figure size 576x360 with 1 Axes>"
      ]
     },
     "metadata": {
      "needs_background": "light"
     },
     "output_type": "display_data"
    }
   ],
   "source": [
    "fig, ax = plt.subplots(figsize=(8,5))\n",
    "color = ['b', 'b', 'b', 'b', 'b', 'r', 'b']\n",
    "ax.bar(x=algo_rmse_df['algorithm'], height=algo_rmse_df['rmse'], color=color, zorder=2)\n",
    "ax.grid(axis='y', zorder=0)\n",
    "plt.xlabel('Algorithms')\n",
    "plt.ylabel('RMSE')\n",
    "plt.title('RMSE Comparison')\n",
    "plt.xticks(rotation = 45)\n",
    "plt.savefig('RMSE Comparison.png', dpi=300, bbox_inches='tight');"
   ]
  },
  {
   "cell_type": "markdown",
   "metadata": {},
   "source": [
    "### The Best Model"
   ]
  },
  {
   "cell_type": "code",
   "execution_count": 477,
   "metadata": {},
   "outputs": [],
   "source": [
    "trainset_full = surprise_data.build_full_trainset()"
   ]
  },
  {
   "cell_type": "code",
   "execution_count": 479,
   "metadata": {},
   "outputs": [
    {
     "data": {
      "text/plain": [
       "<surprise.prediction_algorithms.matrix_factorization.SVD at 0x15788d07fa0>"
      ]
     },
     "execution_count": 479,
     "metadata": {},
     "output_type": "execute_result"
    }
   ],
   "source": [
    "best_model = SVD(n_factors=150, n_epochs=30, biased='True', lr_all=0.02, random_state=42)\n",
    "best_model.fit(trainset_full)"
   ]
  },
  {
   "cell_type": "code",
   "execution_count": 482,
   "metadata": {},
   "outputs": [
    {
     "name": "stdout",
     "output_type": "stream",
     "text": [
      "<class 'pandas.core.frame.DataFrame'>\n",
      "Index: 497577 entries, A1HP7NVNPFMA4N to A6W81WTFK940B\n",
      "Data columns (total 1 columns):\n",
      " #   Column  Non-Null Count   Dtype \n",
      "---  ------  --------------   ----- \n",
      " 0   asin    497577 non-null  object\n",
      "dtypes: object(1)\n",
      "memory usage: 7.6+ MB\n"
     ]
    }
   ],
   "source": [
    "df_prior_ratings = pd.DataFrame(df_review.set_index(\"reviewerID\"))\n",
    "df_prior_ratings.drop(columns= [\"verified\", \"reviewTime\", \"reviewerName\", \"reviewText\", \"overall\", \"summary\", \"unixReviewTime\", \"vote\", \"style\", \"image\"], inplace=True)\n",
    "df_prior_ratings.info()"
   ]
  },
  {
   "cell_type": "code",
   "execution_count": 505,
   "metadata": {},
   "outputs": [],
   "source": [
    "# build a function that takes in reviewerID and number of recommendation. The fuction returns a table contains all recommended products\n",
    "def buyer_recommended_products(reviewerID, num): \n",
    "    already_reviewed = list(df_prior_ratings.loc[reviewerID, 'asin'])\n",
    "    not_reviewed = df_just_prod.copy()\n",
    "    not_reviewed = not_reviewed[not_reviewed['asin'].isin(already_reviewed) == False]\n",
    "    not_reviewed.reset_index(inplace=True)\n",
    "    not_reviewed['predicted_rating'] = not_reviewed['asin'].apply(lambda x: best_model.predict(reviewerID, x).est)\n",
    "    not_reviewed.sort_values(by='predicted_rating', ascending=False, inplace=True)\n",
    "    not_reviewed = not_reviewed[['asin','title', 'brand','description', 'imageURL', 'predicted_rating']].head(num)\n",
    "    return not_reviewed"
   ]
  },
  {
   "cell_type": "code",
   "execution_count": 507,
   "metadata": {},
   "outputs": [
    {
     "data": {
      "text/html": [
       "<div>\n",
       "<style scoped>\n",
       "    .dataframe tbody tr th:only-of-type {\n",
       "        vertical-align: middle;\n",
       "    }\n",
       "\n",
       "    .dataframe tbody tr th {\n",
       "        vertical-align: top;\n",
       "    }\n",
       "\n",
       "    .dataframe thead th {\n",
       "        text-align: right;\n",
       "    }\n",
       "</style>\n",
       "<table border=\"1\" class=\"dataframe\">\n",
       "  <thead>\n",
       "    <tr style=\"text-align: right;\">\n",
       "      <th></th>\n",
       "      <th>asin</th>\n",
       "      <th>title</th>\n",
       "      <th>brand</th>\n",
       "      <th>description</th>\n",
       "      <th>imageURL</th>\n",
       "      <th>predicted_rating</th>\n",
       "    </tr>\n",
       "  </thead>\n",
       "  <tbody>\n",
       "    <tr>\n",
       "      <th>7714</th>\n",
       "      <td>B000063UZ1</td>\n",
       "      <td>WarCraft III: Reign of Chaos Collector's Editi...</td>\n",
       "      <td>Blizzard Entertainment</td>\n",
       "      <td>Video Games,PC,Games,</td>\n",
       "      <td>[https://images-na.ssl-images-amazon.com/image...</td>\n",
       "      <td>5.0</td>\n",
       "    </tr>\n",
       "    <tr>\n",
       "      <th>70490</th>\n",
       "      <td>B00PIEHU74</td>\n",
       "      <td>Nintendo Super Smash Bros King Dedede amiibo</td>\n",
       "      <td>Nintendo</td>\n",
       "      <td>Video Games,Wii U,Interactive Gaming Figures</td>\n",
       "      <td>[https://images-na.ssl-images-amazon.com/image...</td>\n",
       "      <td>5.0</td>\n",
       "    </tr>\n",
       "    <tr>\n",
       "      <th>37972</th>\n",
       "      <td>B0013KVBS6</td>\n",
       "      <td>Lara Croft Tomb Raider: Anniversary</td>\n",
       "      <td>Square Enix</td>\n",
       "      <td>Video Games,Xbox 360,Games,</td>\n",
       "      <td>[https://images-na.ssl-images-amazon.com/image...</td>\n",
       "      <td>5.0</td>\n",
       "    </tr>\n",
       "    <tr>\n",
       "      <th>7295</th>\n",
       "      <td>B00005ULW9</td>\n",
       "      <td>Serious Sam: Second Encounter - PC</td>\n",
       "      <td>2K</td>\n",
       "      <td>Video Games,PC,Games,</td>\n",
       "      <td>[https://images-na.ssl-images-amazon.com/image...</td>\n",
       "      <td>5.0</td>\n",
       "    </tr>\n",
       "    <tr>\n",
       "      <th>37969</th>\n",
       "      <td>B0013KPS8K</td>\n",
       "      <td>Wall-E - PlayStation 2</td>\n",
       "      <td>THQ</td>\n",
       "      <td>Video Games,Retro Gaming &amp; Microconsoles,PlayS...</td>\n",
       "      <td>[https://images-na.ssl-images-amazon.com/image...</td>\n",
       "      <td>5.0</td>\n",
       "    </tr>\n",
       "    <tr>\n",
       "      <th>78253</th>\n",
       "      <td>B016LGYTJO</td>\n",
       "      <td>Disney Infinity 3.0 Edition: Judy Hopps Figure</td>\n",
       "      <td>Disney Infinity</td>\n",
       "      <td>Video Games,PlayStation 3,Interactive Gaming F...</td>\n",
       "      <td>[https://images-na.ssl-images-amazon.com/image...</td>\n",
       "      <td>5.0</td>\n",
       "    </tr>\n",
       "    <tr>\n",
       "      <th>17301</th>\n",
       "      <td>B00004SVVT</td>\n",
       "      <td>Tetris</td>\n",
       "      <td>Nintendo</td>\n",
       "      <td>Video Games,Retro Gaming &amp;amp; Microconsoles,N...</td>\n",
       "      <td>[https://images-na.ssl-images-amazon.com/image...</td>\n",
       "      <td>5.0</td>\n",
       "    </tr>\n",
       "    <tr>\n",
       "      <th>58876</th>\n",
       "      <td>B00CD1FC6G</td>\n",
       "      <td>Corsair Vengeance K70 Black Cherry MX Brown (C...</td>\n",
       "      <td>Corsair</td>\n",
       "      <td>Video Games,PC,Accessories,Gaming Keyboards</td>\n",
       "      <td>[https://images-na.ssl-images-amazon.com/image...</td>\n",
       "      <td>5.0</td>\n",
       "    </tr>\n",
       "    <tr>\n",
       "      <th>20620</th>\n",
       "      <td>B000063UZ1</td>\n",
       "      <td>WarCraft III: Reign of Chaos Collector's Editi...</td>\n",
       "      <td>Blizzard Entertainment</td>\n",
       "      <td>Video Games,PC,Games,</td>\n",
       "      <td>[https://images-na.ssl-images-amazon.com/image...</td>\n",
       "      <td>5.0</td>\n",
       "    </tr>\n",
       "    <tr>\n",
       "      <th>20616</th>\n",
       "      <td>B000063SAU</td>\n",
       "      <td>Medieval: Total War - PC</td>\n",
       "      <td>Activision</td>\n",
       "      <td>Video Games,PC,Games,</td>\n",
       "      <td>[https://images-na.ssl-images-amazon.com/image...</td>\n",
       "      <td>5.0</td>\n",
       "    </tr>\n",
       "  </tbody>\n",
       "</table>\n",
       "</div>"
      ],
      "text/plain": [
       "             asin                                              title  \\\n",
       "7714   B000063UZ1  WarCraft III: Reign of Chaos Collector's Editi...   \n",
       "70490  B00PIEHU74       Nintendo Super Smash Bros King Dedede amiibo   \n",
       "37972  B0013KVBS6                Lara Croft Tomb Raider: Anniversary   \n",
       "7295   B00005ULW9                 Serious Sam: Second Encounter - PC   \n",
       "37969  B0013KPS8K                             Wall-E - PlayStation 2   \n",
       "78253  B016LGYTJO     Disney Infinity 3.0 Edition: Judy Hopps Figure   \n",
       "17301  B00004SVVT                                             Tetris   \n",
       "58876  B00CD1FC6G  Corsair Vengeance K70 Black Cherry MX Brown (C...   \n",
       "20620  B000063UZ1  WarCraft III: Reign of Chaos Collector's Editi...   \n",
       "20616  B000063SAU                           Medieval: Total War - PC   \n",
       "\n",
       "                        brand  \\\n",
       "7714   Blizzard Entertainment   \n",
       "70490                Nintendo   \n",
       "37972             Square Enix   \n",
       "7295                       2K   \n",
       "37969                     THQ   \n",
       "78253         Disney Infinity   \n",
       "17301                Nintendo   \n",
       "58876                 Corsair   \n",
       "20620  Blizzard Entertainment   \n",
       "20616              Activision   \n",
       "\n",
       "                                             description  \\\n",
       "7714                               Video Games,PC,Games,   \n",
       "70490       Video Games,Wii U,Interactive Gaming Figures   \n",
       "37972                        Video Games,Xbox 360,Games,   \n",
       "7295                               Video Games,PC,Games,   \n",
       "37969  Video Games,Retro Gaming & Microconsoles,PlayS...   \n",
       "78253  Video Games,PlayStation 3,Interactive Gaming F...   \n",
       "17301  Video Games,Retro Gaming &amp; Microconsoles,N...   \n",
       "58876        Video Games,PC,Accessories,Gaming Keyboards   \n",
       "20620                              Video Games,PC,Games,   \n",
       "20616                              Video Games,PC,Games,   \n",
       "\n",
       "                                                imageURL  predicted_rating  \n",
       "7714   [https://images-na.ssl-images-amazon.com/image...               5.0  \n",
       "70490  [https://images-na.ssl-images-amazon.com/image...               5.0  \n",
       "37972  [https://images-na.ssl-images-amazon.com/image...               5.0  \n",
       "7295   [https://images-na.ssl-images-amazon.com/image...               5.0  \n",
       "37969  [https://images-na.ssl-images-amazon.com/image...               5.0  \n",
       "78253  [https://images-na.ssl-images-amazon.com/image...               5.0  \n",
       "17301  [https://images-na.ssl-images-amazon.com/image...               5.0  \n",
       "58876  [https://images-na.ssl-images-amazon.com/image...               5.0  \n",
       "20620  [https://images-na.ssl-images-amazon.com/image...               5.0  \n",
       "20616  [https://images-na.ssl-images-amazon.com/image...               5.0  "
      ]
     },
     "execution_count": 507,
     "metadata": {},
     "output_type": "execute_result"
    }
   ],
   "source": [
    "recom = buyer_recommended_products('A1HP7NVNPFMA4N', 10)\n",
    "recom"
   ]
  },
  {
   "cell_type": "markdown",
   "metadata": {},
   "source": [
    "## Conclusion & Next Step"
   ]
  },
  {
   "cell_type": "markdown",
   "metadata": {},
   "source": [
    "In conclusion, for the collaborative filtering the best model is  has rmse …… \n",
    "\n",
    "Next step\n",
    "- Find a better data, that contains genres of games and more complete brand information. \n",
    "- Do web scrapings to get most updated data. The current one only contains data from 1996-2018\n",
    "- Deploy the recommendation system on the website and do A/B test "
   ]
  }
 ],
 "metadata": {
  "kernelspec": {
   "display_name": "Python 3 (ipykernel)",
   "language": "python",
   "name": "python3"
  },
  "language_info": {
   "codemirror_mode": {
    "name": "ipython",
    "version": 3
   },
   "file_extension": ".py",
   "mimetype": "text/x-python",
   "name": "python",
   "nbconvert_exporter": "python",
   "pygments_lexer": "ipython3",
   "version": "3.9.12"
  }
 },
 "nbformat": 4,
 "nbformat_minor": 4
}
