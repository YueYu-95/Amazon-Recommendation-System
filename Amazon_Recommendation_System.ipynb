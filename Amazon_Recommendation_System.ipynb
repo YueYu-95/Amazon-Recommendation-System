{
 "cells": [
  {
   "cell_type": "markdown",
   "metadata": {},
   "source": [
    "# Amazon Video Games Recommendation System"
   ]
  },
  {
   "cell_type": "markdown",
   "metadata": {},
   "source": [
    "## Business Understanding"
   ]
  },
  {
   "cell_type": "markdown",
   "metadata": {},
   "source": [
    "In order to enhance the customer’s shopping experience, the online shopping sites usually have their own recommendation system to personalize each customer's shopping experience. Besides,according to [the research on personalization](https://www.accenture.com/_acnmedia/PDF-77/Accenture-Pulse-Survey.pdf) from Accenture, up to 91% of online store customers admit that they are more likely to use a brand that can personalizes their experience, and 98% of eCommerce website owners say that personalization improves their relationships with customers. Same as Amazon, as one of the biggest online retailers, Amazon has large number of products and variety of shopping categories. Hence, recommendation system becomes a powerful tool that can guide customers to the potential products they are looking for in a time saving way. Just like people who want to shop video games on Amazon, a good recommendation system could guide customers to their potentially interested games among thousands of products in a quick and easy way. Besides, Amazon’s variety of product categories can provide customers more than just games, but also accessories. For example, customers may also need a controller or headphone. We could deploy the recommendation system at checkout page as a reminder and motive customers to purchase more. Hence, a great recommendation system could make Amazon to be a one-stop shop for every gamer."
   ]
  },
  {
   "cell_type": "code",
   "execution_count": 2,
   "metadata": {},
   "outputs": [],
   "source": [
    "import json\n",
    "import gzip\n",
    "import re\n",
    "import joblib\n",
    "import pandas as pd\n",
    "import numpy as np\n",
    "import matplotlib.pyplot as plt\n",
    "from collections import Counter\n",
    "from surprise import Reader, Dataset, accuracy, NormalPredictor, BaselineOnly, KNNBasic, KNNWithMeans, KNNWithZScore, SVD, SVDpp\n",
    "from sklearn.metrics.pairwise import linear_kernel, cosine_similarity\n",
    "from surprise.model_selection import cross_validate, train_test_split, GridSearchCV"
   ]
  },
  {
   "cell_type": "markdown",
   "metadata": {},
   "source": [
    "## Data Understanding"
   ]
  },
  {
   "cell_type": "markdown",
   "metadata": {},
   "source": [
    "The data I used for the project is originally from Amazon.com and collected by department of computer science from UCSD. Due to the large size of the datasets, I’m not able to upload my data to this GitHub repository, but [here](https://nijianmo.github.io/amazon/index.html 'link to access data') is the link to access the data I used. There is a empty Data folder in the GitHub repository. To read the data in this notebook, please download the data and put the dataset in the Data folder. The dataset contains user review from May 1996 to Oct 2018 and each item have at least 5 reviews (5-core). Plus, a metadata includes descriptions, price, sales-rank, brand info of video games. (Video Games: 5-core, metadata)"
   ]
  },
  {
   "cell_type": "markdown",
   "metadata": {},
   "source": [
    "Both datasets are gzip JSON files, need compress them when read the data."
   ]
  },
  {
   "cell_type": "code",
   "execution_count": 3,
   "metadata": {},
   "outputs": [],
   "source": [
    "df_review = pd.read_json('Data/Video_Games_5.json.gz', compression='gzip', lines=True)"
   ]
  },
  {
   "cell_type": "code",
   "execution_count": 4,
   "metadata": {},
   "outputs": [],
   "source": [
    "df_prod = pd.read_json('Data/meta_Video_Games.json.gz', compression='gzip', lines=True)"
   ]
  },
  {
   "cell_type": "code",
   "execution_count": 5,
   "metadata": {},
   "outputs": [
    {
     "data": {
      "text/html": [
       "<div>\n",
       "<style scoped>\n",
       "    .dataframe tbody tr th:only-of-type {\n",
       "        vertical-align: middle;\n",
       "    }\n",
       "\n",
       "    .dataframe tbody tr th {\n",
       "        vertical-align: top;\n",
       "    }\n",
       "\n",
       "    .dataframe thead th {\n",
       "        text-align: right;\n",
       "    }\n",
       "</style>\n",
       "<table border=\"1\" class=\"dataframe\">\n",
       "  <thead>\n",
       "    <tr style=\"text-align: right;\">\n",
       "      <th></th>\n",
       "      <th>overall</th>\n",
       "      <th>verified</th>\n",
       "      <th>reviewTime</th>\n",
       "      <th>reviewerID</th>\n",
       "      <th>asin</th>\n",
       "      <th>reviewerName</th>\n",
       "      <th>reviewText</th>\n",
       "      <th>summary</th>\n",
       "      <th>unixReviewTime</th>\n",
       "      <th>vote</th>\n",
       "      <th>style</th>\n",
       "      <th>image</th>\n",
       "    </tr>\n",
       "  </thead>\n",
       "  <tbody>\n",
       "    <tr>\n",
       "      <th>0</th>\n",
       "      <td>5</td>\n",
       "      <td>True</td>\n",
       "      <td>10 17, 2015</td>\n",
       "      <td>A1HP7NVNPFMA4N</td>\n",
       "      <td>0700026657</td>\n",
       "      <td>Ambrosia075</td>\n",
       "      <td>This game is a bit hard to get the hang of, bu...</td>\n",
       "      <td>but when you do it's great.</td>\n",
       "      <td>1445040000</td>\n",
       "      <td>NaN</td>\n",
       "      <td>NaN</td>\n",
       "      <td>NaN</td>\n",
       "    </tr>\n",
       "    <tr>\n",
       "      <th>1</th>\n",
       "      <td>4</td>\n",
       "      <td>False</td>\n",
       "      <td>07 27, 2015</td>\n",
       "      <td>A1JGAP0185YJI6</td>\n",
       "      <td>0700026657</td>\n",
       "      <td>travis</td>\n",
       "      <td>I played it a while but it was alright. The st...</td>\n",
       "      <td>But in spite of that it was fun, I liked it</td>\n",
       "      <td>1437955200</td>\n",
       "      <td>NaN</td>\n",
       "      <td>NaN</td>\n",
       "      <td>NaN</td>\n",
       "    </tr>\n",
       "    <tr>\n",
       "      <th>2</th>\n",
       "      <td>3</td>\n",
       "      <td>True</td>\n",
       "      <td>02 23, 2015</td>\n",
       "      <td>A1YJWEXHQBWK2B</td>\n",
       "      <td>0700026657</td>\n",
       "      <td>Vincent G. Mezera</td>\n",
       "      <td>ok game.</td>\n",
       "      <td>Three Stars</td>\n",
       "      <td>1424649600</td>\n",
       "      <td>NaN</td>\n",
       "      <td>NaN</td>\n",
       "      <td>NaN</td>\n",
       "    </tr>\n",
       "    <tr>\n",
       "      <th>3</th>\n",
       "      <td>2</td>\n",
       "      <td>True</td>\n",
       "      <td>02 20, 2015</td>\n",
       "      <td>A2204E1TH211HT</td>\n",
       "      <td>0700026657</td>\n",
       "      <td>Grandma KR</td>\n",
       "      <td>found the game a bit too complicated, not what...</td>\n",
       "      <td>Two Stars</td>\n",
       "      <td>1424390400</td>\n",
       "      <td>NaN</td>\n",
       "      <td>NaN</td>\n",
       "      <td>NaN</td>\n",
       "    </tr>\n",
       "    <tr>\n",
       "      <th>4</th>\n",
       "      <td>5</td>\n",
       "      <td>True</td>\n",
       "      <td>12 25, 2014</td>\n",
       "      <td>A2RF5B5H74JLPE</td>\n",
       "      <td>0700026657</td>\n",
       "      <td>jon</td>\n",
       "      <td>great game, I love it and have played it since...</td>\n",
       "      <td>love this game</td>\n",
       "      <td>1419465600</td>\n",
       "      <td>NaN</td>\n",
       "      <td>NaN</td>\n",
       "      <td>NaN</td>\n",
       "    </tr>\n",
       "  </tbody>\n",
       "</table>\n",
       "</div>"
      ],
      "text/plain": [
       "   overall  verified   reviewTime      reviewerID        asin  \\\n",
       "0        5      True  10 17, 2015  A1HP7NVNPFMA4N  0700026657   \n",
       "1        4     False  07 27, 2015  A1JGAP0185YJI6  0700026657   \n",
       "2        3      True  02 23, 2015  A1YJWEXHQBWK2B  0700026657   \n",
       "3        2      True  02 20, 2015  A2204E1TH211HT  0700026657   \n",
       "4        5      True  12 25, 2014  A2RF5B5H74JLPE  0700026657   \n",
       "\n",
       "        reviewerName                                         reviewText  \\\n",
       "0        Ambrosia075  This game is a bit hard to get the hang of, bu...   \n",
       "1             travis  I played it a while but it was alright. The st...   \n",
       "2  Vincent G. Mezera                                           ok game.   \n",
       "3         Grandma KR  found the game a bit too complicated, not what...   \n",
       "4                jon  great game, I love it and have played it since...   \n",
       "\n",
       "                                       summary  unixReviewTime vote style  \\\n",
       "0                  but when you do it's great.      1445040000  NaN   NaN   \n",
       "1  But in spite of that it was fun, I liked it      1437955200  NaN   NaN   \n",
       "2                                  Three Stars      1424649600  NaN   NaN   \n",
       "3                                    Two Stars      1424390400  NaN   NaN   \n",
       "4                               love this game      1419465600  NaN   NaN   \n",
       "\n",
       "  image  \n",
       "0   NaN  \n",
       "1   NaN  \n",
       "2   NaN  \n",
       "3   NaN  \n",
       "4   NaN  "
      ]
     },
     "execution_count": 5,
     "metadata": {},
     "output_type": "execute_result"
    }
   ],
   "source": [
    "df_review.head()"
   ]
  },
  {
   "cell_type": "code",
   "execution_count": 6,
   "metadata": {},
   "outputs": [
    {
     "name": "stdout",
     "output_type": "stream",
     "text": [
      "<class 'pandas.core.frame.DataFrame'>\n",
      "RangeIndex: 497577 entries, 0 to 497576\n",
      "Data columns (total 12 columns):\n",
      " #   Column          Non-Null Count   Dtype \n",
      "---  ------          --------------   ----- \n",
      " 0   overall         497577 non-null  int64 \n",
      " 1   verified        497577 non-null  bool  \n",
      " 2   reviewTime      497577 non-null  object\n",
      " 3   reviewerID      497577 non-null  object\n",
      " 4   asin            497577 non-null  object\n",
      " 5   reviewerName    497501 non-null  object\n",
      " 6   reviewText      497419 non-null  object\n",
      " 7   summary         497468 non-null  object\n",
      " 8   unixReviewTime  497577 non-null  int64 \n",
      " 9   vote            107793 non-null  object\n",
      " 10  style           289237 non-null  object\n",
      " 11  image           3634 non-null    object\n",
      "dtypes: bool(1), int64(2), object(9)\n",
      "memory usage: 42.2+ MB\n"
     ]
    }
   ],
   "source": [
    "df_review.info()"
   ]
  },
  {
   "cell_type": "code",
   "execution_count": 7,
   "metadata": {
    "scrolled": true
   },
   "outputs": [
    {
     "data": {
      "text/html": [
       "<div>\n",
       "<style scoped>\n",
       "    .dataframe tbody tr th:only-of-type {\n",
       "        vertical-align: middle;\n",
       "    }\n",
       "\n",
       "    .dataframe tbody tr th {\n",
       "        vertical-align: top;\n",
       "    }\n",
       "\n",
       "    .dataframe thead th {\n",
       "        text-align: right;\n",
       "    }\n",
       "</style>\n",
       "<table border=\"1\" class=\"dataframe\">\n",
       "  <thead>\n",
       "    <tr style=\"text-align: right;\">\n",
       "      <th></th>\n",
       "      <th>category</th>\n",
       "      <th>tech1</th>\n",
       "      <th>description</th>\n",
       "      <th>fit</th>\n",
       "      <th>title</th>\n",
       "      <th>also_buy</th>\n",
       "      <th>tech2</th>\n",
       "      <th>brand</th>\n",
       "      <th>feature</th>\n",
       "      <th>rank</th>\n",
       "      <th>also_view</th>\n",
       "      <th>main_cat</th>\n",
       "      <th>similar_item</th>\n",
       "      <th>date</th>\n",
       "      <th>price</th>\n",
       "      <th>asin</th>\n",
       "      <th>imageURL</th>\n",
       "      <th>imageURLHighRes</th>\n",
       "      <th>details</th>\n",
       "    </tr>\n",
       "  </thead>\n",
       "  <tbody>\n",
       "    <tr>\n",
       "      <th>0</th>\n",
       "      <td>[Video Games, PC, Games]</td>\n",
       "      <td></td>\n",
       "      <td>[]</td>\n",
       "      <td></td>\n",
       "      <td>Reversi Sensory Challenger</td>\n",
       "      <td>[]</td>\n",
       "      <td></td>\n",
       "      <td>Fidelity Electronics</td>\n",
       "      <td>[]</td>\n",
       "      <td>[&gt;#2,623,937 in Toys &amp;amp; Games (See Top 100 ...</td>\n",
       "      <td>[]</td>\n",
       "      <td>Toys &amp;amp; Games</td>\n",
       "      <td></td>\n",
       "      <td></td>\n",
       "      <td></td>\n",
       "      <td>0042000742</td>\n",
       "      <td>[https://images-na.ssl-images-amazon.com/image...</td>\n",
       "      <td>[https://images-na.ssl-images-amazon.com/image...</td>\n",
       "      <td>NaN</td>\n",
       "    </tr>\n",
       "    <tr>\n",
       "      <th>1</th>\n",
       "      <td>[Video Games, Xbox 360, Games, &lt;/span&gt;&lt;/span&gt;&lt;...</td>\n",
       "      <td></td>\n",
       "      <td>[Brand new sealed!]</td>\n",
       "      <td></td>\n",
       "      <td>Medal of Honor: Warfighter - Includes Battlefi...</td>\n",
       "      <td>[B00PADROYW]</td>\n",
       "      <td></td>\n",
       "      <td>by\\n    \\n    EA Games</td>\n",
       "      <td>[]</td>\n",
       "      <td>[&gt;#67,231 in Video Games (See Top 100 in Video...</td>\n",
       "      <td>[B0050SY5BM, B072NQJCW5, B000TI836G, B002SRSQ7...</td>\n",
       "      <td>Video Games</td>\n",
       "      <td></td>\n",
       "      <td></td>\n",
       "      <td>\\n\\t\\t\\t\\t\\t\\t\\t\\t\\t\\t\\t\\t&lt;span class=\"vertica...</td>\n",
       "      <td>0078764343</td>\n",
       "      <td>[https://images-na.ssl-images-amazon.com/image...</td>\n",
       "      <td>[https://images-na.ssl-images-amazon.com/image...</td>\n",
       "      <td>NaN</td>\n",
       "    </tr>\n",
       "    <tr>\n",
       "      <th>2</th>\n",
       "      <td>[Video Games, Retro Gaming &amp; Microconsoles, Su...</td>\n",
       "      <td></td>\n",
       "      <td>[]</td>\n",
       "      <td></td>\n",
       "      <td>street fighter 2 II turbo super nintendo snes ...</td>\n",
       "      <td>[]</td>\n",
       "      <td></td>\n",
       "      <td>Nintendo</td>\n",
       "      <td>[]</td>\n",
       "      <td>[&gt;#134,433 in Video Games (See Top 100 in Vide...</td>\n",
       "      <td>[]</td>\n",
       "      <td>Video Games</td>\n",
       "      <td></td>\n",
       "      <td></td>\n",
       "      <td>$0.72</td>\n",
       "      <td>0276425316</td>\n",
       "      <td>[]</td>\n",
       "      <td>[]</td>\n",
       "      <td>NaN</td>\n",
       "    </tr>\n",
       "    <tr>\n",
       "      <th>3</th>\n",
       "      <td>[Video Games, Xbox 360, Accessories, Controlle...</td>\n",
       "      <td></td>\n",
       "      <td>[MAS's Pro Xbox 360 Stick (Perfect 360 Stick) ...</td>\n",
       "      <td></td>\n",
       "      <td>Xbox 360 MAS STICK</td>\n",
       "      <td>[]</td>\n",
       "      <td></td>\n",
       "      <td>by\\n    \\n    MAS SYSTEMS</td>\n",
       "      <td>[Original PCB used from Xbox 360 Control Pad (...</td>\n",
       "      <td>[&gt;#105,263 in Video Games (See Top 100 in Vide...</td>\n",
       "      <td>[]</td>\n",
       "      <td>Video Games</td>\n",
       "      <td></td>\n",
       "      <td></td>\n",
       "      <td></td>\n",
       "      <td>0324411812</td>\n",
       "      <td>[https://images-na.ssl-images-amazon.com/image...</td>\n",
       "      <td>[https://images-na.ssl-images-amazon.com/image...</td>\n",
       "      <td>NaN</td>\n",
       "    </tr>\n",
       "    <tr>\n",
       "      <th>4</th>\n",
       "      <td>[Video Games, PC, Games, &lt;/span&gt;&lt;/span&gt;&lt;/span&gt;...</td>\n",
       "      <td></td>\n",
       "      <td>[Phonics Alive! 3, The Speller teaches student...</td>\n",
       "      <td></td>\n",
       "      <td>Phonics Alive! 3: The Speller</td>\n",
       "      <td>[]</td>\n",
       "      <td></td>\n",
       "      <td>by\\n    \\n    Advanced Software Pty. Ltd.</td>\n",
       "      <td>[Grades 2-12, Spelling Program, Teaches Spelli...</td>\n",
       "      <td>[&gt;#92,397 in Video Games (See Top 100 in Video...</td>\n",
       "      <td>[B000BCZ7U0]</td>\n",
       "      <td>Video Games</td>\n",
       "      <td></td>\n",
       "      <td></td>\n",
       "      <td></td>\n",
       "      <td>0439335310</td>\n",
       "      <td>[https://images-na.ssl-images-amazon.com/image...</td>\n",
       "      <td>[https://images-na.ssl-images-amazon.com/image...</td>\n",
       "      <td>NaN</td>\n",
       "    </tr>\n",
       "  </tbody>\n",
       "</table>\n",
       "</div>"
      ],
      "text/plain": [
       "                                            category tech1  \\\n",
       "0                           [Video Games, PC, Games]         \n",
       "1  [Video Games, Xbox 360, Games, </span></span><...         \n",
       "2  [Video Games, Retro Gaming & Microconsoles, Su...         \n",
       "3  [Video Games, Xbox 360, Accessories, Controlle...         \n",
       "4  [Video Games, PC, Games, </span></span></span>...         \n",
       "\n",
       "                                         description fit  \\\n",
       "0                                                 []       \n",
       "1                                [Brand new sealed!]       \n",
       "2                                                 []       \n",
       "3  [MAS's Pro Xbox 360 Stick (Perfect 360 Stick) ...       \n",
       "4  [Phonics Alive! 3, The Speller teaches student...       \n",
       "\n",
       "                                               title      also_buy tech2  \\\n",
       "0                         Reversi Sensory Challenger            []         \n",
       "1  Medal of Honor: Warfighter - Includes Battlefi...  [B00PADROYW]         \n",
       "2  street fighter 2 II turbo super nintendo snes ...            []         \n",
       "3                                 Xbox 360 MAS STICK            []         \n",
       "4                      Phonics Alive! 3: The Speller            []         \n",
       "\n",
       "                                       brand  \\\n",
       "0                       Fidelity Electronics   \n",
       "1                     by\\n    \\n    EA Games   \n",
       "2                                   Nintendo   \n",
       "3                  by\\n    \\n    MAS SYSTEMS   \n",
       "4  by\\n    \\n    Advanced Software Pty. Ltd.   \n",
       "\n",
       "                                             feature  \\\n",
       "0                                                 []   \n",
       "1                                                 []   \n",
       "2                                                 []   \n",
       "3  [Original PCB used from Xbox 360 Control Pad (...   \n",
       "4  [Grades 2-12, Spelling Program, Teaches Spelli...   \n",
       "\n",
       "                                                rank  \\\n",
       "0  [>#2,623,937 in Toys &amp; Games (See Top 100 ...   \n",
       "1  [>#67,231 in Video Games (See Top 100 in Video...   \n",
       "2  [>#134,433 in Video Games (See Top 100 in Vide...   \n",
       "3  [>#105,263 in Video Games (See Top 100 in Vide...   \n",
       "4  [>#92,397 in Video Games (See Top 100 in Video...   \n",
       "\n",
       "                                           also_view          main_cat  \\\n",
       "0                                                 []  Toys &amp; Games   \n",
       "1  [B0050SY5BM, B072NQJCW5, B000TI836G, B002SRSQ7...       Video Games   \n",
       "2                                                 []       Video Games   \n",
       "3                                                 []       Video Games   \n",
       "4                                       [B000BCZ7U0]       Video Games   \n",
       "\n",
       "  similar_item date                                              price  \\\n",
       "0                                                                        \n",
       "1                    \\n\\t\\t\\t\\t\\t\\t\\t\\t\\t\\t\\t\\t<span class=\"vertica...   \n",
       "2                                                                $0.72   \n",
       "3                                                                        \n",
       "4                                                                        \n",
       "\n",
       "         asin                                           imageURL  \\\n",
       "0  0042000742  [https://images-na.ssl-images-amazon.com/image...   \n",
       "1  0078764343  [https://images-na.ssl-images-amazon.com/image...   \n",
       "2  0276425316                                                 []   \n",
       "3  0324411812  [https://images-na.ssl-images-amazon.com/image...   \n",
       "4  0439335310  [https://images-na.ssl-images-amazon.com/image...   \n",
       "\n",
       "                                     imageURLHighRes details  \n",
       "0  [https://images-na.ssl-images-amazon.com/image...     NaN  \n",
       "1  [https://images-na.ssl-images-amazon.com/image...     NaN  \n",
       "2                                                 []     NaN  \n",
       "3  [https://images-na.ssl-images-amazon.com/image...     NaN  \n",
       "4  [https://images-na.ssl-images-amazon.com/image...     NaN  "
      ]
     },
     "execution_count": 7,
     "metadata": {},
     "output_type": "execute_result"
    }
   ],
   "source": [
    "df_prod.head()"
   ]
  },
  {
   "cell_type": "code",
   "execution_count": 8,
   "metadata": {
    "scrolled": true
   },
   "outputs": [
    {
     "name": "stdout",
     "output_type": "stream",
     "text": [
      "<class 'pandas.core.frame.DataFrame'>\n",
      "RangeIndex: 84819 entries, 0 to 84818\n",
      "Data columns (total 19 columns):\n",
      " #   Column           Non-Null Count  Dtype \n",
      "---  ------           --------------  ----- \n",
      " 0   category         84819 non-null  object\n",
      " 1   tech1            84819 non-null  object\n",
      " 2   description      84819 non-null  object\n",
      " 3   fit              84819 non-null  object\n",
      " 4   title            84819 non-null  object\n",
      " 5   also_buy         84819 non-null  object\n",
      " 6   tech2            84819 non-null  object\n",
      " 7   brand            84819 non-null  object\n",
      " 8   feature          84819 non-null  object\n",
      " 9   rank             84819 non-null  object\n",
      " 10  also_view        84819 non-null  object\n",
      " 11  main_cat         84819 non-null  object\n",
      " 12  similar_item     84819 non-null  object\n",
      " 13  date             84819 non-null  object\n",
      " 14  price            84819 non-null  object\n",
      " 15  asin             84819 non-null  object\n",
      " 16  imageURL         84819 non-null  object\n",
      " 17  imageURLHighRes  84819 non-null  object\n",
      " 18  details          84712 non-null  object\n",
      "dtypes: object(19)\n",
      "memory usage: 12.3+ MB\n"
     ]
    }
   ],
   "source": [
    "df_prod.info()"
   ]
  },
  {
   "cell_type": "markdown",
   "metadata": {},
   "source": [
    "First do some data cleaning on metadata."
   ]
  },
  {
   "cell_type": "code",
   "execution_count": 9,
   "metadata": {
    "scrolled": false
   },
   "outputs": [
    {
     "data": {
      "text/plain": [
       "(25460,)"
      ]
     },
     "execution_count": 9,
     "metadata": {},
     "output_type": "execute_result"
    }
   ],
   "source": [
    "df_prod['price'].loc[df_prod['price']==''].shape"
   ]
  },
  {
   "cell_type": "code",
   "execution_count": 11,
   "metadata": {},
   "outputs": [
    {
     "data": {
      "text/html": [
       "<div>\n",
       "<style scoped>\n",
       "    .dataframe tbody tr th:only-of-type {\n",
       "        vertical-align: middle;\n",
       "    }\n",
       "\n",
       "    .dataframe tbody tr th {\n",
       "        vertical-align: top;\n",
       "    }\n",
       "\n",
       "    .dataframe thead th {\n",
       "        text-align: right;\n",
       "    }\n",
       "</style>\n",
       "<table border=\"1\" class=\"dataframe\">\n",
       "  <thead>\n",
       "    <tr style=\"text-align: right;\">\n",
       "      <th></th>\n",
       "      <th>category</th>\n",
       "      <th>tech1</th>\n",
       "      <th>description</th>\n",
       "      <th>fit</th>\n",
       "      <th>title</th>\n",
       "      <th>also_buy</th>\n",
       "      <th>tech2</th>\n",
       "      <th>brand</th>\n",
       "      <th>feature</th>\n",
       "      <th>rank</th>\n",
       "      <th>also_view</th>\n",
       "      <th>main_cat</th>\n",
       "      <th>similar_item</th>\n",
       "      <th>date</th>\n",
       "      <th>price</th>\n",
       "      <th>asin</th>\n",
       "      <th>imageURL</th>\n",
       "      <th>imageURLHighRes</th>\n",
       "      <th>details</th>\n",
       "    </tr>\n",
       "  </thead>\n",
       "  <tbody>\n",
       "    <tr>\n",
       "      <th>13214</th>\n",
       "      <td>[Video Games, Retro Gaming &amp; Microconsoles, Ni...</td>\n",
       "      <td></td>\n",
       "      <td>[front label very worn, Slam the pedal to the ...</td>\n",
       "      <td></td>\n",
       "      <td>Cruis'n USA</td>\n",
       "      <td>[B00002STGZ, B00002STI2, B00000DMAO, B00000F1G...</td>\n",
       "      <td></td>\n",
       "      <td>Nintendo</td>\n",
       "      <td>[Nintendo 64 Classic Fun Racing Game]</td>\n",
       "      <td>[&gt;#11,106 in Video Games (See Top 100 in Video...</td>\n",
       "      <td>[B00002STGZ, B00002STI2, B00000DMAX, B00000F1G...</td>\n",
       "      <td>Video Games</td>\n",
       "      <td></td>\n",
       "      <td></td>\n",
       "      <td>$12.34</td>\n",
       "      <td>B00000ID60</td>\n",
       "      <td>[https://images-na.ssl-images-amazon.com/image...</td>\n",
       "      <td>[https://images-na.ssl-images-amazon.com/image...</td>\n",
       "      <td>{}</td>\n",
       "    </tr>\n",
       "    <tr>\n",
       "      <th>13215</th>\n",
       "      <td>[Video Games, Retro Gaming &amp; Microconsoles, Pl...</td>\n",
       "      <td></td>\n",
       "      <td>[COOL BOARDERS 3 brings the actions and excite...</td>\n",
       "      <td></td>\n",
       "      <td>Cool Boarders 3</td>\n",
       "      <td>[B00002STQV, B000034DBX, B0045L3SNQ, B00001QED...</td>\n",
       "      <td></td>\n",
       "      <td>989 Studios</td>\n",
       "      <td>[ALL TIME CLASSIC, GREAT BOARDING GAME, GREAT ...</td>\n",
       "      <td>[&gt;#22,481 in Video Games (See Top 100 in Video...</td>\n",
       "      <td>[B00002STQV, B000034DBX, B000051TVF, B00000I1B...</td>\n",
       "      <td>Video Games</td>\n",
       "      <td></td>\n",
       "      <td></td>\n",
       "      <td>$16.99</td>\n",
       "      <td>B00000IFKW</td>\n",
       "      <td>[]</td>\n",
       "      <td>[]</td>\n",
       "      <td>{}</td>\n",
       "    </tr>\n",
       "    <tr>\n",
       "      <th>13216</th>\n",
       "      <td>[Video Games, Retro Gaming &amp; Microconsoles, Pl...</td>\n",
       "      <td></td>\n",
       "      <td>[Factory Sealed, What do you get when you have...</td>\n",
       "      <td></td>\n",
       "      <td>Blast Radius</td>\n",
       "      <td>[B00000IFRG]</td>\n",
       "      <td></td>\n",
       "      <td>Psygnosis</td>\n",
       "      <td>[Factory Sealed]</td>\n",
       "      <td>[&gt;#74,004 in Video Games (See Top 100 in Video...</td>\n",
       "      <td>[]</td>\n",
       "      <td>Video Games</td>\n",
       "      <td></td>\n",
       "      <td></td>\n",
       "      <td>$14.95</td>\n",
       "      <td>B00000IFKV</td>\n",
       "      <td>[https://images-na.ssl-images-amazon.com/image...</td>\n",
       "      <td>[https://images-na.ssl-images-amazon.com/image...</td>\n",
       "      <td>{}</td>\n",
       "    </tr>\n",
       "    <tr>\n",
       "      <th>13217</th>\n",
       "      <td>[Video Games, Retro Gaming &amp; Microconsoles, Ni...</td>\n",
       "      <td></td>\n",
       "      <td>[Mario Party [Japanese Import] for Nintendo 64...</td>\n",
       "      <td></td>\n",
       "      <td>Mario Party</td>\n",
       "      <td>[B000046Q7Q, B00000DMAX, B00005AW1W, B00002DHE...</td>\n",
       "      <td></td>\n",
       "      <td>Nintendo</td>\n",
       "      <td>[Mini Games]</td>\n",
       "      <td>[&gt;#3,000 in Video Games (See Top 100 in Video ...</td>\n",
       "      <td>[B00005AW1W, B00000DMAX, B0795F9PFR, B000046Q7...</td>\n",
       "      <td>Video Games</td>\n",
       "      <td></td>\n",
       "      <td></td>\n",
       "      <td>$59.59</td>\n",
       "      <td>B00000IFRI</td>\n",
       "      <td>[]</td>\n",
       "      <td>[]</td>\n",
       "      <td>{}</td>\n",
       "    </tr>\n",
       "    <tr>\n",
       "      <th>13218</th>\n",
       "      <td>[Video Games, Retro Gaming &amp;amp; Microconsoles...</td>\n",
       "      <td></td>\n",
       "      <td>[In Colony Wars: Vengeance, the sequel to Psyg...</td>\n",
       "      <td></td>\n",
       "      <td>Colony Wars Vengeance</td>\n",
       "      <td>[B00002SVMG, B00004TTIE, B00002SVMF, B00000IFK...</td>\n",
       "      <td></td>\n",
       "      <td>Activision</td>\n",
       "      <td>[]</td>\n",
       "      <td>[&gt;#46,355 in Video Games (See Top 100 in Video...</td>\n",
       "      <td>[B00002SVMG, B00004TTIE, B00004XOWT, B0045L3SNQ]</td>\n",
       "      <td>Video Games</td>\n",
       "      <td></td>\n",
       "      <td></td>\n",
       "      <td>$9.25</td>\n",
       "      <td>B00000IFRG</td>\n",
       "      <td>[https://images-na.ssl-images-amazon.com/image...</td>\n",
       "      <td>[https://images-na.ssl-images-amazon.com/image...</td>\n",
       "      <td>{}</td>\n",
       "    </tr>\n",
       "    <tr>\n",
       "      <th>...</th>\n",
       "      <td>...</td>\n",
       "      <td>...</td>\n",
       "      <td>...</td>\n",
       "      <td>...</td>\n",
       "      <td>...</td>\n",
       "      <td>...</td>\n",
       "      <td>...</td>\n",
       "      <td>...</td>\n",
       "      <td>...</td>\n",
       "      <td>...</td>\n",
       "      <td>...</td>\n",
       "      <td>...</td>\n",
       "      <td>...</td>\n",
       "      <td>...</td>\n",
       "      <td>...</td>\n",
       "      <td>...</td>\n",
       "      <td>...</td>\n",
       "      <td>...</td>\n",
       "      <td>...</td>\n",
       "    </tr>\n",
       "    <tr>\n",
       "      <th>26117</th>\n",
       "      <td>[Video Games, PC, Games, &lt;/span&gt;&lt;/span&gt;&lt;/span&gt;...</td>\n",
       "      <td></td>\n",
       "      <td>[Casino 5 Pack is for fans of casino games who...</td>\n",
       "      <td></td>\n",
       "      <td>Casino 5 Pack - PC</td>\n",
       "      <td>[]</td>\n",
       "      <td></td>\n",
       "      <td>by\\n    \\n    WB Games</td>\n",
       "      <td>[Choose from Slots, Poker, Video Poker, Keno o...</td>\n",
       "      <td>[&gt;#177,153 in Video Games (See Top 100 in Vide...</td>\n",
       "      <td>[]</td>\n",
       "      <td>Video Games</td>\n",
       "      <td></td>\n",
       "      <td></td>\n",
       "      <td>\\n\\t\\t                                        ...</td>\n",
       "      <td>B0004F3332</td>\n",
       "      <td>[https://images-na.ssl-images-amazon.com/image...</td>\n",
       "      <td>[https://images-na.ssl-images-amazon.com/image...</td>\n",
       "      <td>{}</td>\n",
       "    </tr>\n",
       "    <tr>\n",
       "      <th>26118</th>\n",
       "      <td>[Video Games, PC, Games, &lt;/span&gt;&lt;/span&gt;&lt;/span&gt;...</td>\n",
       "      <td></td>\n",
       "      <td>[LIKE NEW]</td>\n",
       "      <td></td>\n",
       "      <td>WWE Raw (Jewel Case) - PC</td>\n",
       "      <td>[]</td>\n",
       "      <td></td>\n",
       "      <td>by\\n    \\n    THQ</td>\n",
       "      <td>[LIKE NEW]</td>\n",
       "      <td>[&gt;#89,785 in Video Games (See Top 100 in Video...</td>\n",
       "      <td>[]</td>\n",
       "      <td>Video Games</td>\n",
       "      <td></td>\n",
       "      <td></td>\n",
       "      <td></td>\n",
       "      <td>B0004M0SDI</td>\n",
       "      <td>[https://images-na.ssl-images-amazon.com/image...</td>\n",
       "      <td>[https://images-na.ssl-images-amazon.com/image...</td>\n",
       "      <td>{}</td>\n",
       "    </tr>\n",
       "    <tr>\n",
       "      <th>26119</th>\n",
       "      <td>[Video Games, PC, Games]</td>\n",
       "      <td></td>\n",
       "      <td>[Take your adrenal glands headlong into the wh...</td>\n",
       "      <td></td>\n",
       "      <td>AMA Superbike [CD]</td>\n",
       "      <td>[]</td>\n",
       "      <td></td>\n",
       "      <td>Valuesoft</td>\n",
       "      <td>[PC]</td>\n",
       "      <td>[&gt;#211,978 in Video Games (See Top 100 in Vide...</td>\n",
       "      <td>[]</td>\n",
       "      <td>Video Games</td>\n",
       "      <td></td>\n",
       "      <td></td>\n",
       "      <td>$24.94</td>\n",
       "      <td>B0005D452G</td>\n",
       "      <td>[]</td>\n",
       "      <td>[]</td>\n",
       "      <td>{}</td>\n",
       "    </tr>\n",
       "    <tr>\n",
       "      <th>26120</th>\n",
       "      <td>[Video Games, PC, Games]</td>\n",
       "      <td></td>\n",
       "      <td>[In the magical kingdom of Daventry, Queen Val...</td>\n",
       "      <td></td>\n",
       "      <td>King's Quest VII: Princeless Bride</td>\n",
       "      <td>[]</td>\n",
       "      <td></td>\n",
       "      <td>Sierra On-Line, Inc.</td>\n",
       "      <td>[]</td>\n",
       "      <td>[&gt;#56,983 in Video Games (See Top 100 in Video...</td>\n",
       "      <td>[B0125NDB28, B000AYFPKG, B00164CHN2, B000P0JQF...</td>\n",
       "      <td>Video Games</td>\n",
       "      <td></td>\n",
       "      <td></td>\n",
       "      <td></td>\n",
       "      <td>B0005PHYPO</td>\n",
       "      <td>[https://images-na.ssl-images-amazon.com/image...</td>\n",
       "      <td>[https://images-na.ssl-images-amazon.com/image...</td>\n",
       "      <td>{}</td>\n",
       "    </tr>\n",
       "    <tr>\n",
       "      <th>26121</th>\n",
       "      <td>[Video Games, PC, Games, &lt;/span&gt;&lt;/span&gt;&lt;/span&gt;]</td>\n",
       "      <td></td>\n",
       "      <td>[A brain-building strategy game!]</td>\n",
       "      <td></td>\n",
       "      <td>Dr. Brain Thinking Games</td>\n",
       "      <td>[B000F6BVLG]</td>\n",
       "      <td></td>\n",
       "      <td>by\\n    \\n    Knowledge Adventure</td>\n",
       "      <td>[Hundreds of puzzles, Over 20 unique locations...</td>\n",
       "      <td>[&gt;#79,120 in Video Games (See Top 100 in Video...</td>\n",
       "      <td>[B000F6BVLG, B000F9J3HC]</td>\n",
       "      <td>Video Games</td>\n",
       "      <td></td>\n",
       "      <td></td>\n",
       "      <td>\\n\\t\\t                                        ...</td>\n",
       "      <td>B0005K51GI</td>\n",
       "      <td>[https://images-na.ssl-images-amazon.com/image...</td>\n",
       "      <td>[https://images-na.ssl-images-amazon.com/image...</td>\n",
       "      <td>{}</td>\n",
       "    </tr>\n",
       "  </tbody>\n",
       "</table>\n",
       "<p>12908 rows × 19 columns</p>\n",
       "</div>"
      ],
      "text/plain": [
       "                                                category tech1  \\\n",
       "13214  [Video Games, Retro Gaming & Microconsoles, Ni...         \n",
       "13215  [Video Games, Retro Gaming & Microconsoles, Pl...         \n",
       "13216  [Video Games, Retro Gaming & Microconsoles, Pl...         \n",
       "13217  [Video Games, Retro Gaming & Microconsoles, Ni...         \n",
       "13218  [Video Games, Retro Gaming &amp; Microconsoles...         \n",
       "...                                                  ...   ...   \n",
       "26117  [Video Games, PC, Games, </span></span></span>...         \n",
       "26118  [Video Games, PC, Games, </span></span></span>...         \n",
       "26119                           [Video Games, PC, Games]         \n",
       "26120                           [Video Games, PC, Games]         \n",
       "26121    [Video Games, PC, Games, </span></span></span>]         \n",
       "\n",
       "                                             description fit  \\\n",
       "13214  [front label very worn, Slam the pedal to the ...       \n",
       "13215  [COOL BOARDERS 3 brings the actions and excite...       \n",
       "13216  [Factory Sealed, What do you get when you have...       \n",
       "13217  [Mario Party [Japanese Import] for Nintendo 64...       \n",
       "13218  [In Colony Wars: Vengeance, the sequel to Psyg...       \n",
       "...                                                  ...  ..   \n",
       "26117  [Casino 5 Pack is for fans of casino games who...       \n",
       "26118                                         [LIKE NEW]       \n",
       "26119  [Take your adrenal glands headlong into the wh...       \n",
       "26120  [In the magical kingdom of Daventry, Queen Val...       \n",
       "26121                  [A brain-building strategy game!]       \n",
       "\n",
       "                                    title  \\\n",
       "13214                         Cruis'n USA   \n",
       "13215                     Cool Boarders 3   \n",
       "13216                        Blast Radius   \n",
       "13217                         Mario Party   \n",
       "13218               Colony Wars Vengeance   \n",
       "...                                   ...   \n",
       "26117                  Casino 5 Pack - PC   \n",
       "26118           WWE Raw (Jewel Case) - PC   \n",
       "26119                  AMA Superbike [CD]   \n",
       "26120  King's Quest VII: Princeless Bride   \n",
       "26121            Dr. Brain Thinking Games   \n",
       "\n",
       "                                                also_buy tech2  \\\n",
       "13214  [B00002STGZ, B00002STI2, B00000DMAO, B00000F1G...         \n",
       "13215  [B00002STQV, B000034DBX, B0045L3SNQ, B00001QED...         \n",
       "13216                                       [B00000IFRG]         \n",
       "13217  [B000046Q7Q, B00000DMAX, B00005AW1W, B00002DHE...         \n",
       "13218  [B00002SVMG, B00004TTIE, B00002SVMF, B00000IFK...         \n",
       "...                                                  ...   ...   \n",
       "26117                                                 []         \n",
       "26118                                                 []         \n",
       "26119                                                 []         \n",
       "26120                                                 []         \n",
       "26121                                       [B000F6BVLG]         \n",
       "\n",
       "                                   brand  \\\n",
       "13214                           Nintendo   \n",
       "13215                        989 Studios   \n",
       "13216                          Psygnosis   \n",
       "13217                           Nintendo   \n",
       "13218                         Activision   \n",
       "...                                  ...   \n",
       "26117             by\\n    \\n    WB Games   \n",
       "26118                  by\\n    \\n    THQ   \n",
       "26119                          Valuesoft   \n",
       "26120               Sierra On-Line, Inc.   \n",
       "26121  by\\n    \\n    Knowledge Adventure   \n",
       "\n",
       "                                                 feature  \\\n",
       "13214              [Nintendo 64 Classic Fun Racing Game]   \n",
       "13215  [ALL TIME CLASSIC, GREAT BOARDING GAME, GREAT ...   \n",
       "13216                                   [Factory Sealed]   \n",
       "13217                                       [Mini Games]   \n",
       "13218                                                 []   \n",
       "...                                                  ...   \n",
       "26117  [Choose from Slots, Poker, Video Poker, Keno o...   \n",
       "26118                                         [LIKE NEW]   \n",
       "26119                                               [PC]   \n",
       "26120                                                 []   \n",
       "26121  [Hundreds of puzzles, Over 20 unique locations...   \n",
       "\n",
       "                                                    rank  \\\n",
       "13214  [>#11,106 in Video Games (See Top 100 in Video...   \n",
       "13215  [>#22,481 in Video Games (See Top 100 in Video...   \n",
       "13216  [>#74,004 in Video Games (See Top 100 in Video...   \n",
       "13217  [>#3,000 in Video Games (See Top 100 in Video ...   \n",
       "13218  [>#46,355 in Video Games (See Top 100 in Video...   \n",
       "...                                                  ...   \n",
       "26117  [>#177,153 in Video Games (See Top 100 in Vide...   \n",
       "26118  [>#89,785 in Video Games (See Top 100 in Video...   \n",
       "26119  [>#211,978 in Video Games (See Top 100 in Vide...   \n",
       "26120  [>#56,983 in Video Games (See Top 100 in Video...   \n",
       "26121  [>#79,120 in Video Games (See Top 100 in Video...   \n",
       "\n",
       "                                               also_view     main_cat  \\\n",
       "13214  [B00002STGZ, B00002STI2, B00000DMAX, B00000F1G...  Video Games   \n",
       "13215  [B00002STQV, B000034DBX, B000051TVF, B00000I1B...  Video Games   \n",
       "13216                                                 []  Video Games   \n",
       "13217  [B00005AW1W, B00000DMAX, B0795F9PFR, B000046Q7...  Video Games   \n",
       "13218   [B00002SVMG, B00004TTIE, B00004XOWT, B0045L3SNQ]  Video Games   \n",
       "...                                                  ...          ...   \n",
       "26117                                                 []  Video Games   \n",
       "26118                                                 []  Video Games   \n",
       "26119                                                 []  Video Games   \n",
       "26120  [B0125NDB28, B000AYFPKG, B00164CHN2, B000P0JQF...  Video Games   \n",
       "26121                           [B000F6BVLG, B000F9J3HC]  Video Games   \n",
       "\n",
       "      similar_item date                                              price  \\\n",
       "13214                                                               $12.34   \n",
       "13215                                                               $16.99   \n",
       "13216                                                               $14.95   \n",
       "13217                                                               $59.59   \n",
       "13218                                                                $9.25   \n",
       "...            ...  ...                                                ...   \n",
       "26117                    \\n\\t\\t                                        ...   \n",
       "26118                                                                        \n",
       "26119                                                               $24.94   \n",
       "26120                                                                        \n",
       "26121                    \\n\\t\\t                                        ...   \n",
       "\n",
       "             asin                                           imageURL  \\\n",
       "13214  B00000ID60  [https://images-na.ssl-images-amazon.com/image...   \n",
       "13215  B00000IFKW                                                 []   \n",
       "13216  B00000IFKV  [https://images-na.ssl-images-amazon.com/image...   \n",
       "13217  B00000IFRI                                                 []   \n",
       "13218  B00000IFRG  [https://images-na.ssl-images-amazon.com/image...   \n",
       "...           ...                                                ...   \n",
       "26117  B0004F3332  [https://images-na.ssl-images-amazon.com/image...   \n",
       "26118  B0004M0SDI  [https://images-na.ssl-images-amazon.com/image...   \n",
       "26119  B0005D452G                                                 []   \n",
       "26120  B0005PHYPO  [https://images-na.ssl-images-amazon.com/image...   \n",
       "26121  B0005K51GI  [https://images-na.ssl-images-amazon.com/image...   \n",
       "\n",
       "                                         imageURLHighRes details  \n",
       "13214  [https://images-na.ssl-images-amazon.com/image...      {}  \n",
       "13215                                                 []      {}  \n",
       "13216  [https://images-na.ssl-images-amazon.com/image...      {}  \n",
       "13217                                                 []      {}  \n",
       "13218  [https://images-na.ssl-images-amazon.com/image...      {}  \n",
       "...                                                  ...     ...  \n",
       "26117  [https://images-na.ssl-images-amazon.com/image...      {}  \n",
       "26118  [https://images-na.ssl-images-amazon.com/image...      {}  \n",
       "26119                                                 []      {}  \n",
       "26120  [https://images-na.ssl-images-amazon.com/image...      {}  \n",
       "26121  [https://images-na.ssl-images-amazon.com/image...      {}  \n",
       "\n",
       "[12908 rows x 19 columns]"
      ]
     },
     "execution_count": 11,
     "metadata": {},
     "output_type": "execute_result"
    }
   ],
   "source": [
    "# find out if there are any duplicate products\n",
    "df_prod.loc[df_prod.duplicated(subset=['asin']), :]"
   ]
  },
  {
   "cell_type": "code",
   "execution_count": 14,
   "metadata": {},
   "outputs": [],
   "source": [
    "# drop duplicate products \n",
    "df_prod.drop_duplicates(subset=['asin'], inplace=True)"
   ]
  },
  {
   "cell_type": "code",
   "execution_count": 15,
   "metadata": {},
   "outputs": [
    {
     "data": {
      "text/html": [
       "<div>\n",
       "<style scoped>\n",
       "    .dataframe tbody tr th:only-of-type {\n",
       "        vertical-align: middle;\n",
       "    }\n",
       "\n",
       "    .dataframe tbody tr th {\n",
       "        vertical-align: top;\n",
       "    }\n",
       "\n",
       "    .dataframe thead th {\n",
       "        text-align: right;\n",
       "    }\n",
       "</style>\n",
       "<table border=\"1\" class=\"dataframe\">\n",
       "  <thead>\n",
       "    <tr style=\"text-align: right;\">\n",
       "      <th></th>\n",
       "      <th>category</th>\n",
       "      <th>tech1</th>\n",
       "      <th>description</th>\n",
       "      <th>fit</th>\n",
       "      <th>title</th>\n",
       "      <th>also_buy</th>\n",
       "      <th>tech2</th>\n",
       "      <th>brand</th>\n",
       "      <th>feature</th>\n",
       "      <th>rank</th>\n",
       "      <th>also_view</th>\n",
       "      <th>main_cat</th>\n",
       "      <th>similar_item</th>\n",
       "      <th>date</th>\n",
       "      <th>price</th>\n",
       "      <th>asin</th>\n",
       "      <th>imageURL</th>\n",
       "      <th>imageURLHighRes</th>\n",
       "      <th>details</th>\n",
       "    </tr>\n",
       "  </thead>\n",
       "  <tbody>\n",
       "  </tbody>\n",
       "</table>\n",
       "</div>"
      ],
      "text/plain": [
       "Empty DataFrame\n",
       "Columns: [category, tech1, description, fit, title, also_buy, tech2, brand, feature, rank, also_view, main_cat, similar_item, date, price, asin, imageURL, imageURLHighRes, details]\n",
       "Index: []"
      ]
     },
     "execution_count": 15,
     "metadata": {},
     "output_type": "execute_result"
    }
   ],
   "source": [
    "# make sure there are no duplicate products\n",
    "df_prod.loc[df_prod.duplicated(subset=['asin']), :]"
   ]
  },
  {
   "cell_type": "markdown",
   "metadata": {},
   "source": [
    "Drop unnecessary columns. "
   ]
  },
  {
   "cell_type": "code",
   "execution_count": 16,
   "metadata": {},
   "outputs": [],
   "source": [
    "df_prod.drop(['tech1', 'fit', 'tech2', 'date', 'price', 'imageURLHighRes', 'details'], axis=1, inplace=True)"
   ]
  },
  {
   "cell_type": "code",
   "execution_count": 19,
   "metadata": {
    "scrolled": false
   },
   "outputs": [
    {
     "data": {
      "text/html": [
       "<div>\n",
       "<style scoped>\n",
       "    .dataframe tbody tr th:only-of-type {\n",
       "        vertical-align: middle;\n",
       "    }\n",
       "\n",
       "    .dataframe tbody tr th {\n",
       "        vertical-align: top;\n",
       "    }\n",
       "\n",
       "    .dataframe thead th {\n",
       "        text-align: right;\n",
       "    }\n",
       "</style>\n",
       "<table border=\"1\" class=\"dataframe\">\n",
       "  <thead>\n",
       "    <tr style=\"text-align: right;\">\n",
       "      <th></th>\n",
       "      <th>category</th>\n",
       "      <th>description</th>\n",
       "      <th>title</th>\n",
       "      <th>also_buy</th>\n",
       "      <th>brand</th>\n",
       "      <th>feature</th>\n",
       "      <th>rank</th>\n",
       "      <th>also_view</th>\n",
       "      <th>main_cat</th>\n",
       "      <th>similar_item</th>\n",
       "      <th>asin</th>\n",
       "      <th>imageURL</th>\n",
       "    </tr>\n",
       "  </thead>\n",
       "  <tbody>\n",
       "    <tr>\n",
       "      <th>0</th>\n",
       "      <td>[Video Games, PC, Games]</td>\n",
       "      <td>[]</td>\n",
       "      <td>Reversi Sensory Challenger</td>\n",
       "      <td>[]</td>\n",
       "      <td>Fidelity Electronics</td>\n",
       "      <td>[]</td>\n",
       "      <td>[&gt;#2,623,937 in Toys &amp;amp; Games (See Top 100 ...</td>\n",
       "      <td>[]</td>\n",
       "      <td>Toys &amp;amp; Games</td>\n",
       "      <td></td>\n",
       "      <td>0042000742</td>\n",
       "      <td>[https://images-na.ssl-images-amazon.com/image...</td>\n",
       "    </tr>\n",
       "    <tr>\n",
       "      <th>1</th>\n",
       "      <td>[Video Games, Xbox 360, Games, &lt;/span&gt;&lt;/span&gt;&lt;...</td>\n",
       "      <td>[Brand new sealed!]</td>\n",
       "      <td>Medal of Honor: Warfighter - Includes Battlefi...</td>\n",
       "      <td>[B00PADROYW]</td>\n",
       "      <td>by\\n    \\n    EA Games</td>\n",
       "      <td>[]</td>\n",
       "      <td>[&gt;#67,231 in Video Games (See Top 100 in Video...</td>\n",
       "      <td>[B0050SY5BM, B072NQJCW5, B000TI836G, B002SRSQ7...</td>\n",
       "      <td>Video Games</td>\n",
       "      <td></td>\n",
       "      <td>0078764343</td>\n",
       "      <td>[https://images-na.ssl-images-amazon.com/image...</td>\n",
       "    </tr>\n",
       "    <tr>\n",
       "      <th>2</th>\n",
       "      <td>[Video Games, Retro Gaming &amp; Microconsoles, Su...</td>\n",
       "      <td>[]</td>\n",
       "      <td>street fighter 2 II turbo super nintendo snes ...</td>\n",
       "      <td>[]</td>\n",
       "      <td>Nintendo</td>\n",
       "      <td>[]</td>\n",
       "      <td>[&gt;#134,433 in Video Games (See Top 100 in Vide...</td>\n",
       "      <td>[]</td>\n",
       "      <td>Video Games</td>\n",
       "      <td></td>\n",
       "      <td>0276425316</td>\n",
       "      <td>[]</td>\n",
       "    </tr>\n",
       "    <tr>\n",
       "      <th>3</th>\n",
       "      <td>[Video Games, Xbox 360, Accessories, Controlle...</td>\n",
       "      <td>[MAS's Pro Xbox 360 Stick (Perfect 360 Stick) ...</td>\n",
       "      <td>Xbox 360 MAS STICK</td>\n",
       "      <td>[]</td>\n",
       "      <td>by\\n    \\n    MAS SYSTEMS</td>\n",
       "      <td>[Original PCB used from Xbox 360 Control Pad (...</td>\n",
       "      <td>[&gt;#105,263 in Video Games (See Top 100 in Vide...</td>\n",
       "      <td>[]</td>\n",
       "      <td>Video Games</td>\n",
       "      <td></td>\n",
       "      <td>0324411812</td>\n",
       "      <td>[https://images-na.ssl-images-amazon.com/image...</td>\n",
       "    </tr>\n",
       "    <tr>\n",
       "      <th>4</th>\n",
       "      <td>[Video Games, PC, Games, &lt;/span&gt;&lt;/span&gt;&lt;/span&gt;...</td>\n",
       "      <td>[Phonics Alive! 3, The Speller teaches student...</td>\n",
       "      <td>Phonics Alive! 3: The Speller</td>\n",
       "      <td>[]</td>\n",
       "      <td>by\\n    \\n    Advanced Software Pty. Ltd.</td>\n",
       "      <td>[Grades 2-12, Spelling Program, Teaches Spelli...</td>\n",
       "      <td>[&gt;#92,397 in Video Games (See Top 100 in Video...</td>\n",
       "      <td>[B000BCZ7U0]</td>\n",
       "      <td>Video Games</td>\n",
       "      <td></td>\n",
       "      <td>0439335310</td>\n",
       "      <td>[https://images-na.ssl-images-amazon.com/image...</td>\n",
       "    </tr>\n",
       "    <tr>\n",
       "      <th>5</th>\n",
       "      <td>[Video Games, PC, Games, &lt;/span&gt;&lt;/span&gt;&lt;/span&gt;...</td>\n",
       "      <td>[CD-ROM]</td>\n",
       "      <td>Sim City 3000</td>\n",
       "      <td>[]</td>\n",
       "      <td>by\\n    \\n    Scholastic</td>\n",
       "      <td>[Sim City 3000 CD-ROM]</td>\n",
       "      <td>[&gt;#19,087 in Video Games (See Top 100 in Video...</td>\n",
       "      <td>[B00004T1M7, B00000G16I, B00006GF1U, B0000C0YW...</td>\n",
       "      <td>Video Games</td>\n",
       "      <td></td>\n",
       "      <td>0439339006</td>\n",
       "      <td>[https://images-na.ssl-images-amazon.com/image...</td>\n",
       "    </tr>\n",
       "    <tr>\n",
       "      <th>6</th>\n",
       "      <td>[Video Games, PC, Games, &lt;/span&gt;&lt;/span&gt;&lt;/span&gt;...</td>\n",
       "      <td>[]</td>\n",
       "      <td>Phonics Alive! 2 The Sound Blender</td>\n",
       "      <td>[]</td>\n",
       "      <td>by\\n    \\n    Advanced Software Party</td>\n",
       "      <td>[Phonics Alive! 2 The Sound Blender is a new a...</td>\n",
       "      <td>[&gt;#117,477 in Video Games (See Top 100 in Vide...</td>\n",
       "      <td>[]</td>\n",
       "      <td>Video Games</td>\n",
       "      <td></td>\n",
       "      <td>0439335299</td>\n",
       "      <td>[]</td>\n",
       "    </tr>\n",
       "    <tr>\n",
       "      <th>7</th>\n",
       "      <td>[Video Games, PC, Games, &lt;/span&gt;&lt;/span&gt;&lt;/span&gt;]</td>\n",
       "      <td>[a scholastic clubs fairs cd rom game]</td>\n",
       "      <td>A to Zap</td>\n",
       "      <td>[]</td>\n",
       "      <td>by\\n    \\n    sunburst</td>\n",
       "      <td>[]</td>\n",
       "      <td>[&gt;#87,937 in Video Games (See Top 100 in Video...</td>\n",
       "      <td>[]</td>\n",
       "      <td>Video Games</td>\n",
       "      <td></td>\n",
       "      <td>0439339960</td>\n",
       "      <td>[https://images-na.ssl-images-amazon.com/image...</td>\n",
       "    </tr>\n",
       "    <tr>\n",
       "      <th>8</th>\n",
       "      <td>[Video Games, PC, Games]</td>\n",
       "      <td>[video game]</td>\n",
       "      <td>Need for Speed Porsche Unleashed</td>\n",
       "      <td>[]</td>\n",
       "      <td>Electronic Arts</td>\n",
       "      <td>[video game]</td>\n",
       "      <td>[&gt;#51,505 in Video Games (See Top 100 in Video...</td>\n",
       "      <td>[B00004DITL, B000067NP1, B00003W869]</td>\n",
       "      <td>Video Games</td>\n",
       "      <td></td>\n",
       "      <td>043933702X</td>\n",
       "      <td>[https://images-na.ssl-images-amazon.com/image...</td>\n",
       "    </tr>\n",
       "    <tr>\n",
       "      <th>9</th>\n",
       "      <td>[Video Games, PC, Games, &lt;/span&gt;&lt;/span&gt;&lt;/span&gt;...</td>\n",
       "      <td>[Grandma Groupers kelp seeds are missing and w...</td>\n",
       "      <td>Freddi Fish and the Case of The Missing Kelp S...</td>\n",
       "      <td>[B00002S6E5, B000NQI666, B000AQJ4AG, B000FETCF...</td>\n",
       "      <td>by\\n    \\n    Humongous Entertainment</td>\n",
       "      <td>[Like the real world, Freddi Fishs world chang...</td>\n",
       "      <td>[&gt;#58,523 in Video Games (See Top 100 in Video...</td>\n",
       "      <td>[B000FETCF0, B00005BU3M, B00004UCUT, B0009RAVF...</td>\n",
       "      <td>Video Games</td>\n",
       "      <td></td>\n",
       "      <td>0439339987</td>\n",
       "      <td>[https://images-na.ssl-images-amazon.com/image...</td>\n",
       "    </tr>\n",
       "  </tbody>\n",
       "</table>\n",
       "</div>"
      ],
      "text/plain": [
       "                                            category  \\\n",
       "0                           [Video Games, PC, Games]   \n",
       "1  [Video Games, Xbox 360, Games, </span></span><...   \n",
       "2  [Video Games, Retro Gaming & Microconsoles, Su...   \n",
       "3  [Video Games, Xbox 360, Accessories, Controlle...   \n",
       "4  [Video Games, PC, Games, </span></span></span>...   \n",
       "5  [Video Games, PC, Games, </span></span></span>...   \n",
       "6  [Video Games, PC, Games, </span></span></span>...   \n",
       "7    [Video Games, PC, Games, </span></span></span>]   \n",
       "8                           [Video Games, PC, Games]   \n",
       "9  [Video Games, PC, Games, </span></span></span>...   \n",
       "\n",
       "                                         description  \\\n",
       "0                                                 []   \n",
       "1                                [Brand new sealed!]   \n",
       "2                                                 []   \n",
       "3  [MAS's Pro Xbox 360 Stick (Perfect 360 Stick) ...   \n",
       "4  [Phonics Alive! 3, The Speller teaches student...   \n",
       "5                                           [CD-ROM]   \n",
       "6                                                 []   \n",
       "7             [a scholastic clubs fairs cd rom game]   \n",
       "8                                       [video game]   \n",
       "9  [Grandma Groupers kelp seeds are missing and w...   \n",
       "\n",
       "                                               title  \\\n",
       "0                         Reversi Sensory Challenger   \n",
       "1  Medal of Honor: Warfighter - Includes Battlefi...   \n",
       "2  street fighter 2 II turbo super nintendo snes ...   \n",
       "3                                 Xbox 360 MAS STICK   \n",
       "4                      Phonics Alive! 3: The Speller   \n",
       "5                                      Sim City 3000   \n",
       "6                 Phonics Alive! 2 The Sound Blender   \n",
       "7                                           A to Zap   \n",
       "8                   Need for Speed Porsche Unleashed   \n",
       "9  Freddi Fish and the Case of The Missing Kelp S...   \n",
       "\n",
       "                                            also_buy  \\\n",
       "0                                                 []   \n",
       "1                                       [B00PADROYW]   \n",
       "2                                                 []   \n",
       "3                                                 []   \n",
       "4                                                 []   \n",
       "5                                                 []   \n",
       "6                                                 []   \n",
       "7                                                 []   \n",
       "8                                                 []   \n",
       "9  [B00002S6E5, B000NQI666, B000AQJ4AG, B000FETCF...   \n",
       "\n",
       "                                       brand  \\\n",
       "0                       Fidelity Electronics   \n",
       "1                     by\\n    \\n    EA Games   \n",
       "2                                   Nintendo   \n",
       "3                  by\\n    \\n    MAS SYSTEMS   \n",
       "4  by\\n    \\n    Advanced Software Pty. Ltd.   \n",
       "5                   by\\n    \\n    Scholastic   \n",
       "6      by\\n    \\n    Advanced Software Party   \n",
       "7                     by\\n    \\n    sunburst   \n",
       "8                            Electronic Arts   \n",
       "9      by\\n    \\n    Humongous Entertainment   \n",
       "\n",
       "                                             feature  \\\n",
       "0                                                 []   \n",
       "1                                                 []   \n",
       "2                                                 []   \n",
       "3  [Original PCB used from Xbox 360 Control Pad (...   \n",
       "4  [Grades 2-12, Spelling Program, Teaches Spelli...   \n",
       "5                             [Sim City 3000 CD-ROM]   \n",
       "6  [Phonics Alive! 2 The Sound Blender is a new a...   \n",
       "7                                                 []   \n",
       "8                                       [video game]   \n",
       "9  [Like the real world, Freddi Fishs world chang...   \n",
       "\n",
       "                                                rank  \\\n",
       "0  [>#2,623,937 in Toys &amp; Games (See Top 100 ...   \n",
       "1  [>#67,231 in Video Games (See Top 100 in Video...   \n",
       "2  [>#134,433 in Video Games (See Top 100 in Vide...   \n",
       "3  [>#105,263 in Video Games (See Top 100 in Vide...   \n",
       "4  [>#92,397 in Video Games (See Top 100 in Video...   \n",
       "5  [>#19,087 in Video Games (See Top 100 in Video...   \n",
       "6  [>#117,477 in Video Games (See Top 100 in Vide...   \n",
       "7  [>#87,937 in Video Games (See Top 100 in Video...   \n",
       "8  [>#51,505 in Video Games (See Top 100 in Video...   \n",
       "9  [>#58,523 in Video Games (See Top 100 in Video...   \n",
       "\n",
       "                                           also_view          main_cat  \\\n",
       "0                                                 []  Toys &amp; Games   \n",
       "1  [B0050SY5BM, B072NQJCW5, B000TI836G, B002SRSQ7...       Video Games   \n",
       "2                                                 []       Video Games   \n",
       "3                                                 []       Video Games   \n",
       "4                                       [B000BCZ7U0]       Video Games   \n",
       "5  [B00004T1M7, B00000G16I, B00006GF1U, B0000C0YW...       Video Games   \n",
       "6                                                 []       Video Games   \n",
       "7                                                 []       Video Games   \n",
       "8               [B00004DITL, B000067NP1, B00003W869]       Video Games   \n",
       "9  [B000FETCF0, B00005BU3M, B00004UCUT, B0009RAVF...       Video Games   \n",
       "\n",
       "  similar_item        asin                                           imageURL  \n",
       "0               0042000742  [https://images-na.ssl-images-amazon.com/image...  \n",
       "1               0078764343  [https://images-na.ssl-images-amazon.com/image...  \n",
       "2               0276425316                                                 []  \n",
       "3               0324411812  [https://images-na.ssl-images-amazon.com/image...  \n",
       "4               0439335310  [https://images-na.ssl-images-amazon.com/image...  \n",
       "5               0439339006  [https://images-na.ssl-images-amazon.com/image...  \n",
       "6               0439335299                                                 []  \n",
       "7               0439339960  [https://images-na.ssl-images-amazon.com/image...  \n",
       "8               043933702X  [https://images-na.ssl-images-amazon.com/image...  \n",
       "9               0439339987  [https://images-na.ssl-images-amazon.com/image...  "
      ]
     },
     "execution_count": 19,
     "metadata": {},
     "output_type": "execute_result"
    }
   ],
   "source": [
    "df_prod.head(10)"
   ]
  },
  {
   "cell_type": "markdown",
   "metadata": {},
   "source": [
    "The biggest problem now is the HTMl tags in some of the columns, like '/span', '/n', 'div', etc. Need to take out these tags."
   ]
  },
  {
   "cell_type": "code",
   "execution_count": 20,
   "metadata": {},
   "outputs": [],
   "source": [
    "# convert each list in category column into one string\n",
    "df_prod['category'] = [','.join(map(str, l)) for l in df_prod['category']]"
   ]
  },
  {
   "cell_type": "code",
   "execution_count": 21,
   "metadata": {},
   "outputs": [
    {
     "data": {
      "text/plain": [
       "'Video Games,Xbox 360,Games,'"
      ]
     },
     "execution_count": 21,
     "metadata": {},
     "output_type": "execute_result"
    }
   ],
   "source": [
    "# try replace the HTML tag with empty string\n",
    "re.sub('</span>', '', df_prod['category'][1])"
   ]
  },
  {
   "cell_type": "code",
   "execution_count": 22,
   "metadata": {},
   "outputs": [],
   "source": [
    "# create a function removes HTML tages\n",
    "def remove_tags(string):\n",
    "    exclusionlist = ['</span>','<b>', '</b>', '<br />', '\\n', '/n', '</div>', '<div>', '<DIV>', '</DIV>']\n",
    "    exclusions = '|'.join(exclusionlist)\n",
    "    result = re.sub(exclusions, '', string)\n",
    "    return result"
   ]
  },
  {
   "cell_type": "code",
   "execution_count": 23,
   "metadata": {},
   "outputs": [],
   "source": [
    "# apply the function and remove all HTML tags in category column\n",
    "df_prod['category'] = df_prod['category'].apply(lambda x : remove_tags(x))"
   ]
  },
  {
   "cell_type": "code",
   "execution_count": 24,
   "metadata": {},
   "outputs": [],
   "source": [
    "# do the same on description column\n",
    "df_prod['description'] = [''.join(map(str, l)) for l in df_prod['category']]"
   ]
  },
  {
   "cell_type": "code",
   "execution_count": 25,
   "metadata": {
    "scrolled": true
   },
   "outputs": [],
   "source": [
    "df_prod['description'] = df_prod['description'].apply(lambda x: remove_tags(x))"
   ]
  },
  {
   "cell_type": "code",
   "execution_count": 26,
   "metadata": {},
   "outputs": [],
   "source": [
    "# strip by and \\n in front of brand names\n",
    "df_prod['brand'] = df_prod['brand'].apply(lambda x: re.sub('by', '', x))\n",
    "df_prod['brand'] = df_prod['brand'].apply(lambda x: re.sub('\\n', '', x))"
   ]
  },
  {
   "cell_type": "code",
   "execution_count": 27,
   "metadata": {
    "scrolled": true
   },
   "outputs": [
    {
     "data": {
      "text/html": [
       "<div>\n",
       "<style scoped>\n",
       "    .dataframe tbody tr th:only-of-type {\n",
       "        vertical-align: middle;\n",
       "    }\n",
       "\n",
       "    .dataframe tbody tr th {\n",
       "        vertical-align: top;\n",
       "    }\n",
       "\n",
       "    .dataframe thead th {\n",
       "        text-align: right;\n",
       "    }\n",
       "</style>\n",
       "<table border=\"1\" class=\"dataframe\">\n",
       "  <thead>\n",
       "    <tr style=\"text-align: right;\">\n",
       "      <th></th>\n",
       "      <th>category</th>\n",
       "      <th>description</th>\n",
       "      <th>title</th>\n",
       "      <th>also_buy</th>\n",
       "      <th>brand</th>\n",
       "      <th>feature</th>\n",
       "      <th>rank</th>\n",
       "      <th>also_view</th>\n",
       "      <th>main_cat</th>\n",
       "      <th>similar_item</th>\n",
       "      <th>asin</th>\n",
       "      <th>imageURL</th>\n",
       "    </tr>\n",
       "  </thead>\n",
       "  <tbody>\n",
       "    <tr>\n",
       "      <th>0</th>\n",
       "      <td>Video Games,PC,Games</td>\n",
       "      <td>Video Games,PC,Games</td>\n",
       "      <td>Reversi Sensory Challenger</td>\n",
       "      <td>[]</td>\n",
       "      <td>Fidelity Electronics</td>\n",
       "      <td>[]</td>\n",
       "      <td>[&gt;#2,623,937 in Toys &amp;amp; Games (See Top 100 ...</td>\n",
       "      <td>[]</td>\n",
       "      <td>Toys &amp;amp; Games</td>\n",
       "      <td></td>\n",
       "      <td>0042000742</td>\n",
       "      <td>[https://images-na.ssl-images-amazon.com/image...</td>\n",
       "    </tr>\n",
       "    <tr>\n",
       "      <th>1</th>\n",
       "      <td>Video Games,Xbox 360,Games,</td>\n",
       "      <td>Video Games,Xbox 360,Games,</td>\n",
       "      <td>Medal of Honor: Warfighter - Includes Battlefi...</td>\n",
       "      <td>[B00PADROYW]</td>\n",
       "      <td>EA Games</td>\n",
       "      <td>[]</td>\n",
       "      <td>[&gt;#67,231 in Video Games (See Top 100 in Video...</td>\n",
       "      <td>[B0050SY5BM, B072NQJCW5, B000TI836G, B002SRSQ7...</td>\n",
       "      <td>Video Games</td>\n",
       "      <td></td>\n",
       "      <td>0078764343</td>\n",
       "      <td>[https://images-na.ssl-images-amazon.com/image...</td>\n",
       "    </tr>\n",
       "    <tr>\n",
       "      <th>2</th>\n",
       "      <td>Video Games,Retro Gaming &amp; Microconsoles,Super...</td>\n",
       "      <td>Video Games,Retro Gaming &amp; Microconsoles,Super...</td>\n",
       "      <td>street fighter 2 II turbo super nintendo snes ...</td>\n",
       "      <td>[]</td>\n",
       "      <td>Nintendo</td>\n",
       "      <td>[]</td>\n",
       "      <td>[&gt;#134,433 in Video Games (See Top 100 in Vide...</td>\n",
       "      <td>[]</td>\n",
       "      <td>Video Games</td>\n",
       "      <td></td>\n",
       "      <td>0276425316</td>\n",
       "      <td>[]</td>\n",
       "    </tr>\n",
       "    <tr>\n",
       "      <th>3</th>\n",
       "      <td>Video Games,Xbox 360,Accessories,Controllers,J...</td>\n",
       "      <td>Video Games,Xbox 360,Accessories,Controllers,J...</td>\n",
       "      <td>Xbox 360 MAS STICK</td>\n",
       "      <td>[]</td>\n",
       "      <td>MAS SYSTEMS</td>\n",
       "      <td>[Original PCB used from Xbox 360 Control Pad (...</td>\n",
       "      <td>[&gt;#105,263 in Video Games (See Top 100 in Vide...</td>\n",
       "      <td>[]</td>\n",
       "      <td>Video Games</td>\n",
       "      <td></td>\n",
       "      <td>0324411812</td>\n",
       "      <td>[https://images-na.ssl-images-amazon.com/image...</td>\n",
       "    </tr>\n",
       "    <tr>\n",
       "      <th>4</th>\n",
       "      <td>Video Games,PC,Games,,Grades 2-12,Spelling Pro...</td>\n",
       "      <td>Video Games,PC,Games,,Grades 2-12,Spelling Pro...</td>\n",
       "      <td>Phonics Alive! 3: The Speller</td>\n",
       "      <td>[]</td>\n",
       "      <td>Advanced Software Pty. Ltd.</td>\n",
       "      <td>[Grades 2-12, Spelling Program, Teaches Spelli...</td>\n",
       "      <td>[&gt;#92,397 in Video Games (See Top 100 in Video...</td>\n",
       "      <td>[B000BCZ7U0]</td>\n",
       "      <td>Video Games</td>\n",
       "      <td></td>\n",
       "      <td>0439335310</td>\n",
       "      <td>[https://images-na.ssl-images-amazon.com/image...</td>\n",
       "    </tr>\n",
       "    <tr>\n",
       "      <th>...</th>\n",
       "      <td>...</td>\n",
       "      <td>...</td>\n",
       "      <td>...</td>\n",
       "      <td>...</td>\n",
       "      <td>...</td>\n",
       "      <td>...</td>\n",
       "      <td>...</td>\n",
       "      <td>...</td>\n",
       "      <td>...</td>\n",
       "      <td>...</td>\n",
       "      <td>...</td>\n",
       "      <td>...</td>\n",
       "    </tr>\n",
       "    <tr>\n",
       "      <th>84814</th>\n",
       "      <td>Video Games,PlayStation Vita,Digital Games &amp; D...</td>\n",
       "      <td>Video Games,PlayStation Vita,Digital Games &amp; D...</td>\n",
       "      <td>Lego Star Wars: The Force Awakens - PS Vita [D...</td>\n",
       "      <td>[]</td>\n",
       "      <td>Warner Bros.</td>\n",
       "      <td>[]</td>\n",
       "      <td>[&gt;#74,224 in Video Games (See Top 100 in Video...</td>\n",
       "      <td>[]</td>\n",
       "      <td>Video Games</td>\n",
       "      <td></td>\n",
       "      <td>B01HJ1521Y</td>\n",
       "      <td>[]</td>\n",
       "    </tr>\n",
       "    <tr>\n",
       "      <th>84815</th>\n",
       "      <td>Video Games,PlayStation 4,Digital Games &amp; DLC,...</td>\n",
       "      <td>Video Games,PlayStation 4,Digital Games &amp; DLC,...</td>\n",
       "      <td>Lego Star Wars: The Force Awakens  Season Pass...</td>\n",
       "      <td>[]</td>\n",
       "      <td>Warner Bros.</td>\n",
       "      <td>[DLC Requires base game]</td>\n",
       "      <td>[&gt;#62,150 in Video Games (See Top 100 in Video...</td>\n",
       "      <td>[]</td>\n",
       "      <td>Video Games</td>\n",
       "      <td></td>\n",
       "      <td>B01HJ14TTA</td>\n",
       "      <td>[]</td>\n",
       "    </tr>\n",
       "    <tr>\n",
       "      <th>84816</th>\n",
       "      <td>Video Games,PlayStation 4,Digital Games &amp; DLC,...</td>\n",
       "      <td>Video Games,PlayStation 4,Digital Games &amp; DLC,...</td>\n",
       "      <td>The Technomancer - PS4 [Digital Code]</td>\n",
       "      <td>[]</td>\n",
       "      <td>Focus Home Interactive</td>\n",
       "      <td>[]</td>\n",
       "      <td>[&gt;#94,234 in Video Games (See Top 100 in Video...</td>\n",
       "      <td>[]</td>\n",
       "      <td>Video Games</td>\n",
       "      <td></td>\n",
       "      <td>B01HJ14OT0</td>\n",
       "      <td>[https://images-na.ssl-images-amazon.com/image...</td>\n",
       "    </tr>\n",
       "    <tr>\n",
       "      <th>84817</th>\n",
       "      <td>Video Games,Xbox 360,Accessories,</td>\n",
       "      <td>Video Games,Xbox 360,Accessories,</td>\n",
       "      <td>Repair T8 T6 Tools for XBOX One Xbox 360, YTTL...</td>\n",
       "      <td>[B01KBNB7K2, B06X6JSYPC, B01N6Y0Z7W, B06VXD2W5...</td>\n",
       "      <td>YTTL</td>\n",
       "      <td>[If you want to Replacement you Xbox one /360 ...</td>\n",
       "      <td>[&gt;#16,087 in Video Games (See Top 100 in Video...</td>\n",
       "      <td>[B01KH25ZY6, B00PG8SU26, B07G122BVS, B016XLTQP...</td>\n",
       "      <td>Video Games</td>\n",
       "      <td></td>\n",
       "      <td>B01HJC33WS</td>\n",
       "      <td>[https://images-na.ssl-images-amazon.com/image...</td>\n",
       "    </tr>\n",
       "    <tr>\n",
       "      <th>84818</th>\n",
       "      <td>Video Games,PC,Accessories,Gaming Mice</td>\n",
       "      <td>Video Games,PC,Accessories,Gaming Mice</td>\n",
       "      <td>Zelotes 4000 DPI Programmable Gaming Mouse for...</td>\n",
       "      <td>[]</td>\n",
       "      <td>Zelotes</td>\n",
       "      <td>[Customize DPI Switch: 1000/1500/2000/4000,the...</td>\n",
       "      <td>[&gt;#434 in Computers &amp; Accessories &gt; Computer A...</td>\n",
       "      <td>[B016ZF77OA, B00GU8W5AE, B00E64DTDQ, B074TF6XV...</td>\n",
       "      <td>Computers</td>\n",
       "      <td></td>\n",
       "      <td>B01HJEBIAA</td>\n",
       "      <td>[https://images-na.ssl-images-amazon.com/image...</td>\n",
       "    </tr>\n",
       "  </tbody>\n",
       "</table>\n",
       "<p>71911 rows × 12 columns</p>\n",
       "</div>"
      ],
      "text/plain": [
       "                                                category  \\\n",
       "0                                   Video Games,PC,Games   \n",
       "1                            Video Games,Xbox 360,Games,   \n",
       "2      Video Games,Retro Gaming & Microconsoles,Super...   \n",
       "3      Video Games,Xbox 360,Accessories,Controllers,J...   \n",
       "4      Video Games,PC,Games,,Grades 2-12,Spelling Pro...   \n",
       "...                                                  ...   \n",
       "84814  Video Games,PlayStation Vita,Digital Games & D...   \n",
       "84815  Video Games,PlayStation 4,Digital Games & DLC,...   \n",
       "84816  Video Games,PlayStation 4,Digital Games & DLC,...   \n",
       "84817                  Video Games,Xbox 360,Accessories,   \n",
       "84818             Video Games,PC,Accessories,Gaming Mice   \n",
       "\n",
       "                                             description  \\\n",
       "0                                   Video Games,PC,Games   \n",
       "1                            Video Games,Xbox 360,Games,   \n",
       "2      Video Games,Retro Gaming & Microconsoles,Super...   \n",
       "3      Video Games,Xbox 360,Accessories,Controllers,J...   \n",
       "4      Video Games,PC,Games,,Grades 2-12,Spelling Pro...   \n",
       "...                                                  ...   \n",
       "84814  Video Games,PlayStation Vita,Digital Games & D...   \n",
       "84815  Video Games,PlayStation 4,Digital Games & DLC,...   \n",
       "84816  Video Games,PlayStation 4,Digital Games & DLC,...   \n",
       "84817                  Video Games,Xbox 360,Accessories,   \n",
       "84818             Video Games,PC,Accessories,Gaming Mice   \n",
       "\n",
       "                                                   title  \\\n",
       "0                             Reversi Sensory Challenger   \n",
       "1      Medal of Honor: Warfighter - Includes Battlefi...   \n",
       "2      street fighter 2 II turbo super nintendo snes ...   \n",
       "3                                     Xbox 360 MAS STICK   \n",
       "4                          Phonics Alive! 3: The Speller   \n",
       "...                                                  ...   \n",
       "84814  Lego Star Wars: The Force Awakens - PS Vita [D...   \n",
       "84815  Lego Star Wars: The Force Awakens  Season Pass...   \n",
       "84816              The Technomancer - PS4 [Digital Code]   \n",
       "84817  Repair T8 T6 Tools for XBOX One Xbox 360, YTTL...   \n",
       "84818  Zelotes 4000 DPI Programmable Gaming Mouse for...   \n",
       "\n",
       "                                                also_buy  \\\n",
       "0                                                     []   \n",
       "1                                           [B00PADROYW]   \n",
       "2                                                     []   \n",
       "3                                                     []   \n",
       "4                                                     []   \n",
       "...                                                  ...   \n",
       "84814                                                 []   \n",
       "84815                                                 []   \n",
       "84816                                                 []   \n",
       "84817  [B01KBNB7K2, B06X6JSYPC, B01N6Y0Z7W, B06VXD2W5...   \n",
       "84818                                                 []   \n",
       "\n",
       "                                     brand  \\\n",
       "0                     Fidelity Electronics   \n",
       "1                                 EA Games   \n",
       "2                                 Nintendo   \n",
       "3                              MAS SYSTEMS   \n",
       "4              Advanced Software Pty. Ltd.   \n",
       "...                                    ...   \n",
       "84814                         Warner Bros.   \n",
       "84815                         Warner Bros.   \n",
       "84816               Focus Home Interactive   \n",
       "84817                                 YTTL   \n",
       "84818                              Zelotes   \n",
       "\n",
       "                                                 feature  \\\n",
       "0                                                     []   \n",
       "1                                                     []   \n",
       "2                                                     []   \n",
       "3      [Original PCB used from Xbox 360 Control Pad (...   \n",
       "4      [Grades 2-12, Spelling Program, Teaches Spelli...   \n",
       "...                                                  ...   \n",
       "84814                                                 []   \n",
       "84815                           [DLC Requires base game]   \n",
       "84816                                                 []   \n",
       "84817  [If you want to Replacement you Xbox one /360 ...   \n",
       "84818  [Customize DPI Switch: 1000/1500/2000/4000,the...   \n",
       "\n",
       "                                                    rank  \\\n",
       "0      [>#2,623,937 in Toys &amp; Games (See Top 100 ...   \n",
       "1      [>#67,231 in Video Games (See Top 100 in Video...   \n",
       "2      [>#134,433 in Video Games (See Top 100 in Vide...   \n",
       "3      [>#105,263 in Video Games (See Top 100 in Vide...   \n",
       "4      [>#92,397 in Video Games (See Top 100 in Video...   \n",
       "...                                                  ...   \n",
       "84814  [>#74,224 in Video Games (See Top 100 in Video...   \n",
       "84815  [>#62,150 in Video Games (See Top 100 in Video...   \n",
       "84816  [>#94,234 in Video Games (See Top 100 in Video...   \n",
       "84817  [>#16,087 in Video Games (See Top 100 in Video...   \n",
       "84818  [>#434 in Computers & Accessories > Computer A...   \n",
       "\n",
       "                                               also_view          main_cat  \\\n",
       "0                                                     []  Toys &amp; Games   \n",
       "1      [B0050SY5BM, B072NQJCW5, B000TI836G, B002SRSQ7...       Video Games   \n",
       "2                                                     []       Video Games   \n",
       "3                                                     []       Video Games   \n",
       "4                                           [B000BCZ7U0]       Video Games   \n",
       "...                                                  ...               ...   \n",
       "84814                                                 []       Video Games   \n",
       "84815                                                 []       Video Games   \n",
       "84816                                                 []       Video Games   \n",
       "84817  [B01KH25ZY6, B00PG8SU26, B07G122BVS, B016XLTQP...       Video Games   \n",
       "84818  [B016ZF77OA, B00GU8W5AE, B00E64DTDQ, B074TF6XV...         Computers   \n",
       "\n",
       "      similar_item        asin  \\\n",
       "0                   0042000742   \n",
       "1                   0078764343   \n",
       "2                   0276425316   \n",
       "3                   0324411812   \n",
       "4                   0439335310   \n",
       "...            ...         ...   \n",
       "84814               B01HJ1521Y   \n",
       "84815               B01HJ14TTA   \n",
       "84816               B01HJ14OT0   \n",
       "84817               B01HJC33WS   \n",
       "84818               B01HJEBIAA   \n",
       "\n",
       "                                                imageURL  \n",
       "0      [https://images-na.ssl-images-amazon.com/image...  \n",
       "1      [https://images-na.ssl-images-amazon.com/image...  \n",
       "2                                                     []  \n",
       "3      [https://images-na.ssl-images-amazon.com/image...  \n",
       "4      [https://images-na.ssl-images-amazon.com/image...  \n",
       "...                                                  ...  \n",
       "84814                                                 []  \n",
       "84815                                                 []  \n",
       "84816  [https://images-na.ssl-images-amazon.com/image...  \n",
       "84817  [https://images-na.ssl-images-amazon.com/image...  \n",
       "84818  [https://images-na.ssl-images-amazon.com/image...  \n",
       "\n",
       "[71911 rows x 12 columns]"
      ]
     },
     "execution_count": 27,
     "metadata": {},
     "output_type": "execute_result"
    }
   ],
   "source": [
    "df_prod"
   ]
  },
  {
   "cell_type": "markdown",
   "metadata": {},
   "source": [
    "I noticed some brands' names are called differently, but they should belong to same game publisher. So far, I found EA Games and Ubisoft Entertainment need to be changed to have consistent publisher name."
   ]
  },
  {
   "cell_type": "code",
   "execution_count": 28,
   "metadata": {
    "scrolled": true
   },
   "outputs": [
    {
     "data": {
      "text/plain": [
       "5792     EA Games\n",
       "6796     EA Games\n",
       "10441    EA Games\n",
       "10919    EA Games\n",
       "10938    EA Games\n",
       "28068    EA Games\n",
       "Name: brand, dtype: object"
      ]
     },
     "execution_count": 28,
     "metadata": {},
     "output_type": "execute_result"
    }
   ],
   "source": [
    "df_prod['brand'].loc[df_prod['brand']=='EA Games']"
   ]
  },
  {
   "cell_type": "code",
   "execution_count": 29,
   "metadata": {
    "scrolled": true
   },
   "outputs": [
    {
     "data": {
      "text/html": [
       "<div>\n",
       "<style scoped>\n",
       "    .dataframe tbody tr th:only-of-type {\n",
       "        vertical-align: middle;\n",
       "    }\n",
       "\n",
       "    .dataframe tbody tr th {\n",
       "        vertical-align: top;\n",
       "    }\n",
       "\n",
       "    .dataframe thead th {\n",
       "        text-align: right;\n",
       "    }\n",
       "</style>\n",
       "<table border=\"1\" class=\"dataframe\">\n",
       "  <thead>\n",
       "    <tr style=\"text-align: right;\">\n",
       "      <th></th>\n",
       "      <th>category</th>\n",
       "      <th>description</th>\n",
       "      <th>title</th>\n",
       "      <th>also_buy</th>\n",
       "      <th>brand</th>\n",
       "      <th>feature</th>\n",
       "      <th>rank</th>\n",
       "      <th>also_view</th>\n",
       "      <th>main_cat</th>\n",
       "      <th>similar_item</th>\n",
       "      <th>asin</th>\n",
       "      <th>imageURL</th>\n",
       "    </tr>\n",
       "  </thead>\n",
       "  <tbody>\n",
       "    <tr>\n",
       "      <th>61760</th>\n",
       "      <td>Video Games,Xbox 360,Games</td>\n",
       "      <td>Video Games,Xbox 360,Games</td>\n",
       "      <td>Assassin's Creed Heritage Collection (Includes...</td>\n",
       "      <td>[B00NGXUBTI, B00M9TD70K, B01DYSRZPM]</td>\n",
       "      <td>Ubisoft Entertainment</td>\n",
       "      <td>[Includes 5 Games Including: Assassin's Creed,...</td>\n",
       "      <td>[&gt;#37,943 in Video Games (See Top 100 in Video...</td>\n",
       "      <td>[B00NGXUBTI, B00EVWZHLK, B000P46NMK, B01LYGJRV...</td>\n",
       "      <td>Video Games</td>\n",
       "      <td></td>\n",
       "      <td>B00FOGFOWY</td>\n",
       "      <td>[https://images-na.ssl-images-amazon.com/image...</td>\n",
       "    </tr>\n",
       "  </tbody>\n",
       "</table>\n",
       "</div>"
      ],
      "text/plain": [
       "                         category                 description  \\\n",
       "61760  Video Games,Xbox 360,Games  Video Games,Xbox 360,Games   \n",
       "\n",
       "                                                   title  \\\n",
       "61760  Assassin's Creed Heritage Collection (Includes...   \n",
       "\n",
       "                                   also_buy                  brand  \\\n",
       "61760  [B00NGXUBTI, B00M9TD70K, B01DYSRZPM]  Ubisoft Entertainment   \n",
       "\n",
       "                                                 feature  \\\n",
       "61760  [Includes 5 Games Including: Assassin's Creed,...   \n",
       "\n",
       "                                                    rank  \\\n",
       "61760  [>#37,943 in Video Games (See Top 100 in Video...   \n",
       "\n",
       "                                               also_view     main_cat  \\\n",
       "61760  [B00NGXUBTI, B00EVWZHLK, B000P46NMK, B01LYGJRV...  Video Games   \n",
       "\n",
       "      similar_item        asin  \\\n",
       "61760               B00FOGFOWY   \n",
       "\n",
       "                                                imageURL  \n",
       "61760  [https://images-na.ssl-images-amazon.com/image...  "
      ]
     },
     "execution_count": 29,
     "metadata": {},
     "output_type": "execute_result"
    }
   ],
   "source": [
    "df_prod.loc[df_prod['brand']=='Ubisoft Entertainment']"
   ]
  },
  {
   "cell_type": "code",
   "execution_count": 30,
   "metadata": {},
   "outputs": [],
   "source": [
    "df_prod['brand'].replace({'EA Games':'Electronic Arts', 'Ubisoft Entertainment':'Ubisoft'}, inplace=True)"
   ]
  },
  {
   "cell_type": "code",
   "execution_count": 31,
   "metadata": {
    "scrolled": false
   },
   "outputs": [
    {
     "data": {
      "text/plain": [
       "                           3617\n",
       "        Electronic Arts    2139\n",
       "        Activision         1955\n",
       "        Nintendo           1616\n",
       "        Ubisoft            1384\n",
       "                           ... \n",
       "wiisingonline                 1\n",
       "        XCM Mods              1\n",
       "        OddMobb               1\n",
       "Switch Blade                  1\n",
       "        Badland Games         1\n",
       "Name: brand, Length: 9194, dtype: int64"
      ]
     },
     "execution_count": 31,
     "metadata": {},
     "output_type": "execute_result"
    }
   ],
   "source": [
    "df_prod['brand'].value_counts()"
   ]
  },
  {
   "cell_type": "code",
   "execution_count": 32,
   "metadata": {},
   "outputs": [],
   "source": [
    "# some products do not provide brand name, replace with unknown\n",
    "df_prod['brand'].replace({'': 'unknown'}, inplace=True)"
   ]
  },
  {
   "cell_type": "code",
   "execution_count": 33,
   "metadata": {},
   "outputs": [
    {
     "data": {
      "text/plain": [
       "unknown                    3619\n",
       "        Electronic Arts    2139\n",
       "        Activision         1955\n",
       "        Nintendo           1616\n",
       "        Ubisoft            1384\n",
       "                           ... \n",
       "wiisingonline                 1\n",
       "        XCM Mods              1\n",
       "        OddMobb               1\n",
       "Switch Blade                  1\n",
       "        Badland Games         1\n",
       "Name: brand, Length: 9193, dtype: int64"
      ]
     },
     "execution_count": 33,
     "metadata": {},
     "output_type": "execute_result"
    }
   ],
   "source": [
    "df_prod['brand'].value_counts()"
   ]
  },
  {
   "cell_type": "code",
   "execution_count": 34,
   "metadata": {},
   "outputs": [],
   "source": [
    "# strip whitespace at beginning of string\n",
    "df_prod['brand'] = df_prod['brand'].apply(lambda x: x.lstrip())"
   ]
  },
  {
   "cell_type": "code",
   "execution_count": 35,
   "metadata": {},
   "outputs": [],
   "source": [
    "# create a dataframe shows number of each brand\n",
    "brand_count_df = pd.DataFrame(data=df_prod['brand'].value_counts().values, index=df_prod['brand'].value_counts().index, columns=['count'])"
   ]
  },
  {
   "cell_type": "code",
   "execution_count": 36,
   "metadata": {
    "scrolled": false
   },
   "outputs": [
    {
     "data": {
      "text/html": [
       "<div>\n",
       "<style scoped>\n",
       "    .dataframe tbody tr th:only-of-type {\n",
       "        vertical-align: middle;\n",
       "    }\n",
       "\n",
       "    .dataframe tbody tr th {\n",
       "        vertical-align: top;\n",
       "    }\n",
       "\n",
       "    .dataframe thead th {\n",
       "        text-align: right;\n",
       "    }\n",
       "</style>\n",
       "<table border=\"1\" class=\"dataframe\">\n",
       "  <thead>\n",
       "    <tr style=\"text-align: right;\">\n",
       "      <th></th>\n",
       "      <th>count</th>\n",
       "    </tr>\n",
       "  </thead>\n",
       "  <tbody>\n",
       "    <tr>\n",
       "      <th>unknown</th>\n",
       "      <td>3620</td>\n",
       "    </tr>\n",
       "    <tr>\n",
       "      <th>Nintendo</th>\n",
       "      <td>2704</td>\n",
       "    </tr>\n",
       "    <tr>\n",
       "      <th>Electronic Arts</th>\n",
       "      <td>2565</td>\n",
       "    </tr>\n",
       "    <tr>\n",
       "      <th>Activision</th>\n",
       "      <td>2328</td>\n",
       "    </tr>\n",
       "    <tr>\n",
       "      <th>Sony</th>\n",
       "      <td>1727</td>\n",
       "    </tr>\n",
       "    <tr>\n",
       "      <th>Ubisoft</th>\n",
       "      <td>1609</td>\n",
       "    </tr>\n",
       "    <tr>\n",
       "      <th>Sega</th>\n",
       "      <td>1536</td>\n",
       "    </tr>\n",
       "    <tr>\n",
       "      <th>Microsoft</th>\n",
       "      <td>1191</td>\n",
       "    </tr>\n",
       "    <tr>\n",
       "      <th>Atari</th>\n",
       "      <td>872</td>\n",
       "    </tr>\n",
       "    <tr>\n",
       "      <th>THQ</th>\n",
       "      <td>858</td>\n",
       "    </tr>\n",
       "  </tbody>\n",
       "</table>\n",
       "</div>"
      ],
      "text/plain": [
       "                 count\n",
       "unknown           3620\n",
       "Nintendo          2704\n",
       "Electronic Arts   2565\n",
       "Activision        2328\n",
       "Sony              1727\n",
       "Ubisoft           1609\n",
       "Sega              1536\n",
       "Microsoft         1191\n",
       "Atari              872\n",
       "THQ                858"
      ]
     },
     "execution_count": 36,
     "metadata": {},
     "output_type": "execute_result"
    }
   ],
   "source": [
    "brand_count_df.head(10)"
   ]
  },
  {
   "cell_type": "code",
   "execution_count": 37,
   "metadata": {
    "scrolled": true
   },
   "outputs": [
    {
     "data": {
      "text/html": [
       "<div>\n",
       "<style scoped>\n",
       "    .dataframe tbody tr th:only-of-type {\n",
       "        vertical-align: middle;\n",
       "    }\n",
       "\n",
       "    .dataframe tbody tr th {\n",
       "        vertical-align: top;\n",
       "    }\n",
       "\n",
       "    .dataframe thead th {\n",
       "        text-align: right;\n",
       "    }\n",
       "</style>\n",
       "<table border=\"1\" class=\"dataframe\">\n",
       "  <thead>\n",
       "    <tr style=\"text-align: right;\">\n",
       "      <th></th>\n",
       "      <th>category</th>\n",
       "      <th>description</th>\n",
       "      <th>title</th>\n",
       "      <th>also_buy</th>\n",
       "      <th>brand</th>\n",
       "      <th>feature</th>\n",
       "      <th>rank</th>\n",
       "      <th>also_view</th>\n",
       "      <th>main_cat</th>\n",
       "      <th>similar_item</th>\n",
       "      <th>asin</th>\n",
       "      <th>imageURL</th>\n",
       "    </tr>\n",
       "  </thead>\n",
       "  <tbody>\n",
       "    <tr>\n",
       "      <th>2</th>\n",
       "      <td>Video Games,Retro Gaming &amp; Microconsoles,Super...</td>\n",
       "      <td>Video Games,Retro Gaming &amp; Microconsoles,Super...</td>\n",
       "      <td>street fighter 2 II turbo super nintendo snes ...</td>\n",
       "      <td>[]</td>\n",
       "      <td>Nintendo</td>\n",
       "      <td>[]</td>\n",
       "      <td>[&gt;#134,433 in Video Games (See Top 100 in Vide...</td>\n",
       "      <td>[]</td>\n",
       "      <td>Video Games</td>\n",
       "      <td></td>\n",
       "      <td>0276425316</td>\n",
       "      <td>[]</td>\n",
       "    </tr>\n",
       "    <tr>\n",
       "      <th>215</th>\n",
       "      <td>Video Games,Retro Gaming &amp; Microconsoles,Ninte...</td>\n",
       "      <td>Video Games,Retro Gaming &amp; Microconsoles,Ninte...</td>\n",
       "      <td>Forsaken</td>\n",
       "      <td>[B00002STGL, B00002STGQ, B00000JMWB, B00000DMB...</td>\n",
       "      <td>Nintendo</td>\n",
       "      <td>[Nintendo]</td>\n",
       "      <td>[&gt;#43,237 in Video Games (See Top 100 in Video...</td>\n",
       "      <td>[B00002STGL, B00000DMAT, B00000DMB3, B00000I1B...</td>\n",
       "      <td>Video Games</td>\n",
       "      <td></td>\n",
       "      <td>B000006OWT</td>\n",
       "      <td>[]</td>\n",
       "    </tr>\n",
       "    <tr>\n",
       "      <th>247</th>\n",
       "      <td>Video Games,Retro Gaming &amp; Microconsoles,Ninte...</td>\n",
       "      <td>Video Games,Retro Gaming &amp; Microconsoles,Ninte...</td>\n",
       "      <td>1080 Snowboarding</td>\n",
       "      <td>[B00002STI2, B00001QES1, B000021Y2Z, B00002STH...</td>\n",
       "      <td>Nintendo</td>\n",
       "      <td>[]</td>\n",
       "      <td>[&gt;#7,719 in Video Games (See Top 100 in Video ...</td>\n",
       "      <td>[B00001QES1, B00002STI2, B00000DMAX, B00000F1G...</td>\n",
       "      <td>Video Games</td>\n",
       "      <td></td>\n",
       "      <td>B00000DMAO</td>\n",
       "      <td>[https://images-na.ssl-images-amazon.com/image...</td>\n",
       "    </tr>\n",
       "    <tr>\n",
       "      <th>249</th>\n",
       "      <td>Video Games,Retro Gaming &amp; Microconsoles,Ninte...</td>\n",
       "      <td>Video Games,Retro Gaming &amp; Microconsoles,Ninte...</td>\n",
       "      <td>Mario Kart 64</td>\n",
       "      <td>[B00002DHEV, B00000F1GM, B0792NTVZ4, B0793J5C1...</td>\n",
       "      <td>Nintendo</td>\n",
       "      <td>[]</td>\n",
       "      <td>[&gt;#891 in Video Games (See Top 100 in Video Ga...</td>\n",
       "      <td>[B00000F1GM, B00002DHEV, B00004VX12, B00000J2W...</td>\n",
       "      <td>Video Games</td>\n",
       "      <td></td>\n",
       "      <td>B00000DMAX</td>\n",
       "      <td>[https://images-na.ssl-images-amazon.com/image...</td>\n",
       "    </tr>\n",
       "    <tr>\n",
       "      <th>251</th>\n",
       "      <td>Video Games,Retro Gaming &amp; Microconsoles,Ninte...</td>\n",
       "      <td>Video Games,Retro Gaming &amp; Microconsoles,Ninte...</td>\n",
       "      <td>The Legend of Zelda: Ocarina of Time</td>\n",
       "      <td>[B00000F1GM, B00002DHEV, B00000DMAX, B00002STE...</td>\n",
       "      <td>Nintendo</td>\n",
       "      <td>[]</td>\n",
       "      <td>[&gt;#1,847 in Video Games (See Top 100 in Video ...</td>\n",
       "      <td>[B00000ID61, B00OVJQD4I, B000JVM256, B00004U1R...</td>\n",
       "      <td>Video Games</td>\n",
       "      <td></td>\n",
       "      <td>B00000DMB3</td>\n",
       "      <td>[https://images-na.ssl-images-amazon.com/image...</td>\n",
       "    </tr>\n",
       "    <tr>\n",
       "      <th>...</th>\n",
       "      <td>...</td>\n",
       "      <td>...</td>\n",
       "      <td>...</td>\n",
       "      <td>...</td>\n",
       "      <td>...</td>\n",
       "      <td>...</td>\n",
       "      <td>...</td>\n",
       "      <td>...</td>\n",
       "      <td>...</td>\n",
       "      <td>...</td>\n",
       "      <td>...</td>\n",
       "      <td>...</td>\n",
       "    </tr>\n",
       "    <tr>\n",
       "      <th>84537</th>\n",
       "      <td>Video Games,Wii U,Games,</td>\n",
       "      <td>Video Games,Wii U,Games,</td>\n",
       "      <td>Nintendo Boo amiibo (SM Series) - Nintendo Wii U</td>\n",
       "      <td>[B00S7O6RG2, B071K9MZ6P, B071K9MTPY, B01CKH0W9...</td>\n",
       "      <td>Nintendo</td>\n",
       "      <td>[Introducing amiibo: character figures designe...</td>\n",
       "      <td>[&gt;#8,050 in Video Games (See Top 100 in Video ...</td>\n",
       "      <td>[B00S7O6R9E, B01LC98QJO, B071K9MZ6P, B071K9MTP...</td>\n",
       "      <td>Video Games</td>\n",
       "      <td></td>\n",
       "      <td>B01H2DKGZQ</td>\n",
       "      <td>[]</td>\n",
       "    </tr>\n",
       "    <tr>\n",
       "      <th>84553</th>\n",
       "      <td>Video Games,Kids &amp; Family,Nintendo 3DS,Games,</td>\n",
       "      <td>Video Games,Kids &amp; Family,Nintendo 3DS,Games,</td>\n",
       "      <td>Mario Party Star Rush - Nintendo 3DS</td>\n",
       "      <td>[B00CH9253W, B075M5MCDF, B01AC3ZA0Y, B01LDUYTX...</td>\n",
       "      <td>Nintendo</td>\n",
       "      <td>[Break free of turn order, with all players pl...</td>\n",
       "      <td>[&gt;#4,040 in Video Games (See Top 100 in Video ...</td>\n",
       "      <td>[B075M5MCDF, B0792HGXB8, B00CH9253W, B01AC3ZA0...</td>\n",
       "      <td>Video Games</td>\n",
       "      <td></td>\n",
       "      <td>B01H3NU4OS</td>\n",
       "      <td>[https://images-na.ssl-images-amazon.com/image...</td>\n",
       "    </tr>\n",
       "    <tr>\n",
       "      <th>84561</th>\n",
       "      <td>Video Games,Wii,</td>\n",
       "      <td>Video Games,Wii,</td>\n",
       "      <td>Nintendo Pokemon Go Plus</td>\n",
       "      <td>[B07C7K7JGW, B07HNC7JB9, B07C75329M, B07C7L9D9...</td>\n",
       "      <td>Nintendo</td>\n",
       "      <td>[The Pokmon GO Plus is a small device that let...</td>\n",
       "      <td>[&gt;#388 in Video Games (See Top 100 in Video Ga...</td>\n",
       "      <td>[B071K63M65, B06Y5BTX8L, B071R3P45V, B07C1MCH3...</td>\n",
       "      <td>Video Games</td>\n",
       "      <td></td>\n",
       "      <td>B01H482N6E</td>\n",
       "      <td>[https://images-na.ssl-images-amazon.com/image...</td>\n",
       "    </tr>\n",
       "    <tr>\n",
       "      <th>84671</th>\n",
       "      <td>Video Games,Kids &amp; Family,Nintendo 3DS,Games</td>\n",
       "      <td>Video Games,Kids &amp; Family,Nintendo 3DS,Games</td>\n",
       "      <td>Beyblade 3DS Japan Import</td>\n",
       "      <td>[B07JCM53Y5, B07D3J3HJ9, B06Y6LNFRZ, B07H9L6LH...</td>\n",
       "      <td>Nintendo</td>\n",
       "      <td>[]</td>\n",
       "      <td>[&gt;#7,410 in Video Games (See Top 100 in Video ...</td>\n",
       "      <td>[B00CP1QC4K, B00CP1Q9LQ, B0732S9YGW, B07D3J3HJ...</td>\n",
       "      <td>Video Games</td>\n",
       "      <td></td>\n",
       "      <td>B01HBAUF56</td>\n",
       "      <td>[https://images-na.ssl-images-amazon.com/image...</td>\n",
       "    </tr>\n",
       "    <tr>\n",
       "      <th>84690</th>\n",
       "      <td>Video Games,Kids &amp; Family,Nintendo 3DS,Games</td>\n",
       "      <td>Video Games,Kids &amp; Family,Nintendo 3DS,Games</td>\n",
       "      <td>Metroid Prime: Federation Force 3DS Import Japan</td>\n",
       "      <td>[]</td>\n",
       "      <td>Nintendo</td>\n",
       "      <td>[]</td>\n",
       "      <td>[&gt;#51,848 in Video Games (See Top 100 in Video...</td>\n",
       "      <td>[B071X7V8NR, B074NDKDWR, B0792HGXB8, B00DD0B1R...</td>\n",
       "      <td>Video Games</td>\n",
       "      <td></td>\n",
       "      <td>B01HCAW0TE</td>\n",
       "      <td>[https://images-na.ssl-images-amazon.com/image...</td>\n",
       "    </tr>\n",
       "  </tbody>\n",
       "</table>\n",
       "<p>2704 rows × 12 columns</p>\n",
       "</div>"
      ],
      "text/plain": [
       "                                                category  \\\n",
       "2      Video Games,Retro Gaming & Microconsoles,Super...   \n",
       "215    Video Games,Retro Gaming & Microconsoles,Ninte...   \n",
       "247    Video Games,Retro Gaming & Microconsoles,Ninte...   \n",
       "249    Video Games,Retro Gaming & Microconsoles,Ninte...   \n",
       "251    Video Games,Retro Gaming & Microconsoles,Ninte...   \n",
       "...                                                  ...   \n",
       "84537                           Video Games,Wii U,Games,   \n",
       "84553      Video Games,Kids & Family,Nintendo 3DS,Games,   \n",
       "84561                                   Video Games,Wii,   \n",
       "84671       Video Games,Kids & Family,Nintendo 3DS,Games   \n",
       "84690       Video Games,Kids & Family,Nintendo 3DS,Games   \n",
       "\n",
       "                                             description  \\\n",
       "2      Video Games,Retro Gaming & Microconsoles,Super...   \n",
       "215    Video Games,Retro Gaming & Microconsoles,Ninte...   \n",
       "247    Video Games,Retro Gaming & Microconsoles,Ninte...   \n",
       "249    Video Games,Retro Gaming & Microconsoles,Ninte...   \n",
       "251    Video Games,Retro Gaming & Microconsoles,Ninte...   \n",
       "...                                                  ...   \n",
       "84537                           Video Games,Wii U,Games,   \n",
       "84553      Video Games,Kids & Family,Nintendo 3DS,Games,   \n",
       "84561                                   Video Games,Wii,   \n",
       "84671       Video Games,Kids & Family,Nintendo 3DS,Games   \n",
       "84690       Video Games,Kids & Family,Nintendo 3DS,Games   \n",
       "\n",
       "                                                   title  \\\n",
       "2      street fighter 2 II turbo super nintendo snes ...   \n",
       "215                                             Forsaken   \n",
       "247                                    1080 Snowboarding   \n",
       "249                                        Mario Kart 64   \n",
       "251                 The Legend of Zelda: Ocarina of Time   \n",
       "...                                                  ...   \n",
       "84537   Nintendo Boo amiibo (SM Series) - Nintendo Wii U   \n",
       "84553               Mario Party Star Rush - Nintendo 3DS   \n",
       "84561                           Nintendo Pokemon Go Plus   \n",
       "84671                          Beyblade 3DS Japan Import   \n",
       "84690   Metroid Prime: Federation Force 3DS Import Japan   \n",
       "\n",
       "                                                also_buy     brand  \\\n",
       "2                                                     []  Nintendo   \n",
       "215    [B00002STGL, B00002STGQ, B00000JMWB, B00000DMB...  Nintendo   \n",
       "247    [B00002STI2, B00001QES1, B000021Y2Z, B00002STH...  Nintendo   \n",
       "249    [B00002DHEV, B00000F1GM, B0792NTVZ4, B0793J5C1...  Nintendo   \n",
       "251    [B00000F1GM, B00002DHEV, B00000DMAX, B00002STE...  Nintendo   \n",
       "...                                                  ...       ...   \n",
       "84537  [B00S7O6RG2, B071K9MZ6P, B071K9MTPY, B01CKH0W9...  Nintendo   \n",
       "84553  [B00CH9253W, B075M5MCDF, B01AC3ZA0Y, B01LDUYTX...  Nintendo   \n",
       "84561  [B07C7K7JGW, B07HNC7JB9, B07C75329M, B07C7L9D9...  Nintendo   \n",
       "84671  [B07JCM53Y5, B07D3J3HJ9, B06Y6LNFRZ, B07H9L6LH...  Nintendo   \n",
       "84690                                                 []  Nintendo   \n",
       "\n",
       "                                                 feature  \\\n",
       "2                                                     []   \n",
       "215                                           [Nintendo]   \n",
       "247                                                   []   \n",
       "249                                                   []   \n",
       "251                                                   []   \n",
       "...                                                  ...   \n",
       "84537  [Introducing amiibo: character figures designe...   \n",
       "84553  [Break free of turn order, with all players pl...   \n",
       "84561  [The Pokmon GO Plus is a small device that let...   \n",
       "84671                                                 []   \n",
       "84690                                                 []   \n",
       "\n",
       "                                                    rank  \\\n",
       "2      [>#134,433 in Video Games (See Top 100 in Vide...   \n",
       "215    [>#43,237 in Video Games (See Top 100 in Video...   \n",
       "247    [>#7,719 in Video Games (See Top 100 in Video ...   \n",
       "249    [>#891 in Video Games (See Top 100 in Video Ga...   \n",
       "251    [>#1,847 in Video Games (See Top 100 in Video ...   \n",
       "...                                                  ...   \n",
       "84537  [>#8,050 in Video Games (See Top 100 in Video ...   \n",
       "84553  [>#4,040 in Video Games (See Top 100 in Video ...   \n",
       "84561  [>#388 in Video Games (See Top 100 in Video Ga...   \n",
       "84671  [>#7,410 in Video Games (See Top 100 in Video ...   \n",
       "84690  [>#51,848 in Video Games (See Top 100 in Video...   \n",
       "\n",
       "                                               also_view     main_cat  \\\n",
       "2                                                     []  Video Games   \n",
       "215    [B00002STGL, B00000DMAT, B00000DMB3, B00000I1B...  Video Games   \n",
       "247    [B00001QES1, B00002STI2, B00000DMAX, B00000F1G...  Video Games   \n",
       "249    [B00000F1GM, B00002DHEV, B00004VX12, B00000J2W...  Video Games   \n",
       "251    [B00000ID61, B00OVJQD4I, B000JVM256, B00004U1R...  Video Games   \n",
       "...                                                  ...          ...   \n",
       "84537  [B00S7O6R9E, B01LC98QJO, B071K9MZ6P, B071K9MTP...  Video Games   \n",
       "84553  [B075M5MCDF, B0792HGXB8, B00CH9253W, B01AC3ZA0...  Video Games   \n",
       "84561  [B071K63M65, B06Y5BTX8L, B071R3P45V, B07C1MCH3...  Video Games   \n",
       "84671  [B00CP1QC4K, B00CP1Q9LQ, B0732S9YGW, B07D3J3HJ...  Video Games   \n",
       "84690  [B071X7V8NR, B074NDKDWR, B0792HGXB8, B00DD0B1R...  Video Games   \n",
       "\n",
       "      similar_item        asin  \\\n",
       "2                   0276425316   \n",
       "215                 B000006OWT   \n",
       "247                 B00000DMAO   \n",
       "249                 B00000DMAX   \n",
       "251                 B00000DMB3   \n",
       "...            ...         ...   \n",
       "84537               B01H2DKGZQ   \n",
       "84553               B01H3NU4OS   \n",
       "84561               B01H482N6E   \n",
       "84671               B01HBAUF56   \n",
       "84690               B01HCAW0TE   \n",
       "\n",
       "                                                imageURL  \n",
       "2                                                     []  \n",
       "215                                                   []  \n",
       "247    [https://images-na.ssl-images-amazon.com/image...  \n",
       "249    [https://images-na.ssl-images-amazon.com/image...  \n",
       "251    [https://images-na.ssl-images-amazon.com/image...  \n",
       "...                                                  ...  \n",
       "84537                                                 []  \n",
       "84553  [https://images-na.ssl-images-amazon.com/image...  \n",
       "84561  [https://images-na.ssl-images-amazon.com/image...  \n",
       "84671  [https://images-na.ssl-images-amazon.com/image...  \n",
       "84690  [https://images-na.ssl-images-amazon.com/image...  \n",
       "\n",
       "[2704 rows x 12 columns]"
      ]
     },
     "execution_count": 37,
     "metadata": {},
     "output_type": "execute_result"
    }
   ],
   "source": [
    "df_prod.loc[df_prod['brand']=='Nintendo']"
   ]
  },
  {
   "cell_type": "markdown",
   "metadata": {},
   "source": [
    "## Content Based Recommendation System"
   ]
  },
  {
   "cell_type": "markdown",
   "metadata": {},
   "source": [
    "This method uses only information about the description and attributes of the items. For the content based method, I'm going to use category and brand in product metadata as the attributes of items. "
   ]
  },
  {
   "cell_type": "code",
   "execution_count": 38,
   "metadata": {},
   "outputs": [],
   "source": [
    "# string split the category column by comma\n",
    "df_prod['category'] = df_prod['category'].str.split(',')"
   ]
  },
  {
   "cell_type": "code",
   "execution_count": 39,
   "metadata": {
    "scrolled": true
   },
   "outputs": [
    {
     "data": {
      "text/html": [
       "<div>\n",
       "<style scoped>\n",
       "    .dataframe tbody tr th:only-of-type {\n",
       "        vertical-align: middle;\n",
       "    }\n",
       "\n",
       "    .dataframe tbody tr th {\n",
       "        vertical-align: top;\n",
       "    }\n",
       "\n",
       "    .dataframe thead th {\n",
       "        text-align: right;\n",
       "    }\n",
       "</style>\n",
       "<table border=\"1\" class=\"dataframe\">\n",
       "  <thead>\n",
       "    <tr style=\"text-align: right;\">\n",
       "      <th></th>\n",
       "      <th>category</th>\n",
       "      <th>description</th>\n",
       "      <th>title</th>\n",
       "      <th>also_buy</th>\n",
       "      <th>brand</th>\n",
       "      <th>feature</th>\n",
       "      <th>rank</th>\n",
       "      <th>also_view</th>\n",
       "      <th>main_cat</th>\n",
       "      <th>similar_item</th>\n",
       "      <th>asin</th>\n",
       "      <th>imageURL</th>\n",
       "    </tr>\n",
       "  </thead>\n",
       "  <tbody>\n",
       "    <tr>\n",
       "      <th>0</th>\n",
       "      <td>[Video Games, PC, Games]</td>\n",
       "      <td>Video Games,PC,Games</td>\n",
       "      <td>Reversi Sensory Challenger</td>\n",
       "      <td>[]</td>\n",
       "      <td>Fidelity Electronics</td>\n",
       "      <td>[]</td>\n",
       "      <td>[&gt;#2,623,937 in Toys &amp;amp; Games (See Top 100 ...</td>\n",
       "      <td>[]</td>\n",
       "      <td>Toys &amp;amp; Games</td>\n",
       "      <td></td>\n",
       "      <td>0042000742</td>\n",
       "      <td>[https://images-na.ssl-images-amazon.com/image...</td>\n",
       "    </tr>\n",
       "    <tr>\n",
       "      <th>1</th>\n",
       "      <td>[Video Games, Xbox 360, Games, ]</td>\n",
       "      <td>Video Games,Xbox 360,Games,</td>\n",
       "      <td>Medal of Honor: Warfighter - Includes Battlefi...</td>\n",
       "      <td>[B00PADROYW]</td>\n",
       "      <td>EA Games</td>\n",
       "      <td>[]</td>\n",
       "      <td>[&gt;#67,231 in Video Games (See Top 100 in Video...</td>\n",
       "      <td>[B0050SY5BM, B072NQJCW5, B000TI836G, B002SRSQ7...</td>\n",
       "      <td>Video Games</td>\n",
       "      <td></td>\n",
       "      <td>0078764343</td>\n",
       "      <td>[https://images-na.ssl-images-amazon.com/image...</td>\n",
       "    </tr>\n",
       "    <tr>\n",
       "      <th>2</th>\n",
       "      <td>[Video Games, Retro Gaming &amp; Microconsoles, Su...</td>\n",
       "      <td>Video Games,Retro Gaming &amp; Microconsoles,Super...</td>\n",
       "      <td>street fighter 2 II turbo super nintendo snes ...</td>\n",
       "      <td>[]</td>\n",
       "      <td>Nintendo</td>\n",
       "      <td>[]</td>\n",
       "      <td>[&gt;#134,433 in Video Games (See Top 100 in Vide...</td>\n",
       "      <td>[]</td>\n",
       "      <td>Video Games</td>\n",
       "      <td></td>\n",
       "      <td>0276425316</td>\n",
       "      <td>[]</td>\n",
       "    </tr>\n",
       "    <tr>\n",
       "      <th>3</th>\n",
       "      <td>[Video Games, Xbox 360, Accessories, Controlle...</td>\n",
       "      <td>Video Games,Xbox 360,Accessories,Controllers,J...</td>\n",
       "      <td>Xbox 360 MAS STICK</td>\n",
       "      <td>[]</td>\n",
       "      <td>MAS SYSTEMS</td>\n",
       "      <td>[Original PCB used from Xbox 360 Control Pad (...</td>\n",
       "      <td>[&gt;#105,263 in Video Games (See Top 100 in Vide...</td>\n",
       "      <td>[]</td>\n",
       "      <td>Video Games</td>\n",
       "      <td></td>\n",
       "      <td>0324411812</td>\n",
       "      <td>[https://images-na.ssl-images-amazon.com/image...</td>\n",
       "    </tr>\n",
       "    <tr>\n",
       "      <th>4</th>\n",
       "      <td>[Video Games, PC, Games, , Grades 2-12, Spelli...</td>\n",
       "      <td>Video Games,PC,Games,,Grades 2-12,Spelling Pro...</td>\n",
       "      <td>Phonics Alive! 3: The Speller</td>\n",
       "      <td>[]</td>\n",
       "      <td>Advanced Software Pty. Ltd.</td>\n",
       "      <td>[Grades 2-12, Spelling Program, Teaches Spelli...</td>\n",
       "      <td>[&gt;#92,397 in Video Games (See Top 100 in Video...</td>\n",
       "      <td>[B000BCZ7U0]</td>\n",
       "      <td>Video Games</td>\n",
       "      <td></td>\n",
       "      <td>0439335310</td>\n",
       "      <td>[https://images-na.ssl-images-amazon.com/image...</td>\n",
       "    </tr>\n",
       "    <tr>\n",
       "      <th>...</th>\n",
       "      <td>...</td>\n",
       "      <td>...</td>\n",
       "      <td>...</td>\n",
       "      <td>...</td>\n",
       "      <td>...</td>\n",
       "      <td>...</td>\n",
       "      <td>...</td>\n",
       "      <td>...</td>\n",
       "      <td>...</td>\n",
       "      <td>...</td>\n",
       "      <td>...</td>\n",
       "      <td>...</td>\n",
       "    </tr>\n",
       "    <tr>\n",
       "      <th>84814</th>\n",
       "      <td>[Video Games, PlayStation Vita, Digital Games ...</td>\n",
       "      <td>Video Games,PlayStation Vita,Digital Games &amp; D...</td>\n",
       "      <td>Lego Star Wars: The Force Awakens - PS Vita [D...</td>\n",
       "      <td>[]</td>\n",
       "      <td>Warner Bros.</td>\n",
       "      <td>[]</td>\n",
       "      <td>[&gt;#74,224 in Video Games (See Top 100 in Video...</td>\n",
       "      <td>[]</td>\n",
       "      <td>Video Games</td>\n",
       "      <td></td>\n",
       "      <td>B01HJ1521Y</td>\n",
       "      <td>[]</td>\n",
       "    </tr>\n",
       "    <tr>\n",
       "      <th>84815</th>\n",
       "      <td>[Video Games, PlayStation 4, Digital Games &amp; D...</td>\n",
       "      <td>Video Games,PlayStation 4,Digital Games &amp; DLC,...</td>\n",
       "      <td>Lego Star Wars: The Force Awakens  Season Pass...</td>\n",
       "      <td>[]</td>\n",
       "      <td>Warner Bros.</td>\n",
       "      <td>[DLC Requires base game]</td>\n",
       "      <td>[&gt;#62,150 in Video Games (See Top 100 in Video...</td>\n",
       "      <td>[]</td>\n",
       "      <td>Video Games</td>\n",
       "      <td></td>\n",
       "      <td>B01HJ14TTA</td>\n",
       "      <td>[]</td>\n",
       "    </tr>\n",
       "    <tr>\n",
       "      <th>84816</th>\n",
       "      <td>[Video Games, PlayStation 4, Digital Games &amp; D...</td>\n",
       "      <td>Video Games,PlayStation 4,Digital Games &amp; DLC,...</td>\n",
       "      <td>The Technomancer - PS4 [Digital Code]</td>\n",
       "      <td>[]</td>\n",
       "      <td>Focus Home Interactive</td>\n",
       "      <td>[]</td>\n",
       "      <td>[&gt;#94,234 in Video Games (See Top 100 in Video...</td>\n",
       "      <td>[]</td>\n",
       "      <td>Video Games</td>\n",
       "      <td></td>\n",
       "      <td>B01HJ14OT0</td>\n",
       "      <td>[https://images-na.ssl-images-amazon.com/image...</td>\n",
       "    </tr>\n",
       "    <tr>\n",
       "      <th>84817</th>\n",
       "      <td>[Video Games, Xbox 360, Accessories, ]</td>\n",
       "      <td>Video Games,Xbox 360,Accessories,</td>\n",
       "      <td>Repair T8 T6 Tools for XBOX One Xbox 360, YTTL...</td>\n",
       "      <td>[B01KBNB7K2, B06X6JSYPC, B01N6Y0Z7W, B06VXD2W5...</td>\n",
       "      <td>YTTL</td>\n",
       "      <td>[If you want to Replacement you Xbox one /360 ...</td>\n",
       "      <td>[&gt;#16,087 in Video Games (See Top 100 in Video...</td>\n",
       "      <td>[B01KH25ZY6, B00PG8SU26, B07G122BVS, B016XLTQP...</td>\n",
       "      <td>Video Games</td>\n",
       "      <td></td>\n",
       "      <td>B01HJC33WS</td>\n",
       "      <td>[https://images-na.ssl-images-amazon.com/image...</td>\n",
       "    </tr>\n",
       "    <tr>\n",
       "      <th>84818</th>\n",
       "      <td>[Video Games, PC, Accessories, Gaming Mice]</td>\n",
       "      <td>Video Games,PC,Accessories,Gaming Mice</td>\n",
       "      <td>Zelotes 4000 DPI Programmable Gaming Mouse for...</td>\n",
       "      <td>[]</td>\n",
       "      <td>Zelotes</td>\n",
       "      <td>[Customize DPI Switch: 1000/1500/2000/4000,the...</td>\n",
       "      <td>[&gt;#434 in Computers &amp; Accessories &gt; Computer A...</td>\n",
       "      <td>[B016ZF77OA, B00GU8W5AE, B00E64DTDQ, B074TF6XV...</td>\n",
       "      <td>Computers</td>\n",
       "      <td></td>\n",
       "      <td>B01HJEBIAA</td>\n",
       "      <td>[https://images-na.ssl-images-amazon.com/image...</td>\n",
       "    </tr>\n",
       "  </tbody>\n",
       "</table>\n",
       "<p>71911 rows × 12 columns</p>\n",
       "</div>"
      ],
      "text/plain": [
       "                                                category  \\\n",
       "0                               [Video Games, PC, Games]   \n",
       "1                       [Video Games, Xbox 360, Games, ]   \n",
       "2      [Video Games, Retro Gaming & Microconsoles, Su...   \n",
       "3      [Video Games, Xbox 360, Accessories, Controlle...   \n",
       "4      [Video Games, PC, Games, , Grades 2-12, Spelli...   \n",
       "...                                                  ...   \n",
       "84814  [Video Games, PlayStation Vita, Digital Games ...   \n",
       "84815  [Video Games, PlayStation 4, Digital Games & D...   \n",
       "84816  [Video Games, PlayStation 4, Digital Games & D...   \n",
       "84817             [Video Games, Xbox 360, Accessories, ]   \n",
       "84818        [Video Games, PC, Accessories, Gaming Mice]   \n",
       "\n",
       "                                             description  \\\n",
       "0                                   Video Games,PC,Games   \n",
       "1                            Video Games,Xbox 360,Games,   \n",
       "2      Video Games,Retro Gaming & Microconsoles,Super...   \n",
       "3      Video Games,Xbox 360,Accessories,Controllers,J...   \n",
       "4      Video Games,PC,Games,,Grades 2-12,Spelling Pro...   \n",
       "...                                                  ...   \n",
       "84814  Video Games,PlayStation Vita,Digital Games & D...   \n",
       "84815  Video Games,PlayStation 4,Digital Games & DLC,...   \n",
       "84816  Video Games,PlayStation 4,Digital Games & DLC,...   \n",
       "84817                  Video Games,Xbox 360,Accessories,   \n",
       "84818             Video Games,PC,Accessories,Gaming Mice   \n",
       "\n",
       "                                                   title  \\\n",
       "0                             Reversi Sensory Challenger   \n",
       "1      Medal of Honor: Warfighter - Includes Battlefi...   \n",
       "2      street fighter 2 II turbo super nintendo snes ...   \n",
       "3                                     Xbox 360 MAS STICK   \n",
       "4                          Phonics Alive! 3: The Speller   \n",
       "...                                                  ...   \n",
       "84814  Lego Star Wars: The Force Awakens - PS Vita [D...   \n",
       "84815  Lego Star Wars: The Force Awakens  Season Pass...   \n",
       "84816              The Technomancer - PS4 [Digital Code]   \n",
       "84817  Repair T8 T6 Tools for XBOX One Xbox 360, YTTL...   \n",
       "84818  Zelotes 4000 DPI Programmable Gaming Mouse for...   \n",
       "\n",
       "                                                also_buy  \\\n",
       "0                                                     []   \n",
       "1                                           [B00PADROYW]   \n",
       "2                                                     []   \n",
       "3                                                     []   \n",
       "4                                                     []   \n",
       "...                                                  ...   \n",
       "84814                                                 []   \n",
       "84815                                                 []   \n",
       "84816                                                 []   \n",
       "84817  [B01KBNB7K2, B06X6JSYPC, B01N6Y0Z7W, B06VXD2W5...   \n",
       "84818                                                 []   \n",
       "\n",
       "                             brand  \\\n",
       "0             Fidelity Electronics   \n",
       "1                         EA Games   \n",
       "2                         Nintendo   \n",
       "3                      MAS SYSTEMS   \n",
       "4      Advanced Software Pty. Ltd.   \n",
       "...                            ...   \n",
       "84814                 Warner Bros.   \n",
       "84815                 Warner Bros.   \n",
       "84816       Focus Home Interactive   \n",
       "84817                         YTTL   \n",
       "84818                      Zelotes   \n",
       "\n",
       "                                                 feature  \\\n",
       "0                                                     []   \n",
       "1                                                     []   \n",
       "2                                                     []   \n",
       "3      [Original PCB used from Xbox 360 Control Pad (...   \n",
       "4      [Grades 2-12, Spelling Program, Teaches Spelli...   \n",
       "...                                                  ...   \n",
       "84814                                                 []   \n",
       "84815                           [DLC Requires base game]   \n",
       "84816                                                 []   \n",
       "84817  [If you want to Replacement you Xbox one /360 ...   \n",
       "84818  [Customize DPI Switch: 1000/1500/2000/4000,the...   \n",
       "\n",
       "                                                    rank  \\\n",
       "0      [>#2,623,937 in Toys &amp; Games (See Top 100 ...   \n",
       "1      [>#67,231 in Video Games (See Top 100 in Video...   \n",
       "2      [>#134,433 in Video Games (See Top 100 in Vide...   \n",
       "3      [>#105,263 in Video Games (See Top 100 in Vide...   \n",
       "4      [>#92,397 in Video Games (See Top 100 in Video...   \n",
       "...                                                  ...   \n",
       "84814  [>#74,224 in Video Games (See Top 100 in Video...   \n",
       "84815  [>#62,150 in Video Games (See Top 100 in Video...   \n",
       "84816  [>#94,234 in Video Games (See Top 100 in Video...   \n",
       "84817  [>#16,087 in Video Games (See Top 100 in Video...   \n",
       "84818  [>#434 in Computers & Accessories > Computer A...   \n",
       "\n",
       "                                               also_view          main_cat  \\\n",
       "0                                                     []  Toys &amp; Games   \n",
       "1      [B0050SY5BM, B072NQJCW5, B000TI836G, B002SRSQ7...       Video Games   \n",
       "2                                                     []       Video Games   \n",
       "3                                                     []       Video Games   \n",
       "4                                           [B000BCZ7U0]       Video Games   \n",
       "...                                                  ...               ...   \n",
       "84814                                                 []       Video Games   \n",
       "84815                                                 []       Video Games   \n",
       "84816                                                 []       Video Games   \n",
       "84817  [B01KH25ZY6, B00PG8SU26, B07G122BVS, B016XLTQP...       Video Games   \n",
       "84818  [B016ZF77OA, B00GU8W5AE, B00E64DTDQ, B074TF6XV...         Computers   \n",
       "\n",
       "      similar_item        asin  \\\n",
       "0                   0042000742   \n",
       "1                   0078764343   \n",
       "2                   0276425316   \n",
       "3                   0324411812   \n",
       "4                   0439335310   \n",
       "...            ...         ...   \n",
       "84814               B01HJ1521Y   \n",
       "84815               B01HJ14TTA   \n",
       "84816               B01HJ14OT0   \n",
       "84817               B01HJC33WS   \n",
       "84818               B01HJEBIAA   \n",
       "\n",
       "                                                imageURL  \n",
       "0      [https://images-na.ssl-images-amazon.com/image...  \n",
       "1      [https://images-na.ssl-images-amazon.com/image...  \n",
       "2                                                     []  \n",
       "3      [https://images-na.ssl-images-amazon.com/image...  \n",
       "4      [https://images-na.ssl-images-amazon.com/image...  \n",
       "...                                                  ...  \n",
       "84814                                                 []  \n",
       "84815                                                 []  \n",
       "84816  [https://images-na.ssl-images-amazon.com/image...  \n",
       "84817  [https://images-na.ssl-images-amazon.com/image...  \n",
       "84818  [https://images-na.ssl-images-amazon.com/image...  \n",
       "\n",
       "[71911 rows x 12 columns]"
      ]
     },
     "execution_count": 39,
     "metadata": {},
     "output_type": "execute_result"
    }
   ],
   "source": [
    "df_prod"
   ]
  },
  {
   "cell_type": "code",
   "execution_count": 40,
   "metadata": {
    "scrolled": false
   },
   "outputs": [
    {
     "data": {
      "text/plain": [
       "Index(['category', 'description', 'title', 'also_buy', 'brand', 'feature',\n",
       "       'rank', 'also_view', 'main_cat', 'similar_item', 'asin', 'imageURL'],\n",
       "      dtype='object')"
      ]
     },
     "execution_count": 40,
     "metadata": {},
     "output_type": "execute_result"
    }
   ],
   "source": [
    "df_prod.columns"
   ]
  },
  {
   "cell_type": "markdown",
   "metadata": {},
   "source": [
    "Try to find some frequent categories except Video Games and Games in catergory column. "
   ]
  },
  {
   "cell_type": "code",
   "execution_count": 41,
   "metadata": {
    "scrolled": true
   },
   "outputs": [],
   "source": [
    "categories_ls = df_prod['category'].to_list()"
   ]
  },
  {
   "cell_type": "code",
   "execution_count": 42,
   "metadata": {
    "scrolled": true
   },
   "outputs": [],
   "source": [
    "flatten_ls = []\n",
    "for ls in categories_ls:\n",
    "    for element in ls:\n",
    "        flatten_ls.append(element)\n",
    "categories = set(flatten_ls)"
   ]
  },
  {
   "cell_type": "code",
   "execution_count": null,
   "metadata": {},
   "outputs": [],
   "source": [
    "# use cloolection.Counter to find number of element in flattern_ls\n",
    "# count = dict(Counter(flatten_ls))\n",
    "# can't run, the list is too large "
   ]
  },
  {
   "cell_type": "markdown",
   "metadata": {},
   "source": [
    "I need to check the category manually and select several catergories that I think appears most frequently."
   ]
  },
  {
   "cell_type": "code",
   "execution_count": 43,
   "metadata": {
    "scrolled": true
   },
   "outputs": [
    {
     "data": {
      "text/plain": [
       "11235"
      ]
     },
     "execution_count": 43,
     "metadata": {},
     "output_type": "execute_result"
    }
   ],
   "source": [
    "flatten_ls.count('Retro Gaming & Microconsoles')"
   ]
  },
  {
   "cell_type": "code",
   "execution_count": 44,
   "metadata": {},
   "outputs": [],
   "source": [
    "# build a function to check if certain designated category is in the category column. \n",
    "def check_cat(row, cat):\n",
    "    if cat in row['category']:\n",
    "        return 1\n",
    "    else:\n",
    "        return 0"
   ]
  },
  {
   "cell_type": "markdown",
   "metadata": {},
   "source": [
    "Add several new columns. If the checked category is in category column returns 1 else 0."
   ]
  },
  {
   "cell_type": "code",
   "execution_count": 45,
   "metadata": {},
   "outputs": [],
   "source": [
    "df_prod['is_PC'] = df_prod.apply(check_cat, args=(['PC']), axis=1)"
   ]
  },
  {
   "cell_type": "code",
   "execution_count": 46,
   "metadata": {},
   "outputs": [],
   "source": [
    "df_prod['is_Xbox360'] = df_prod.apply(check_cat, args=(['Xbox 360']), axis=1)"
   ]
  },
  {
   "cell_type": "code",
   "execution_count": 47,
   "metadata": {},
   "outputs": [],
   "source": [
    "df_prod['is_Xboxone'] = df_prod.apply(check_cat, args=(['Xbox One']), axis=1)"
   ]
  },
  {
   "cell_type": "code",
   "execution_count": 48,
   "metadata": {},
   "outputs": [],
   "source": [
    "df_prod['is_PS4'] = df_prod.apply(check_cat, args=(['PlayStation 4']), axis=1)"
   ]
  },
  {
   "cell_type": "code",
   "execution_count": 49,
   "metadata": {},
   "outputs": [],
   "source": [
    "df_prod['is_PS3'] = df_prod.apply(check_cat, args=(['PlayStation 3']), axis=1)"
   ]
  },
  {
   "cell_type": "code",
   "execution_count": 50,
   "metadata": {},
   "outputs": [],
   "source": [
    "df_prod['is_Wii'] = df_prod.apply(check_cat, args=(['Wii']), axis=1)"
   ]
  },
  {
   "cell_type": "code",
   "execution_count": 51,
   "metadata": {},
   "outputs": [],
   "source": [
    "df_prod['is_microconsloes'] = df_prod.apply(check_cat, args=(['Retro Gaming & Microconsoles']), axis=1)"
   ]
  },
  {
   "cell_type": "code",
   "execution_count": 52,
   "metadata": {
    "scrolled": true
   },
   "outputs": [],
   "source": [
    "df_prod['is_accesssories'] = df_prod.apply(check_cat, args=(['Accessories']), axis=1)"
   ]
  },
  {
   "cell_type": "code",
   "execution_count": 53,
   "metadata": {},
   "outputs": [
    {
     "data": {
      "text/plain": [
       "Index(['category', 'description', 'title', 'also_buy', 'brand', 'feature',\n",
       "       'rank', 'also_view', 'main_cat', 'similar_item', 'asin', 'imageURL',\n",
       "       'is_PC', 'is_Xbox360', 'is_Xboxone', 'is_PS4', 'is_PS3', 'is_Wii',\n",
       "       'is_microconsloes', 'is_accesssories'],\n",
       "      dtype='object')"
      ]
     },
     "execution_count": 53,
     "metadata": {},
     "output_type": "execute_result"
    }
   ],
   "source": [
    "df_prod.columns"
   ]
  },
  {
   "cell_type": "code",
   "execution_count": 54,
   "metadata": {},
   "outputs": [],
   "source": [
    "def check_brand(row, brand):\n",
    "    if brand in row['brand']:\n",
    "        return 1\n",
    "    else:\n",
    "        return 0"
   ]
  },
  {
   "cell_type": "code",
   "execution_count": 55,
   "metadata": {
    "scrolled": true
   },
   "outputs": [],
   "source": [
    "df_prod['Nintendo'] = df_prod.apply(check_brand, args=(['Nintendo']), axis=1)"
   ]
  },
  {
   "cell_type": "code",
   "execution_count": 56,
   "metadata": {},
   "outputs": [],
   "source": [
    "df_prod['Electronic Arts'] = df_prod.apply(check_brand, args=(['Electronic Arts']), axis=1)"
   ]
  },
  {
   "cell_type": "code",
   "execution_count": 57,
   "metadata": {},
   "outputs": [],
   "source": [
    "df_prod['Activision'] = df_prod.apply(check_brand, args=(['Activision']), axis=1)"
   ]
  },
  {
   "cell_type": "code",
   "execution_count": 58,
   "metadata": {},
   "outputs": [],
   "source": [
    "df_prod['Sega'] = df_prod.apply(check_brand, args=(['Sega']), axis=1)"
   ]
  },
  {
   "cell_type": "code",
   "execution_count": 59,
   "metadata": {},
   "outputs": [],
   "source": [
    "df_prod['Sony'] = df_prod.apply(check_brand, args=(['Sony']), axis=1)"
   ]
  },
  {
   "cell_type": "code",
   "execution_count": 60,
   "metadata": {},
   "outputs": [],
   "source": [
    "df_prod['Ubisoft'] = df_prod.apply(check_brand, args=(['Ubisoft']), axis=1)"
   ]
  },
  {
   "cell_type": "code",
   "execution_count": 61,
   "metadata": {},
   "outputs": [],
   "source": [
    "df_prod['Microsoft'] = df_prod.apply(check_brand, args=(['Microsoft']), axis=1)"
   ]
  },
  {
   "cell_type": "code",
   "execution_count": 62,
   "metadata": {},
   "outputs": [
    {
     "data": {
      "text/html": [
       "<div>\n",
       "<style scoped>\n",
       "    .dataframe tbody tr th:only-of-type {\n",
       "        vertical-align: middle;\n",
       "    }\n",
       "\n",
       "    .dataframe tbody tr th {\n",
       "        vertical-align: top;\n",
       "    }\n",
       "\n",
       "    .dataframe thead th {\n",
       "        text-align: right;\n",
       "    }\n",
       "</style>\n",
       "<table border=\"1\" class=\"dataframe\">\n",
       "  <thead>\n",
       "    <tr style=\"text-align: right;\">\n",
       "      <th></th>\n",
       "      <th>category</th>\n",
       "      <th>description</th>\n",
       "      <th>title</th>\n",
       "      <th>also_buy</th>\n",
       "      <th>brand</th>\n",
       "      <th>feature</th>\n",
       "      <th>rank</th>\n",
       "      <th>also_view</th>\n",
       "      <th>main_cat</th>\n",
       "      <th>similar_item</th>\n",
       "      <th>...</th>\n",
       "      <th>is_Wii</th>\n",
       "      <th>is_microconsloes</th>\n",
       "      <th>is_accesssories</th>\n",
       "      <th>Nintendo</th>\n",
       "      <th>Electronic Arts</th>\n",
       "      <th>Activision</th>\n",
       "      <th>Sega</th>\n",
       "      <th>Sony</th>\n",
       "      <th>Ubisoft</th>\n",
       "      <th>Microsoft</th>\n",
       "    </tr>\n",
       "  </thead>\n",
       "  <tbody>\n",
       "    <tr>\n",
       "      <th>0</th>\n",
       "      <td>[Video Games, PC, Games]</td>\n",
       "      <td>Video Games,PC,Games</td>\n",
       "      <td>Reversi Sensory Challenger</td>\n",
       "      <td>[]</td>\n",
       "      <td>Fidelity Electronics</td>\n",
       "      <td>[]</td>\n",
       "      <td>[&gt;#2,623,937 in Toys &amp;amp; Games (See Top 100 ...</td>\n",
       "      <td>[]</td>\n",
       "      <td>Toys &amp;amp; Games</td>\n",
       "      <td></td>\n",
       "      <td>...</td>\n",
       "      <td>0</td>\n",
       "      <td>0</td>\n",
       "      <td>0</td>\n",
       "      <td>0</td>\n",
       "      <td>0</td>\n",
       "      <td>0</td>\n",
       "      <td>0</td>\n",
       "      <td>0</td>\n",
       "      <td>0</td>\n",
       "      <td>0</td>\n",
       "    </tr>\n",
       "    <tr>\n",
       "      <th>1</th>\n",
       "      <td>[Video Games, Xbox 360, Games, ]</td>\n",
       "      <td>Video Games,Xbox 360,Games,</td>\n",
       "      <td>Medal of Honor: Warfighter - Includes Battlefi...</td>\n",
       "      <td>[B00PADROYW]</td>\n",
       "      <td>EA Games</td>\n",
       "      <td>[]</td>\n",
       "      <td>[&gt;#67,231 in Video Games (See Top 100 in Video...</td>\n",
       "      <td>[B0050SY5BM, B072NQJCW5, B000TI836G, B002SRSQ7...</td>\n",
       "      <td>Video Games</td>\n",
       "      <td></td>\n",
       "      <td>...</td>\n",
       "      <td>0</td>\n",
       "      <td>0</td>\n",
       "      <td>0</td>\n",
       "      <td>0</td>\n",
       "      <td>0</td>\n",
       "      <td>0</td>\n",
       "      <td>0</td>\n",
       "      <td>0</td>\n",
       "      <td>0</td>\n",
       "      <td>0</td>\n",
       "    </tr>\n",
       "    <tr>\n",
       "      <th>2</th>\n",
       "      <td>[Video Games, Retro Gaming &amp; Microconsoles, Su...</td>\n",
       "      <td>Video Games,Retro Gaming &amp; Microconsoles,Super...</td>\n",
       "      <td>street fighter 2 II turbo super nintendo snes ...</td>\n",
       "      <td>[]</td>\n",
       "      <td>Nintendo</td>\n",
       "      <td>[]</td>\n",
       "      <td>[&gt;#134,433 in Video Games (See Top 100 in Vide...</td>\n",
       "      <td>[]</td>\n",
       "      <td>Video Games</td>\n",
       "      <td></td>\n",
       "      <td>...</td>\n",
       "      <td>0</td>\n",
       "      <td>1</td>\n",
       "      <td>0</td>\n",
       "      <td>1</td>\n",
       "      <td>0</td>\n",
       "      <td>0</td>\n",
       "      <td>0</td>\n",
       "      <td>0</td>\n",
       "      <td>0</td>\n",
       "      <td>0</td>\n",
       "    </tr>\n",
       "    <tr>\n",
       "      <th>3</th>\n",
       "      <td>[Video Games, Xbox 360, Accessories, Controlle...</td>\n",
       "      <td>Video Games,Xbox 360,Accessories,Controllers,J...</td>\n",
       "      <td>Xbox 360 MAS STICK</td>\n",
       "      <td>[]</td>\n",
       "      <td>MAS SYSTEMS</td>\n",
       "      <td>[Original PCB used from Xbox 360 Control Pad (...</td>\n",
       "      <td>[&gt;#105,263 in Video Games (See Top 100 in Vide...</td>\n",
       "      <td>[]</td>\n",
       "      <td>Video Games</td>\n",
       "      <td></td>\n",
       "      <td>...</td>\n",
       "      <td>0</td>\n",
       "      <td>0</td>\n",
       "      <td>1</td>\n",
       "      <td>0</td>\n",
       "      <td>0</td>\n",
       "      <td>0</td>\n",
       "      <td>0</td>\n",
       "      <td>0</td>\n",
       "      <td>0</td>\n",
       "      <td>0</td>\n",
       "    </tr>\n",
       "    <tr>\n",
       "      <th>4</th>\n",
       "      <td>[Video Games, PC, Games, , Grades 2-12, Spelli...</td>\n",
       "      <td>Video Games,PC,Games,,Grades 2-12,Spelling Pro...</td>\n",
       "      <td>Phonics Alive! 3: The Speller</td>\n",
       "      <td>[]</td>\n",
       "      <td>Advanced Software Pty. Ltd.</td>\n",
       "      <td>[Grades 2-12, Spelling Program, Teaches Spelli...</td>\n",
       "      <td>[&gt;#92,397 in Video Games (See Top 100 in Video...</td>\n",
       "      <td>[B000BCZ7U0]</td>\n",
       "      <td>Video Games</td>\n",
       "      <td></td>\n",
       "      <td>...</td>\n",
       "      <td>0</td>\n",
       "      <td>0</td>\n",
       "      <td>0</td>\n",
       "      <td>0</td>\n",
       "      <td>0</td>\n",
       "      <td>0</td>\n",
       "      <td>0</td>\n",
       "      <td>0</td>\n",
       "      <td>0</td>\n",
       "      <td>0</td>\n",
       "    </tr>\n",
       "  </tbody>\n",
       "</table>\n",
       "<p>5 rows × 27 columns</p>\n",
       "</div>"
      ],
      "text/plain": [
       "                                            category  \\\n",
       "0                           [Video Games, PC, Games]   \n",
       "1                   [Video Games, Xbox 360, Games, ]   \n",
       "2  [Video Games, Retro Gaming & Microconsoles, Su...   \n",
       "3  [Video Games, Xbox 360, Accessories, Controlle...   \n",
       "4  [Video Games, PC, Games, , Grades 2-12, Spelli...   \n",
       "\n",
       "                                         description  \\\n",
       "0                               Video Games,PC,Games   \n",
       "1                        Video Games,Xbox 360,Games,   \n",
       "2  Video Games,Retro Gaming & Microconsoles,Super...   \n",
       "3  Video Games,Xbox 360,Accessories,Controllers,J...   \n",
       "4  Video Games,PC,Games,,Grades 2-12,Spelling Pro...   \n",
       "\n",
       "                                               title      also_buy  \\\n",
       "0                         Reversi Sensory Challenger            []   \n",
       "1  Medal of Honor: Warfighter - Includes Battlefi...  [B00PADROYW]   \n",
       "2  street fighter 2 II turbo super nintendo snes ...            []   \n",
       "3                                 Xbox 360 MAS STICK            []   \n",
       "4                      Phonics Alive! 3: The Speller            []   \n",
       "\n",
       "                         brand  \\\n",
       "0         Fidelity Electronics   \n",
       "1                     EA Games   \n",
       "2                     Nintendo   \n",
       "3                  MAS SYSTEMS   \n",
       "4  Advanced Software Pty. Ltd.   \n",
       "\n",
       "                                             feature  \\\n",
       "0                                                 []   \n",
       "1                                                 []   \n",
       "2                                                 []   \n",
       "3  [Original PCB used from Xbox 360 Control Pad (...   \n",
       "4  [Grades 2-12, Spelling Program, Teaches Spelli...   \n",
       "\n",
       "                                                rank  \\\n",
       "0  [>#2,623,937 in Toys &amp; Games (See Top 100 ...   \n",
       "1  [>#67,231 in Video Games (See Top 100 in Video...   \n",
       "2  [>#134,433 in Video Games (See Top 100 in Vide...   \n",
       "3  [>#105,263 in Video Games (See Top 100 in Vide...   \n",
       "4  [>#92,397 in Video Games (See Top 100 in Video...   \n",
       "\n",
       "                                           also_view          main_cat  \\\n",
       "0                                                 []  Toys &amp; Games   \n",
       "1  [B0050SY5BM, B072NQJCW5, B000TI836G, B002SRSQ7...       Video Games   \n",
       "2                                                 []       Video Games   \n",
       "3                                                 []       Video Games   \n",
       "4                                       [B000BCZ7U0]       Video Games   \n",
       "\n",
       "  similar_item  ... is_Wii is_microconsloes  is_accesssories  Nintendo  \\\n",
       "0               ...      0                0                0         0   \n",
       "1               ...      0                0                0         0   \n",
       "2               ...      0                1                0         1   \n",
       "3               ...      0                0                1         0   \n",
       "4               ...      0                0                0         0   \n",
       "\n",
       "   Electronic Arts  Activision  Sega  Sony  Ubisoft  Microsoft  \n",
       "0                0           0     0     0        0          0  \n",
       "1                0           0     0     0        0          0  \n",
       "2                0           0     0     0        0          0  \n",
       "3                0           0     0     0        0          0  \n",
       "4                0           0     0     0        0          0  \n",
       "\n",
       "[5 rows x 27 columns]"
      ]
     },
     "execution_count": 62,
     "metadata": {},
     "output_type": "execute_result"
    }
   ],
   "source": [
    "df_prod.head()"
   ]
  },
  {
   "cell_type": "code",
   "execution_count": 63,
   "metadata": {},
   "outputs": [],
   "source": [
    "# Select the columns that I just created above and make another dataframe for the cosine similarity. \n",
    "cat_df = pd.DataFrame(data=df_prod.iloc[:,12:].values, index=df_prod['asin'], columns=df_prod.iloc[:,12:].columns)"
   ]
  },
  {
   "cell_type": "code",
   "execution_count": 64,
   "metadata": {},
   "outputs": [
    {
     "data": {
      "text/html": [
       "<div>\n",
       "<style scoped>\n",
       "    .dataframe tbody tr th:only-of-type {\n",
       "        vertical-align: middle;\n",
       "    }\n",
       "\n",
       "    .dataframe tbody tr th {\n",
       "        vertical-align: top;\n",
       "    }\n",
       "\n",
       "    .dataframe thead th {\n",
       "        text-align: right;\n",
       "    }\n",
       "</style>\n",
       "<table border=\"1\" class=\"dataframe\">\n",
       "  <thead>\n",
       "    <tr style=\"text-align: right;\">\n",
       "      <th></th>\n",
       "      <th>is_PC</th>\n",
       "      <th>is_Xbox360</th>\n",
       "      <th>is_Xboxone</th>\n",
       "      <th>is_PS4</th>\n",
       "      <th>is_PS3</th>\n",
       "      <th>is_Wii</th>\n",
       "      <th>is_microconsloes</th>\n",
       "      <th>is_accesssories</th>\n",
       "      <th>Nintendo</th>\n",
       "      <th>Electronic Arts</th>\n",
       "      <th>Activision</th>\n",
       "      <th>Sega</th>\n",
       "      <th>Sony</th>\n",
       "      <th>Ubisoft</th>\n",
       "      <th>Microsoft</th>\n",
       "    </tr>\n",
       "    <tr>\n",
       "      <th>asin</th>\n",
       "      <th></th>\n",
       "      <th></th>\n",
       "      <th></th>\n",
       "      <th></th>\n",
       "      <th></th>\n",
       "      <th></th>\n",
       "      <th></th>\n",
       "      <th></th>\n",
       "      <th></th>\n",
       "      <th></th>\n",
       "      <th></th>\n",
       "      <th></th>\n",
       "      <th></th>\n",
       "      <th></th>\n",
       "      <th></th>\n",
       "    </tr>\n",
       "  </thead>\n",
       "  <tbody>\n",
       "    <tr>\n",
       "      <th>0042000742</th>\n",
       "      <td>1</td>\n",
       "      <td>0</td>\n",
       "      <td>0</td>\n",
       "      <td>0</td>\n",
       "      <td>0</td>\n",
       "      <td>0</td>\n",
       "      <td>0</td>\n",
       "      <td>0</td>\n",
       "      <td>0</td>\n",
       "      <td>0</td>\n",
       "      <td>0</td>\n",
       "      <td>0</td>\n",
       "      <td>0</td>\n",
       "      <td>0</td>\n",
       "      <td>0</td>\n",
       "    </tr>\n",
       "    <tr>\n",
       "      <th>0078764343</th>\n",
       "      <td>0</td>\n",
       "      <td>1</td>\n",
       "      <td>0</td>\n",
       "      <td>0</td>\n",
       "      <td>0</td>\n",
       "      <td>0</td>\n",
       "      <td>0</td>\n",
       "      <td>0</td>\n",
       "      <td>0</td>\n",
       "      <td>0</td>\n",
       "      <td>0</td>\n",
       "      <td>0</td>\n",
       "      <td>0</td>\n",
       "      <td>0</td>\n",
       "      <td>0</td>\n",
       "    </tr>\n",
       "    <tr>\n",
       "      <th>0276425316</th>\n",
       "      <td>0</td>\n",
       "      <td>0</td>\n",
       "      <td>0</td>\n",
       "      <td>0</td>\n",
       "      <td>0</td>\n",
       "      <td>0</td>\n",
       "      <td>1</td>\n",
       "      <td>0</td>\n",
       "      <td>1</td>\n",
       "      <td>0</td>\n",
       "      <td>0</td>\n",
       "      <td>0</td>\n",
       "      <td>0</td>\n",
       "      <td>0</td>\n",
       "      <td>0</td>\n",
       "    </tr>\n",
       "    <tr>\n",
       "      <th>0324411812</th>\n",
       "      <td>0</td>\n",
       "      <td>1</td>\n",
       "      <td>0</td>\n",
       "      <td>0</td>\n",
       "      <td>0</td>\n",
       "      <td>0</td>\n",
       "      <td>0</td>\n",
       "      <td>1</td>\n",
       "      <td>0</td>\n",
       "      <td>0</td>\n",
       "      <td>0</td>\n",
       "      <td>0</td>\n",
       "      <td>0</td>\n",
       "      <td>0</td>\n",
       "      <td>0</td>\n",
       "    </tr>\n",
       "    <tr>\n",
       "      <th>0439335310</th>\n",
       "      <td>1</td>\n",
       "      <td>0</td>\n",
       "      <td>0</td>\n",
       "      <td>0</td>\n",
       "      <td>0</td>\n",
       "      <td>0</td>\n",
       "      <td>0</td>\n",
       "      <td>0</td>\n",
       "      <td>0</td>\n",
       "      <td>0</td>\n",
       "      <td>0</td>\n",
       "      <td>0</td>\n",
       "      <td>0</td>\n",
       "      <td>0</td>\n",
       "      <td>0</td>\n",
       "    </tr>\n",
       "  </tbody>\n",
       "</table>\n",
       "</div>"
      ],
      "text/plain": [
       "            is_PC  is_Xbox360  is_Xboxone  is_PS4  is_PS3  is_Wii  \\\n",
       "asin                                                                \n",
       "0042000742      1           0           0       0       0       0   \n",
       "0078764343      0           1           0       0       0       0   \n",
       "0276425316      0           0           0       0       0       0   \n",
       "0324411812      0           1           0       0       0       0   \n",
       "0439335310      1           0           0       0       0       0   \n",
       "\n",
       "            is_microconsloes  is_accesssories  Nintendo  Electronic Arts  \\\n",
       "asin                                                                       \n",
       "0042000742                 0                0         0                0   \n",
       "0078764343                 0                0         0                0   \n",
       "0276425316                 1                0         1                0   \n",
       "0324411812                 0                1         0                0   \n",
       "0439335310                 0                0         0                0   \n",
       "\n",
       "            Activision  Sega  Sony  Ubisoft  Microsoft  \n",
       "asin                                                    \n",
       "0042000742           0     0     0        0          0  \n",
       "0078764343           0     0     0        0          0  \n",
       "0276425316           0     0     0        0          0  \n",
       "0324411812           0     0     0        0          0  \n",
       "0439335310           0     0     0        0          0  "
      ]
     },
     "execution_count": 64,
     "metadata": {},
     "output_type": "execute_result"
    }
   ],
   "source": [
    "cat_df.head()"
   ]
  },
  {
   "cell_type": "code",
   "execution_count": 65,
   "metadata": {},
   "outputs": [
    {
     "data": {
      "text/plain": [
       "(71911, 15)"
      ]
     },
     "execution_count": 65,
     "metadata": {},
     "output_type": "execute_result"
    }
   ],
   "source": [
    "cat_df.shape"
   ]
  },
  {
   "cell_type": "code",
   "execution_count": 66,
   "metadata": {},
   "outputs": [],
   "source": [
    "# build a function to find the cosine similarity between selected item and all the items in the dataset. \n",
    "def cos_simi(asin):\n",
    "    product_matrix = cat_df.loc[asin].values\n",
    "    cosine_sim = cosine_similarity(cat_df, product_matrix.reshape(1, -1))\n",
    "    return cosine_sim"
   ]
  },
  {
   "cell_type": "code",
   "execution_count": 67,
   "metadata": {},
   "outputs": [
    {
     "data": {
      "text/html": [
       "<div>\n",
       "<style scoped>\n",
       "    .dataframe tbody tr th:only-of-type {\n",
       "        vertical-align: middle;\n",
       "    }\n",
       "\n",
       "    .dataframe tbody tr th {\n",
       "        vertical-align: top;\n",
       "    }\n",
       "\n",
       "    .dataframe thead th {\n",
       "        text-align: right;\n",
       "    }\n",
       "</style>\n",
       "<table border=\"1\" class=\"dataframe\">\n",
       "  <thead>\n",
       "    <tr style=\"text-align: right;\">\n",
       "      <th></th>\n",
       "      <th>asin</th>\n",
       "      <th>title</th>\n",
       "      <th>description</th>\n",
       "      <th>brand</th>\n",
       "      <th>imageURL</th>\n",
       "    </tr>\n",
       "  </thead>\n",
       "  <tbody>\n",
       "    <tr>\n",
       "      <th>0</th>\n",
       "      <td>0042000742</td>\n",
       "      <td>Reversi Sensory Challenger</td>\n",
       "      <td>Video Games,PC,Games</td>\n",
       "      <td>Fidelity Electronics</td>\n",
       "      <td>[https://images-na.ssl-images-amazon.com/image...</td>\n",
       "    </tr>\n",
       "    <tr>\n",
       "      <th>1</th>\n",
       "      <td>0078764343</td>\n",
       "      <td>Medal of Honor: Warfighter - Includes Battlefi...</td>\n",
       "      <td>Video Games,Xbox 360,Games,</td>\n",
       "      <td>EA Games</td>\n",
       "      <td>[https://images-na.ssl-images-amazon.com/image...</td>\n",
       "    </tr>\n",
       "    <tr>\n",
       "      <th>2</th>\n",
       "      <td>0276425316</td>\n",
       "      <td>street fighter 2 II turbo super nintendo snes ...</td>\n",
       "      <td>Video Games,Retro Gaming &amp; Microconsoles,Super...</td>\n",
       "      <td>Nintendo</td>\n",
       "      <td>[]</td>\n",
       "    </tr>\n",
       "    <tr>\n",
       "      <th>3</th>\n",
       "      <td>0324411812</td>\n",
       "      <td>Xbox 360 MAS STICK</td>\n",
       "      <td>Video Games,Xbox 360,Accessories,Controllers,J...</td>\n",
       "      <td>MAS SYSTEMS</td>\n",
       "      <td>[https://images-na.ssl-images-amazon.com/image...</td>\n",
       "    </tr>\n",
       "    <tr>\n",
       "      <th>4</th>\n",
       "      <td>0439335310</td>\n",
       "      <td>Phonics Alive! 3: The Speller</td>\n",
       "      <td>Video Games,PC,Games,,Grades 2-12,Spelling Pro...</td>\n",
       "      <td>Advanced Software Pty. Ltd.</td>\n",
       "      <td>[https://images-na.ssl-images-amazon.com/image...</td>\n",
       "    </tr>\n",
       "  </tbody>\n",
       "</table>\n",
       "</div>"
      ],
      "text/plain": [
       "         asin                                              title  \\\n",
       "0  0042000742                         Reversi Sensory Challenger   \n",
       "1  0078764343  Medal of Honor: Warfighter - Includes Battlefi...   \n",
       "2  0276425316  street fighter 2 II turbo super nintendo snes ...   \n",
       "3  0324411812                                 Xbox 360 MAS STICK   \n",
       "4  0439335310                      Phonics Alive! 3: The Speller   \n",
       "\n",
       "                                         description  \\\n",
       "0                               Video Games,PC,Games   \n",
       "1                        Video Games,Xbox 360,Games,   \n",
       "2  Video Games,Retro Gaming & Microconsoles,Super...   \n",
       "3  Video Games,Xbox 360,Accessories,Controllers,J...   \n",
       "4  Video Games,PC,Games,,Grades 2-12,Spelling Pro...   \n",
       "\n",
       "                         brand  \\\n",
       "0         Fidelity Electronics   \n",
       "1                     EA Games   \n",
       "2                     Nintendo   \n",
       "3                  MAS SYSTEMS   \n",
       "4  Advanced Software Pty. Ltd.   \n",
       "\n",
       "                                            imageURL  \n",
       "0  [https://images-na.ssl-images-amazon.com/image...  \n",
       "1  [https://images-na.ssl-images-amazon.com/image...  \n",
       "2                                                 []  \n",
       "3  [https://images-na.ssl-images-amazon.com/image...  \n",
       "4  [https://images-na.ssl-images-amazon.com/image...  "
      ]
     },
     "execution_count": 67,
     "metadata": {},
     "output_type": "execute_result"
    }
   ],
   "source": [
    "# create a dataframe that only contains essential products information\n",
    "df_just_prod = df_prod[['asin', 'title', 'description', 'brand', 'imageURL']]\n",
    "df_just_prod.head()"
   ]
  },
  {
   "cell_type": "code",
   "execution_count": 68,
   "metadata": {},
   "outputs": [],
   "source": [
    "# build a function returns recommended product based on categories\n",
    "def give_recommendation(asin, num):\n",
    "    matrix = cos_simi(asin)\n",
    "    cos_simi_df = pd.DataFrame(data=matrix, index=df_prod['asin'], columns=['cos_simi'])\n",
    "    cos_simi_df.drop(labels=asin, inplace=True) # we don't need the selected item shows up in the recommendations\n",
    "    top_cos = cos_simi_df.sort_values(by='cos_simi', ascending=False).head(num)# The higher the cosine similarity is, the most similar two items are.\n",
    "    recom_prod = df_just_prod.loc[df_prod['asin'].isin(top_cos.index)]\n",
    "    return recom_prod"
   ]
  },
  {
   "cell_type": "code",
   "execution_count": 70,
   "metadata": {
    "scrolled": false
   },
   "outputs": [
    {
     "data": {
      "text/html": [
       "<div>\n",
       "<style scoped>\n",
       "    .dataframe tbody tr th:only-of-type {\n",
       "        vertical-align: middle;\n",
       "    }\n",
       "\n",
       "    .dataframe tbody tr th {\n",
       "        vertical-align: top;\n",
       "    }\n",
       "\n",
       "    .dataframe thead th {\n",
       "        text-align: right;\n",
       "    }\n",
       "</style>\n",
       "<table border=\"1\" class=\"dataframe\">\n",
       "  <thead>\n",
       "    <tr style=\"text-align: right;\">\n",
       "      <th></th>\n",
       "      <th>asin</th>\n",
       "      <th>title</th>\n",
       "      <th>description</th>\n",
       "      <th>brand</th>\n",
       "      <th>imageURL</th>\n",
       "    </tr>\n",
       "  </thead>\n",
       "  <tbody>\n",
       "    <tr>\n",
       "      <th>3740</th>\n",
       "      <td>B000046Q7Q</td>\n",
       "      <td>Mario Party 2</td>\n",
       "      <td>Video Games,Retro Gaming &amp; Microconsoles,Ninte...</td>\n",
       "      <td>Nintendo</td>\n",
       "      <td>[https://images-na.ssl-images-amazon.com/image...</td>\n",
       "    </tr>\n",
       "    <tr>\n",
       "      <th>8061</th>\n",
       "      <td>B000068GV4</td>\n",
       "      <td>The Legend of Zelda: Triforce of the Gods [Nin...</td>\n",
       "      <td>Video Games,Retro Gaming &amp; Microconsoles,Super...</td>\n",
       "      <td>Nintendo</td>\n",
       "      <td>[https://images-na.ssl-images-amazon.com/image...</td>\n",
       "    </tr>\n",
       "    <tr>\n",
       "      <th>9448</th>\n",
       "      <td>B00007KUW5</td>\n",
       "      <td>Rayman 3: Hoodlum Havoc</td>\n",
       "      <td>Video Games,Retro Gaming &amp; Microconsoles,GameC...</td>\n",
       "      <td>Nintendo</td>\n",
       "      <td>[https://images-na.ssl-images-amazon.com/image...</td>\n",
       "    </tr>\n",
       "    <tr>\n",
       "      <th>13134</th>\n",
       "      <td>B0002Z2RUO</td>\n",
       "      <td>NFL Blitz Special Edition</td>\n",
       "      <td>Video Games,Retro Gaming &amp; Microconsoles,Ninte...</td>\n",
       "      <td>Nintendo</td>\n",
       "      <td>[]</td>\n",
       "    </tr>\n",
       "    <tr>\n",
       "      <th>29407</th>\n",
       "      <td>B000B8J7KA</td>\n",
       "      <td>Dr. Mario and Puzzle League</td>\n",
       "      <td>Video Games,Retro Gaming &amp; Microconsoles,Game ...</td>\n",
       "      <td>Nintendo</td>\n",
       "      <td>[https://images-na.ssl-images-amazon.com/image...</td>\n",
       "    </tr>\n",
       "    <tr>\n",
       "      <th>32223</th>\n",
       "      <td>B000GXD2UG</td>\n",
       "      <td>Ready 2 Rumble Boxing</td>\n",
       "      <td>Video Games,Retro Gaming &amp; Microconsoles,Ninte...</td>\n",
       "      <td>Nintendo</td>\n",
       "      <td>[]</td>\n",
       "    </tr>\n",
       "    <tr>\n",
       "      <th>32225</th>\n",
       "      <td>B000GXDEWW</td>\n",
       "      <td>NFL Blitz 2001</td>\n",
       "      <td>Video Games,Retro Gaming &amp; Microconsoles,Ninte...</td>\n",
       "      <td>Nintendo</td>\n",
       "      <td>[]</td>\n",
       "    </tr>\n",
       "    <tr>\n",
       "      <th>32228</th>\n",
       "      <td>B000GYTSPS</td>\n",
       "      <td>Jimmy Connors Tennis-Super Nintendo</td>\n",
       "      <td>Video Games,Retro Gaming &amp; Microconsoles,Super...</td>\n",
       "      <td>Nintendo</td>\n",
       "      <td>[https://images-na.ssl-images-amazon.com/image...</td>\n",
       "    </tr>\n",
       "    <tr>\n",
       "      <th>33031</th>\n",
       "      <td>B000J3O1QM</td>\n",
       "      <td>Super Star Wars Trilogy 3 Game Bundle (Super S...</td>\n",
       "      <td>Video Games,Retro Gaming &amp; Microconsoles,Super...</td>\n",
       "      <td>Nintendo</td>\n",
       "      <td>[https://images-na.ssl-images-amazon.com/image...</td>\n",
       "    </tr>\n",
       "    <tr>\n",
       "      <th>37000</th>\n",
       "      <td>B000Y0J29G</td>\n",
       "      <td>Nail N Scale</td>\n",
       "      <td>Video Games,Retro Gaming &amp; Microconsoles,Game ...</td>\n",
       "      <td>Nintendo</td>\n",
       "      <td>[]</td>\n",
       "    </tr>\n",
       "  </tbody>\n",
       "</table>\n",
       "</div>"
      ],
      "text/plain": [
       "             asin                                              title  \\\n",
       "3740   B000046Q7Q                                      Mario Party 2   \n",
       "8061   B000068GV4  The Legend of Zelda: Triforce of the Gods [Nin...   \n",
       "9448   B00007KUW5                            Rayman 3: Hoodlum Havoc   \n",
       "13134  B0002Z2RUO                          NFL Blitz Special Edition   \n",
       "29407  B000B8J7KA                        Dr. Mario and Puzzle League   \n",
       "32223  B000GXD2UG                              Ready 2 Rumble Boxing   \n",
       "32225  B000GXDEWW                                     NFL Blitz 2001   \n",
       "32228  B000GYTSPS                Jimmy Connors Tennis-Super Nintendo   \n",
       "33031  B000J3O1QM  Super Star Wars Trilogy 3 Game Bundle (Super S...   \n",
       "37000  B000Y0J29G                                       Nail N Scale   \n",
       "\n",
       "                                             description     brand  \\\n",
       "3740   Video Games,Retro Gaming & Microconsoles,Ninte...  Nintendo   \n",
       "8061   Video Games,Retro Gaming & Microconsoles,Super...  Nintendo   \n",
       "9448   Video Games,Retro Gaming & Microconsoles,GameC...  Nintendo   \n",
       "13134  Video Games,Retro Gaming & Microconsoles,Ninte...  Nintendo   \n",
       "29407  Video Games,Retro Gaming & Microconsoles,Game ...  Nintendo   \n",
       "32223  Video Games,Retro Gaming & Microconsoles,Ninte...  Nintendo   \n",
       "32225  Video Games,Retro Gaming & Microconsoles,Ninte...  Nintendo   \n",
       "32228  Video Games,Retro Gaming & Microconsoles,Super...  Nintendo   \n",
       "33031  Video Games,Retro Gaming & Microconsoles,Super...  Nintendo   \n",
       "37000  Video Games,Retro Gaming & Microconsoles,Game ...  Nintendo   \n",
       "\n",
       "                                                imageURL  \n",
       "3740   [https://images-na.ssl-images-amazon.com/image...  \n",
       "8061   [https://images-na.ssl-images-amazon.com/image...  \n",
       "9448   [https://images-na.ssl-images-amazon.com/image...  \n",
       "13134                                                 []  \n",
       "29407  [https://images-na.ssl-images-amazon.com/image...  \n",
       "32223                                                 []  \n",
       "32225                                                 []  \n",
       "32228  [https://images-na.ssl-images-amazon.com/image...  \n",
       "33031  [https://images-na.ssl-images-amazon.com/image...  \n",
       "37000                                                 []  "
      ]
     },
     "execution_count": 70,
     "metadata": {},
     "output_type": "execute_result"
    }
   ],
   "source": [
    "# input product: Mario Kart 64(Retro Gaming & Microconsoles, Nintendo)\n",
    "recom = give_recommendation('B00000DMAX', 10)\n",
    "recom"
   ]
  },
  {
   "cell_type": "markdown",
   "metadata": {},
   "source": [
    "### Trending Products Recommendation"
   ]
  },
  {
   "cell_type": "markdown",
   "metadata": {},
   "source": [
    "This is a very simple way to make recommendation. For users who first time shop here, we don't have previouse data for them. The trending products would be a good way to grab users' attention, so that we can collect users' behavior data for the later collaborative filtering method. For this one, the products with top number of rating will be our recommendation. We need to know which products have most number of ratings. The review data will be used."
   ]
  },
  {
   "cell_type": "markdown",
   "metadata": {},
   "source": [
    "Next, I'm going to do some data cleaning on review dataset."
   ]
  },
  {
   "cell_type": "code",
   "execution_count": 71,
   "metadata": {
    "scrolled": true
   },
   "outputs": [
    {
     "data": {
      "text/html": [
       "<div>\n",
       "<style scoped>\n",
       "    .dataframe tbody tr th:only-of-type {\n",
       "        vertical-align: middle;\n",
       "    }\n",
       "\n",
       "    .dataframe tbody tr th {\n",
       "        vertical-align: top;\n",
       "    }\n",
       "\n",
       "    .dataframe thead th {\n",
       "        text-align: right;\n",
       "    }\n",
       "</style>\n",
       "<table border=\"1\" class=\"dataframe\">\n",
       "  <thead>\n",
       "    <tr style=\"text-align: right;\">\n",
       "      <th></th>\n",
       "      <th>overall</th>\n",
       "      <th>verified</th>\n",
       "      <th>reviewTime</th>\n",
       "      <th>reviewerID</th>\n",
       "      <th>asin</th>\n",
       "      <th>reviewerName</th>\n",
       "      <th>reviewText</th>\n",
       "      <th>summary</th>\n",
       "      <th>unixReviewTime</th>\n",
       "      <th>vote</th>\n",
       "      <th>style</th>\n",
       "      <th>image</th>\n",
       "    </tr>\n",
       "  </thead>\n",
       "  <tbody>\n",
       "    <tr>\n",
       "      <th>0</th>\n",
       "      <td>5</td>\n",
       "      <td>True</td>\n",
       "      <td>10 17, 2015</td>\n",
       "      <td>A1HP7NVNPFMA4N</td>\n",
       "      <td>0700026657</td>\n",
       "      <td>Ambrosia075</td>\n",
       "      <td>This game is a bit hard to get the hang of, bu...</td>\n",
       "      <td>but when you do it's great.</td>\n",
       "      <td>1445040000</td>\n",
       "      <td>NaN</td>\n",
       "      <td>NaN</td>\n",
       "      <td>NaN</td>\n",
       "    </tr>\n",
       "    <tr>\n",
       "      <th>1</th>\n",
       "      <td>4</td>\n",
       "      <td>False</td>\n",
       "      <td>07 27, 2015</td>\n",
       "      <td>A1JGAP0185YJI6</td>\n",
       "      <td>0700026657</td>\n",
       "      <td>travis</td>\n",
       "      <td>I played it a while but it was alright. The st...</td>\n",
       "      <td>But in spite of that it was fun, I liked it</td>\n",
       "      <td>1437955200</td>\n",
       "      <td>NaN</td>\n",
       "      <td>NaN</td>\n",
       "      <td>NaN</td>\n",
       "    </tr>\n",
       "    <tr>\n",
       "      <th>2</th>\n",
       "      <td>3</td>\n",
       "      <td>True</td>\n",
       "      <td>02 23, 2015</td>\n",
       "      <td>A1YJWEXHQBWK2B</td>\n",
       "      <td>0700026657</td>\n",
       "      <td>Vincent G. Mezera</td>\n",
       "      <td>ok game.</td>\n",
       "      <td>Three Stars</td>\n",
       "      <td>1424649600</td>\n",
       "      <td>NaN</td>\n",
       "      <td>NaN</td>\n",
       "      <td>NaN</td>\n",
       "    </tr>\n",
       "    <tr>\n",
       "      <th>3</th>\n",
       "      <td>2</td>\n",
       "      <td>True</td>\n",
       "      <td>02 20, 2015</td>\n",
       "      <td>A2204E1TH211HT</td>\n",
       "      <td>0700026657</td>\n",
       "      <td>Grandma KR</td>\n",
       "      <td>found the game a bit too complicated, not what...</td>\n",
       "      <td>Two Stars</td>\n",
       "      <td>1424390400</td>\n",
       "      <td>NaN</td>\n",
       "      <td>NaN</td>\n",
       "      <td>NaN</td>\n",
       "    </tr>\n",
       "    <tr>\n",
       "      <th>4</th>\n",
       "      <td>5</td>\n",
       "      <td>True</td>\n",
       "      <td>12 25, 2014</td>\n",
       "      <td>A2RF5B5H74JLPE</td>\n",
       "      <td>0700026657</td>\n",
       "      <td>jon</td>\n",
       "      <td>great game, I love it and have played it since...</td>\n",
       "      <td>love this game</td>\n",
       "      <td>1419465600</td>\n",
       "      <td>NaN</td>\n",
       "      <td>NaN</td>\n",
       "      <td>NaN</td>\n",
       "    </tr>\n",
       "  </tbody>\n",
       "</table>\n",
       "</div>"
      ],
      "text/plain": [
       "   overall  verified   reviewTime      reviewerID        asin  \\\n",
       "0        5      True  10 17, 2015  A1HP7NVNPFMA4N  0700026657   \n",
       "1        4     False  07 27, 2015  A1JGAP0185YJI6  0700026657   \n",
       "2        3      True  02 23, 2015  A1YJWEXHQBWK2B  0700026657   \n",
       "3        2      True  02 20, 2015  A2204E1TH211HT  0700026657   \n",
       "4        5      True  12 25, 2014  A2RF5B5H74JLPE  0700026657   \n",
       "\n",
       "        reviewerName                                         reviewText  \\\n",
       "0        Ambrosia075  This game is a bit hard to get the hang of, bu...   \n",
       "1             travis  I played it a while but it was alright. The st...   \n",
       "2  Vincent G. Mezera                                           ok game.   \n",
       "3         Grandma KR  found the game a bit too complicated, not what...   \n",
       "4                jon  great game, I love it and have played it since...   \n",
       "\n",
       "                                       summary  unixReviewTime vote style  \\\n",
       "0                  but when you do it's great.      1445040000  NaN   NaN   \n",
       "1  But in spite of that it was fun, I liked it      1437955200  NaN   NaN   \n",
       "2                                  Three Stars      1424649600  NaN   NaN   \n",
       "3                                    Two Stars      1424390400  NaN   NaN   \n",
       "4                               love this game      1419465600  NaN   NaN   \n",
       "\n",
       "  image  \n",
       "0   NaN  \n",
       "1   NaN  \n",
       "2   NaN  \n",
       "3   NaN  \n",
       "4   NaN  "
      ]
     },
     "execution_count": 71,
     "metadata": {},
     "output_type": "execute_result"
    }
   ],
   "source": [
    "df_review.head()"
   ]
  },
  {
   "cell_type": "code",
   "execution_count": 72,
   "metadata": {},
   "outputs": [],
   "source": [
    "# drop unnecessary columns\n",
    "df_review.drop(['verified', 'reviewTime', 'reviewerName', 'unixReviewTime', 'vote', 'style', 'image'], axis=1, inplace=True)"
   ]
  },
  {
   "cell_type": "code",
   "execution_count": 73,
   "metadata": {
    "scrolled": false
   },
   "outputs": [
    {
     "data": {
      "text/html": [
       "<div>\n",
       "<style scoped>\n",
       "    .dataframe tbody tr th:only-of-type {\n",
       "        vertical-align: middle;\n",
       "    }\n",
       "\n",
       "    .dataframe tbody tr th {\n",
       "        vertical-align: top;\n",
       "    }\n",
       "\n",
       "    .dataframe thead th {\n",
       "        text-align: right;\n",
       "    }\n",
       "</style>\n",
       "<table border=\"1\" class=\"dataframe\">\n",
       "  <thead>\n",
       "    <tr style=\"text-align: right;\">\n",
       "      <th></th>\n",
       "      <th>overall</th>\n",
       "      <th>reviewerID</th>\n",
       "      <th>asin</th>\n",
       "      <th>reviewText</th>\n",
       "      <th>summary</th>\n",
       "    </tr>\n",
       "  </thead>\n",
       "  <tbody>\n",
       "    <tr>\n",
       "      <th>0</th>\n",
       "      <td>5</td>\n",
       "      <td>A1HP7NVNPFMA4N</td>\n",
       "      <td>0700026657</td>\n",
       "      <td>This game is a bit hard to get the hang of, bu...</td>\n",
       "      <td>but when you do it's great.</td>\n",
       "    </tr>\n",
       "    <tr>\n",
       "      <th>1</th>\n",
       "      <td>4</td>\n",
       "      <td>A1JGAP0185YJI6</td>\n",
       "      <td>0700026657</td>\n",
       "      <td>I played it a while but it was alright. The st...</td>\n",
       "      <td>But in spite of that it was fun, I liked it</td>\n",
       "    </tr>\n",
       "    <tr>\n",
       "      <th>2</th>\n",
       "      <td>3</td>\n",
       "      <td>A1YJWEXHQBWK2B</td>\n",
       "      <td>0700026657</td>\n",
       "      <td>ok game.</td>\n",
       "      <td>Three Stars</td>\n",
       "    </tr>\n",
       "    <tr>\n",
       "      <th>3</th>\n",
       "      <td>2</td>\n",
       "      <td>A2204E1TH211HT</td>\n",
       "      <td>0700026657</td>\n",
       "      <td>found the game a bit too complicated, not what...</td>\n",
       "      <td>Two Stars</td>\n",
       "    </tr>\n",
       "    <tr>\n",
       "      <th>4</th>\n",
       "      <td>5</td>\n",
       "      <td>A2RF5B5H74JLPE</td>\n",
       "      <td>0700026657</td>\n",
       "      <td>great game, I love it and have played it since...</td>\n",
       "      <td>love this game</td>\n",
       "    </tr>\n",
       "  </tbody>\n",
       "</table>\n",
       "</div>"
      ],
      "text/plain": [
       "   overall      reviewerID        asin  \\\n",
       "0        5  A1HP7NVNPFMA4N  0700026657   \n",
       "1        4  A1JGAP0185YJI6  0700026657   \n",
       "2        3  A1YJWEXHQBWK2B  0700026657   \n",
       "3        2  A2204E1TH211HT  0700026657   \n",
       "4        5  A2RF5B5H74JLPE  0700026657   \n",
       "\n",
       "                                          reviewText  \\\n",
       "0  This game is a bit hard to get the hang of, bu...   \n",
       "1  I played it a while but it was alright. The st...   \n",
       "2                                           ok game.   \n",
       "3  found the game a bit too complicated, not what...   \n",
       "4  great game, I love it and have played it since...   \n",
       "\n",
       "                                       summary  \n",
       "0                  but when you do it's great.  \n",
       "1  But in spite of that it was fun, I liked it  \n",
       "2                                  Three Stars  \n",
       "3                                    Two Stars  \n",
       "4                               love this game  "
      ]
     },
     "execution_count": 73,
     "metadata": {},
     "output_type": "execute_result"
    }
   ],
   "source": [
    "df_review.head()"
   ]
  },
  {
   "cell_type": "code",
   "execution_count": 74,
   "metadata": {
    "scrolled": true
   },
   "outputs": [
    {
     "name": "stdout",
     "output_type": "stream",
     "text": [
      "<class 'pandas.core.frame.DataFrame'>\n",
      "RangeIndex: 497577 entries, 0 to 497576\n",
      "Data columns (total 5 columns):\n",
      " #   Column      Non-Null Count   Dtype \n",
      "---  ------      --------------   ----- \n",
      " 0   overall     497577 non-null  int64 \n",
      " 1   reviewerID  497577 non-null  object\n",
      " 2   asin        497577 non-null  object\n",
      " 3   reviewText  497419 non-null  object\n",
      " 4   summary     497468 non-null  object\n",
      "dtypes: int64(1), object(4)\n",
      "memory usage: 19.0+ MB\n"
     ]
    }
   ],
   "source": [
    "df_review.info()"
   ]
  },
  {
   "cell_type": "code",
   "execution_count": 75,
   "metadata": {},
   "outputs": [],
   "source": [
    "df_review['reviewText'].fillna(value='', inplace=True)\n",
    "df_review['summary'].fillna(value='', inplace=True)"
   ]
  },
  {
   "cell_type": "markdown",
   "metadata": {},
   "source": [
    "Trending products are the products with highest number of rating. "
   ]
  },
  {
   "cell_type": "code",
   "execution_count": 76,
   "metadata": {
    "scrolled": false
   },
   "outputs": [
    {
     "data": {
      "text/html": [
       "<div>\n",
       "<style scoped>\n",
       "    .dataframe tbody tr th:only-of-type {\n",
       "        vertical-align: middle;\n",
       "    }\n",
       "\n",
       "    .dataframe tbody tr th {\n",
       "        vertical-align: top;\n",
       "    }\n",
       "\n",
       "    .dataframe thead th {\n",
       "        text-align: right;\n",
       "    }\n",
       "</style>\n",
       "<table border=\"1\" class=\"dataframe\">\n",
       "  <thead>\n",
       "    <tr style=\"text-align: right;\">\n",
       "      <th></th>\n",
       "      <th>count</th>\n",
       "      <th>mean</th>\n",
       "      <th>std</th>\n",
       "    </tr>\n",
       "    <tr>\n",
       "      <th>asin</th>\n",
       "      <th></th>\n",
       "      <th></th>\n",
       "      <th></th>\n",
       "    </tr>\n",
       "  </thead>\n",
       "  <tbody>\n",
       "    <tr>\n",
       "      <th>B00178630A</th>\n",
       "      <td>1381</td>\n",
       "      <td>2.824765</td>\n",
       "      <td>1.650119</td>\n",
       "    </tr>\n",
       "    <tr>\n",
       "      <th>B000ZK9QCS</th>\n",
       "      <td>905</td>\n",
       "      <td>4.627624</td>\n",
       "      <td>0.814355</td>\n",
       "    </tr>\n",
       "    <tr>\n",
       "      <th>B000XJNTNS</th>\n",
       "      <td>834</td>\n",
       "      <td>4.631894</td>\n",
       "      <td>0.794634</td>\n",
       "    </tr>\n",
       "    <tr>\n",
       "      <th>B00JK00S0S</th>\n",
       "      <td>783</td>\n",
       "      <td>4.690932</td>\n",
       "      <td>0.863590</td>\n",
       "    </tr>\n",
       "    <tr>\n",
       "      <th>B000ZKA0J6</th>\n",
       "      <td>774</td>\n",
       "      <td>3.560724</td>\n",
       "      <td>1.548962</td>\n",
       "    </tr>\n",
       "    <tr>\n",
       "      <th>B0012N94WO</th>\n",
       "      <td>726</td>\n",
       "      <td>4.174931</td>\n",
       "      <td>1.100961</td>\n",
       "    </tr>\n",
       "    <tr>\n",
       "      <th>B003ZSP0WW</th>\n",
       "      <td>694</td>\n",
       "      <td>4.651297</td>\n",
       "      <td>0.819684</td>\n",
       "    </tr>\n",
       "    <tr>\n",
       "      <th>B00GODZYNA</th>\n",
       "      <td>684</td>\n",
       "      <td>4.644737</td>\n",
       "      <td>0.864690</td>\n",
       "    </tr>\n",
       "    <tr>\n",
       "      <th>B000ZK7ZOE</th>\n",
       "      <td>674</td>\n",
       "      <td>4.461424</td>\n",
       "      <td>0.847597</td>\n",
       "    </tr>\n",
       "    <tr>\n",
       "      <th>B000P46NMA</th>\n",
       "      <td>663</td>\n",
       "      <td>4.126697</td>\n",
       "      <td>1.148595</td>\n",
       "    </tr>\n",
       "  </tbody>\n",
       "</table>\n",
       "</div>"
      ],
      "text/plain": [
       "            count      mean       std\n",
       "asin                                 \n",
       "B00178630A   1381  2.824765  1.650119\n",
       "B000ZK9QCS    905  4.627624  0.814355\n",
       "B000XJNTNS    834  4.631894  0.794634\n",
       "B00JK00S0S    783  4.690932  0.863590\n",
       "B000ZKA0J6    774  3.560724  1.548962\n",
       "B0012N94WO    726  4.174931  1.100961\n",
       "B003ZSP0WW    694  4.651297  0.819684\n",
       "B00GODZYNA    684  4.644737  0.864690\n",
       "B000ZK7ZOE    674  4.461424  0.847597\n",
       "B000P46NMA    663  4.126697  1.148595"
      ]
     },
     "execution_count": 76,
     "metadata": {},
     "output_type": "execute_result"
    }
   ],
   "source": [
    "# most rated products\n",
    "ratings_prod_summary = df_review.groupby('asin')['overall'].agg(['count', 'mean', 'std'])\n",
    "most_rated = ratings_prod_summary.sort_values(by='count', ascending=False)\n",
    "most_rated.head(10)"
   ]
  },
  {
   "cell_type": "code",
   "execution_count": 77,
   "metadata": {
    "scrolled": false
   },
   "outputs": [
    {
     "name": "stdout",
     "output_type": "stream",
     "text": [
      "Top selling and rating products: ['B00178630A', 'B000ZK9QCS', 'B000XJNTNS', 'B00JK00S0S', 'B000ZKA0J6', 'B0012N94WO', 'B003ZSP0WW', 'B00GODZYNA', 'B000ZK7ZOE', 'B000P46NMA']\n"
     ]
    }
   ],
   "source": [
    "# trending products recommendation\n",
    "print(f'Top selling and rating products: {most_rated.head(10).index.tolist()}')"
   ]
  },
  {
   "cell_type": "code",
   "execution_count": 78,
   "metadata": {
    "scrolled": false
   },
   "outputs": [
    {
     "data": {
      "text/html": [
       "<div>\n",
       "<style scoped>\n",
       "    .dataframe tbody tr th:only-of-type {\n",
       "        vertical-align: middle;\n",
       "    }\n",
       "\n",
       "    .dataframe tbody tr th {\n",
       "        vertical-align: top;\n",
       "    }\n",
       "\n",
       "    .dataframe thead th {\n",
       "        text-align: right;\n",
       "    }\n",
       "</style>\n",
       "<table border=\"1\" class=\"dataframe\">\n",
       "  <thead>\n",
       "    <tr style=\"text-align: right;\">\n",
       "      <th></th>\n",
       "      <th>asin</th>\n",
       "      <th>title</th>\n",
       "      <th>description</th>\n",
       "      <th>brand</th>\n",
       "      <th>imageURL</th>\n",
       "    </tr>\n",
       "  </thead>\n",
       "  <tbody>\n",
       "    <tr>\n",
       "      <th>34644</th>\n",
       "      <td>B000P46NMA</td>\n",
       "      <td>Assassin's Creed - Playstation 3</td>\n",
       "      <td>Video Games,PlayStation 3,Games,</td>\n",
       "      <td>Ubisoft</td>\n",
       "      <td>[https://images-na.ssl-images-amazon.com/image...</td>\n",
       "    </tr>\n",
       "    <tr>\n",
       "      <th>36938</th>\n",
       "      <td>B000XJNTNS</td>\n",
       "      <td>Mario Kart Wii with Wii Wheel</td>\n",
       "      <td>Video Games,Wii,Accessories,Controllers,Racing...</td>\n",
       "      <td>Nintendo</td>\n",
       "      <td>[https://images-na.ssl-images-amazon.com/image...</td>\n",
       "    </tr>\n",
       "    <tr>\n",
       "      <th>37219</th>\n",
       "      <td>B000ZK7ZOE</td>\n",
       "      <td>inFAMOUS - Playstation 3</td>\n",
       "      <td>Video Games,PlayStation 3,Games,</td>\n",
       "      <td>Sony</td>\n",
       "      <td>[https://images-na.ssl-images-amazon.com/image...</td>\n",
       "    </tr>\n",
       "    <tr>\n",
       "      <th>37225</th>\n",
       "      <td>B000ZK9QCS</td>\n",
       "      <td>God of War III - Playstation 3</td>\n",
       "      <td>Video Games,PlayStation 3,Games,</td>\n",
       "      <td>Sony</td>\n",
       "      <td>[https://images-na.ssl-images-amazon.com/image...</td>\n",
       "    </tr>\n",
       "    <tr>\n",
       "      <th>37226</th>\n",
       "      <td>B000ZKA0J6</td>\n",
       "      <td>StarCraft II: Wings of Liberty</td>\n",
       "      <td>Video Games,PC,Games,</td>\n",
       "      <td>Blizzard Entertainment</td>\n",
       "      <td>[https://images-na.ssl-images-amazon.com/image...</td>\n",
       "    </tr>\n",
       "    <tr>\n",
       "      <th>37754</th>\n",
       "      <td>B0012N94WO</td>\n",
       "      <td>Resident Evil 5 - Playstation 3</td>\n",
       "      <td>Video Games,PlayStation 3,Games,</td>\n",
       "      <td>Capcom</td>\n",
       "      <td>[https://images-na.ssl-images-amazon.com/image...</td>\n",
       "    </tr>\n",
       "    <tr>\n",
       "      <th>38709</th>\n",
       "      <td>B00178630A</td>\n",
       "      <td>Diablo III</td>\n",
       "      <td>Video Games,PC,</td>\n",
       "      <td>Blizzard Entertainment</td>\n",
       "      <td>[https://images-na.ssl-images-amazon.com/image...</td>\n",
       "    </tr>\n",
       "    <tr>\n",
       "      <th>47584</th>\n",
       "      <td>B003ZSP0WW</td>\n",
       "      <td>Xbox 360 Wireless Controller - Glossy Black</td>\n",
       "      <td>Video Games,Xbox 360,Accessories,Controllers,G...</td>\n",
       "      <td>Microsoft</td>\n",
       "      <td>[https://images-na.ssl-images-amazon.com/image...</td>\n",
       "    </tr>\n",
       "    <tr>\n",
       "      <th>62781</th>\n",
       "      <td>B00GODZYNA</td>\n",
       "      <td>Uncharted 4: A Thief's End - PlayStation 4</td>\n",
       "      <td>Video Games,PlayStation 4,Games,</td>\n",
       "      <td>Sony</td>\n",
       "      <td>[https://images-na.ssl-images-amazon.com/image...</td>\n",
       "    </tr>\n",
       "    <tr>\n",
       "      <th>65843</th>\n",
       "      <td>B00JK00S0S</td>\n",
       "      <td>The Last of Us Remastered - PlayStation 4</td>\n",
       "      <td>Video Games,PlayStation 4,Games,</td>\n",
       "      <td>Sony</td>\n",
       "      <td>[https://images-na.ssl-images-amazon.com/image...</td>\n",
       "    </tr>\n",
       "  </tbody>\n",
       "</table>\n",
       "</div>"
      ],
      "text/plain": [
       "             asin                                        title  \\\n",
       "34644  B000P46NMA             Assassin's Creed - Playstation 3   \n",
       "36938  B000XJNTNS                Mario Kart Wii with Wii Wheel   \n",
       "37219  B000ZK7ZOE                     inFAMOUS - Playstation 3   \n",
       "37225  B000ZK9QCS               God of War III - Playstation 3   \n",
       "37226  B000ZKA0J6               StarCraft II: Wings of Liberty   \n",
       "37754  B0012N94WO              Resident Evil 5 - Playstation 3   \n",
       "38709  B00178630A                                   Diablo III   \n",
       "47584  B003ZSP0WW  Xbox 360 Wireless Controller - Glossy Black   \n",
       "62781  B00GODZYNA   Uncharted 4: A Thief's End - PlayStation 4   \n",
       "65843  B00JK00S0S    The Last of Us Remastered - PlayStation 4   \n",
       "\n",
       "                                             description  \\\n",
       "34644                   Video Games,PlayStation 3,Games,   \n",
       "36938  Video Games,Wii,Accessories,Controllers,Racing...   \n",
       "37219                   Video Games,PlayStation 3,Games,   \n",
       "37225                   Video Games,PlayStation 3,Games,   \n",
       "37226                              Video Games,PC,Games,   \n",
       "37754                   Video Games,PlayStation 3,Games,   \n",
       "38709                                    Video Games,PC,   \n",
       "47584  Video Games,Xbox 360,Accessories,Controllers,G...   \n",
       "62781                   Video Games,PlayStation 4,Games,   \n",
       "65843                   Video Games,PlayStation 4,Games,   \n",
       "\n",
       "                        brand  \\\n",
       "34644                 Ubisoft   \n",
       "36938                Nintendo   \n",
       "37219                    Sony   \n",
       "37225                    Sony   \n",
       "37226  Blizzard Entertainment   \n",
       "37754                  Capcom   \n",
       "38709  Blizzard Entertainment   \n",
       "47584               Microsoft   \n",
       "62781                    Sony   \n",
       "65843                    Sony   \n",
       "\n",
       "                                                imageURL  \n",
       "34644  [https://images-na.ssl-images-amazon.com/image...  \n",
       "36938  [https://images-na.ssl-images-amazon.com/image...  \n",
       "37219  [https://images-na.ssl-images-amazon.com/image...  \n",
       "37225  [https://images-na.ssl-images-amazon.com/image...  \n",
       "37226  [https://images-na.ssl-images-amazon.com/image...  \n",
       "37754  [https://images-na.ssl-images-amazon.com/image...  \n",
       "38709  [https://images-na.ssl-images-amazon.com/image...  \n",
       "47584  [https://images-na.ssl-images-amazon.com/image...  \n",
       "62781  [https://images-na.ssl-images-amazon.com/image...  \n",
       "65843  [https://images-na.ssl-images-amazon.com/image...  "
      ]
     },
     "execution_count": 78,
     "metadata": {},
     "output_type": "execute_result"
    }
   ],
   "source": [
    "# recommended trending products\n",
    "df_just_prod.loc[df_prod['asin'].isin(most_rated.head(10).index.tolist())]"
   ]
  },
  {
   "cell_type": "markdown",
   "metadata": {},
   "source": [
    "## Collaborative Filtering"
   ]
  },
  {
   "cell_type": "markdown",
   "metadata": {},
   "source": [
    "This method makes automatic predictions about the interests of a user by collecting preferences or taste information from many users. Collaborative filtering tries to predict the rating or preference that a user would give an item based on past ratings and preferences of other users. Collaborative filters do not require item metadata like content based method. "
   ]
  },
  {
   "cell_type": "markdown",
   "metadata": {},
   "source": [
    "I'm going to use surprise package to build the model. The dataframe must have three columns, which are user ids, item ids, and the ratings."
   ]
  },
  {
   "cell_type": "code",
   "execution_count": 79,
   "metadata": {},
   "outputs": [],
   "source": [
    "surprise_df = df_review[[ 'reviewerID', 'asin', 'overall']]"
   ]
  },
  {
   "cell_type": "code",
   "execution_count": 80,
   "metadata": {
    "scrolled": true
   },
   "outputs": [
    {
     "name": "stdout",
     "output_type": "stream",
     "text": [
      "<class 'pandas.core.frame.DataFrame'>\n",
      "RangeIndex: 497577 entries, 0 to 497576\n",
      "Data columns (total 3 columns):\n",
      " #   Column      Non-Null Count   Dtype \n",
      "---  ------      --------------   ----- \n",
      " 0   reviewerID  497577 non-null  object\n",
      " 1   asin        497577 non-null  object\n",
      " 2   overall     497577 non-null  int64 \n",
      "dtypes: int64(1), object(2)\n",
      "memory usage: 11.4+ MB\n"
     ]
    }
   ],
   "source": [
    "surprise_df.info()"
   ]
  },
  {
   "cell_type": "markdown",
   "metadata": {},
   "source": [
    "Do some DEA"
   ]
  },
  {
   "cell_type": "code",
   "execution_count": 81,
   "metadata": {
    "scrolled": true
   },
   "outputs": [
    {
     "data": {
      "text/plain": [
       "count    497577.000000\n",
       "mean          4.220456\n",
       "std           1.185424\n",
       "min           1.000000\n",
       "25%           4.000000\n",
       "50%           5.000000\n",
       "75%           5.000000\n",
       "max           5.000000\n",
       "Name: overall, dtype: float64"
      ]
     },
     "execution_count": 81,
     "metadata": {},
     "output_type": "execute_result"
    }
   ],
   "source": [
    "surprise_df.describe()['overall']"
   ]
  },
  {
   "cell_type": "code",
   "execution_count": 82,
   "metadata": {
    "scrolled": true
   },
   "outputs": [
    {
     "name": "stdout",
     "output_type": "stream",
     "text": [
      "Minimum rating is: 1\n",
      "Maximum rating is: 5\n"
     ]
    }
   ],
   "source": [
    "print('Minimum rating is: %d' %(surprise_df.overall.min()))\n",
    "print('Maximum rating is: %d' %(surprise_df.overall.max()))"
   ]
  },
  {
   "cell_type": "code",
   "execution_count": 83,
   "metadata": {
    "scrolled": false
   },
   "outputs": [
    {
     "data": {
      "image/png": "[encoded data removed]",
      "text/plain": [
       "<Figure size 432x288 with 1 Axes>"
      ]
     },
     "metadata": {
      "needs_background": "light"
     },
     "output_type": "display_data"
    }
   ],
   "source": [
    "plt.hist(surprise_df['overall'])\n",
    "plt.title('Overall Rating Count');"
   ]
  },
  {
   "cell_type": "code",
   "execution_count": 84,
   "metadata": {},
   "outputs": [
    {
     "name": "stdout",
     "output_type": "stream",
     "text": [
      "5 star rating takes 60.24% of overall dataset\n"
     ]
    }
   ],
   "source": [
    "percentage_5_rating = len(surprise_df.loc[surprise_df['overall']==5])/len(surprise_df)\n",
    "print(f'5 star rating takes {round(percentage_5_rating*100,2)}% of overall dataset')"
   ]
  },
  {
   "cell_type": "markdown",
   "metadata": {},
   "source": [
    "From the bar chart above, the rating skew to 5."
   ]
  },
  {
   "cell_type": "code",
   "execution_count": 85,
   "metadata": {
    "scrolled": false
   },
   "outputs": [
    {
     "data": {
      "text/plain": [
       "B00178630A    1381\n",
       "B000ZK9QCS     905\n",
       "B000XJNTNS     834\n",
       "B00JK00S0S     783\n",
       "B000ZKA0J6     774\n",
       "              ... \n",
       "B000XJD33E       1\n",
       "B000WZ7OD4       1\n",
       "B000WKW6AU       1\n",
       "B000W2UJ2A       1\n",
       "B000WMJM3W       1\n",
       "Name: asin, Length: 17408, dtype: int64"
      ]
     },
     "execution_count": 85,
     "metadata": {},
     "output_type": "execute_result"
    }
   ],
   "source": [
    "surprise_df['asin'].value_counts()"
   ]
  },
  {
   "cell_type": "markdown",
   "metadata": {},
   "source": [
    "### Baseline"
   ]
  },
  {
   "cell_type": "markdown",
   "metadata": {},
   "source": [
    "First, let's build some basic models. Surprise has two basic model NormalPredictor and BaselineOnly. I will use them for comparing accuracy with other complex models."
   ]
  },
  {
   "cell_type": "code",
   "execution_count": 86,
   "metadata": {},
   "outputs": [],
   "source": [
    "read = Reader(rating_scale=(1, 5))\n",
    "surprise_data = Dataset.load_from_df(surprise_df, read)\n",
    "train_df, test_df = train_test_split(surprise_data, random_state=42)"
   ]
  },
  {
   "cell_type": "code",
   "execution_count": 87,
   "metadata": {},
   "outputs": [
    {
     "data": {
      "text/plain": [
       "<surprise.trainset.Trainset at 0x13eabd73580>"
      ]
     },
     "execution_count": 87,
     "metadata": {},
     "output_type": "execute_result"
    }
   ],
   "source": [
    "train_df"
   ]
  },
  {
   "cell_type": "code",
   "execution_count": 88,
   "metadata": {},
   "outputs": [
    {
     "data": {
      "text/plain": [
       "<surprise.prediction_algorithms.random_pred.NormalPredictor at 0x13eab87f8e0>"
      ]
     },
     "execution_count": 88,
     "metadata": {},
     "output_type": "execute_result"
    }
   ],
   "source": [
    "baseline_model1 = NormalPredictor()\n",
    "baseline_model1.fit(train_df)"
   ]
  },
  {
   "cell_type": "code",
   "execution_count": 89,
   "metadata": {},
   "outputs": [],
   "source": [
    "prediction_normal = baseline_model1.test(test_df)"
   ]
  },
  {
   "cell_type": "code",
   "execution_count": 90,
   "metadata": {},
   "outputs": [
    {
     "name": "stdout",
     "output_type": "stream",
     "text": [
      "RMSE: 1.5190\n"
     ]
    },
    {
     "data": {
      "text/plain": [
       "1.5190248270213067"
      ]
     },
     "execution_count": 90,
     "metadata": {},
     "output_type": "execute_result"
    }
   ],
   "source": [
    "normal_rmse = accuracy.rmse(prediction_normal)\n",
    "normal_rmse"
   ]
  },
  {
   "cell_type": "code",
   "execution_count": 91,
   "metadata": {},
   "outputs": [
    {
     "name": "stdout",
     "output_type": "stream",
     "text": [
      "Estimating biases using als...\n"
     ]
    },
    {
     "data": {
      "text/plain": [
       "<surprise.prediction_algorithms.baseline_only.BaselineOnly at 0x13eac16a100>"
      ]
     },
     "execution_count": 91,
     "metadata": {},
     "output_type": "execute_result"
    }
   ],
   "source": [
    "baseline_model2 = BaselineOnly()\n",
    "baseline_model2.fit(train_df)"
   ]
  },
  {
   "cell_type": "code",
   "execution_count": 92,
   "metadata": {},
   "outputs": [],
   "source": [
    "predictions_base = baseline_model2.test(test_df)"
   ]
  },
  {
   "cell_type": "code",
   "execution_count": 93,
   "metadata": {
    "scrolled": true
   },
   "outputs": [
    {
     "name": "stdout",
     "output_type": "stream",
     "text": [
      "RMSE: 1.0447\n"
     ]
    },
    {
     "data": {
      "text/plain": [
       "1.0446509835320532"
      ]
     },
     "execution_count": 93,
     "metadata": {},
     "output_type": "execute_result"
    }
   ],
   "source": [
    "base_rmse = accuracy.rmse(predictions_base)\n",
    "base_rmse"
   ]
  },
  {
   "cell_type": "markdown",
   "metadata": {},
   "source": [
    "Next, I will try different algorithms and find the most accurate one."
   ]
  },
  {
   "cell_type": "markdown",
   "metadata": {},
   "source": [
    "### KNN"
   ]
  },
  {
   "cell_type": "code",
   "execution_count": 94,
   "metadata": {
    "scrolled": false
   },
   "outputs": [
    {
     "name": "stdout",
     "output_type": "stream",
     "text": [
      "Computing the msd similarity matrix...\n",
      "Done computing similarity matrix.\n",
      "Computing the msd similarity matrix...\n",
      "Done computing similarity matrix.\n",
      "Computing the msd similarity matrix...\n",
      "Done computing similarity matrix.\n",
      "Computing the msd similarity matrix...\n",
      "Done computing similarity matrix.\n",
      "Computing the msd similarity matrix...\n",
      "Done computing similarity matrix.\n"
     ]
    }
   ],
   "source": [
    "knnbasic_cv = cross_validate(KNNBasic(), surprise_data, cv=5, verbose=False)"
   ]
  },
  {
   "cell_type": "code",
   "execution_count": 95,
   "metadata": {
    "scrolled": true
   },
   "outputs": [
    {
     "data": {
      "text/plain": [
       "{'test_rmse': array([1.18374619, 1.17799345, 1.18005914, 1.18023908, 1.18502198]),\n",
       " 'test_mae': array([0.80898971, 0.80624002, 0.80798801, 0.80715806, 0.8100332 ]),\n",
       " 'fit_time': (48.00317049026489,\n",
       "  79.87829184532166,\n",
       "  86.05150103569031,\n",
       "  82.14145922660828,\n",
       "  75.31040906906128),\n",
       " 'test_time': (6.968467950820923,\n",
       "  7.4912109375,\n",
       "  7.66412615776062,\n",
       "  7.707806587219238,\n",
       "  7.363893747329712)}"
      ]
     },
     "execution_count": 95,
     "metadata": {},
     "output_type": "execute_result"
    }
   ],
   "source": [
    "knnbasic_dict = knnbasic_cv\n",
    "knnbasic_dict"
   ]
  },
  {
   "cell_type": "code",
   "execution_count": 96,
   "metadata": {},
   "outputs": [
    {
     "name": "stdout",
     "output_type": "stream",
     "text": [
      "the best KNNBasic model has rmse: 1.1779934479299707\n"
     ]
    }
   ],
   "source": [
    "knnbasic_best = min(knnbasic_dict['test_rmse'])\n",
    "print(f'the best KNNBasic model has rmse: {knnbasic_best}')"
   ]
  },
  {
   "cell_type": "code",
   "execution_count": 97,
   "metadata": {
    "scrolled": true
   },
   "outputs": [
    {
     "name": "stdout",
     "output_type": "stream",
     "text": [
      "Computing the msd similarity matrix...\n",
      "Done computing similarity matrix.\n",
      "Computing the msd similarity matrix...\n",
      "Done computing similarity matrix.\n",
      "Computing the msd similarity matrix...\n",
      "Done computing similarity matrix.\n",
      "Computing the msd similarity matrix...\n",
      "Done computing similarity matrix.\n",
      "Computing the msd similarity matrix...\n",
      "Done computing similarity matrix.\n"
     ]
    }
   ],
   "source": [
    "knnmeans_cv = cross_validate(KNNWithMeans(), surprise_data, cv=5, verbose=False)"
   ]
  },
  {
   "cell_type": "code",
   "execution_count": 98,
   "metadata": {
    "scrolled": true
   },
   "outputs": [
    {
     "data": {
      "text/plain": [
       "{'test_rmse': array([1.08855408, 1.09816965, 1.09491625, 1.09030148, 1.09372347]),\n",
       " 'test_mae': array([0.72320238, 0.72860988, 0.72799609, 0.7237278 , 0.72869323]),\n",
       " 'fit_time': (41.95182204246521,\n",
       "  68.04789733886719,\n",
       "  77.46433687210083,\n",
       "  73.34794783592224,\n",
       "  73.26525044441223),\n",
       " 'test_time': (7.0508387088775635,\n",
       "  7.635586977005005,\n",
       "  7.383756875991821,\n",
       "  7.174645662307739,\n",
       "  7.279274225234985)}"
      ]
     },
     "execution_count": 98,
     "metadata": {},
     "output_type": "execute_result"
    }
   ],
   "source": [
    "knnmeans_dict = knnmeans_cv\n",
    "knnmeans_dict"
   ]
  },
  {
   "cell_type": "code",
   "execution_count": 99,
   "metadata": {},
   "outputs": [
    {
     "name": "stdout",
     "output_type": "stream",
     "text": [
      "the best KNNWithMeans model has rmse: 1.0885540804787552\n"
     ]
    }
   ],
   "source": [
    "knnmeans_best = min(knnmeans_dict['test_rmse'])\n",
    "print(f'the best KNNWithMeans model has rmse: {knnmeans_best}')"
   ]
  },
  {
   "cell_type": "code",
   "execution_count": 100,
   "metadata": {
    "scrolled": true
   },
   "outputs": [
    {
     "name": "stdout",
     "output_type": "stream",
     "text": [
      "Computing the msd similarity matrix...\n",
      "Done computing similarity matrix.\n",
      "Computing the msd similarity matrix...\n",
      "Done computing similarity matrix.\n",
      "Computing the msd similarity matrix...\n",
      "Done computing similarity matrix.\n",
      "Computing the msd similarity matrix...\n",
      "Done computing similarity matrix.\n",
      "Computing the msd similarity matrix...\n",
      "Done computing similarity matrix.\n"
     ]
    }
   ],
   "source": [
    "knnz_cv = cross_validate(KNNWithZScore(), surprise_data, cv=5, verbose=False)"
   ]
  },
  {
   "cell_type": "code",
   "execution_count": 101,
   "metadata": {
    "scrolled": true
   },
   "outputs": [
    {
     "data": {
      "text/plain": [
       "{'test_rmse': array([1.10093385, 1.10412309, 1.10337178, 1.09363455, 1.0970888 ]),\n",
       " 'test_mae': array([0.72715471, 0.73047486, 0.72659497, 0.72116634, 0.72644432]),\n",
       " 'fit_time': (45.0013427734375,\n",
       "  73.2367012500763,\n",
       "  83.93317437171936,\n",
       "  71.39763307571411,\n",
       "  84.78057622909546),\n",
       " 'test_time': (7.404763698577881,\n",
       "  8.21261477470398,\n",
       "  9.606358051300049,\n",
       "  7.362026691436768,\n",
       "  7.24772834777832)}"
      ]
     },
     "execution_count": 101,
     "metadata": {},
     "output_type": "execute_result"
    }
   ],
   "source": [
    "knnz_dict = knnz_cv\n",
    "knnz_dict"
   ]
  },
  {
   "cell_type": "code",
   "execution_count": 102,
   "metadata": {},
   "outputs": [
    {
     "name": "stdout",
     "output_type": "stream",
     "text": [
      "the best KNNWithZScore model has rmse: 1.0936345510829009\n"
     ]
    }
   ],
   "source": [
    "knnz_best = min(knnz_dict['test_rmse'])\n",
    "print(f'the best KNNWithZScore model has rmse: {knnz_best}')"
   ]
  },
  {
   "cell_type": "markdown",
   "metadata": {},
   "source": [
    "### SVD"
   ]
  },
  {
   "cell_type": "code",
   "execution_count": 103,
   "metadata": {},
   "outputs": [
    {
     "name": "stdout",
     "output_type": "stream",
     "text": [
      "RMSE: 1.0152\n"
     ]
    },
    {
     "data": {
      "text/plain": [
       "1.0151596982698952"
      ]
     },
     "execution_count": 103,
     "metadata": {},
     "output_type": "execute_result"
    }
   ],
   "source": [
    "# use default hyper parameters\n",
    "svd = SVD(random_state=42)\n",
    "svd.fit(train_df)\n",
    "prediction_svd = svd.test(test_df)\n",
    "accuracy.rmse(prediction_svd)"
   ]
  },
  {
   "cell_type": "code",
   "execution_count": 104,
   "metadata": {},
   "outputs": [
    {
     "data": {
      "text/plain": [
       "Prediction(uid='A1HP7NVNPFMA4N', iid='0700026657', r_ui=None, est=4.454239721476054, details={'was_impossible': False})"
      ]
     },
     "execution_count": 104,
     "metadata": {},
     "output_type": "execute_result"
    }
   ],
   "source": [
    "svd.predict('A1HP7NVNPFMA4N', '0700026657')"
   ]
  },
  {
   "cell_type": "markdown",
   "metadata": {},
   "source": [
    "Do some grid searches on SVD algorithm "
   ]
  },
  {
   "cell_type": "code",
   "execution_count": null,
   "metadata": {},
   "outputs": [],
   "source": [
    "param_grid = {'n_factors':[20,50,100,150],'n_epochs':[10,20,30],'biased':[True,False]}\n",
    "svd_grid_search = GridSearchCV(algo_class=SVD, param_grid=param_grid, measures=['rmse'], cv=5)\n",
    "result1 = svd_grid_search.fit(surprise_data)"
   ]
  },
  {
   "cell_type": "code",
   "execution_count": null,
   "metadata": {
    "scrolled": true
   },
   "outputs": [],
   "source": [
    "joblib.dump(svd_grid_search, 'Pickle_Files/svd_grid.pkl')"
   ]
  },
  {
   "cell_type": "code",
   "execution_count": 112,
   "metadata": {},
   "outputs": [],
   "source": [
    "svd_loaded = joblib.load('Pickle_Files/svd_grid.pkl')"
   ]
  },
  {
   "cell_type": "code",
   "execution_count": 113,
   "metadata": {},
   "outputs": [],
   "source": [
    "best_svd_algo = svd_loaded.best_estimator['rmse']"
   ]
  },
  {
   "cell_type": "code",
   "execution_count": 114,
   "metadata": {},
   "outputs": [
    {
     "data": {
      "text/plain": [
       "{'rmse': {'n_factors': 50, 'n_epochs': 30, 'biased': True}}"
      ]
     },
     "execution_count": 114,
     "metadata": {},
     "output_type": "execute_result"
    }
   ],
   "source": [
    "svd_loaded.best_params"
   ]
  },
  {
   "cell_type": "code",
   "execution_count": 118,
   "metadata": {},
   "outputs": [
    {
     "data": {
      "text/plain": [
       "<surprise.prediction_algorithms.matrix_factorization.SVD at 0x13eaba554f0>"
      ]
     },
     "execution_count": 118,
     "metadata": {},
     "output_type": "execute_result"
    }
   ],
   "source": [
    "best_svd_algo.fit(train_df)"
   ]
  },
  {
   "cell_type": "code",
   "execution_count": 119,
   "metadata": {},
   "outputs": [
    {
     "name": "stdout",
     "output_type": "stream",
     "text": [
      "RMSE: 1.0040\n"
     ]
    },
    {
     "data": {
      "text/plain": [
       "1.0039933454827177"
      ]
     },
     "execution_count": 119,
     "metadata": {},
     "output_type": "execute_result"
    }
   ],
   "source": [
    "predictions = best_svd_algo.test(test_df)\n",
    "accuracy.rmse(predictions)"
   ]
  },
  {
   "cell_type": "code",
   "execution_count": 120,
   "metadata": {},
   "outputs": [
    {
     "data": {
      "text/plain": [
       "<surprise.prediction_algorithms.matrix_factorization.SVD at 0x13eac16a5e0>"
      ]
     },
     "execution_count": 120,
     "metadata": {},
     "output_type": "execute_result"
    }
   ],
   "source": [
    "svd_best_param = SVD(n_factors=50, n_epochs=30, biased='True', random_state=42)\n",
    "svd_best_param.fit(train_df)"
   ]
  },
  {
   "cell_type": "code",
   "execution_count": 121,
   "metadata": {},
   "outputs": [
    {
     "name": "stdout",
     "output_type": "stream",
     "text": [
      "RMSE: 1.0029\n"
     ]
    },
    {
     "data": {
      "text/plain": [
       "1.0029432416894384"
      ]
     },
     "execution_count": 121,
     "metadata": {},
     "output_type": "execute_result"
    }
   ],
   "source": [
    "svd_best_param.test(test_df)\n",
    "predictions1 = svd_best_param.test(test_df)\n",
    "accuracy.rmse(predictions1)"
   ]
  },
  {
   "cell_type": "markdown",
   "metadata": {},
   "source": [
    "grid search on smaller n_factors and larger n_epochs"
   ]
  },
  {
   "cell_type": "code",
   "execution_count": null,
   "metadata": {},
   "outputs": [],
   "source": [
    "parm_grid = {'n_factors':[2,5,10,20],'n_epochs':[50,70,100],'biased':[True,False]}"
   ]
  },
  {
   "cell_type": "code",
   "execution_count": null,
   "metadata": {},
   "outputs": [],
   "source": [
    "svd_grid_search2 = GridSearchCV(algo_class=SVD,param_grid=parm_grid,measures=['rmse'],cv=5)\n",
    "result2 = svd_grid_search2.fit(surprise_data)"
   ]
  },
  {
   "cell_type": "code",
   "execution_count": null,
   "metadata": {},
   "outputs": [],
   "source": [
    "joblib.dump(svd_grid_search2, 'Pickle_Files/svd_grid_nfactor.pkl')"
   ]
  },
  {
   "cell_type": "code",
   "execution_count": 122,
   "metadata": {},
   "outputs": [],
   "source": [
    "svd_loaded2 = joblib.load('Pickle_Files/svd_grid_nfactor.pkl')"
   ]
  },
  {
   "cell_type": "code",
   "execution_count": 123,
   "metadata": {},
   "outputs": [
    {
     "data": {
      "text/plain": [
       "{'rmse': {'n_factors': 20, 'n_epochs': 50, 'biased': True}}"
      ]
     },
     "execution_count": 123,
     "metadata": {},
     "output_type": "execute_result"
    }
   ],
   "source": [
    "svd_loaded2.best_params"
   ]
  },
  {
   "cell_type": "code",
   "execution_count": 124,
   "metadata": {},
   "outputs": [
    {
     "data": {
      "text/plain": [
       "<surprise.prediction_algorithms.matrix_factorization.SVD at 0x13eabcca970>"
      ]
     },
     "execution_count": 124,
     "metadata": {},
     "output_type": "execute_result"
    }
   ],
   "source": [
    "svd_best_param2 = SVD(n_factors=20, n_epochs=50, biased='True', random_state=42)\n",
    "svd_best_param2.fit(train_df)"
   ]
  },
  {
   "cell_type": "code",
   "execution_count": 125,
   "metadata": {},
   "outputs": [
    {
     "name": "stdout",
     "output_type": "stream",
     "text": [
      "RMSE: 1.0055\n"
     ]
    },
    {
     "data": {
      "text/plain": [
       "1.0054501834755718"
      ]
     },
     "execution_count": 125,
     "metadata": {},
     "output_type": "execute_result"
    }
   ],
   "source": [
    "svd_best_param2.test(test_df)\n",
    "predictions2 = svd_best_param2.test(test_df)\n",
    "accuracy.rmse(predictions2)"
   ]
  },
  {
   "cell_type": "markdown",
   "metadata": {},
   "source": [
    "grid search learning rate"
   ]
  },
  {
   "cell_type": "code",
   "execution_count": null,
   "metadata": {},
   "outputs": [],
   "source": [
    "param_grid = {'n_factors':[20,50,100,150], 'n_epochs':[10,20,30], 'lr_all':[0.003,0.005,0.01,0.02]}"
   ]
  },
  {
   "cell_type": "code",
   "execution_count": null,
   "metadata": {},
   "outputs": [],
   "source": [
    "svd_grid_search3 = GridSearchCV(algo_class=SVD, param_grid=param_grid, measures=['rmse'], cv=5)\n",
    "result3 = svd_grid_search3.fit(surprise_data)"
   ]
  },
  {
   "cell_type": "code",
   "execution_count": null,
   "metadata": {},
   "outputs": [],
   "source": [
    "joblib.dump(svd_grid_search3, 'Pickle_Files/svd_grid_lr.pkl')"
   ]
  },
  {
   "cell_type": "code",
   "execution_count": 126,
   "metadata": {},
   "outputs": [],
   "source": [
    "svd_loaded3 = joblib.load('Pickle_Files/svd_grid_lr.pkl')"
   ]
  },
  {
   "cell_type": "code",
   "execution_count": 127,
   "metadata": {
    "scrolled": false
   },
   "outputs": [
    {
     "data": {
      "text/plain": [
       "{'rmse': {'n_factors': 150, 'n_epochs': 30, 'lr_all': 0.02}}"
      ]
     },
     "execution_count": 127,
     "metadata": {},
     "output_type": "execute_result"
    }
   ],
   "source": [
    "svd_loaded3.best_params"
   ]
  },
  {
   "cell_type": "code",
   "execution_count": 128,
   "metadata": {},
   "outputs": [
    {
     "data": {
      "text/plain": [
       "<surprise.prediction_algorithms.matrix_factorization.SVD at 0x13eabcca490>"
      ]
     },
     "execution_count": 128,
     "metadata": {},
     "output_type": "execute_result"
    }
   ],
   "source": [
    "svd_best_param3 = SVD(n_factors=150, n_epochs=30, biased='True', lr_all=0.02, random_state=42)\n",
    "svd_best_param3.fit(train_df)"
   ]
  },
  {
   "cell_type": "code",
   "execution_count": 129,
   "metadata": {},
   "outputs": [
    {
     "name": "stdout",
     "output_type": "stream",
     "text": [
      "RMSE: 0.9981\n"
     ]
    },
    {
     "data": {
      "text/plain": [
       "0.9981241292377293"
      ]
     },
     "execution_count": 129,
     "metadata": {},
     "output_type": "execute_result"
    }
   ],
   "source": [
    "svd_best_param3.test(test_df)\n",
    "predictions3 = svd_best_param3.test(test_df)\n",
    "accuracy.rmse(predictions3)"
   ]
  },
  {
   "cell_type": "code",
   "execution_count": 130,
   "metadata": {
    "scrolled": false
   },
   "outputs": [
    {
     "name": "stdout",
     "output_type": "stream",
     "text": [
      "RMSE: 1.0152\n",
      "RMSE: 1.0040\n",
      "RMSE: 1.0055\n",
      "RMSE: 0.9981\n",
      "the best SVD model has rmse: 0.9981241292377293\n"
     ]
    }
   ],
   "source": [
    "svd_best = min([accuracy.rmse(prediction_svd), accuracy.rmse(predictions), accuracy.rmse(predictions2), accuracy.rmse(predictions3)])\n",
    "print(f'the best SVD model has rmse: {svd_best}')"
   ]
  },
  {
   "cell_type": "markdown",
   "metadata": {},
   "source": [
    "### SVDpp"
   ]
  },
  {
   "cell_type": "code",
   "execution_count": 131,
   "metadata": {},
   "outputs": [
    {
     "name": "stdout",
     "output_type": "stream",
     "text": [
      "RMSE: 1.0074\n"
     ]
    },
    {
     "data": {
      "text/plain": [
       "1.0073771519138817"
      ]
     },
     "execution_count": 131,
     "metadata": {},
     "output_type": "execute_result"
    }
   ],
   "source": [
    "# use default hyper parameters\n",
    "svdpp = SVDpp(random_state=42)\n",
    "svdpp.fit(train_df)\n",
    "predictions_def = svdpp.test(test_df)\n",
    "accuracy.rmse(predictions_def)"
   ]
  },
  {
   "cell_type": "code",
   "execution_count": null,
   "metadata": {},
   "outputs": [],
   "source": [
    "joblib.dump(predictions_def, 'svdpp_def.pkl')"
   ]
  },
  {
   "cell_type": "code",
   "execution_count": 133,
   "metadata": {},
   "outputs": [],
   "source": [
    "svdpp_def_loaded = joblib.load('Pickle_Files/svdpp_def.pkl')"
   ]
  },
  {
   "cell_type": "code",
   "execution_count": 134,
   "metadata": {},
   "outputs": [
    {
     "name": "stdout",
     "output_type": "stream",
     "text": [
      "RMSE: 1.0074\n"
     ]
    },
    {
     "data": {
      "text/plain": [
       "1.0073771519138817"
      ]
     },
     "execution_count": 134,
     "metadata": {},
     "output_type": "execute_result"
    }
   ],
   "source": [
    "accuracy.rmse(svdpp_def_loaded)"
   ]
  },
  {
   "cell_type": "code",
   "execution_count": null,
   "metadata": {},
   "outputs": [],
   "source": [
    "param_grid = {'n_factors':[20,50], 'n_epochs':[20,50], 'lr_all':[0.005,0.01], 'reg_all':[0.02, 0.05]}\n",
    "svdpp_grid_search = GridSearchCV(algo_class=SVDpp, param_grid=param_grid, measures=['rmse'], cv=5)\n",
    "result_svdpp1 = svdpp_grid_search.fit(surprise_data)"
   ]
  },
  {
   "cell_type": "markdown",
   "metadata": {},
   "source": [
    "I was going to do some grid searches on SVDpp algorithm as well like SVD, but the grid search process takes too long to be finished due to my computer's computational capability. So I will just do some random tuning below and try to get the lowest rmse as I can."
   ]
  },
  {
   "cell_type": "code",
   "execution_count": 135,
   "metadata": {},
   "outputs": [
    {
     "name": "stdout",
     "output_type": "stream",
     "text": [
      "RMSE: 1.0355\n"
     ]
    },
    {
     "data": {
      "text/plain": [
       "1.035489515605644"
      ]
     },
     "execution_count": 135,
     "metadata": {},
     "output_type": "execute_result"
    }
   ],
   "source": [
    "svdpp1 = SVDpp(n_factors=50, n_epochs=50, lr_all=0.005, reg_all=0.005)\n",
    "svdpp1.fit(train_df)\n",
    "predictions1 = svdpp1.test(test_df)\n",
    "accuracy.rmse(predictions1)"
   ]
  },
  {
   "cell_type": "code",
   "execution_count": null,
   "metadata": {},
   "outputs": [],
   "source": [
    "joblib.dump(predictions1, 'Pickle_Files/svdpp1.pkl')"
   ]
  },
  {
   "cell_type": "code",
   "execution_count": 136,
   "metadata": {},
   "outputs": [],
   "source": [
    "svdpp1_loaded = joblib.load('Pickle_Files/svdpp1.pkl')"
   ]
  },
  {
   "cell_type": "code",
   "execution_count": 137,
   "metadata": {},
   "outputs": [
    {
     "name": "stdout",
     "output_type": "stream",
     "text": [
      "RMSE: 1.0329\n"
     ]
    },
    {
     "data": {
      "text/plain": [
       "1.0329479058203719"
      ]
     },
     "execution_count": 137,
     "metadata": {},
     "output_type": "execute_result"
    }
   ],
   "source": [
    "accuracy.rmse(svdpp1_loaded)"
   ]
  },
  {
   "cell_type": "code",
   "execution_count": 138,
   "metadata": {},
   "outputs": [
    {
     "name": "stdout",
     "output_type": "stream",
     "text": [
      "RMSE: 1.0452\n"
     ]
    },
    {
     "data": {
      "text/plain": [
       "1.0452168193643168"
      ]
     },
     "execution_count": 138,
     "metadata": {},
     "output_type": "execute_result"
    }
   ],
   "source": [
    "svdpp2 = SVDpp(n_factors=10, n_epochs=10, lr_all=0.005, reg_all=0.005)\n",
    "svdpp2.fit(train_df)\n",
    "predictions2 = svdpp2.test(test_df)\n",
    "accuracy.rmse(predictions2)"
   ]
  },
  {
   "cell_type": "code",
   "execution_count": null,
   "metadata": {},
   "outputs": [],
   "source": [
    "joblib.dump(predictions2, 'Pickle_Files/svdpp2.pkl')"
   ]
  },
  {
   "cell_type": "code",
   "execution_count": null,
   "metadata": {},
   "outputs": [],
   "source": [
    "svdpp2_loaded = joblib.load('Pickle_Files/svdpp2.pkl')"
   ]
  },
  {
   "cell_type": "code",
   "execution_count": null,
   "metadata": {
    "scrolled": true
   },
   "outputs": [],
   "source": [
    "accuracy.rmse(svdpp2_loaded)"
   ]
  },
  {
   "cell_type": "code",
   "execution_count": null,
   "metadata": {},
   "outputs": [],
   "source": [
    "svdpp3 = SVDpp(n_factors=50, n_epochs=50, lr_all=0.01, reg_all=0.01)\n",
    "svdpp3.fit(train_df)\n",
    "predictions3 = svdpp3.test(test_df)\n",
    "accuracy.rmse(predictions3)"
   ]
  },
  {
   "cell_type": "code",
   "execution_count": null,
   "metadata": {},
   "outputs": [],
   "source": [
    "joblib.dump(predictions3, 'Pickle_Files/svdpp3.pkl')"
   ]
  },
  {
   "cell_type": "code",
   "execution_count": 139,
   "metadata": {},
   "outputs": [],
   "source": [
    "svdpp3_loaded = joblib.load('Pickle_Files/svdpp3.pkl')"
   ]
  },
  {
   "cell_type": "code",
   "execution_count": 140,
   "metadata": {
    "scrolled": true
   },
   "outputs": [
    {
     "name": "stdout",
     "output_type": "stream",
     "text": [
      "RMSE: 1.0270\n"
     ]
    },
    {
     "data": {
      "text/plain": [
       "1.0269838082063034"
      ]
     },
     "execution_count": 140,
     "metadata": {},
     "output_type": "execute_result"
    }
   ],
   "source": [
    "accuracy.rmse(svdpp3_loaded)"
   ]
  },
  {
   "cell_type": "code",
   "execution_count": 141,
   "metadata": {
    "scrolled": true
   },
   "outputs": [
    {
     "name": "stdout",
     "output_type": "stream",
     "text": [
      "RMSE: 1.0074\n",
      "RMSE: 1.0329\n",
      "RMSE: 1.0452\n",
      "RMSE: 1.0270\n",
      "the best SVDpp model has rmse: 1.0073771519138817\n"
     ]
    }
   ],
   "source": [
    "svdpp_best = min([accuracy.rmse(svdpp_def_loaded), accuracy.rmse(svdpp1_loaded), accuracy.rmse(predictions2), accuracy.rmse(svdpp3_loaded)])\n",
    "print(f'the best SVDpp model has rmse: {svdpp_best}')"
   ]
  },
  {
   "cell_type": "markdown",
   "metadata": {},
   "source": [
    "Make a table and a bar chart shows the lowest rmse for each algorithm"
   ]
  },
  {
   "cell_type": "code",
   "execution_count": 142,
   "metadata": {
    "scrolled": false
   },
   "outputs": [
    {
     "data": {
      "text/html": [
       "<div>\n",
       "<style scoped>\n",
       "    .dataframe tbody tr th:only-of-type {\n",
       "        vertical-align: middle;\n",
       "    }\n",
       "\n",
       "    .dataframe tbody tr th {\n",
       "        vertical-align: top;\n",
       "    }\n",
       "\n",
       "    .dataframe thead th {\n",
       "        text-align: right;\n",
       "    }\n",
       "</style>\n",
       "<table border=\"1\" class=\"dataframe\">\n",
       "  <thead>\n",
       "    <tr style=\"text-align: right;\">\n",
       "      <th></th>\n",
       "      <th>algorithm</th>\n",
       "      <th>rmse</th>\n",
       "    </tr>\n",
       "  </thead>\n",
       "  <tbody>\n",
       "    <tr>\n",
       "      <th>0</th>\n",
       "      <td>NormalPredictor</td>\n",
       "      <td>1.519025</td>\n",
       "    </tr>\n",
       "    <tr>\n",
       "      <th>1</th>\n",
       "      <td>BaselineOnly</td>\n",
       "      <td>1.044651</td>\n",
       "    </tr>\n",
       "    <tr>\n",
       "      <th>2</th>\n",
       "      <td>KNNBasic</td>\n",
       "      <td>1.177993</td>\n",
       "    </tr>\n",
       "    <tr>\n",
       "      <th>3</th>\n",
       "      <td>KNNWithMeans</td>\n",
       "      <td>1.088554</td>\n",
       "    </tr>\n",
       "    <tr>\n",
       "      <th>4</th>\n",
       "      <td>KNNWithZScore</td>\n",
       "      <td>1.093635</td>\n",
       "    </tr>\n",
       "    <tr>\n",
       "      <th>5</th>\n",
       "      <td>SVD</td>\n",
       "      <td>0.998124</td>\n",
       "    </tr>\n",
       "    <tr>\n",
       "      <th>6</th>\n",
       "      <td>SVDpp</td>\n",
       "      <td>1.007377</td>\n",
       "    </tr>\n",
       "  </tbody>\n",
       "</table>\n",
       "</div>"
      ],
      "text/plain": [
       "         algorithm      rmse\n",
       "0  NormalPredictor  1.519025\n",
       "1     BaselineOnly  1.044651\n",
       "2         KNNBasic  1.177993\n",
       "3     KNNWithMeans  1.088554\n",
       "4    KNNWithZScore  1.093635\n",
       "5              SVD  0.998124\n",
       "6            SVDpp  1.007377"
      ]
     },
     "execution_count": 142,
     "metadata": {},
     "output_type": "execute_result"
    }
   ],
   "source": [
    "rmse_ls = [normal_rmse, base_rmse, knnbasic_best, knnmeans_best, knnz_best, svd_best, svdpp_best]\n",
    "algo_rmse_df = pd.DataFrame(data={'algorithm':['NormalPredictor', 'BaselineOnly', 'KNNBasic', 'KNNWithMeans', 'KNNWithZScore', 'SVD', 'SVDpp'],\n",
    "                                  'rmse':rmse_ls})\n",
    "algo_rmse_df"
   ]
  },
  {
   "cell_type": "code",
   "execution_count": 143,
   "metadata": {
    "scrolled": false
   },
   "outputs": [
    {
     "data": {
      "image/png": "[encoded data removed]",
      "text/plain": [
       "<Figure size 576x360 with 1 Axes>"
      ]
     },
     "metadata": {
      "needs_background": "light"
     },
     "output_type": "display_data"
    }
   ],
   "source": [
    "fig, ax = plt.subplots(figsize=(8,5))\n",
    "color = ['b', 'b', 'b', 'b', 'b', 'r', 'b']\n",
    "ax.bar(x=algo_rmse_df['algorithm'], height=algo_rmse_df['rmse'], color=color, zorder=2)\n",
    "ax.grid(axis='y', zorder=0)\n",
    "plt.xlabel('Algorithms')\n",
    "plt.ylabel('RMSE')\n",
    "plt.title('RMSE Comparison')\n",
    "plt.xticks(rotation = 45)\n",
    "plt.savefig('RMSE Comparison.png', dpi=300, bbox_inches='tight');"
   ]
  },
  {
   "cell_type": "markdown",
   "metadata": {},
   "source": [
    "We can see that SVD has the lowest rmse, which means in average the predicted rating is the closest to the actual rating. Thus, I will use the best SVD model as my final model to give recommendations."
   ]
  },
  {
   "cell_type": "markdown",
   "metadata": {},
   "source": [
    "### The Final Model"
   ]
  },
  {
   "cell_type": "code",
   "execution_count": 144,
   "metadata": {},
   "outputs": [],
   "source": [
    "# We need to use entire dataset as training data for the final model\n",
    "trainset_full = surprise_data.build_full_trainset()"
   ]
  },
  {
   "cell_type": "code",
   "execution_count": 145,
   "metadata": {
    "scrolled": true
   },
   "outputs": [
    {
     "data": {
      "text/plain": [
       "<surprise.prediction_algorithms.matrix_factorization.SVD at 0x13ee8b37280>"
      ]
     },
     "execution_count": 145,
     "metadata": {},
     "output_type": "execute_result"
    }
   ],
   "source": [
    "best_model = SVD(n_factors=150, n_epochs=30, biased='True', lr_all=0.02, random_state=42)\n",
    "best_model.fit(trainset_full)"
   ]
  },
  {
   "cell_type": "code",
   "execution_count": 151,
   "metadata": {
    "scrolled": true
   },
   "outputs": [
    {
     "data": {
      "text/html": [
       "<div>\n",
       "<style scoped>\n",
       "    .dataframe tbody tr th:only-of-type {\n",
       "        vertical-align: middle;\n",
       "    }\n",
       "\n",
       "    .dataframe tbody tr th {\n",
       "        vertical-align: top;\n",
       "    }\n",
       "\n",
       "    .dataframe thead th {\n",
       "        text-align: right;\n",
       "    }\n",
       "</style>\n",
       "<table border=\"1\" class=\"dataframe\">\n",
       "  <thead>\n",
       "    <tr style=\"text-align: right;\">\n",
       "      <th></th>\n",
       "      <th>overall</th>\n",
       "      <th>asin</th>\n",
       "      <th>reviewText</th>\n",
       "      <th>summary</th>\n",
       "    </tr>\n",
       "    <tr>\n",
       "      <th>reviewerID</th>\n",
       "      <th></th>\n",
       "      <th></th>\n",
       "      <th></th>\n",
       "      <th></th>\n",
       "    </tr>\n",
       "  </thead>\n",
       "  <tbody>\n",
       "    <tr>\n",
       "      <th>A1HP7NVNPFMA4N</th>\n",
       "      <td>5</td>\n",
       "      <td>0700026657</td>\n",
       "      <td>This game is a bit hard to get the hang of, bu...</td>\n",
       "      <td>but when you do it's great.</td>\n",
       "    </tr>\n",
       "    <tr>\n",
       "      <th>A1JGAP0185YJI6</th>\n",
       "      <td>4</td>\n",
       "      <td>0700026657</td>\n",
       "      <td>I played it a while but it was alright. The st...</td>\n",
       "      <td>But in spite of that it was fun, I liked it</td>\n",
       "    </tr>\n",
       "    <tr>\n",
       "      <th>A1YJWEXHQBWK2B</th>\n",
       "      <td>3</td>\n",
       "      <td>0700026657</td>\n",
       "      <td>ok game.</td>\n",
       "      <td>Three Stars</td>\n",
       "    </tr>\n",
       "    <tr>\n",
       "      <th>A2204E1TH211HT</th>\n",
       "      <td>2</td>\n",
       "      <td>0700026657</td>\n",
       "      <td>found the game a bit too complicated, not what...</td>\n",
       "      <td>Two Stars</td>\n",
       "    </tr>\n",
       "    <tr>\n",
       "      <th>A2RF5B5H74JLPE</th>\n",
       "      <td>5</td>\n",
       "      <td>0700026657</td>\n",
       "      <td>great game, I love it and have played it since...</td>\n",
       "      <td>love this game</td>\n",
       "    </tr>\n",
       "  </tbody>\n",
       "</table>\n",
       "</div>"
      ],
      "text/plain": [
       "                overall        asin  \\\n",
       "reviewerID                            \n",
       "A1HP7NVNPFMA4N        5  0700026657   \n",
       "A1JGAP0185YJI6        4  0700026657   \n",
       "A1YJWEXHQBWK2B        3  0700026657   \n",
       "A2204E1TH211HT        2  0700026657   \n",
       "A2RF5B5H74JLPE        5  0700026657   \n",
       "\n",
       "                                                       reviewText  \\\n",
       "reviewerID                                                          \n",
       "A1HP7NVNPFMA4N  This game is a bit hard to get the hang of, bu...   \n",
       "A1JGAP0185YJI6  I played it a while but it was alright. The st...   \n",
       "A1YJWEXHQBWK2B                                           ok game.   \n",
       "A2204E1TH211HT  found the game a bit too complicated, not what...   \n",
       "A2RF5B5H74JLPE  great game, I love it and have played it since...   \n",
       "\n",
       "                                                    summary  \n",
       "reviewerID                                                   \n",
       "A1HP7NVNPFMA4N                  but when you do it's great.  \n",
       "A1JGAP0185YJI6  But in spite of that it was fun, I liked it  \n",
       "A1YJWEXHQBWK2B                                  Three Stars  \n",
       "A2204E1TH211HT                                    Two Stars  \n",
       "A2RF5B5H74JLPE                               love this game  "
      ]
     },
     "execution_count": 151,
     "metadata": {},
     "output_type": "execute_result"
    }
   ],
   "source": [
    "# Users don't want to see the product that they have already rated before\n",
    "df_rated = pd.DataFrame(df_review.set_index(\"reviewerID\"))\n",
    "df_rated.head()"
   ]
  },
  {
   "cell_type": "code",
   "execution_count": 152,
   "metadata": {},
   "outputs": [],
   "source": [
    "# build a function that takes in reviewerID and number of recommendation. The fuction returns a table contains all recommended products\n",
    "def buyer_recommended_products(reviewerID, num): \n",
    "    already_reviewed = list(df_rated.loc[reviewerID, 'asin'])\n",
    "    not_reviewed = df_just_prod.copy()\n",
    "    not_reviewed = not_reviewed[not_reviewed['asin'].isin(already_reviewed) == False] # only contains not rated products\n",
    "    not_reviewed.reset_index(inplace=True)\n",
    "    not_reviewed['predicted_rating'] = not_reviewed['asin'].apply(lambda x: best_model.predict(reviewerID, x).est)\n",
    "    not_reviewed.sort_values(by='predicted_rating', ascending=False, inplace=True)\n",
    "    recommended_prod = not_reviewed[['asin','title', 'brand','description', 'imageURL', 'predicted_rating']].head(num)\n",
    "    return recommended_prod"
   ]
  },
  {
   "cell_type": "code",
   "execution_count": 153,
   "metadata": {
    "scrolled": false
   },
   "outputs": [
    {
     "data": {
      "text/html": [
       "<div>\n",
       "<style scoped>\n",
       "    .dataframe tbody tr th:only-of-type {\n",
       "        vertical-align: middle;\n",
       "    }\n",
       "\n",
       "    .dataframe tbody tr th {\n",
       "        vertical-align: top;\n",
       "    }\n",
       "\n",
       "    .dataframe thead th {\n",
       "        text-align: right;\n",
       "    }\n",
       "</style>\n",
       "<table border=\"1\" class=\"dataframe\">\n",
       "  <thead>\n",
       "    <tr style=\"text-align: right;\">\n",
       "      <th></th>\n",
       "      <th>asin</th>\n",
       "      <th>title</th>\n",
       "      <th>brand</th>\n",
       "      <th>description</th>\n",
       "      <th>imageURL</th>\n",
       "      <th>predicted_rating</th>\n",
       "    </tr>\n",
       "  </thead>\n",
       "  <tbody>\n",
       "    <tr>\n",
       "      <th>11175</th>\n",
       "      <td>B0000DJX7I</td>\n",
       "      <td>Grand Theft Auto Double Pack: Grand Theft Auto...</td>\n",
       "      <td>Rockstar Games</td>\n",
       "      <td>Video Games,Retro Gaming &amp; Microconsoles,Xbox,...</td>\n",
       "      <td>[https://images-na.ssl-images-amazon.com/image...</td>\n",
       "      <td>5.000000</td>\n",
       "    </tr>\n",
       "    <tr>\n",
       "      <th>912</th>\n",
       "      <td>B00001XDKO</td>\n",
       "      <td>Unreal Tournament - PC</td>\n",
       "      <td>Atari</td>\n",
       "      <td>Video Games,PC,Games,</td>\n",
       "      <td>[https://images-na.ssl-images-amazon.com/image...</td>\n",
       "      <td>5.000000</td>\n",
       "    </tr>\n",
       "    <tr>\n",
       "      <th>11148</th>\n",
       "      <td>B0000DC64H</td>\n",
       "      <td>Driving Force Wheel for PlayStation 2 and Play...</td>\n",
       "      <td>Logitech</td>\n",
       "      <td>Video Games,PlayStation 3,Accessories,Controll...</td>\n",
       "      <td>[https://images-na.ssl-images-amazon.com/image...</td>\n",
       "      <td>5.000000</td>\n",
       "    </tr>\n",
       "    <tr>\n",
       "      <th>6529</th>\n",
       "      <td>B00005N7YR</td>\n",
       "      <td>Medal of Honor: Allied Assault - PC</td>\n",
       "      <td>Electronic Arts</td>\n",
       "      <td>Video Games,PC,Games,,Battle in over 20 missio...</td>\n",
       "      <td>[https://images-na.ssl-images-amazon.com/image...</td>\n",
       "      <td>5.000000</td>\n",
       "    </tr>\n",
       "    <tr>\n",
       "      <th>16514</th>\n",
       "      <td>B000B9RI14</td>\n",
       "      <td>Xbox 360 LIVE 1600 Points</td>\n",
       "      <td>Microsoft</td>\n",
       "      <td>Video Games,Xbox One,Currency &amp;amp; Subscripti...</td>\n",
       "      <td>[https://images-na.ssl-images-amazon.com/image...</td>\n",
       "      <td>5.000000</td>\n",
       "    </tr>\n",
       "    <tr>\n",
       "      <th>37068</th>\n",
       "      <td>B004XV6ST4</td>\n",
       "      <td>Kinect Sensor TV Mounting Clip - Xbox 360</td>\n",
       "      <td>PDP</td>\n",
       "      <td>Video Games,Xbox 360,Accessories,Mounts, Brack...</td>\n",
       "      <td>[https://images-na.ssl-images-amazon.com/image...</td>\n",
       "      <td>5.000000</td>\n",
       "    </tr>\n",
       "    <tr>\n",
       "      <th>45914</th>\n",
       "      <td>B00CBVHJ00</td>\n",
       "      <td>Thrustmaster HOTAS Warthog Flight Stick PC</td>\n",
       "      <td>ThrustMaster</td>\n",
       "      <td>Video Games,PC,Accessories,Controllers,Flight ...</td>\n",
       "      <td>[https://images-na.ssl-images-amazon.com/image...</td>\n",
       "      <td>5.000000</td>\n",
       "    </tr>\n",
       "    <tr>\n",
       "      <th>3500</th>\n",
       "      <td>B000035Y6D</td>\n",
       "      <td>Super Nintendo Console (SNES System)</td>\n",
       "      <td>Nintendo</td>\n",
       "      <td>Video Games,Retro Gaming &amp;amp; Microconsoles,S...</td>\n",
       "      <td>[https://images-na.ssl-images-amazon.com/image...</td>\n",
       "      <td>4.997846</td>\n",
       "    </tr>\n",
       "    <tr>\n",
       "      <th>68232</th>\n",
       "      <td>B01BSQV64I</td>\n",
       "      <td>DOOM [Online Game Code]</td>\n",
       "      <td>Bethesda</td>\n",
       "      <td>Video Games,PC,,Youve come here for a reason. ...</td>\n",
       "      <td>[https://images-na.ssl-images-amazon.com/image...</td>\n",
       "      <td>4.995242</td>\n",
       "    </tr>\n",
       "    <tr>\n",
       "      <th>29688</th>\n",
       "      <td>B001REZLY8</td>\n",
       "      <td>Fallout 3: Game of the Year Edition</td>\n",
       "      <td>Bethesda</td>\n",
       "      <td>Video Games,Xbox 360,</td>\n",
       "      <td>[]</td>\n",
       "      <td>4.980431</td>\n",
       "    </tr>\n",
       "  </tbody>\n",
       "</table>\n",
       "</div>"
      ],
      "text/plain": [
       "             asin                                              title  \\\n",
       "11175  B0000DJX7I  Grand Theft Auto Double Pack: Grand Theft Auto...   \n",
       "912    B00001XDKO                             Unreal Tournament - PC   \n",
       "11148  B0000DC64H  Driving Force Wheel for PlayStation 2 and Play...   \n",
       "6529   B00005N7YR                Medal of Honor: Allied Assault - PC   \n",
       "16514  B000B9RI14                          Xbox 360 LIVE 1600 Points   \n",
       "37068  B004XV6ST4          Kinect Sensor TV Mounting Clip - Xbox 360   \n",
       "45914  B00CBVHJ00         Thrustmaster HOTAS Warthog Flight Stick PC   \n",
       "3500   B000035Y6D               Super Nintendo Console (SNES System)   \n",
       "68232  B01BSQV64I                            DOOM [Online Game Code]   \n",
       "29688  B001REZLY8                Fallout 3: Game of the Year Edition   \n",
       "\n",
       "                 brand                                        description  \\\n",
       "11175   Rockstar Games  Video Games,Retro Gaming & Microconsoles,Xbox,...   \n",
       "912              Atari                              Video Games,PC,Games,   \n",
       "11148         Logitech  Video Games,PlayStation 3,Accessories,Controll...   \n",
       "6529   Electronic Arts  Video Games,PC,Games,,Battle in over 20 missio...   \n",
       "16514        Microsoft  Video Games,Xbox One,Currency &amp; Subscripti...   \n",
       "37068              PDP  Video Games,Xbox 360,Accessories,Mounts, Brack...   \n",
       "45914     ThrustMaster  Video Games,PC,Accessories,Controllers,Flight ...   \n",
       "3500          Nintendo  Video Games,Retro Gaming &amp; Microconsoles,S...   \n",
       "68232         Bethesda  Video Games,PC,,Youve come here for a reason. ...   \n",
       "29688         Bethesda                              Video Games,Xbox 360,   \n",
       "\n",
       "                                                imageURL  predicted_rating  \n",
       "11175  [https://images-na.ssl-images-amazon.com/image...          5.000000  \n",
       "912    [https://images-na.ssl-images-amazon.com/image...          5.000000  \n",
       "11148  [https://images-na.ssl-images-amazon.com/image...          5.000000  \n",
       "6529   [https://images-na.ssl-images-amazon.com/image...          5.000000  \n",
       "16514  [https://images-na.ssl-images-amazon.com/image...          5.000000  \n",
       "37068  [https://images-na.ssl-images-amazon.com/image...          5.000000  \n",
       "45914  [https://images-na.ssl-images-amazon.com/image...          5.000000  \n",
       "3500   [https://images-na.ssl-images-amazon.com/image...          4.997846  \n",
       "68232  [https://images-na.ssl-images-amazon.com/image...          4.995242  \n",
       "29688                                                 []          4.980431  "
      ]
     },
     "execution_count": 153,
     "metadata": {},
     "output_type": "execute_result"
    }
   ],
   "source": [
    "# Select a random user and get recommendations\n",
    "recom = buyer_recommended_products('A1JGAP0185YJI6', 10)\n",
    "recom"
   ]
  },
  {
   "cell_type": "markdown",
   "metadata": {},
   "source": [
    "## Conclusion & Next Steps"
   ]
  },
  {
   "cell_type": "markdown",
   "metadata": {},
   "source": [
    "In conclusion, trending products recommendation provides a good place to collect new users', so that we could avoid cold start problem. The content based method can filter out customers' potentially interested categories and brand. For the collaborative filtering, the best model is SVD has rmse 0.998, which is a significant drop comparing with baseline models. \n",
    "\n",
    "Next steps\n",
    "- Deploy the recommendation system on the website\n",
    "- Find a better data, that contains genres of games and more complete brand information. \n",
    "- Do web scraping to get most updated data that includes latest video game consles, games and brands. (The current one only contains data from 1996-2018)\n",
    "- Try the hybrid method.\n",
    "- Run some AB tests on both new hybrid method and the best model I have.\n"
   ]
  },
  {
   "cell_type": "code",
   "execution_count": null,
   "metadata": {},
   "outputs": [],
   "source": []
  }
 ],
 "metadata": {
  "kernelspec": {
   "display_name": "Python 3 (ipykernel)",
   "language": "python",
   "name": "python3"
  },
  "language_info": {
   "codemirror_mode": {
    "name": "ipython",
    "version": 3
   },
   "file_extension": ".py",
   "mimetype": "text/x-python",
   "name": "python",
   "nbconvert_exporter": "python",
   "pygments_lexer": "ipython3",
   "version": "3.9.12"
  }
 },
 "nbformat": 4,
 "nbformat_minor": 4
}
